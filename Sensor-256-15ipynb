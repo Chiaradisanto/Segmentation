{
  "nbformat": 4,
  "nbformat_minor": 0,
  "metadata": {
    "colab": {
      "name": "Untitled1.ipynb",
      "provenance": [],
      "authorship_tag": "ABX9TyNJCeKtQ3PkSTWZm+Yu0eEA",
      "include_colab_link": true
    },
    "kernelspec": {
      "name": "python3",
      "display_name": "Python 3"
    },
    "language_info": {
      "name": "python"
    },
    "accelerator": "GPU",
    "gpuClass": "standard"
  },
  "cells": [
    {
      "cell_type": "markdown",
      "metadata": {
        "id": "view-in-github",
        "colab_type": "text"
      },
      "source": [
        "<a href=\"https://colab.research.google.com/github/Chiaradisanto/Segmentation/blob/main/Sensor-256-15ipynb\" target=\"_parent\"><img src=\"https://colab.research.google.com/assets/colab-badge.svg\" alt=\"Open In Colab\"/></a>"
      ]
    },
    {
      "cell_type": "code",
      "execution_count": null,
      "metadata": {
        "colab": {
          "base_uri": "https://localhost:8080/"
        },
        "id": "x1pmxugCEzDL",
        "outputId": "0d957537-00c6-4d7d-a831-248bb1f78991"
      },
      "outputs": [
        {
          "output_type": "stream",
          "name": "stdout",
          "text": [
            "Mounted at /gdrive\n"
          ]
        }
      ],
      "source": [
        "from google.colab import drive\n",
        "drive.mount('/gdrive')"
      ]
    },
    {
      "cell_type": "code",
      "source": [
        "import os\n",
        "import numpy as np\n",
        "from matplotlib import pyplot as plt\n",
        "batch_size=3"
      ],
      "metadata": {
        "id": "BGDo0nz2FeFR"
      },
      "execution_count": null,
      "outputs": []
    },
    {
      "cell_type": "code",
      "source": [
        "# https://github.com/kivijoshi/TimeDistributedImageDataGenerator\n",
        "import os\n",
        "import sys\n",
        "\n",
        "import tensorflow as tf\n",
        "from tensorflow import keras\n",
        "from tensorflow.keras.preprocessing.image import ImageDataGenerator\n",
        "import types\n",
        "import numpy as np\n",
        "from tensorflow.keras.preprocessing.image import array_to_img, img_to_array, load_img\n",
        "from tensorflow.keras.preprocessing.image import DirectoryIterator\n",
        "\n",
        "class TimeDistributedImageDataGenerator(ImageDataGenerator):\n",
        "    def __init__(self,\n",
        "                 featurewise_center=False,\n",
        "                 samplewise_center=False,\n",
        "                 featurewise_std_normalization=False,\n",
        "                 samplewise_std_normalization=False,\n",
        "                 zca_whitening=False,\n",
        "                 zca_epsilon=1e-6,\n",
        "                 rotation_range=0,\n",
        "                 width_shift_range=0.,\n",
        "                 height_shift_range=0.,\n",
        "                 brightness_range=None,\n",
        "                 shear_range=0.,\n",
        "                 zoom_range=0.,\n",
        "                 channel_shift_range=0.,\n",
        "                 fill_mode='nearest',\n",
        "                 cval=0.,\n",
        "                 horizontal_flip=False,\n",
        "                 vertical_flip=False,\n",
        "                 rescale=None,\n",
        "                 preprocessing_function=None,\n",
        "                 data_format='channels_last',\n",
        "                 validation_split=0.0,\n",
        "                 # interpolation_order=1,\n",
        "                 dtype='float32',\n",
        "                 time_steps = 5):\n",
        "\n",
        "                 self.time_steps = time_steps\n",
        "\n",
        "                 super().__init__(featurewise_center=featurewise_center,\n",
        "                                  samplewise_center=samplewise_center,\n",
        "                                  featurewise_std_normalization=featurewise_std_normalization,\n",
        "                                  samplewise_std_normalization=samplewise_std_normalization,\n",
        "                                  zca_whitening=zca_whitening,\n",
        "                                  zca_epsilon=zca_epsilon,\n",
        "                                  rotation_range=rotation_range,\n",
        "                                  width_shift_range=width_shift_range,\n",
        "                                  height_shift_range=height_shift_range,\n",
        "                                  brightness_range=brightness_range,\n",
        "                                  shear_range=shear_range,\n",
        "                                  zoom_range=zoom_range,\n",
        "                                  channel_shift_range=channel_shift_range,\n",
        "                                  fill_mode=fill_mode,\n",
        "                                  cval=cval,\n",
        "                                  horizontal_flip=horizontal_flip,\n",
        "                                  vertical_flip=vertical_flip,\n",
        "                                  rescale=rescale,\n",
        "                                  preprocessing_function=preprocessing_function,\n",
        "                                  data_format=data_format,\n",
        "                                  validation_split=validation_split,\n",
        "                                  # interpolation_order=interpolation_order,\n",
        "                                  dtype=dtype)\n",
        "    \"\"\"Takes the path to a directory & generates batches of augmented data.\n",
        "        # Arguments\n",
        "            directory: string, path to the target directory.\n",
        "                It should contain one subdirectory per class.\n",
        "                Any PNG, JPG, BMP, PPM or TIF images\n",
        "                inside each of the subdirectories directory tree\n",
        "                will be included in the generator.\n",
        "                See [this script](\n",
        "                https://gist.github.com/fchollet/0830affa1f7f19fd47b06d4cf89ed44d)\n",
        "                for more details.\n",
        "            target_size: Tuple of integers `(height, width)`,\n",
        "                default: `(256, 256)`.\n",
        "                The dimensions to which all images found will be resized.\n",
        "            color_mode: One of \"grayscale\", \"rgb\", \"rgba\". Default: \"rgb\".\n",
        "                Whether the images will be converted to\n",
        "                have 1, 3, or 4 channels.\n",
        "            classes: Optional list of class subdirectories\n",
        "                (e.g. `['dogs', 'cats']`). Default: None.\n",
        "                If not provided, the list of classes will be automatically\n",
        "                inferred from the subdirectory names/structure\n",
        "                under `directory`, where each subdirectory will\n",
        "                be treated as a different class\n",
        "                (and the order of the classes, which will map to the label\n",
        "                indices, will be alphanumeric).\n",
        "                The dictionary containing the mapping from class names to class\n",
        "                indices can be obtained via the attribute `class_indices`.\n",
        "            class_mode: One of \"categorical\", \"binary\", \"sparse\",\n",
        "                \"input\", or None. Default: \"categorical\".\n",
        "                Determines the type of label arrays that are returned:\n",
        "                - \"categorical\" will be 2D one-hot encoded labels,\n",
        "                - \"binary\" will be 1D binary labels,\n",
        "                    \"sparse\" will be 1D integer labels,\n",
        "                - \"input\" will be images identical\n",
        "                    to input images (mainly used to work with autoencoders).\n",
        "                - If None, no labels are returned\n",
        "                  (the generator will only yield batches of image data,\n",
        "                  which is useful to use with `model.predict_generator()`).\n",
        "                  Please note that in case of class_mode None,\n",
        "                  the data still needs to reside in a subdirectory\n",
        "                  of `directory` for it to work correctly.\n",
        "            batch_size: Size of the batches of data (default: 32).\n",
        "            shuffle: Whether to shuffle the data (default: True)\n",
        "                If set to False, sorts the data in alphanumeric order.\n",
        "            seed: Optional random seed for shuffling and transformations.\n",
        "            save_to_dir: None or str (default: None).\n",
        "                This allows you to optionally specify\n",
        "                a directory to which to save\n",
        "                the augmented pictures being generated\n",
        "                (useful for visualizing what you are doing).\n",
        "            save_prefix: Str. Prefix to use for filenames of saved pictures\n",
        "                (only relevant if `save_to_dir` is set).\n",
        "            save_format: One of \"png\", \"jpeg\"\n",
        "                (only relevant if `save_to_dir` is set). Default: \"png\".\n",
        "            follow_links: Whether to follow symlinks inside\n",
        "                class subdirectories (default: False).\n",
        "            subset: Subset of data (`\"training\"` or `\"validation\"`) if\n",
        "                `validation_split` is set in `ImageDataGenerator`.\n",
        "            interpolation: Interpolation method used to\n",
        "                resample the image if the\n",
        "                target size is different from that of the loaded image.\n",
        "                Supported methods are `\"nearest\"`, `\"bilinear\"`,\n",
        "                and `\"bicubic\"`.\n",
        "                If PIL version 1.1.3 or newer is installed, `\"lanczos\"` is also\n",
        "                supported. If PIL version 3.4.0 or newer is installed,\n",
        "                `\"box\"` and `\"hamming\"` are also supported.\n",
        "                By default, `\"nearest\"` is used.\n",
        "        # Returns\n",
        "            A `DirectoryIterator` yielding tuples of `(x, y)`\n",
        "                where `x` is a numpy array containing a batch\n",
        "                of images with shape `(batch_size, *target_size, channels)`\n",
        "                and `y` is a numpy array of corresponding labels.\n",
        "        \"\"\"\n",
        "\n",
        "    def flow_from_directory(self,\n",
        "                            directory,\n",
        "                            target_size=(256, 256),\n",
        "                            color_mode='rgb',\n",
        "                            classes=None,\n",
        "                            class_mode='categorical',\n",
        "                            batch_size=32,\n",
        "                            shuffle=True,\n",
        "                            seed=None,\n",
        "                            save_to_dir=None,\n",
        "                            save_prefix='',\n",
        "                            save_format='png',\n",
        "                            follow_links=False,\n",
        "                            subset=None,\n",
        "                            interpolation='nearest'):\n",
        "\n",
        "        return TimeDistributedDirectoryIterator(\n",
        "            directory,\n",
        "            self,\n",
        "            target_size=target_size,\n",
        "            color_mode=color_mode,\n",
        "            classes=classes,\n",
        "            class_mode=class_mode,\n",
        "            data_format=self.data_format,\n",
        "            batch_size=batch_size,\n",
        "            shuffle=shuffle,\n",
        "            seed=seed,\n",
        "            save_to_dir=save_to_dir,\n",
        "            save_prefix=save_prefix,\n",
        "            save_format=save_format,\n",
        "            follow_links=follow_links,\n",
        "            subset=subset,\n",
        "            interpolation=interpolation\n",
        "        )\n",
        "        \n",
        "\n",
        "\n",
        "class TimeDistributedDirectoryIterator(DirectoryIterator):\n",
        "\n",
        "    def _get_batches_of_transformed_samples(self, index_array):\n",
        "        \"\"\"Gets a batch of transformed samples.\n",
        "        # Arguments\n",
        "            index_array: Array of sample indices to include in batch.\n",
        "        # Returns\n",
        "            A batch of transformed samples.\n",
        "        \"\"\"\n",
        "        TimeSteps = self.image_data_generator.time_steps\n",
        "        batch_x = np.zeros((len(index_array),) + (TimeSteps,) + self.image_shape, dtype=self.dtype)#KJ\n",
        "        # build batch of image data\n",
        "        # self.filepaths is dynamic, is better to call it once outside the loop\n",
        "        filepaths = self.filepaths\n",
        "        for i, j in enumerate(index_array):\n",
        "            for k in reversed(range(0,TimeSteps)):\n",
        "                try:\n",
        "                    img = load_img(filepaths[j-k],\n",
        "                                color_mode=self.color_mode,\n",
        "                                target_size=self.target_size,\n",
        "                                interpolation=self.interpolation)\n",
        "                    x = img_to_array(img, data_format=self.data_format)\n",
        "                except:\n",
        "                    print(\"Unexpected error:\", sys.exc_info())\n",
        "                    pass\n",
        "                # Pillow images should be closed after `load_img`,\n",
        "                # but not PIL images.\n",
        "                if hasattr(img, 'close'):\n",
        "                    img.close()\n",
        "                if self.image_data_generator:\n",
        "                    params = self.image_data_generator.get_random_transform(x.shape)\n",
        "                    x = self.image_data_generator.apply_transform(x, params)\n",
        "                    x = self.image_data_generator.standardize(x)\n",
        "                batch_x[i][k] = x\n",
        "        # optionally save augmented images to disk for debugging purposes\n",
        "        if self.save_to_dir:\n",
        "            for i, j in enumerate(index_array):\n",
        "                img = array_to_img(batch_x[i], self.data_format, scale=True)\n",
        "                fname = '{prefix}_{index}_{hash}.{format}'.format(\n",
        "                    prefix=self.save_prefix,\n",
        "                    index=j,\n",
        "                    hash=np.random.randint(1e7),\n",
        "                    format=self.save_format)\n",
        "                img.save(os.path.join(self.save_to_dir, fname))\n",
        "        # build batch of labels\n",
        "        if self.class_mode == 'input':\n",
        "            batch_y = batch_x.copy()\n",
        "        elif self.class_mode in {'binary', 'sparse'}:\n",
        "            batch_y = np.empty(len(batch_x), dtype=self.dtype)\n",
        "            for i, n_observation in enumerate(index_array):\n",
        "                batch_y[i] = self.classes[n_observation]\n",
        "        elif self.class_mode == 'categorical':\n",
        "            batch_y = np.zeros((len(batch_x), TimeSteps, len(self.class_indices)),\n",
        "                               dtype=self.dtype)\n",
        "            for i, n_observation in enumerate(index_array):\n",
        "                for q in reversed(range(0,TimeSteps)):\n",
        "                    batch_y[i,q,self.classes[n_observation-q]] = 1.\n",
        "        elif self.class_mode == 'multi_output':\n",
        "            batch_y = [output[index_array] for output in self.labels]\n",
        "        elif self.class_mode == 'raw':\n",
        "            batch_y = self.labels[index_array]\n",
        "        else:\n",
        "            return batch_x\n",
        "        if self.sample_weight is None:\n",
        "            return batch_x, batch_y\n",
        "        else:\n",
        "            return batch_x, batch_y, self.sample_weight[index_array]"
      ],
      "metadata": {
        "id": "UntWaExyFqv-"
      },
      "execution_count": null,
      "outputs": []
    },
    {
      "cell_type": "code",
      "source": [
        "train_img_path = \"/gdrive/MyDrive/train/train_images\"\n",
        "train_mask_path = \"/gdrive/MyDrive/train/train_masks\"\n",
        "\n",
        "val_img_path = \"/gdrive/MyDrive/train/val_images\"\n",
        "val_mask_path = \"/gdrive/MyDrive/train/val_masks\""
      ],
      "metadata": {
        "id": "LKVtyN4hFrwZ"
      },
      "execution_count": null,
      "outputs": []
    },
    {
      "cell_type": "code",
      "source": [
        "seed=42\n",
        "from keras.preprocessing.image import ImageDataGenerator\n",
        "\n",
        "\n",
        "img_data_gen_args = dict(rescale=1./255,\n",
        "                     rotation_range=90,\n",
        "                     zoom_range=0.2,\n",
        "                     brightness_range=[0.3,0.9],\n",
        "\n",
        "                     width_shift_range=0.3,\n",
        "                     height_shift_range=0.3,\n",
        "                     shear_range=0.5,\n",
        "                     time_steps=3,\n",
        "                     horizontal_flip=True,\n",
        "                     vertical_flip=True,\n",
        "                     fill_mode='constant')\n",
        "\n",
        "mask_data_gen_args = dict(\n",
        "                     rotation_range=90,\n",
        "                     zoom_range=0.2,\n",
        "                     brightness_range=[0.3,0.9],\n",
        "\n",
        "                     width_shift_range=0.3,\n",
        "                     height_shift_range=0.3,\n",
        "                     shear_range=0.5,\n",
        "                     time_steps=3,\n",
        "                     horizontal_flip=True,\n",
        "                     vertical_flip=True,\n",
        "                     fill_mode='constant',\n",
        "                     preprocessing_function = lambda x: np.where(x>0, 1, 0).astype(x.dtype)\n",
        "                \n",
        "                     \n",
        "                     ) #Binarize the output again. \n",
        "\n",
        "image_data_generator = TimeDistributedImageDataGenerator(**img_data_gen_args)\n",
        "mask_data_generator = TimeDistributedImageDataGenerator(**mask_data_gen_args)"
      ],
      "metadata": {
        "id": "t5z4PnZ_F1jW"
      },
      "execution_count": null,
      "outputs": []
    },
    {
      "cell_type": "code",
      "source": [
        "batch_size=3\n",
        "image_generator = image_data_generator.flow_from_directory(train_img_path, \n",
        "                                                           seed=seed, \n",
        "                                                           batch_size=batch_size,\n",
        "                                                           color_mode = 'grayscale',\n",
        "                                                           \n",
        "                                                           target_size=(256,256),\n",
        "                                                           \n",
        "                                                           class_mode=None)  #Very important to set this otherwise it returns multiple numpy arrays \n",
        "                                                                            #thinking class mode is binary.\n",
        "\n",
        "mask_generator = mask_data_generator.flow_from_directory(train_mask_path, \n",
        "                                                         seed=seed, \n",
        "                                                         batch_size=batch_size,\n",
        "                                                         color_mode = 'grayscale',\n",
        "\n",
        "                                                         target_size=(256,256)  , #Read masks in grayscale\n",
        "                                                         class_mode=None)\n",
        "\n",
        "\n",
        "valid_img_generator = image_data_generator.flow_from_directory(val_img_path, \n",
        "                                                               seed=seed, \n",
        "                                                               batch_size=517, \n",
        "                                                               color_mode = 'grayscale', \n",
        "                                                               \n",
        "                                                               target_size=(256,256),\n",
        "                                                               class_mode=None) #Default batch size 32, if not specified here\n",
        "valid_mask_generator = mask_data_generator.flow_from_directory(val_mask_path, \n",
        "                                                               seed=seed, \n",
        "                                                               batch_size=517, \n",
        "                                                               target_size=(256,256),\n",
        "\n",
        "                                                               color_mode = 'grayscale',   #Read masks in grayscale\n",
        "                                                               class_mode=None)  #Default batch size 32, if not specified here\n",
        "\n",
        "\n",
        "train_generator = zip(image_generator, mask_generator)\n",
        "val_generator = zip(valid_img_generator, valid_mask_generator)"
      ],
      "metadata": {
        "colab": {
          "base_uri": "https://localhost:8080/"
        },
        "id": "uyXXCqCqF93K",
        "outputId": "10a283b2-33d3-47e0-b987-84e94fd07e86"
      },
      "execution_count": null,
      "outputs": [
        {
          "output_type": "stream",
          "name": "stdout",
          "text": [
            "Found 2942 images belonging to 1 classes.\n",
            "Found 2942 images belonging to 1 classes.\n",
            "Found 517 images belonging to 1 classes.\n",
            "Found 517 images belonging to 1 classes.\n"
          ]
        }
      ]
    },
    {
      "cell_type": "code",
      "source": [
        "from matplotlib import pyplot as plt\n"
      ],
      "metadata": {
        "id": "PO6-RHm-GZNL"
      },
      "execution_count": null,
      "outputs": []
    },
    {
      "cell_type": "code",
      "source": [
        "x, y = train_generator.__next__()\n",
        "\n",
        "for i in range(0,3):\n",
        "    image = x[i,0,:,:,0]\n",
        "    #mask = np.argmax(y[i], axis=2)\n",
        "    mask= y[i,0,:,:,0]\n",
        "    plt.subplot(1,2,1)\n",
        "    plt.imshow(image, cmap='gray')\n",
        "    plt.axis('off')\n",
        "    plt.subplot(1,2,2)\n",
        "    plt.imshow(mask, cmap='gray')\n",
        "    plt.axis('off')\n",
        "    plt.show()"
      ],
      "metadata": {
        "colab": {
          "base_uri": "https://localhost:8080/",
          "height": 515
        },
        "id": "FjEH6_OQGZJY",
        "outputId": "f51d74b9-b448-420b-afa8-a69b59f7a1c9"
      },
      "execution_count": null,
      "outputs": [
        {
          "output_type": "display_data",
          "data": {
            "text/plain": [
              "<Figure size 432x288 with 2 Axes>"
            ],
            "image/png": "[encoded data removed]"
          },
          "metadata": {
            "needs_background": "light"
          }
        },
        {
          "output_type": "display_data",
          "data": {
            "text/plain": [
              "<Figure size 432x288 with 2 Axes>"
            ],
            "image/png": "[encoded data removed]"
          },
          "metadata": {
            "needs_background": "light"
          }
        },
        {
          "output_type": "display_data",
          "data": {
            "text/plain": [
              "<Figure size 432x288 with 2 Axes>"
            ],
            "image/png": "[encoded data removed]"
          },
          "metadata": {
            "needs_background": "light"
          }
        }
      ]
    },
    {
      "cell_type": "code",
      "source": [
        "x.max()"
      ],
      "metadata": {
        "colab": {
          "base_uri": "https://localhost:8080/"
        },
        "id": "RjgQrqXPGZGq",
        "outputId": "4999b479-002c-42de-88d4-a0b43281ee0f"
      },
      "execution_count": null,
      "outputs": [
        {
          "output_type": "execute_result",
          "data": {
            "text/plain": [
              "0.8470589"
            ]
          },
          "metadata": {},
          "execution_count": 9
        }
      ]
    },
    {
      "cell_type": "code",
      "source": [
        "y.max()"
      ],
      "metadata": {
        "colab": {
          "base_uri": "https://localhost:8080/"
        },
        "id": "fewYHoqUGykk",
        "outputId": "0c5f7de8-1ac0-4c82-e035-8989f04d8d5b"
      },
      "execution_count": null,
      "outputs": [
        {
          "output_type": "execute_result",
          "data": {
            "text/plain": [
              "0.0"
            ]
          },
          "metadata": {},
          "execution_count": 10
        }
      ]
    },
    {
      "cell_type": "code",
      "source": [
        "x.shape"
      ],
      "metadata": {
        "colab": {
          "base_uri": "https://localhost:8080/"
        },
        "id": "eUIkoy-pGyhL",
        "outputId": "735e8ff7-510a-448f-ff7f-8af50e1659ad"
      },
      "execution_count": null,
      "outputs": [
        {
          "output_type": "execute_result",
          "data": {
            "text/plain": [
              "(3, 3, 256, 256, 1)"
            ]
          },
          "metadata": {},
          "execution_count": 11
        }
      ]
    },
    {
      "cell_type": "code",
      "source": [
        "#Define the model metrcis and load model. \n",
        "\n",
        "num_train_imgs = len(os.listdir('/gdrive/MyDrive/train/train_images/images'))\n",
        "num_val_images = len(os.listdir('/gdrive/MyDrive/train/val_images/images'))\n",
        "steps_per_epoch = num_train_imgs//batch_size\n",
        "val_steps_per_epoch = num_val_images//batch_size\n",
        "\n",
        "IMG_HEIGHT = x.shape[2]\n",
        "IMG_WIDTH  = x.shape[3]\n",
        "IMG_CHANNELS = x.shape[4]\n",
        "input_shape = (None,IMG_HEIGHT, IMG_WIDTH, IMG_CHANNELS)\n",
        "print(input_shape)"
      ],
      "metadata": {
        "colab": {
          "base_uri": "https://localhost:8080/"
        },
        "id": "b0xYXd_NGye8",
        "outputId": "7be933b9-5b7c-4c8c-b9eb-655e6b803311"
      },
      "execution_count": null,
      "outputs": [
        {
          "output_type": "stream",
          "name": "stdout",
          "text": [
            "(None, 256, 256, 1)\n"
          ]
        }
      ]
    },
    {
      "cell_type": "code",
      "source": [
        "from tensorflow.keras.layers import Conv2D, TimeDistributed,Dropout,Input, Dense,\\\n",
        "    BatchNormalization, GRU, Layer, Flatten,MaxPooling2D, concatenate\n",
        "from tensorflow.keras.regularizers import l2\n",
        "from tensorflow.keras.models import Model\n",
        "from tensorflow.keras.utils import plot_model\n",
        "from tensorflow.keras.optimizers import Adam\n",
        "from keras import layers\n",
        "from keras import models\n",
        "import tensorflow as tf"
      ],
      "metadata": {
        "id": "jhszyulUG_vO"
      },
      "execution_count": null,
      "outputs": []
    },
    {
      "cell_type": "code",
      "source": [
        "print(steps_per_epoch)"
      ],
      "metadata": {
        "colab": {
          "base_uri": "https://localhost:8080/"
        },
        "id": "nGyVkTvpHDkh",
        "outputId": "45e83444-f67e-4815-b178-f929f72e71db"
      },
      "execution_count": null,
      "outputs": [
        {
          "output_type": "stream",
          "name": "stdout",
          "text": [
            "980\n"
          ]
        }
      ]
    },
    {
      "cell_type": "code",
      "source": [
        "\n",
        "input_l = layers.Input(shape=(input_shape))\n",
        "x =  (layers.TimeDistributed(layers.Conv2D( 64, kernel_size=(3, 3),padding='same',strides=(1,1),activation='relu' ) )) (input_l)\n",
        "conv2 = layers.TimeDistributed( layers.Conv2D( 64, kernel_size=(3, 3),padding='same',strides=(1,1),activation='relu'  ) ) (x)\n",
        "x=layers.TimeDistributed(layers.MaxPooling2D(pool_size=(2,2)))(conv2)\n",
        "x = layers.TimeDistributed( layers.Conv2D( 128, kernel_size=(3, 3),padding='same',strides=(1,1),activation='relu'   ) ) (x)\n",
        "conv5 = layers.TimeDistributed( layers.Conv2D( 128, kernel_size=(3, 3),padding='same',strides=(1,1),activation='relu'   ) ) (x)\n",
        "x=layers.TimeDistributed(layers.MaxPooling2D(pool_size=(2,2)))(conv5)\n",
        "x = layers.TimeDistributed( layers.Conv2D( 256, kernel_size=(3, 3),padding='same',strides=(1,1) ,activation='relu'  ) ) (x)\n",
        "conv8 = layers.TimeDistributed( layers.Conv2D( 256, kernel_size=(3, 3),padding='same',strides=(1,1) ,activation='relu'  ) ) (x)\n",
        "x=layers.TimeDistributed(layers.MaxPooling2D(pool_size=(2,2)))(conv8)\n",
        "x=layers.Bidirectional(layers.ConvLSTM2D(256,kernel_size=(3,3),padding='same',strides=(1,1),return_sequences=True,recurrent_dropout=0.2))(x)\n",
        "up1 = layers.TimeDistributed( layers.Conv2DTranspose( 512,kernel_size=(3,3),padding='same',strides=(2,2)))(x)\n",
        "concat1 = layers.concatenate([up1, conv8])\n",
        "x = layers.TimeDistributed( layers.Conv2D( 256, kernel_size=(3, 3),padding='same',strides=(1,1) ,activation='relu'  ) ) (concat1)\n",
        "x = layers.TimeDistributed( layers.Conv2D( 256, kernel_size=(3, 3),padding='same',strides=(1,1) ,activation='relu'  ) ) (x)\n",
        "up2 = layers.TimeDistributed( layers.Conv2DTranspose( 256,kernel_size=(3,3),padding='same',strides=(2,2)))(x)\n",
        "concat2 = layers.concatenate([up2, conv5])\n",
        "x = layers.TimeDistributed( layers.Conv2D( 128, kernel_size=(3, 3),padding='same',strides=(1,1),activation='relu'   ) ) (concat2)\n",
        "x = layers.TimeDistributed( layers.Conv2D( 128, kernel_size=(3, 3),padding='same',strides=(1,1) ,activation='relu'  ) ) (x)\n",
        "up3 = layers.TimeDistributed( layers.Conv2DTranspose( 128,kernel_size=(3,3),padding='same',strides=(2,2)))(x)\n",
        "concat3 = layers.concatenate([up3, conv2])\n",
        "x = layers.TimeDistributed( layers.Conv2D( 64, kernel_size=(3, 3),padding='same',strides=(1,1),activation='relu'   ) ) (concat3)\n",
        "x=layers.Bidirectional(layers.ConvLSTM2D(32,kernel_size=(3,3),padding='same',strides=(1,1),return_sequences=True,recurrent_dropout=0.2))(x)\n",
        "out= layers.TimeDistributed( layers.Conv2D( 64, kernel_size=(1, 1),padding='same',strides=(1,1),activation='relu'   ) ) (x)\n",
        "#out = tf.reshape(out, (-1, 1, 256,256, 64))\n",
        "out = layers.Conv2D( 1, kernel_size=(1, 1),padding='same',strides=(1,1), activation='sigmoid' )  (out)\n",
        "\n",
        "\n",
        "model = models.Model(inputs=input_l, outputs=out)\n",
        "model.summary()"
      ],
      "metadata": {
        "colab": {
          "base_uri": "https://localhost:8080/"
        },
        "id": "C0Ex7P8KHFmr",
        "outputId": "33158bab-8e5a-4e40-9025-e3770559a794"
      },
      "execution_count": null,
      "outputs": [
        {
          "output_type": "stream",
          "name": "stdout",
          "text": [
            "Model: \"model\"\n",
            "__________________________________________________________________________________________________\n",
            " Layer (type)                   Output Shape         Param #     Connected to                     \n",
            "==================================================================================================\n",
            " input_1 (InputLayer)           [(None, None, 256,   0           []                               \n",
            "                                256, 1)]                                                          \n",
            "                                                                                                  \n",
            " time_distributed (TimeDistribu  (None, None, 256, 2  640        ['input_1[0][0]']                \n",
            " ted)                           56, 64)                                                           \n",
            "                                                                                                  \n",
            " time_distributed_1 (TimeDistri  (None, None, 256, 2  36928      ['time_distributed[0][0]']       \n",
            " buted)                         56, 64)                                                           \n",
            "                                                                                                  \n",
            " time_distributed_2 (TimeDistri  (None, None, 128, 1  0          ['time_distributed_1[0][0]']     \n",
            " buted)                         28, 64)                                                           \n",
            "                                                                                                  \n",
            " time_distributed_3 (TimeDistri  (None, None, 128, 1  73856      ['time_distributed_2[0][0]']     \n",
            " buted)                         28, 128)                                                          \n",
            "                                                                                                  \n",
            " time_distributed_4 (TimeDistri  (None, None, 128, 1  147584     ['time_distributed_3[0][0]']     \n",
            " buted)                         28, 128)                                                          \n",
            "                                                                                                  \n",
            " time_distributed_5 (TimeDistri  (None, None, 64, 64  0          ['time_distributed_4[0][0]']     \n",
            " buted)                         , 128)                                                            \n",
            "                                                                                                  \n",
            " time_distributed_6 (TimeDistri  (None, None, 64, 64  295168     ['time_distributed_5[0][0]']     \n",
            " buted)                         , 256)                                                            \n",
            "                                                                                                  \n",
            " time_distributed_7 (TimeDistri  (None, None, 64, 64  590080     ['time_distributed_6[0][0]']     \n",
            " buted)                         , 256)                                                            \n",
            "                                                                                                  \n",
            " time_distributed_8 (TimeDistri  (None, None, 32, 32  0          ['time_distributed_7[0][0]']     \n",
            " buted)                         , 256)                                                            \n",
            "                                                                                                  \n",
            " bidirectional (Bidirectional)  (None, None, 32, 32  9439232     ['time_distributed_8[0][0]']     \n",
            "                                , 512)                                                            \n",
            "                                                                                                  \n",
            " time_distributed_9 (TimeDistri  (None, None, 64, 64  2359808    ['bidirectional[0][0]']          \n",
            " buted)                         , 512)                                                            \n",
            "                                                                                                  \n",
            " concatenate (Concatenate)      (None, None, 64, 64  0           ['time_distributed_9[0][0]',     \n",
            "                                , 768)                            'time_distributed_7[0][0]']     \n",
            "                                                                                                  \n",
            " time_distributed_10 (TimeDistr  (None, None, 64, 64  1769728    ['concatenate[0][0]']            \n",
            " ibuted)                        , 256)                                                            \n",
            "                                                                                                  \n",
            " time_distributed_11 (TimeDistr  (None, None, 64, 64  590080     ['time_distributed_10[0][0]']    \n",
            " ibuted)                        , 256)                                                            \n",
            "                                                                                                  \n",
            " time_distributed_12 (TimeDistr  (None, None, 128, 1  590080     ['time_distributed_11[0][0]']    \n",
            " ibuted)                        28, 256)                                                          \n",
            "                                                                                                  \n",
            " concatenate_1 (Concatenate)    (None, None, 128, 1  0           ['time_distributed_12[0][0]',    \n",
            "                                28, 384)                          'time_distributed_4[0][0]']     \n",
            "                                                                                                  \n",
            " time_distributed_13 (TimeDistr  (None, None, 128, 1  442496     ['concatenate_1[0][0]']          \n",
            " ibuted)                        28, 128)                                                          \n",
            "                                                                                                  \n",
            " time_distributed_14 (TimeDistr  (None, None, 128, 1  147584     ['time_distributed_13[0][0]']    \n",
            " ibuted)                        28, 128)                                                          \n",
            "                                                                                                  \n",
            " time_distributed_15 (TimeDistr  (None, None, 256, 2  147584     ['time_distributed_14[0][0]']    \n",
            " ibuted)                        56, 128)                                                          \n",
            "                                                                                                  \n",
            " concatenate_2 (Concatenate)    (None, None, 256, 2  0           ['time_distributed_15[0][0]',    \n",
            "                                56, 192)                          'time_distributed_1[0][0]']     \n",
            "                                                                                                  \n",
            " time_distributed_16 (TimeDistr  (None, None, 256, 2  110656     ['concatenate_2[0][0]']          \n",
            " ibuted)                        56, 64)                                                           \n",
            "                                                                                                  \n",
            " bidirectional_1 (Bidirectional  (None, None, 256, 2  221440     ['time_distributed_16[0][0]']    \n",
            " )                              56, 64)                                                           \n",
            "                                                                                                  \n",
            " time_distributed_17 (TimeDistr  (None, None, 256, 2  4160       ['bidirectional_1[0][0]']        \n",
            " ibuted)                        56, 64)                                                           \n",
            "                                                                                                  \n",
            " conv2d_12 (Conv2D)             (None, None, 256, 2  65          ['time_distributed_17[0][0]']    \n",
            "                                56, 1)                                                            \n",
            "                                                                                                  \n",
            "==================================================================================================\n",
            "Total params: 16,967,169\n",
            "Trainable params: 16,967,169\n",
            "Non-trainable params: 0\n",
            "__________________________________________________________________________________________________\n"
          ]
        }
      ]
    },
    {
      "cell_type": "code",
      "source": [
        "from keras import backend as K\n",
        "\n",
        "\n",
        "def dice_coefficient(y_true, y_pred, smooth=0.0001):\n",
        "    y_true_f = K.flatten(y_true)\n",
        "    y_pred_f = K.flatten(y_pred)\n",
        "\n",
        "    intersection = K.sum(y_true_f * y_pred_f)\n",
        "\n",
        "    return ((2. * intersection + smooth) / (K.sum(y_true_f) +\n",
        "            K.sum(y_pred_f) + smooth))\n",
        "\n",
        "\n",
        "def dice_coefficient_loss(y_true, y_pred):\n",
        "    return 1.0-dice_coefficient(y_true, y_pred)\n",
        "\n",
        "\n",
        "def iou_loss(y_true, y_pred):\n",
        "    return 1-iou(y_true, y_pred)\n",
        "\n",
        "def iou(y_true, y_pred):\n",
        "    intersection = K.sum(K.abs(y_true * y_pred))\n",
        "    sum_ = K.sum(K.square(y_true)) + K.sum(K.square(y_pred))\n",
        "    jac = (intersection) / (sum_ - intersection)\n",
        "    return jac"
      ],
      "metadata": {
        "id": "Os2YQyRyHH2A"
      },
      "execution_count": null,
      "outputs": []
    },
    {
      "cell_type": "code",
      "source": [
        "LR = 5e-5\n",
        "optim = tf.keras.optimizers.Adam(LR)"
      ],
      "metadata": {
        "id": "d7acRaQ2HLxd"
      },
      "execution_count": null,
      "outputs": []
    },
    {
      "cell_type": "code",
      "source": [
        "metrics=[iou, dice_coefficient, 'binary_accuracy']"
      ],
      "metadata": {
        "id": "d5MmMxNnHN7z"
      },
      "execution_count": null,
      "outputs": []
    },
    {
      "cell_type": "code",
      "source": [
        "model.compile(optimizer=optim, loss=dice_coefficient_loss, metrics=metrics)\n"
      ],
      "metadata": {
        "id": "CbqCv2bcIE0A"
      },
      "execution_count": null,
      "outputs": []
    },
    {
      "cell_type": "code",
      "source": [
        "history=model.fit(train_generator,\n",
        "          steps_per_epoch=steps_per_epoch,\n",
        "          epochs=15,\n",
        "          verbose=1,\n",
        "          validation_data=val_generator,\n",
        "    \n",
        "          validation_steps=val_steps_per_epoch)"
      ],
      "metadata": {
        "colab": {
          "base_uri": "https://localhost:8080/"
        },
        "id": "9cbI1HB6HQBF",
        "outputId": "42cc6503-add5-4c1b-b1a9-b8ef80aeb1e9"
      },
      "execution_count": null,
      "outputs": [
        {
          "output_type": "stream",
          "name": "stdout",
          "text": [
            "Epoch 1/15\n",
            "980/980 [==============================] - 3196s 3s/step - loss: 0.7213 - iou: 0.1924 - dice_coefficient: 0.2788 - binary_accuracy: 0.8397 - val_loss: 0.5222 - val_iou: 0.3475 - val_dice_coefficient: 0.4778 - val_binary_accuracy: 0.9753\n",
            "Epoch 2/15\n",
            "980/980 [==============================] - 1169s 1s/step - loss: 0.4974 - iou: 0.3688 - dice_coefficient: 0.5026 - binary_accuracy: 0.9756 - val_loss: 0.4767 - val_iou: 0.3974 - val_dice_coefficient: 0.5233 - val_binary_accuracy: 0.9808\n",
            "Epoch 3/15\n",
            "980/980 [==============================] - 1170s 1s/step - loss: 0.4592 - iou: 0.4085 - dice_coefficient: 0.5408 - binary_accuracy: 0.9793 - val_loss: 0.4330 - val_iou: 0.4387 - val_dice_coefficient: 0.5670 - val_binary_accuracy: 0.9809\n",
            "Epoch 4/15\n",
            "980/980 [==============================] - 1169s 1s/step - loss: 0.4386 - iou: 0.4291 - dice_coefficient: 0.5615 - binary_accuracy: 0.9807 - val_loss: 0.4989 - val_iou: 0.3707 - val_dice_coefficient: 0.5011 - val_binary_accuracy: 0.9779\n",
            "Epoch 5/15\n",
            "980/980 [==============================] - 1167s 1s/step - loss: 0.4223 - iou: 0.4464 - dice_coefficient: 0.5777 - binary_accuracy: 0.9816 - val_loss: 0.4384 - val_iou: 0.4365 - val_dice_coefficient: 0.5616 - val_binary_accuracy: 0.9825\n",
            "Epoch 6/15\n",
            "980/980 [==============================] - 1166s 1s/step - loss: 0.4145 - iou: 0.4556 - dice_coefficient: 0.5856 - binary_accuracy: 0.9824 - val_loss: 0.4361 - val_iou: 0.4421 - val_dice_coefficient: 0.5639 - val_binary_accuracy: 0.9833\n",
            "Epoch 7/15\n",
            "980/980 [==============================] - 1166s 1s/step - loss: 0.4106 - iou: 0.4633 - dice_coefficient: 0.5895 - binary_accuracy: 0.9832 - val_loss: 0.4433 - val_iou: 0.4299 - val_dice_coefficient: 0.5567 - val_binary_accuracy: 0.9805\n",
            "Epoch 8/15\n",
            "980/980 [==============================] - 1165s 1s/step - loss: 0.4008 - iou: 0.4696 - dice_coefficient: 0.5990 - binary_accuracy: 0.9833 - val_loss: 0.4112 - val_iou: 0.4570 - val_dice_coefficient: 0.5888 - val_binary_accuracy: 0.9826\n",
            "Epoch 9/15\n",
            "980/980 [==============================] - 1166s 1s/step - loss: 0.3949 - iou: 0.4779 - dice_coefficient: 0.6051 - binary_accuracy: 0.9840 - val_loss: 0.4335 - val_iou: 0.4424 - val_dice_coefficient: 0.5665 - val_binary_accuracy: 0.9827\n",
            "Epoch 10/15\n",
            "980/980 [==============================] - 1164s 1s/step - loss: 0.3877 - iou: 0.4845 - dice_coefficient: 0.6123 - binary_accuracy: 0.9840 - val_loss: 0.4252 - val_iou: 0.4478 - val_dice_coefficient: 0.5748 - val_binary_accuracy: 0.9830\n",
            "Epoch 11/15\n",
            "980/980 [==============================] - 1164s 1s/step - loss: 0.3869 - iou: 0.4885 - dice_coefficient: 0.6131 - binary_accuracy: 0.9846 - val_loss: 0.4318 - val_iou: 0.4403 - val_dice_coefficient: 0.5682 - val_binary_accuracy: 0.9826\n",
            "Epoch 12/15\n",
            "980/980 [==============================] - 1162s 1s/step - loss: 0.3768 - iou: 0.4984 - dice_coefficient: 0.6232 - binary_accuracy: 0.9851 - val_loss: 0.4298 - val_iou: 0.4491 - val_dice_coefficient: 0.5702 - val_binary_accuracy: 0.9827\n",
            "Epoch 13/15\n",
            "980/980 [==============================] - 1162s 1s/step - loss: 0.3659 - iou: 0.5092 - dice_coefficient: 0.6340 - binary_accuracy: 0.9852 - val_loss: 0.4201 - val_iou: 0.4624 - val_dice_coefficient: 0.5799 - val_binary_accuracy: 0.9841\n",
            "Epoch 14/15\n",
            "980/980 [==============================] - 1162s 1s/step - loss: 0.3677 - iou: 0.5065 - dice_coefficient: 0.6320 - binary_accuracy: 0.9855 - val_loss: 0.4178 - val_iou: 0.4591 - val_dice_coefficient: 0.5822 - val_binary_accuracy: 0.9843\n",
            "Epoch 15/15\n",
            "980/980 [==============================] - 1164s 1s/step - loss: 0.3652 - iou: 0.5104 - dice_coefficient: 0.6348 - binary_accuracy: 0.9857 - val_loss: 0.3894 - val_iou: 0.4790 - val_dice_coefficient: 0.6106 - val_binary_accuracy: 0.9843\n"
          ]
        }
      ]
    },
    {
      "cell_type": "code",
      "source": [
        "model.save('/gdrive/MyDrive/Sensor15-256-5e-5.h5')"
      ],
      "metadata": {
        "id": "xIEbjWWPH-x9"
      },
      "execution_count": null,
      "outputs": []
    },
    {
      "cell_type": "code",
      "source": [
        "#Load previously saved model\n",
        "from keras.models import load_model\n",
        "model = load_model(\"/gdrive/MyDrive/Sensor15-256-5e-5.h5\", compile=False)"
      ],
      "metadata": {
        "id": "Mmab1YpdZIiW"
      },
      "execution_count": null,
      "outputs": []
    },
    {
      "cell_type": "code",
      "source": [
        "a, b = val_generator.__next__()\n"
      ],
      "metadata": {
        "id": "NWLr3WZlZOYe"
      },
      "execution_count": null,
      "outputs": []
    },
    {
      "cell_type": "code",
      "source": [
        "\n",
        "for i in range(0,3):\n",
        "    image = a[i,0,:,:,0]\n",
        "    #mask = np.argmax(y[i], axis=2)\n",
        "    mask= b[i,0,:,:,0]\n",
        "    plt.subplot(1,2,1)\n",
        "    plt.imshow(image, cmap='gray')\n",
        "    plt.axis('off')\n",
        "    plt.subplot(1,2,2)\n",
        "    plt.imshow(mask, cmap='gray')\n",
        "    plt.axis('off')\n",
        "    plt.show()"
      ],
      "metadata": {
        "colab": {
          "base_uri": "https://localhost:8080/",
          "height": 515
        },
        "id": "L1iTf-tEZOU-",
        "outputId": "a03e88c6-a9df-408a-ec8b-5c94b7fd3627"
      },
      "execution_count": null,
      "outputs": [
        {
          "output_type": "display_data",
          "data": {
            "text/plain": [
              "<Figure size 432x288 with 2 Axes>"
            ],
            "image/png": "[encoded data removed]"
          },
          "metadata": {
            "needs_background": "light"
          }
        },
        {
          "output_type": "display_data",
          "data": {
            "text/plain": [
              "<Figure size 432x288 with 2 Axes>"
            ],
            "image/png": "[encoded data removed]"
          },
          "metadata": {
            "needs_background": "light"
          }
        },
        {
          "output_type": "display_data",
          "data": {
            "text/plain": [
              "<Figure size 432x288 with 2 Axes>"
            ],
            "image/png": "[encoded data removed]"
          },
          "metadata": {
            "needs_background": "light"
          }
        }
      ]
    },
    {
      "cell_type": "code",
      "source": [
        "\n",
        "import random\n",
        "test_img_number = random.randint(0, a.shape[0]-1)\n",
        "test_img = a[test_img_number]\n",
        "ground_truth=b[test_img_number]\n",
        "#test_img_norm=test_img[:,:,0][:,:,None]\n",
        "test_img_input=np.expand_dims(test_img, 0)\n",
        "ground_truth.shape\n"
      ],
      "metadata": {
        "colab": {
          "base_uri": "https://localhost:8080/"
        },
        "id": "fI_RQelVZOSI",
        "outputId": "eb3663c3-2096-4af8-a940-e55d3073dd39"
      },
      "execution_count": null,
      "outputs": [
        {
          "output_type": "execute_result",
          "data": {
            "text/plain": [
              "(3, 256, 256, 1)"
            ]
          },
          "metadata": {},
          "execution_count": 83
        }
      ]
    },
    {
      "cell_type": "code",
      "source": [
        "import random\n",
        "test_img_number = random.randint(0, a.shape[0]-1)\n",
        "test_img = a[test_img_number]\n",
        "ground_truth=b[test_img_number]\n",
        "#test_img_norm=test_img[:,:,0][:,:,None]\n",
        "test_img_input=np.expand_dims(test_img, 0)\n",
        "\n",
        "prediction = (model.predict(test_img_input)[0,0,:,:,0] > 0.5).astype(np.uint8)\n",
        "plt.figure(figsize=(16, 8))\n",
        "plt.subplot(231)\n",
        "plt.axis('off')\n",
        "plt.title('Testing Image')\n",
        "plt.imshow(test_img[0,:,:,0], cmap='gray')\n",
        "\n",
        "\n",
        "plt.subplot(232)\n",
        "plt.title('Real Mask ')\n",
        "plt.axis('off')\n",
        "plt.imshow(ground_truth[0,:,:,0], cmap='gray')\n",
        "plt.subplot(233)\n",
        "plt.axis('off')\n",
        "plt.title('Predicted mask')\n",
        "plt.imshow(prediction, cmap='gray')\n",
        "\n",
        "plt.show()"
      ],
      "metadata": {
        "colab": {
          "base_uri": "https://localhost:8080/",
          "height": 245
        },
        "id": "GjBW5c4ZZOO7",
        "outputId": "a78ef119-db4e-42be-d290-058d1939db91"
      },
      "execution_count": null,
      "outputs": [
        {
          "output_type": "display_data",
          "data": {
            "text/plain": [
              "<Figure size 1152x576 with 3 Axes>"
            ],
            "image/png": "[encoded data removed]"
          },
          "metadata": {
            "needs_background": "light"
          }
        }
      ]
    },
    {
      "cell_type": "code",
      "source": [
        "#IoU for a single image\n",
        "from tensorflow.keras.metrics import MeanIoU\n",
        "n_classes = 2\n",
        "IOU_keras = MeanIoU(num_classes=n_classes)  \n",
        "IOU_keras.update_state(ground_truth[0,:,:,0], prediction)\n",
        "print(\"Mean IoU =\", IOU_keras.result().numpy())"
      ],
      "metadata": {
        "colab": {
          "base_uri": "https://localhost:8080/"
        },
        "id": "oVRHiWf5ZYRb",
        "outputId": "d78b38d1-5ff9-4327-988f-ae479882106c"
      },
      "execution_count": null,
      "outputs": [
        {
          "output_type": "stream",
          "name": "stdout",
          "text": [
            "Mean IoU = 0.49962616\n"
          ]
        }
      ]
    },
    {
      "cell_type": "code",
      "source": [
        "\n",
        "import pandas as pd\n",
        "\n",
        "IoU_values = []\n",
        "for img in range(0, a.shape[0]):\n",
        "    temp_img = a[img]\n",
        "    ground_truth=b[img]\n",
        "    temp_img_input=np.expand_dims(temp_img, 0)\n",
        "    prediction = (model.predict(temp_img_input)[0,0,:,:,0]> 0.5).astype(np.uint8)\n",
        "    \n",
        "    IoU = MeanIoU(num_classes=n_classes)\n",
        "    IoU.update_state(ground_truth[0,:,:,0], prediction)\n",
        "    IoU = IoU.result().numpy()\n",
        "    IoU_values.append(IoU)\n",
        "\n",
        "    print(IoU)\n",
        "    \n",
        "\n",
        "\n",
        "df = pd.DataFrame(IoU_values, columns=[\"IoU\"])\n",
        "df = df[df.IoU != 1.0]    \n",
        "mean_IoU = df.mean().values\n",
        "print(\"Mean IoU is: \", mean_IoU)"
      ],
      "metadata": {
        "colab": {
          "base_uri": "https://localhost:8080/"
        },
        "id": "CtsVsfGUZYN5",
        "outputId": "4879fdb7-fa8a-4e27-bbb1-d3a0e82381f2"
      },
      "execution_count": null,
      "outputs": [
        {
          "output_type": "stream",
          "name": "stdout",
          "text": [
            "0.8636956\n",
            "0.4851303\n",
            "0.7487976\n",
            "0.48340607\n",
            "1.0\n",
            "1.0\n",
            "0.7656311\n",
            "0.5527705\n",
            "0.48155212\n",
            "1.0\n",
            "0.49715424\n",
            "1.0\n",
            "0.49172974\n",
            "0.8788227\n",
            "0.86504036\n",
            "0.49824524\n",
            "0.8344049\n",
            "0.89585686\n",
            "0.89829516\n",
            "0.49066162\n",
            "0.8391355\n",
            "0.9061365\n",
            "0.83986485\n",
            "0.49842834\n",
            "0.76464295\n",
            "0.48145294\n",
            "1.0\n",
            "0.8288059\n",
            "0.86681175\n",
            "0.4858322\n",
            "0.4792633\n",
            "0.49668884\n",
            "0.90642494\n",
            "0.48353577\n",
            "0.8280518\n",
            "0.8911065\n",
            "0.63962066\n",
            "0.64277506\n",
            "0.80671287\n",
            "1.0\n",
            "0.4988556\n",
            "1.0\n",
            "0.66982734\n",
            "0.835534\n",
            "0.47731018\n",
            "0.49583435\n",
            "0.47924042\n",
            "0.8811271\n",
            "0.47885132\n",
            "0.54222864\n",
            "0.8356619\n",
            "0.89851433\n",
            "1.0\n",
            "0.849262\n",
            "0.7422006\n",
            "0.68311465\n",
            "0.49495697\n",
            "0.7254796\n",
            "0.4999237\n",
            "0.49996948\n",
            "0.48238373\n",
            "1.0\n",
            "0.48075104\n",
            "0.8407906\n",
            "0.8300464\n",
            "0.87321043\n",
            "0.49977112\n",
            "0.49933624\n",
            "0.70536983\n",
            "1.0\n",
            "0.49951935\n",
            "0.48600006\n",
            "0.8735453\n",
            "1.0\n",
            "0.4998932\n",
            "0.4972763\n",
            "0.47582245\n",
            "0.4906006\n",
            "0.49613953\n",
            "1.0\n",
            "0.48786926\n",
            "0.8790238\n",
            "0.49363708\n",
            "0.47987366\n",
            "0.48496246\n",
            "0.49772644\n",
            "0.48641968\n",
            "0.8347506\n",
            "0.8178302\n",
            "0.9119594\n",
            "0.7681007\n",
            "0.93142\n",
            "0.84442425\n",
            "0.811798\n",
            "0.84154093\n",
            "0.48880768\n",
            "0.79287875\n",
            "0.88346183\n",
            "1.0\n",
            "0.49648285\n",
            "0.58039606\n",
            "0.8281375\n",
            "0.87241435\n",
            "0.82505786\n",
            "0.48394012\n",
            "0.88578856\n",
            "1.0\n",
            "0.49692535\n",
            "0.86219805\n",
            "0.8670676\n",
            "0.49944305\n",
            "1.0\n",
            "0.5293803\n",
            "0.48258972\n",
            "0.54179895\n",
            "1.0\n",
            "0.49845123\n",
            "0.4885559\n",
            "0.86748546\n",
            "0.48846436\n",
            "0.49613953\n",
            "0.49962616\n",
            "0.7766148\n",
            "1.0\n",
            "1.0\n",
            "0.4682083\n",
            "0.49996948\n",
            "0.91722655\n",
            "0.85971355\n",
            "0.83062387\n",
            "0.8500602\n",
            "0.4931183\n",
            "0.4999237\n",
            "0.8990896\n",
            "1.0\n",
            "1.0\n",
            "0.47646332\n",
            "0.48027802\n",
            "0.9101579\n",
            "0.687209\n",
            "1.0\n",
            "1.0\n",
            "1.0\n",
            "0.8272781\n",
            "0.8300766\n",
            "0.49986267\n",
            "0.48445892\n",
            "0.6719221\n",
            "0.936342\n",
            "0.85255086\n",
            "0.49408722\n",
            "1.0\n",
            "0.89677143\n",
            "0.47642517\n",
            "1.0\n",
            "1.0\n",
            "0.52413756\n",
            "0.6563278\n",
            "0.9066468\n",
            "1.0\n",
            "0.48258972\n",
            "1.0\n",
            "0.885596\n",
            "0.89196944\n",
            "0.49395752\n",
            "0.4998169\n",
            "0.85140723\n",
            "1.0\n",
            "0.48049927\n",
            "0.90931165\n",
            "1.0\n",
            "1.0\n",
            "0.92367905\n",
            "0.47647858\n",
            "1.0\n",
            "0.49996185\n",
            "0.48120117\n",
            "0.4826889\n",
            "0.8984006\n",
            "0.89931846\n",
            "1.0\n",
            "0.877154\n",
            "0.8501229\n",
            "0.54132223\n",
            "0.49230957\n",
            "0.8913593\n",
            "1.0\n",
            "1.0\n",
            "0.94036156\n",
            "0.4992981\n",
            "1.0\n",
            "0.8675579\n",
            "0.48363495\n",
            "0.49951935\n",
            "1.0\n",
            "0.91992307\n",
            "0.47341156\n",
            "1.0\n",
            "0.4839859\n",
            "0.482872\n",
            "0.48841095\n",
            "0.9185084\n",
            "0.9055494\n",
            "0.47159576\n",
            "0.4882126\n",
            "0.906631\n",
            "0.8076978\n",
            "0.49995422\n",
            "1.0\n",
            "0.8443619\n",
            "0.8782644\n",
            "0.85473824\n",
            "0.48322296\n",
            "0.48223877\n",
            "0.4947052\n",
            "0.49812317\n",
            "0.49952698\n",
            "0.48771667\n",
            "0.49917603\n",
            "0.49895477\n",
            "0.907874\n",
            "0.49674988\n",
            "0.8540977\n",
            "1.0\n",
            "0.729677\n",
            "1.0\n",
            "0.49865723\n",
            "1.0\n",
            "0.8287489\n",
            "0.49965668\n",
            "1.0\n",
            "0.82761776\n",
            "0.835754\n",
            "1.0\n",
            "0.86398524\n",
            "1.0\n",
            "1.0\n",
            "1.0\n",
            "0.8386689\n",
            "0.49845123\n",
            "1.0\n",
            "1.0\n",
            "1.0\n",
            "0.4755249\n",
            "0.887098\n",
            "0.86423445\n",
            "0.48036957\n",
            "0.48306274\n",
            "0.85348344\n",
            "0.89810824\n",
            "0.56741893\n",
            "0.9298116\n",
            "1.0\n",
            "0.8260378\n",
            "0.48560333\n",
            "1.0\n",
            "1.0\n",
            "1.0\n",
            "1.0\n",
            "0.4852066\n",
            "0.49928284\n",
            "0.49770355\n",
            "0.49695587\n",
            "0.7809553\n",
            "0.87539417\n",
            "0.4738083\n",
            "0.48445892\n",
            "0.49508667\n",
            "0.49925232\n",
            "1.0\n",
            "0.87786716\n",
            "0.902228\n",
            "0.4728546\n",
            "1.0\n",
            "0.85661125\n",
            "0.6631435\n",
            "1.0\n",
            "0.8775979\n",
            "0.8704842\n",
            "1.0\n",
            "1.0\n",
            "0.49577332\n",
            "0.7649703\n",
            "1.0\n",
            "0.6874777\n",
            "0.8344454\n",
            "0.86101276\n",
            "0.89515555\n",
            "0.7395872\n",
            "0.8259487\n",
            "0.49021912\n",
            "0.4992752\n",
            "0.9051947\n",
            "1.0\n",
            "0.48698425\n",
            "0.7966896\n",
            "0.47785187\n",
            "0.78666985\n",
            "0.47499847\n",
            "0.8706823\n",
            "1.0\n",
            "0.85127836\n",
            "0.48664093\n",
            "0.88486755\n",
            "0.8670933\n",
            "0.81368756\n",
            "0.82592034\n",
            "0.48912048\n",
            "0.86875737\n",
            "0.8711122\n",
            "0.49929047\n",
            "1.0\n",
            "0.48684692\n",
            "0.4816742\n",
            "0.888795\n",
            "0.83996433\n",
            "0.7792897\n",
            "0.4922638\n",
            "0.82090545\n",
            "1.0\n",
            "1.0\n",
            "0.49468994\n",
            "0.48636627\n",
            "0.84766155\n",
            "0.89439183\n",
            "0.616014\n",
            "0.8910816\n",
            "0.82040215\n",
            "0.498497\n",
            "0.8145504\n",
            "1.0\n",
            "0.90898865\n",
            "0.47813416\n",
            "1.0\n",
            "0.49986267\n",
            "0.91086143\n",
            "0.83254933\n",
            "0.88440156\n",
            "0.76669383\n",
            "0.49977875\n",
            "0.49913025\n",
            "0.4980774\n",
            "1.0\n",
            "1.0\n",
            "0.9040135\n",
            "0.49782562\n",
            "1.0\n",
            "0.4894638\n",
            "1.0\n",
            "0.5414021\n",
            "1.0\n",
            "0.47989655\n",
            "0.76649487\n",
            "0.72515684\n",
            "0.81606334\n",
            "0.49687195\n",
            "0.78103507\n",
            "0.47537994\n",
            "0.49925232\n",
            "0.49907684\n",
            "0.8335022\n",
            "0.49687958\n",
            "0.46637726\n",
            "0.8527574\n",
            "0.842885\n",
            "0.8769492\n",
            "0.48097992\n",
            "0.8465328\n",
            "0.7981484\n",
            "1.0\n",
            "0.90107465\n",
            "0.48114777\n",
            "0.5747749\n",
            "0.48617554\n",
            "0.49179077\n",
            "0.47990417\n",
            "1.0\n",
            "0.49892426\n",
            "0.8580241\n",
            "0.9000592\n",
            "0.49473572\n",
            "0.49998474\n",
            "0.4798584\n",
            "0.6357631\n",
            "0.49375153\n",
            "0.47396088\n",
            "0.499115\n",
            "1.0\n",
            "0.83260095\n",
            "0.8083789\n",
            "0.86340356\n",
            "0.48931885\n",
            "0.49495697\n",
            "0.4976883\n",
            "1.0\n",
            "1.0\n",
            "0.7591636\n",
            "0.8656593\n",
            "0.87485874\n",
            "0.91003907\n",
            "0.79616565\n",
            "0.8313252\n",
            "0.8515374\n",
            "0.4975357\n",
            "0.8396504\n",
            "0.4999466\n",
            "1.0\n",
            "0.83637977\n",
            "0.48582458\n",
            "0.49032637\n",
            "0.4850006\n",
            "0.49964905\n",
            "0.48858643\n",
            "0.4999466\n",
            "1.0\n",
            "0.49871826\n",
            "0.8682151\n",
            "0.4897232\n",
            "0.68798465\n",
            "0.8983353\n",
            "0.47065735\n",
            "0.48461914\n",
            "0.48475647\n",
            "1.0\n",
            "1.0\n",
            "0.82600963\n",
            "0.8945571\n",
            "0.8836285\n",
            "0.8749962\n",
            "0.7635119\n",
            "0.4998932\n",
            "0.49869537\n",
            "0.48791504\n",
            "0.49897003\n",
            "1.0\n",
            "0.9090185\n",
            "0.47975922\n",
            "1.0\n",
            "0.8525221\n",
            "0.49817657\n",
            "1.0\n",
            "0.49079132\n",
            "0.9428508\n",
            "0.9002061\n",
            "0.47357178\n",
            "1.0\n",
            "1.0\n",
            "0.8216126\n",
            "0.8383755\n",
            "0.51875114\n",
            "0.894874\n",
            "0.49505615\n",
            "0.48349762\n",
            "0.48526764\n",
            "0.8860523\n",
            "1.0\n",
            "1.0\n",
            "0.60417163\n",
            "0.4992218\n",
            "1.0\n",
            "0.84860325\n",
            "0.9004801\n",
            "0.49835205\n",
            "1.0\n",
            "0.79450333\n",
            "0.49991608\n",
            "1.0\n",
            "1.0\n",
            "0.8206055\n",
            "0.7444442\n",
            "0.89071226\n",
            "0.48023987\n",
            "0.46938324\n",
            "0.4825287\n",
            "0.4964981\n",
            "0.8832896\n",
            "1.0\n",
            "1.0\n",
            "0.47760773\n",
            "0.7828778\n",
            "0.8885331\n",
            "0.482872\n",
            "0.8215492\n",
            "1.0\n",
            "0.49396515\n",
            "0.79667604\n",
            "0.8878463\n",
            "1.0\n",
            "1.0\n",
            "0.87512624\n",
            "0.46905518\n",
            "0.48621368\n",
            "0.8288846\n",
            "0.8595118\n",
            "0.4996109\n",
            "0.8331069\n",
            "0.4743271\n",
            "0.49983215\n",
            "0.89698744\n",
            "0.48020935\n",
            "0.4951706\n",
            "0.47115326\n",
            "0.5306901\n",
            "0.75320363\n",
            "0.9070916\n",
            "0.49801636\n",
            "0.88359207\n",
            "0.48477936\n",
            "0.4996338\n",
            "0.82428527\n",
            "0.80146587\n",
            "0.88811266\n",
            "0.8555408\n",
            "0.4999771\n",
            "0.49712372\n",
            "1.0\n",
            "0.86241734\n",
            "Mean IoU is:  [0.66902393]\n"
          ]
        }
      ]
    },
    {
      "cell_type": "code",
      "source": [
        ""
      ],
      "metadata": {
        "id": "JL-1nMgka-3y"
      },
      "execution_count": null,
      "outputs": []
    }
  ]
}