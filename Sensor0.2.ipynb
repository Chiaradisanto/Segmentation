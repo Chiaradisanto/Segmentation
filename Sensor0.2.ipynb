{
  "cells": [
    {
      "cell_type": "markdown",
      "metadata": {
        "id": "view-in-github",
        "colab_type": "text"
      },
      "source": [
        "<a href=\"https://colab.research.google.com/github/Chiaradisanto/Segmentation/blob/main/Sensor0.2.ipynb\" target=\"_parent\"><img src=\"https://colab.research.google.com/assets/colab-badge.svg\" alt=\"Open In Colab\"/></a>"
      ]
    },
    {
      "cell_type": "code",
      "execution_count": 2,
      "metadata": {
        "colab": {
          "base_uri": "https://localhost:8080/"
        },
        "id": "F3_qTb56xYFW",
        "outputId": "73410275-d65e-48da-f187-e12b129f80ee"
      },
      "outputs": [
        {
          "output_type": "stream",
          "name": "stdout",
          "text": [
            "Mounted at /gdrive\n"
          ]
        }
      ],
      "source": [
        "from google.colab import drive\n",
        "drive.mount('/gdrive')"
      ]
    },
    {
      "cell_type": "code",
      "execution_count": 3,
      "metadata": {
        "id": "s4mfRxXuxYXl"
      },
      "outputs": [],
      "source": [
        "\n",
        "import os\n",
        "from IPython.core.completer import time\n",
        "from natsort import natsorted\n",
        "from tensorflow.keras.preprocessing.image import (\n",
        "    array_to_img,\n",
        "    img_to_array,\n",
        "    load_img,\n",
        ")\n",
        "from tensorflow.keras import layers\n",
        "import tensorflow as tf\n",
        "import numpy as np\n"
      ]
    },
    {
      "cell_type": "code",
      "execution_count": 4,
      "metadata": {
        "id": "3b-r3j9CxZ78"
      },
      "outputs": [],
      "source": [
        "class GetLoader:\n",
        "    def __init__(self, *, imgs, masks, timesteps, batch_size, squeeze=False):\n",
        "        self.imgs = imgs\n",
        "        self.masks = masks\n",
        "        self.timesteps = timesteps\n",
        "        self.batch_size = batch_size\n",
        "        self.squeeze = squeeze\n",
        "        self.augmentation = tf.keras.Sequential(\n",
        "            [\n",
        "                layers.RandomFlip(\"horizontal_and_vertical\"),\n",
        "                layers.RandomRotation(0.2),\n",
        "\n",
        "\n",
        "            ]\n",
        "        )\n",
        "\n",
        "    def __iter__(self):\n",
        "        return self\n",
        "\n",
        "    def __next__(self):\n",
        "        xs = []\n",
        "        ys = []\n",
        "        for _ in range(self.batch_size):\n",
        "            index = np.random.randint(0, len(self.imgs) - self.timesteps)\n",
        "            xs.append(self.imgs[index : index + self.timesteps])\n",
        "            ys.append(self.masks[index + self.timesteps])\n",
        "        x, y = np.array(xs), np.array(ys)\n",
        "        x = x.squeeze(-1).transpose(0, 2, 3, 1)\n",
        "        xy = self.augmentation(tf.concat((x, y), axis=-1))\n",
        "\n",
        "        x = xy[:, :, :, :3]\n",
        "        y = xy[:, :, :, 3:]\n",
        "        if not self.squeeze:\n",
        "            x = tf.transpose(x, perm=(0, 3, 1, 2))[..., None]\n",
        "            y = tf.expand_dims(y, 1)\n",
        "        # if not tf.reduce_all(y[0] == 0):\n",
        "        #    ipdb.set_trace()\n",
        "        return x, y\n",
        "\n",
        "\n",
        "class DataLoader:\n",
        "    def __init__(\n",
        "        self,\n",
        "        data_folder: str,\n",
        "        *,\n",
        "        timesteps: int = 3,\n",
        "        batch_size=4,\n",
        "        squeeze=False,\n",
        "    ):\n",
        "        self.batch_size = batch_size\n",
        "        self.data_folder = data_folder\n",
        "        self.timesteps = timesteps\n",
        "        self.squeeze = squeeze\n",
        "        train_img_file_names = [\n",
        "            os.path.join(data_folder, \"train_images\", \"images\", fn)\n",
        "            for fn in os.listdir(os.path.join(data_folder, \"train_images\", \"images\"))\n",
        "        ]\n",
        "        train_img_file_names = natsorted(train_img_file_names)\n",
        "        # train_img_file_names.sort(key=lambda x: int(x.split(\"_\")[-1].split(\".\")[0]))\n",
        "        train_mask_file_names = [\n",
        "            fn.replace(\"images\", \"masks\") for fn in train_img_file_names\n",
        "        ]\n",
        "        self.train_imgs = (\n",
        "            np.array(\n",
        "                [\n",
        "                    img_to_array(load_img(fn, color_mode=\"grayscale\"))\n",
        "                    for fn in train_img_file_names\n",
        "                ]\n",
        "            )\n",
        "            / 255\n",
        "        )\n",
        "        self.train_masks = (\n",
        "            np.array(\n",
        "                [\n",
        "                    img_to_array(load_img(fn, color_mode=\"grayscale\"))\n",
        "                    for fn in train_mask_file_names\n",
        "                ]\n",
        "            )\n",
        "            / 255\n",
        "            > 0.5\n",
        "        ).astype(float)\n",
        "\n",
        "        val_img_file_names = [\n",
        "            os.path.join(data_folder, \"val_images\", \"images\", fn)\n",
        "            for fn in os.listdir(os.path.join(data_folder, \"val_images\", \"images\"))\n",
        "        ]\n",
        "        val_img_file_names = natsorted(val_img_file_names)\n",
        "        val_mask_file_names = [\n",
        "            fn.replace(\"images\", \"masks\") for fn in val_img_file_names\n",
        "        ]\n",
        "        self.val_imgs = (\n",
        "            np.array(\n",
        "                [\n",
        "                    img_to_array(load_img(fn, color_mode=\"grayscale\"))\n",
        "                    for fn in val_img_file_names\n",
        "                ]\n",
        "            )\n",
        "            / 255\n",
        "        )\n",
        "        self.val_masks = (\n",
        "            np.array(\n",
        "                [\n",
        "                    img_to_array(load_img(fn, color_mode=\"grayscale\"))\n",
        "                    for fn in val_mask_file_names\n",
        "                ]\n",
        "            )\n",
        "            / 255\n",
        "            > 0.5\n",
        "        ).astype(float)\n",
        "\n",
        "    def get_loaders(self):\n",
        "        return (\n",
        "            GetLoader(\n",
        "                imgs=self.train_imgs,\n",
        "                masks=self.train_masks,\n",
        "                timesteps=self.timesteps,\n",
        "                batch_size=self.batch_size,\n",
        "                squeeze=self.squeeze,\n",
        "            ),\n",
        "            GetLoader(\n",
        "                imgs=self.val_imgs,\n",
        "                masks=self.val_masks,\n",
        "                timesteps=self.timesteps,\n",
        "                batch_size=self.batch_size,\n",
        "                squeeze=self.squeeze,\n",
        "            ),\n",
        "        )"
      ]
    },
    {
      "cell_type": "code",
      "execution_count": 5,
      "metadata": {
        "id": "2jMEP4T9xf37"
      },
      "outputs": [],
      "source": [
        "train_loader, val_loader = DataLoader(\"/gdrive/MyDrive/adjustedROI/final_output\", squeeze=False).get_loaders()\n"
      ]
    },
    {
      "cell_type": "code",
      "execution_count": 6,
      "metadata": {
        "id": "wnMCBtiTxr2X"
      },
      "outputs": [],
      "source": [
        "x, y = train_loader.__next__()"
      ]
    },
    {
      "cell_type": "code",
      "execution_count": 7,
      "metadata": {
        "id": "Mue0IECMxry1"
      },
      "outputs": [],
      "source": [
        "from matplotlib import pyplot as plt"
      ]
    },
    {
      "cell_type": "code",
      "execution_count": 8,
      "metadata": {
        "id": "9Jt_IuN-xrwZ",
        "colab": {
          "base_uri": "https://localhost:8080/",
          "height": 515
        },
        "outputId": "4008f529-b493-471f-a21d-4039cedf9aa8"
      },
      "outputs": [
        {
          "output_type": "display_data",
          "data": {
            "text/plain": [
              "<Figure size 432x288 with 2 Axes>"
            ],
            "image/png": "[encoded data removed]"
          },
          "metadata": {
            "needs_background": "light"
          }
        },
        {
          "output_type": "display_data",
          "data": {
            "text/plain": [
              "<Figure size 432x288 with 2 Axes>"
            ],
            "image/png": "[encoded data removed]"
          },
          "metadata": {
            "needs_background": "light"
          }
        },
        {
          "output_type": "display_data",
          "data": {
            "text/plain": [
              "<Figure size 432x288 with 2 Axes>"
            ],
            "image/png": "[encoded data removed]"
          },
          "metadata": {
            "needs_background": "light"
          }
        }
      ],
      "source": [
        "x, y = train_loader.__next__()\n",
        "\n",
        "for i in range(0,3):\n",
        "    image = x[i,0,:,:,0]\n",
        "    #mask = np.argmax(y[i], axis=2)\n",
        "    mask= y[i,0,:,:,0]\n",
        "    plt.subplot(1,2,1)\n",
        "    plt.imshow(image, cmap='gray')\n",
        "    plt.axis('off')\n",
        "    plt.subplot(1,2,2)\n",
        "    plt.imshow(mask, cmap='gray')\n",
        "    plt.axis('off')\n",
        "    plt.show()"
      ]
    },
    {
      "cell_type": "code",
      "source": [
        "x.shape"
      ],
      "metadata": {
        "colab": {
          "base_uri": "https://localhost:8080/"
        },
        "id": "7MzKDniQx7m_",
        "outputId": "3a91fd87-10c3-44f6-e881-4e494447faa9"
      },
      "execution_count": 9,
      "outputs": [
        {
          "output_type": "execute_result",
          "data": {
            "text/plain": [
              "TensorShape([4, 3, 256, 256, 1])"
            ]
          },
          "metadata": {},
          "execution_count": 9
        }
      ]
    },
    {
      "cell_type": "code",
      "source": [
        "y.shape\n"
      ],
      "metadata": {
        "colab": {
          "base_uri": "https://localhost:8080/"
        },
        "id": "yGTk5oU7x9nc",
        "outputId": "feb0cc31-d722-4fd7-93d0-029ec7a72f53"
      },
      "execution_count": 10,
      "outputs": [
        {
          "output_type": "execute_result",
          "data": {
            "text/plain": [
              "TensorShape([4, 1, 256, 256, 1])"
            ]
          },
          "metadata": {},
          "execution_count": 10
        }
      ]
    },
    {
      "cell_type": "code",
      "source": [
        "batch_size=4"
      ],
      "metadata": {
        "id": "SGu4uOebx_y_"
      },
      "execution_count": 11,
      "outputs": []
    },
    {
      "cell_type": "code",
      "execution_count": 12,
      "metadata": {
        "id": "0egJqf-Hxrta"
      },
      "outputs": [],
      "source": [
        "#Define the model metrcis and load model. \n",
        "\n",
        "num_train_imgs = len(os.listdir('/gdrive/MyDrive/adjustedROI/final_output/train_images/images'))\n",
        "num_val_images = len(os.listdir('/gdrive/MyDrive/adjustedROI/final_output/val_images/images'))\n",
        "steps_per_epoch = num_train_imgs//batch_size\n",
        "val_steps_per_epoch = num_val_images//batch_size\n"
      ]
    },
    {
      "cell_type": "code",
      "execution_count": 13,
      "metadata": {
        "id": "mR1HS97zxrrK"
      },
      "outputs": [],
      "source": [
        "import tensorflow as tf\n",
        "from tensorflow.keras.layers import Conv2D, TimeDistributed,Dropout,Input, Dense,\\\n",
        "    BatchNormalization, GRU, Layer, Flatten,MaxPooling2D, concatenate,Lambda\n",
        "from tensorflow.keras.regularizers import l2\n",
        "from tensorflow.keras.models import Model\n",
        "from tensorflow.keras.utils import plot_model\n",
        "from tensorflow.keras.optimizers import Adam\n",
        "from keras import layers\n",
        "from keras import models\n",
        "from tensorflow.python.keras.layers import ConvLSTM2D"
      ]
    },
    {
      "cell_type": "code",
      "execution_count": 14,
      "metadata": {
        "id": "E55fMYzUyAaa"
      },
      "outputs": [],
      "source": [
        "input_shape=(3,256,256,1)"
      ]
    },
    {
      "cell_type": "code",
      "execution_count": 15,
      "metadata": {
        "id": "lHLSqDDJxrom",
        "colab": {
          "base_uri": "https://localhost:8080/"
        },
        "outputId": "24ca5ce4-3711-47b3-f03d-369caada3532"
      },
      "outputs": [
        {
          "output_type": "stream",
          "name": "stdout",
          "text": [
            "Model: \"model\"\n",
            "__________________________________________________________________________________________________\n",
            " Layer (type)                   Output Shape         Param #     Connected to                     \n",
            "==================================================================================================\n",
            " input_1 (InputLayer)           [(None, 3, 256, 256  0           []                               \n",
            "                                , 1)]                                                             \n",
            "                                                                                                  \n",
            " time_distributed (TimeDistribu  (None, 3, 256, 256,  640        ['input_1[0][0]']                \n",
            " ted)                            64)                                                              \n",
            "                                                                                                  \n",
            " time_distributed_1 (TimeDistri  (None, 3, 256, 256,  256        ['time_distributed[0][0]']       \n",
            " buted)                          64)                                                              \n",
            "                                                                                                  \n",
            " time_distributed_2 (TimeDistri  (None, 3, 256, 256,  36928      ['time_distributed_1[0][0]']     \n",
            " buted)                          64)                                                              \n",
            "                                                                                                  \n",
            " time_distributed_3 (TimeDistri  (None, 3, 256, 256,  256        ['time_distributed_2[0][0]']     \n",
            " buted)                          64)                                                              \n",
            "                                                                                                  \n",
            " time_distributed_4 (TimeDistri  (None, 3, 128, 128,  0          ['time_distributed_3[0][0]']     \n",
            " buted)                          64)                                                              \n",
            "                                                                                                  \n",
            " time_distributed_5 (TimeDistri  (None, 3, 128, 128,  73856      ['time_distributed_4[0][0]']     \n",
            " buted)                          128)                                                             \n",
            "                                                                                                  \n",
            " time_distributed_6 (TimeDistri  (None, 3, 128, 128,  512        ['time_distributed_5[0][0]']     \n",
            " buted)                          128)                                                             \n",
            "                                                                                                  \n",
            " time_distributed_7 (TimeDistri  (None, 3, 128, 128,  147584     ['time_distributed_6[0][0]']     \n",
            " buted)                          128)                                                             \n",
            "                                                                                                  \n",
            " time_distributed_8 (TimeDistri  (None, 3, 128, 128,  512        ['time_distributed_7[0][0]']     \n",
            " buted)                          128)                                                             \n",
            "                                                                                                  \n",
            " time_distributed_9 (TimeDistri  (None, 3, 64, 64, 1  0          ['time_distributed_8[0][0]']     \n",
            " buted)                         28)                                                               \n",
            "                                                                                                  \n",
            " time_distributed_10 (TimeDistr  (None, 3, 64, 64, 2  295168     ['time_distributed_9[0][0]']     \n",
            " ibuted)                        56)                                                               \n",
            "                                                                                                  \n",
            " time_distributed_11 (TimeDistr  (None, 3, 64, 64, 2  1024       ['time_distributed_10[0][0]']    \n",
            " ibuted)                        56)                                                               \n",
            "                                                                                                  \n",
            " time_distributed_12 (TimeDistr  (None, 3, 64, 64, 2  590080     ['time_distributed_11[0][0]']    \n",
            " ibuted)                        56)                                                               \n",
            "                                                                                                  \n",
            " time_distributed_13 (TimeDistr  (None, 3, 64, 64, 2  1024       ['time_distributed_12[0][0]']    \n",
            " ibuted)                        56)                                                               \n",
            "                                                                                                  \n",
            " time_distributed_14 (TimeDistr  (None, 3, 32, 32, 2  0          ['time_distributed_13[0][0]']    \n",
            " ibuted)                        56)                                                               \n",
            "                                                                                                  \n",
            " bidirectional (Bidirectional)  (None, 3, 32, 32, 5  9439232     ['time_distributed_14[0][0]']    \n",
            "                                12)                                                               \n",
            "                                                                                                  \n",
            " time_distributed_15 (TimeDistr  (None, 3, 64, 64, 5  2359808    ['bidirectional[0][0]']          \n",
            " ibuted)                        12)                                                               \n",
            "                                                                                                  \n",
            " concatenate (Concatenate)      (None, 3, 64, 64, 7  0           ['time_distributed_15[0][0]',    \n",
            "                                68)                               'time_distributed_13[0][0]']    \n",
            "                                                                                                  \n",
            " time_distributed_16 (TimeDistr  (None, 3, 64, 64, 2  1769728    ['concatenate[0][0]']            \n",
            " ibuted)                        56)                                                               \n",
            "                                                                                                  \n",
            " time_distributed_17 (TimeDistr  (None, 3, 64, 64, 2  590080     ['time_distributed_16[0][0]']    \n",
            " ibuted)                        56)                                                               \n",
            "                                                                                                  \n",
            " time_distributed_18 (TimeDistr  (None, 3, 128, 128,  590080     ['time_distributed_17[0][0]']    \n",
            " ibuted)                         256)                                                             \n",
            "                                                                                                  \n",
            " concatenate_1 (Concatenate)    (None, 3, 128, 128,  0           ['time_distributed_18[0][0]',    \n",
            "                                 384)                             'time_distributed_7[0][0]']     \n",
            "                                                                                                  \n",
            " time_distributed_19 (TimeDistr  (None, 3, 128, 128,  442496     ['concatenate_1[0][0]']          \n",
            " ibuted)                         128)                                                             \n",
            "                                                                                                  \n",
            " time_distributed_20 (TimeDistr  (None, 3, 128, 128,  147584     ['time_distributed_19[0][0]']    \n",
            " ibuted)                         128)                                                             \n",
            "                                                                                                  \n",
            " time_distributed_21 (TimeDistr  (None, 3, 256, 256,  147584     ['time_distributed_20[0][0]']    \n",
            " ibuted)                         128)                                                             \n",
            "                                                                                                  \n",
            " concatenate_2 (Concatenate)    (None, 3, 256, 256,  0           ['time_distributed_21[0][0]',    \n",
            "                                 192)                             'time_distributed_2[0][0]']     \n",
            "                                                                                                  \n",
            " time_distributed_22 (TimeDistr  (None, 3, 256, 256,  110656     ['concatenate_2[0][0]']          \n",
            " ibuted)                         64)                                                              \n",
            "                                                                                                  \n",
            " bidirectional_1 (Bidirectional  (None, 256, 256, 64  221440     ['time_distributed_22[0][0]']    \n",
            " )                              )                                                                 \n",
            "                                                                                                  \n",
            " tf.expand_dims (TFOpLambda)    (None, 1, 256, 256,  0           ['bidirectional_1[0][0]']        \n",
            "                                 64)                                                              \n",
            "                                                                                                  \n",
            " conv2d_11 (Conv2D)             (None, 1, 256, 256,  65          ['tf.expand_dims[0][0]']         \n",
            "                                 1)                                                               \n",
            "                                                                                                  \n",
            "==================================================================================================\n",
            "Total params: 16,966,593\n",
            "Trainable params: 16,964,801\n",
            "Non-trainable params: 1,792\n",
            "__________________________________________________________________________________________________\n"
          ]
        }
      ],
      "source": [
        "input_l = layers.Input(shape=(input_shape))\n",
        "x =  (layers.TimeDistributed(layers.Conv2D( 64, kernel_size=(3, 3),padding='same',strides=(1,1),activation='relu' ) )) (input_l)\n",
        "x=layers.TimeDistributed(layers.BatchNormalization())(x)\n",
        "conv2 = layers.TimeDistributed( layers.Conv2D( 64, kernel_size=(3, 3),padding='same',strides=(1,1),activation='relu'  ) ) (x)\n",
        "x=layers.TimeDistributed(layers.BatchNormalization())(conv2)\n",
        "\n",
        "x=layers.TimeDistributed(layers.MaxPooling2D(pool_size=(2,2)))(x)\n",
        "x = layers.TimeDistributed( layers.Conv2D( 128, kernel_size=(3, 3),padding='same',strides=(1,1),activation='relu'   ) ) (x)\n",
        "x=layers.TimeDistributed(layers.BatchNormalization())(x)\n",
        "conv5 = layers.TimeDistributed( layers.Conv2D( 128, kernel_size=(3, 3),padding='same',strides=(1,1),activation='relu'   ) ) (x)\n",
        "x=layers.TimeDistributed(layers.BatchNormalization())(conv5)\n",
        "x=layers.TimeDistributed(layers.MaxPooling2D(pool_size=(2,2)))(x)\n",
        "x = layers.TimeDistributed( layers.Conv2D( 256, kernel_size=(3, 3),padding='same',strides=(1,1) ,activation='relu'  ) ) (x)\n",
        "x=layers.TimeDistributed(layers.BatchNormalization())(x)\n",
        "\n",
        "conv8 = layers.TimeDistributed( layers.Conv2D( 256, kernel_size=(3, 3),padding='same',strides=(1,1) ,activation='relu'  ) ) (x)\n",
        "conv8=layers.TimeDistributed(layers.BatchNormalization())(conv8)\n",
        "\n",
        "x=layers.TimeDistributed(layers.MaxPooling2D(pool_size=(2,2)))(conv8)\n",
        "\n",
        "x=layers.Bidirectional(layers.ConvLSTM2D(256,kernel_size=(3,3),padding='same',strides=(1,1),return_sequences=True,recurrent_dropout=0.2))(x)\n",
        "up1 = layers.TimeDistributed( layers.Conv2DTranspose( 512,kernel_size=(3,3),padding='same',strides=(2,2)))(x)\n",
        "concat1 = layers.concatenate([up1, conv8])\n",
        "x = layers.TimeDistributed( layers.Conv2D( 256, kernel_size=(3, 3),padding='same',strides=(1,1) ,activation='relu'  ) ) (concat1)\n",
        "x = layers.TimeDistributed( layers.Conv2D( 256, kernel_size=(3, 3),padding='same',strides=(1,1) ,activation='relu'  ) ) (x)\n",
        "up2 = layers.TimeDistributed( layers.Conv2DTranspose( 256,kernel_size=(3,3),padding='same',strides=(2,2)))(x)\n",
        "concat2 = layers.concatenate([up2, conv5])\n",
        "x = layers.TimeDistributed( layers.Conv2D( 128, kernel_size=(3, 3),padding='same',strides=(1,1),activation='relu'   ) ) (concat2)\n",
        "x = layers.TimeDistributed( layers.Conv2D( 128, kernel_size=(3, 3),padding='same',strides=(1,1) ,activation='relu'  ) ) (x)\n",
        "up3 = layers.TimeDistributed( layers.Conv2DTranspose( 128,kernel_size=(3,3),padding='same',strides=(2,2)))(x)\n",
        "concat3 = layers.concatenate([up3, conv2])\n",
        "x = layers.TimeDistributed( layers.Conv2D( 64, kernel_size=(3, 3),padding='same',strides=(1,1),activation='relu'   ) ) (concat3)\n",
        "x=layers.Bidirectional(layers.ConvLSTM2D(32,kernel_size=(3,3),padding='same',strides=(1,1),return_sequences=False,recurrent_dropout=0.2))(x)\n",
        "x=tf.expand_dims(x,axis=1)\n",
        "\n",
        "#out= layers.TimeDistributed( layers.Conv2D( 64, kernel_size=(1, 1),padding='same',strides=(1,1),activation='relu' ,  ) ) (x)\n",
        "#out = tf.reshape(out, (-1, 1, 256,256, 64))\n",
        "out = layers.Conv2D( 1, kernel_size=(1, 1),padding='same',strides=(1,1), activation='sigmoid' )  (x)\n",
        "\n",
        "\n",
        "model = models.Model(inputs=input_l, outputs=out)\n",
        "model.summary()"
      ]
    },
    {
      "cell_type": "code",
      "execution_count": 16,
      "metadata": {
        "id": "sXtohugbyH5O"
      },
      "outputs": [],
      "source": [
        "from keras import backend as K\n",
        "\n",
        "\n",
        "def dice_coefficient(y_true, y_pred, smooth=0.0001):\n",
        "    y_true_f = K.flatten(y_true)\n",
        "    y_pred_f = K.flatten(y_pred)\n",
        "\n",
        "    intersection = K.sum(y_true_f * y_pred_f)\n",
        "\n",
        "    return ((2. * intersection + smooth) / (K.sum(y_true_f) +\n",
        "            K.sum(y_pred_f) + smooth))\n",
        "\n",
        "\n",
        "def dice_coefficient_loss(y_true, y_pred):\n",
        "    return 1.0-dice_coefficient(y_true, y_pred)\n",
        "\n",
        "\n",
        "def iou_loss(y_true, y_pred):\n",
        "    return 1-iou(y_true, y_pred)\n",
        "\n",
        "def iou(y_true, y_pred):\n",
        "    intersection = K.sum(K.abs(y_true * y_pred))\n",
        "    sum_ = K.sum(K.square(y_true)) + K.sum(K.square(y_pred))\n",
        "    jac = (intersection) / (sum_ - intersection)\n",
        "    return jac"
      ]
    },
    {
      "cell_type": "code",
      "execution_count": 17,
      "metadata": {
        "id": "tH1F1TdsyKXJ"
      },
      "outputs": [],
      "source": [
        "LR = 5e-5\n",
        "optim = tf.keras.optimizers.Adam(LR)"
      ]
    },
    {
      "cell_type": "code",
      "execution_count": 18,
      "metadata": {
        "id": "fjnuViAjyKTt"
      },
      "outputs": [],
      "source": [
        "metrics=['Recall','Precision', dice_coefficient, 'binary_accuracy']\n"
      ]
    },
    {
      "cell_type": "code",
      "execution_count": 19,
      "metadata": {
        "id": "R_K5yDXeyKRH"
      },
      "outputs": [],
      "source": [
        "model.compile(optimizer=optim, loss=dice_coefficient_loss, metrics=metrics)\n"
      ]
    },
    {
      "cell_type": "code",
      "source": [
        "model_checkpoint_callback = tf.keras.callbacks.ModelCheckpoint(\n",
        "    filepath='/gdrive/MyDrive/chk/',\n",
        "    save_weights_only=True,\n",
        "    monitor='val_dice_coefficient',\n",
        "    mode='max',\n",
        "    save_best_only=True)\n"
      ],
      "metadata": {
        "id": "z764jz1IyMvO"
      },
      "execution_count": 20,
      "outputs": []
    },
    {
      "cell_type": "code",
      "execution_count": null,
      "metadata": {
        "colab": {
          "base_uri": "https://localhost:8080/"
        },
        "id": "S5pfqEChyVFd",
        "outputId": "5c63efbc-04cf-4269-f9de-dec80b893cf1"
      },
      "outputs": [
        {
          "output_type": "stream",
          "name": "stdout",
          "text": [
            "Epoch 1/15\n",
            "745/745 [==============================] - 1228s 2s/step - loss: 0.5634 - recall: 0.6276 - precision: 0.2839 - dice_coefficient: 0.4366 - binary_accuracy: 0.9489 - val_loss: 0.4989 - val_recall: 0.5414 - val_precision: 0.5673 - val_dice_coefficient: 0.5011 - val_binary_accuracy: 0.9703\n",
            "Epoch 2/15\n",
            "745/745 [==============================] - 1194s 2s/step - loss: 0.4691 - recall: 0.6647 - precision: 0.5590 - dice_coefficient: 0.5309 - binary_accuracy: 0.9772 - val_loss: 0.4095 - val_recall: 0.5169 - val_precision: 0.7687 - val_dice_coefficient: 0.5905 - val_binary_accuracy: 0.9768\n",
            "Epoch 3/15\n",
            "745/745 [==============================] - 1193s 2s/step - loss: 0.4146 - recall: 0.6824 - precision: 0.6310 - dice_coefficient: 0.5854 - binary_accuracy: 0.9805 - val_loss: 0.3863 - val_recall: 0.6110 - val_precision: 0.7104 - val_dice_coefficient: 0.6137 - val_binary_accuracy: 0.9789\n",
            "Epoch 4/15\n",
            "745/745 [==============================] - 1193s 2s/step - loss: 0.3862 - recall: 0.7061 - precision: 0.6694 - dice_coefficient: 0.6138 - binary_accuracy: 0.9816 - val_loss: 0.3735 - val_recall: 0.6048 - val_precision: 0.7737 - val_dice_coefficient: 0.6265 - val_binary_accuracy: 0.9805\n",
            "Epoch 5/15\n",
            "745/745 [==============================] - 1191s 2s/step - loss: 0.3991 - recall: 0.7105 - precision: 0.6616 - dice_coefficient: 0.6009 - binary_accuracy: 0.9823 - val_loss: 0.4009 - val_recall: 0.7248 - val_precision: 0.5988 - val_dice_coefficient: 0.5991 - val_binary_accuracy: 0.9732\n",
            "Epoch 6/15\n",
            "745/745 [==============================] - 1190s 2s/step - loss: 0.3788 - recall: 0.7040 - precision: 0.6911 - dice_coefficient: 0.6212 - binary_accuracy: 0.9828 - val_loss: 0.3491 - val_recall: 0.6238 - val_precision: 0.7723 - val_dice_coefficient: 0.6509 - val_binary_accuracy: 0.9792\n",
            "Epoch 7/15\n",
            "745/745 [==============================] - 1188s 2s/step - loss: 0.3796 - recall: 0.7219 - precision: 0.6809 - dice_coefficient: 0.6204 - binary_accuracy: 0.9826 - val_loss: 0.4020 - val_recall: 0.5775 - val_precision: 0.7308 - val_dice_coefficient: 0.5980 - val_binary_accuracy: 0.9789\n",
            "Epoch 8/15\n",
            "745/745 [==============================] - 1187s 2s/step - loss: 0.3749 - recall: 0.7309 - precision: 0.6984 - dice_coefficient: 0.6251 - binary_accuracy: 0.9842 - val_loss: 0.4572 - val_recall: 0.5070 - val_precision: 0.7216 - val_dice_coefficient: 0.5428 - val_binary_accuracy: 0.9772\n",
            "Epoch 9/15\n",
            "745/745 [==============================] - 1188s 2s/step - loss: 0.3732 - recall: 0.7194 - precision: 0.6995 - dice_coefficient: 0.6268 - binary_accuracy: 0.9840 - val_loss: 0.3791 - val_recall: 0.5403 - val_precision: 0.8209 - val_dice_coefficient: 0.6209 - val_binary_accuracy: 0.9794\n",
            "Epoch 10/15\n",
            "745/745 [==============================] - 1187s 2s/step - loss: 0.3580 - recall: 0.7314 - precision: 0.7211 - dice_coefficient: 0.6420 - binary_accuracy: 0.9844 - val_loss: 0.4274 - val_recall: 0.5069 - val_precision: 0.7902 - val_dice_coefficient: 0.5726 - val_binary_accuracy: 0.9801\n",
            "Epoch 11/15\n",
            "468/745 [=================>............] - ETA: 7:00 - loss: 0.3364 - recall: 0.7399 - precision: 0.7387 - dice_coefficient: 0.6636 - binary_accuracy: 0.9847"
          ]
        }
      ],
      "source": [
        "history=model.fit(train_loader,\n",
        "          steps_per_epoch=steps_per_epoch,\n",
        "          epochs=15,\n",
        "          verbose=1,\n",
        "          validation_data=val_loader,\n",
        "          callbacks=model_checkpoint_callback,\n",
        "\n",
        "    \n",
        "          validation_steps=val_steps_per_epoch)"
      ]
    },
    {
      "cell_type": "code",
      "execution_count": null,
      "metadata": {
        "id": "xOkiBfa1yYcZ"
      },
      "outputs": [],
      "source": []
    }
  ],
  "metadata": {
    "accelerator": "GPU",
    "colab": {
      "provenance": [],
      "authorship_tag": "ABX9TyMtG43Wu+rcdrwS1xiunckv",
      "include_colab_link": true
    },
    "kernelspec": {
      "display_name": "Python 3",
      "name": "python3"
    },
    "language_info": {
      "name": "python"
    }
  },
  "nbformat": 4,
  "nbformat_minor": 0
}