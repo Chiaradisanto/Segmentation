{
  "nbformat": 4,
  "nbformat_minor": 0,
  "metadata": {
    "colab": {
      "provenance": [],
      "authorship_tag": "ABX9TyOxdLpoDg75SByH693mdEt9",
      "include_colab_link": true
    },
    "kernelspec": {
      "name": "python3",
      "display_name": "Python 3"
    },
    "language_info": {
      "name": "python"
    }
  },
  "cells": [
    {
      "cell_type": "markdown",
      "metadata": {
        "id": "view-in-github",
        "colab_type": "text"
      },
      "source": [
        "<a href=\"https://colab.research.google.com/github/Chiaradisanto/Segmentation/blob/main/FinalCode.ipynb\" target=\"_parent\"><img src=\"https://colab.research.google.com/assets/colab-badge.svg\" alt=\"Open In Colab\"/></a>"
      ]
    },
    {
      "cell_type": "markdown",
      "source": [
        "###  **Save DICOM FILES as .png images**\n",
        "\n"
      ],
      "metadata": {
        "id": "gMO0iN8GRKKl"
      }
    },
    {
      "cell_type": "markdown",
      "source": [
        "Connect to Drive"
      ],
      "metadata": {
        "id": "JUgC825tO0b_"
      }
    },
    {
      "cell_type": "code",
      "source": [
        "from google.colab import drive\n",
        "drive.mount('/gdrive')"
      ],
      "metadata": {
        "id": "uKsop_XQpCzX"
      },
      "execution_count": null,
      "outputs": []
    },
    {
      "cell_type": "markdown",
      "source": [
        "\n",
        "\n",
        "Importing libraries\n"
      ],
      "metadata": {
        "id": "-KVe8M0YPNa0"
      }
    },
    {
      "cell_type": "code",
      "source": [
        "%matplotlib inline\n",
        "import numpy as np # linear algebra\n",
        "import pandas as pd \n",
        "import os\n",
        "import scipy.ndimage\n",
        "import matplotlib.pyplot as plt\n",
        "from matplotlib import pyplot as plt\n",
        "from  scipy import ndimage\n",
        "\n"
      ],
      "metadata": {
        "id": "5yGhk8jGPMz_"
      },
      "execution_count": null,
      "outputs": []
    },
    {
      "cell_type": "markdown",
      "source": [
        "Installing and importing module for reading and writing DICOM files"
      ],
      "metadata": {
        "id": "E5vxApOCPtEY"
      }
    },
    {
      "cell_type": "code",
      "source": [
        "!pip install pydicom\n",
        "import pydicom\n",
        "from pydicom import dcmread\n"
      ],
      "metadata": {
        "id": "2kM9yTPaPbCm"
      },
      "execution_count": null,
      "outputs": []
    },
    {
      "cell_type": "markdown",
      "source": [
        "**get_names** function takes as input the path of the selected subject containing the DICOM files \n",
        "\n"
      ],
      "metadata": {
        "id": "MrYANsJNP8Ra"
      }
    },
    {
      "cell_type": "code",
      "source": [
        "def get_names(path):\n",
        "    names = []\n",
        "    for root, dirnames, filenames in os.walk(path):\n",
        "        for filename in filenames:\n",
        "            _, ext = os.path.splitext(filename)\n",
        "            if ext in ['.dcm']:\n",
        "                names.append(filename)\n",
        "    return names"
      ],
      "metadata": {
        "id": "oDY57BbgP0ZB"
      },
      "execution_count": null,
      "outputs": []
    },
    {
      "cell_type": "markdown",
      "source": [
        "DICOM files are ordered with sort function. "
      ],
      "metadata": {
        "id": "kPBY1sH3ZVk1"
      }
    },
    {
      "cell_type": "code",
      "source": [
        "names = sorted(get_names(path))"
      ],
      "metadata": {
        "id": "ejgkxuCyQh4g"
      },
      "execution_count": null,
      "outputs": []
    },
    {
      "cell_type": "markdown",
      "source": [
        "A list containig all the DICOM files is created. \n",
        "This operation loads all DICOM images from the folder into a list for manipulation."
      ],
      "metadata": {
        "id": "LXr8DJRdZmUF"
      }
    },
    {
      "cell_type": "code",
      "source": [
        "files = []\n",
        "for x in names:\n",
        "        files.append(pydicom.dcmread(path+'/'+x))\n",
        "len(files)\n"
      ],
      "metadata": {
        "id": "MNzkC2keQi54"
      },
      "execution_count": null,
      "outputs": []
    },
    {
      "cell_type": "markdown",
      "source": [
        "Make sure that all the files contains SliceLocation in it. Otherwhise skip them\n",
        "\n"
      ],
      "metadata": {
        "id": "uNc1GT95e3ww"
      }
    },
    {
      "cell_type": "code",
      "source": [
        "slices = []\n",
        "skipcount = 0\n",
        "for f in files:\n",
        "    if hasattr(f, 'SliceLocation'):\n",
        "        slices.append(f)\n",
        "    else:\n",
        "        skipcount = skipcount + 1\n",
        "\n",
        "print(\"skipped, no SliceLocation: {}\".format(skipcount))"
      ],
      "metadata": {
        "id": "NzYvHGsEQqTc"
      },
      "execution_count": null,
      "outputs": []
    },
    {
      "cell_type": "markdown",
      "source": [
        "Slices are sorted according to SliceLocation"
      ],
      "metadata": {
        "id": "BfKGH68zdmhl"
      }
    },
    {
      "cell_type": "code",
      "source": [
        "slices = sorted(slices, key=lambda s: s.SliceLocation, reverse=True)  #reverse is True to sort in descending order\n"
      ],
      "metadata": {
        "id": "A8fccvymQvG-"
      },
      "execution_count": null,
      "outputs": []
    },
    {
      "cell_type": "markdown",
      "source": [
        "The voxel values in the images are raw. \n",
        "\n",
        "**dicom_HU** converts raw values into Houndsfeld units.\n",
        "This function takes as input all the slices of considered subject.\n",
        "The transformation is linear. \n",
        "\n",
        "Both the rescale intercept and rescale slope are stored in the DICOM header at the time of image acquisition.\n",
        "The final value is rescaled to HU.\n",
        "Windowing is then applied in order to adjust the grayscale level of the images.\n",
        "\n",
        "\n"
      ],
      "metadata": {
        "id": "wmbn9H5nb5Hb"
      }
    },
    {
      "cell_type": "code",
      "source": [
        "def dicom_HU(scan):\n",
        "    image = np.stack([s.pixel_array*s.RescaleSlope+s.RescaleIntercept for s in scan],axis=2).astype(np.int16) #\n",
        "\n",
        "    img_min = 120 - 120 // 2 #minimum HU level\n",
        "    img_max = 120 + 120 // 2 #maximum HU level\n",
        "    window_image = image.copy()\n",
        "\n",
        "    window_image[window_image < img_min] = img_min #set img_min for all HU levels less than minimum HU level\n",
        "    window_image[window_image > img_max] = img_max #set img_max for all HU levels higher than maximum HU level\n",
        "    plt.figure(figsize=(20, 10))\n",
        "  \n",
        "    plt.style.use('grayscale') \n",
        "    plt.imshow(window_image[:,:,0], cmap='gray')\n",
        "    plt.axis('off')\n",
        "    return  np.array(window_image)"
      ],
      "metadata": {
        "id": "Lf6iW_JeQ4vB"
      },
      "execution_count": null,
      "outputs": []
    },
    {
      "cell_type": "markdown",
      "source": [
        "Save as images in png format in a specific folder. A folder for each patient was created."
      ],
      "metadata": {
        "id": "99PJxyGNlKZf"
      }
    },
    {
      "cell_type": "code",
      "source": [
        "num_slices=len(files)\n",
        "for i in range(1,num_slices):\n",
        "    scan=dicom_HU(slices[i-1:i])\n",
        "    plt.axis('off')\n",
        "    plt.savefig(f\"{images_path}\"+str(i)+\".png\", bbox_inches='tight',pad_inches = 0,dpi=300, quality=95) #dpi represents the resolution in dots per inch.\n",
        "                                                                                                        # A high value results in a high resolution image.\n",
        "                                                                                                    \n",
        "                                                                                                        #quality represents the image quality\n",
        "                                                                                                        #on a scale from 1 (worst) to 95 (best).\n",
        "    plt.show()"
      ],
      "metadata": {
        "id": "YSn_n5l-RD5d"
      },
      "execution_count": null,
      "outputs": []
    },
    {
      "cell_type": "markdown",
      "source": [
        "These operations must be repeated for all the subjects changing the paths."
      ],
      "metadata": {
        "id": "dKqoj5faonaD"
      }
    }
  ]
}