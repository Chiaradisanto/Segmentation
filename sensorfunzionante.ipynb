{
  "nbformat": 4,
  "nbformat_minor": 0,
  "metadata": {
    "colab": {
      "name": "sensorfunzionante.ipynb",
      "provenance": [],
      "include_colab_link": true
    },
    "kernelspec": {
      "name": "python3",
      "display_name": "Python 3"
    },
    "language_info": {
      "name": "python"
    },
    "accelerator": "GPU"
  },
  "cells": [
    {
      "cell_type": "markdown",
      "metadata": {
        "id": "view-in-github",
        "colab_type": "text"
      },
      "source": [
        "<a href=\"https://colab.research.google.com/github/Chiaradisanto/Segmentation/blob/main/sensorfunzionante.ipynb\" target=\"_parent\"><img src=\"https://colab.research.google.com/assets/colab-badge.svg\" alt=\"Open In Colab\"/></a>"
      ]
    },
    {
      "cell_type": "code",
      "execution_count": 1,
      "metadata": {
        "colab": {
          "base_uri": "https://localhost:8080/"
        },
        "id": "kddQIh15wLtP",
        "outputId": "97feb2ab-3318-4b1d-9879-24b3706b4e33"
      },
      "outputs": [
        {
          "output_type": "stream",
          "name": "stdout",
          "text": [
            "Drive already mounted at /gdrive; to attempt to forcibly remount, call drive.mount(\"/gdrive\", force_remount=True).\n"
          ]
        }
      ],
      "source": [
        "from google.colab import drive\n",
        "drive.mount('/gdrive')"
      ]
    },
    {
      "cell_type": "code",
      "source": [
        "import tensorflow as tf"
      ],
      "metadata": {
        "id": "3hvbY-M_wf0q"
      },
      "execution_count": 2,
      "outputs": []
    },
    {
      "cell_type": "code",
      "source": [
        "!pip install focal_loss"
      ],
      "metadata": {
        "id": "hASfcxKaw4eb",
        "outputId": "082a21a6-1554-4160-b81f-d50ea4d52621",
        "colab": {
          "base_uri": "https://localhost:8080/"
        }
      },
      "execution_count": 3,
      "outputs": [
        {
          "output_type": "stream",
          "name": "stdout",
          "text": [
            "Requirement already satisfied: focal_loss in /usr/local/lib/python3.7/dist-packages (0.0.7)\n",
            "Requirement already satisfied: tensorflow>=2.2 in /usr/local/lib/python3.7/dist-packages (from focal_loss) (2.8.0)\n",
            "Requirement already satisfied: setuptools in /usr/local/lib/python3.7/dist-packages (from tensorflow>=2.2->focal_loss) (57.4.0)\n",
            "Requirement already satisfied: six>=1.12.0 in /usr/local/lib/python3.7/dist-packages (from tensorflow>=2.2->focal_loss) (1.15.0)\n",
            "Requirement already satisfied: typing-extensions>=3.6.6 in /usr/local/lib/python3.7/dist-packages (from tensorflow>=2.2->focal_loss) (4.2.0)\n",
            "Requirement already satisfied: grpcio<2.0,>=1.24.3 in /usr/local/lib/python3.7/dist-packages (from tensorflow>=2.2->focal_loss) (1.44.0)\n",
            "Requirement already satisfied: keras<2.9,>=2.8.0rc0 in /usr/local/lib/python3.7/dist-packages (from tensorflow>=2.2->focal_loss) (2.8.0)\n",
            "Requirement already satisfied: protobuf>=3.9.2 in /usr/local/lib/python3.7/dist-packages (from tensorflow>=2.2->focal_loss) (3.17.3)\n",
            "Requirement already satisfied: absl-py>=0.4.0 in /usr/local/lib/python3.7/dist-packages (from tensorflow>=2.2->focal_loss) (1.0.0)\n",
            "Requirement already satisfied: h5py>=2.9.0 in /usr/local/lib/python3.7/dist-packages (from tensorflow>=2.2->focal_loss) (3.1.0)\n",
            "Requirement already satisfied: flatbuffers>=1.12 in /usr/local/lib/python3.7/dist-packages (from tensorflow>=2.2->focal_loss) (2.0)\n",
            "Requirement already satisfied: gast>=0.2.1 in /usr/local/lib/python3.7/dist-packages (from tensorflow>=2.2->focal_loss) (0.5.3)\n",
            "Requirement already satisfied: wrapt>=1.11.0 in /usr/local/lib/python3.7/dist-packages (from tensorflow>=2.2->focal_loss) (1.14.0)\n",
            "Requirement already satisfied: termcolor>=1.1.0 in /usr/local/lib/python3.7/dist-packages (from tensorflow>=2.2->focal_loss) (1.1.0)\n",
            "Requirement already satisfied: keras-preprocessing>=1.1.1 in /usr/local/lib/python3.7/dist-packages (from tensorflow>=2.2->focal_loss) (1.1.2)\n",
            "Requirement already satisfied: astunparse>=1.6.0 in /usr/local/lib/python3.7/dist-packages (from tensorflow>=2.2->focal_loss) (1.6.3)\n",
            "Requirement already satisfied: google-pasta>=0.1.1 in /usr/local/lib/python3.7/dist-packages (from tensorflow>=2.2->focal_loss) (0.2.0)\n",
            "Requirement already satisfied: opt-einsum>=2.3.2 in /usr/local/lib/python3.7/dist-packages (from tensorflow>=2.2->focal_loss) (3.3.0)\n",
            "Requirement already satisfied: numpy>=1.20 in /usr/local/lib/python3.7/dist-packages (from tensorflow>=2.2->focal_loss) (1.21.6)\n",
            "Requirement already satisfied: tensorboard<2.9,>=2.8 in /usr/local/lib/python3.7/dist-packages (from tensorflow>=2.2->focal_loss) (2.8.0)\n",
            "Requirement already satisfied: tensorflow-io-gcs-filesystem>=0.23.1 in /usr/local/lib/python3.7/dist-packages (from tensorflow>=2.2->focal_loss) (0.25.0)\n",
            "Requirement already satisfied: tf-estimator-nightly==2.8.0.dev2021122109 in /usr/local/lib/python3.7/dist-packages (from tensorflow>=2.2->focal_loss) (2.8.0.dev2021122109)\n",
            "Requirement already satisfied: libclang>=9.0.1 in /usr/local/lib/python3.7/dist-packages (from tensorflow>=2.2->focal_loss) (14.0.1)\n",
            "Requirement already satisfied: wheel<1.0,>=0.23.0 in /usr/local/lib/python3.7/dist-packages (from astunparse>=1.6.0->tensorflow>=2.2->focal_loss) (0.37.1)\n",
            "Requirement already satisfied: cached-property in /usr/local/lib/python3.7/dist-packages (from h5py>=2.9.0->tensorflow>=2.2->focal_loss) (1.5.2)\n",
            "Requirement already satisfied: tensorboard-data-server<0.7.0,>=0.6.0 in /usr/local/lib/python3.7/dist-packages (from tensorboard<2.9,>=2.8->tensorflow>=2.2->focal_loss) (0.6.1)\n",
            "Requirement already satisfied: werkzeug>=0.11.15 in /usr/local/lib/python3.7/dist-packages (from tensorboard<2.9,>=2.8->tensorflow>=2.2->focal_loss) (1.0.1)\n",
            "Requirement already satisfied: google-auth<3,>=1.6.3 in /usr/local/lib/python3.7/dist-packages (from tensorboard<2.9,>=2.8->tensorflow>=2.2->focal_loss) (1.35.0)\n",
            "Requirement already satisfied: requests<3,>=2.21.0 in /usr/local/lib/python3.7/dist-packages (from tensorboard<2.9,>=2.8->tensorflow>=2.2->focal_loss) (2.23.0)\n",
            "Requirement already satisfied: markdown>=2.6.8 in /usr/local/lib/python3.7/dist-packages (from tensorboard<2.9,>=2.8->tensorflow>=2.2->focal_loss) (3.3.6)\n",
            "Requirement already satisfied: tensorboard-plugin-wit>=1.6.0 in /usr/local/lib/python3.7/dist-packages (from tensorboard<2.9,>=2.8->tensorflow>=2.2->focal_loss) (1.8.1)\n",
            "Requirement already satisfied: google-auth-oauthlib<0.5,>=0.4.1 in /usr/local/lib/python3.7/dist-packages (from tensorboard<2.9,>=2.8->tensorflow>=2.2->focal_loss) (0.4.6)\n",
            "Requirement already satisfied: cachetools<5.0,>=2.0.0 in /usr/local/lib/python3.7/dist-packages (from google-auth<3,>=1.6.3->tensorboard<2.9,>=2.8->tensorflow>=2.2->focal_loss) (4.2.4)\n",
            "Requirement already satisfied: pyasn1-modules>=0.2.1 in /usr/local/lib/python3.7/dist-packages (from google-auth<3,>=1.6.3->tensorboard<2.9,>=2.8->tensorflow>=2.2->focal_loss) (0.2.8)\n",
            "Requirement already satisfied: rsa<5,>=3.1.4 in /usr/local/lib/python3.7/dist-packages (from google-auth<3,>=1.6.3->tensorboard<2.9,>=2.8->tensorflow>=2.2->focal_loss) (4.8)\n",
            "Requirement already satisfied: requests-oauthlib>=0.7.0 in /usr/local/lib/python3.7/dist-packages (from google-auth-oauthlib<0.5,>=0.4.1->tensorboard<2.9,>=2.8->tensorflow>=2.2->focal_loss) (1.3.1)\n",
            "Requirement already satisfied: importlib-metadata>=4.4 in /usr/local/lib/python3.7/dist-packages (from markdown>=2.6.8->tensorboard<2.9,>=2.8->tensorflow>=2.2->focal_loss) (4.11.3)\n",
            "Requirement already satisfied: zipp>=0.5 in /usr/local/lib/python3.7/dist-packages (from importlib-metadata>=4.4->markdown>=2.6.8->tensorboard<2.9,>=2.8->tensorflow>=2.2->focal_loss) (3.8.0)\n",
            "Requirement already satisfied: pyasn1<0.5.0,>=0.4.6 in /usr/local/lib/python3.7/dist-packages (from pyasn1-modules>=0.2.1->google-auth<3,>=1.6.3->tensorboard<2.9,>=2.8->tensorflow>=2.2->focal_loss) (0.4.8)\n",
            "Requirement already satisfied: urllib3!=1.25.0,!=1.25.1,<1.26,>=1.21.1 in /usr/local/lib/python3.7/dist-packages (from requests<3,>=2.21.0->tensorboard<2.9,>=2.8->tensorflow>=2.2->focal_loss) (1.24.3)\n",
            "Requirement already satisfied: certifi>=2017.4.17 in /usr/local/lib/python3.7/dist-packages (from requests<3,>=2.21.0->tensorboard<2.9,>=2.8->tensorflow>=2.2->focal_loss) (2021.10.8)\n",
            "Requirement already satisfied: chardet<4,>=3.0.2 in /usr/local/lib/python3.7/dist-packages (from requests<3,>=2.21.0->tensorboard<2.9,>=2.8->tensorflow>=2.2->focal_loss) (3.0.4)\n",
            "Requirement already satisfied: idna<3,>=2.5 in /usr/local/lib/python3.7/dist-packages (from requests<3,>=2.21.0->tensorboard<2.9,>=2.8->tensorflow>=2.2->focal_loss) (2.10)\n",
            "Requirement already satisfied: oauthlib>=3.0.0 in /usr/local/lib/python3.7/dist-packages (from requests-oauthlib>=0.7.0->google-auth-oauthlib<0.5,>=0.4.1->tensorboard<2.9,>=2.8->tensorflow>=2.2->focal_loss) (3.2.0)\n"
          ]
        }
      ]
    },
    {
      "cell_type": "code",
      "source": [
        "from focal_loss import BinaryFocalLoss"
      ],
      "metadata": {
        "id": "rMVS0b8Gwq2v"
      },
      "execution_count": 4,
      "outputs": []
    },
    {
      "cell_type": "code",
      "source": [
        "# https://github.com/kivijoshi/TimeDistributedImageDataGenerator\n",
        "import os\n",
        "import sys\n",
        "\n",
        "import tensorflow as tf\n",
        "from tensorflow import keras\n",
        "from tensorflow.keras.preprocessing.image import ImageDataGenerator\n",
        "import types\n",
        "import numpy as np\n",
        "from tensorflow.keras.preprocessing.image import array_to_img, img_to_array, load_img\n",
        "from tensorflow.keras.preprocessing.image import DirectoryIterator\n",
        "\n",
        "class TimeDistributedImageDataGenerator(ImageDataGenerator):\n",
        "    def __init__(self,\n",
        "                 featurewise_center=False,\n",
        "                 samplewise_center=False,\n",
        "                 featurewise_std_normalization=False,\n",
        "                 samplewise_std_normalization=False,\n",
        "                 zca_whitening=False,\n",
        "                 zca_epsilon=1e-6,\n",
        "                 rotation_range=0,\n",
        "                 width_shift_range=0.,\n",
        "                 height_shift_range=0.,\n",
        "                 brightness_range=None,\n",
        "                 shear_range=0.,\n",
        "                 zoom_range=0.,\n",
        "                 channel_shift_range=0.,\n",
        "                 fill_mode='nearest',\n",
        "                 cval=0.,\n",
        "                 horizontal_flip=False,\n",
        "                 vertical_flip=False,\n",
        "                 rescale=None,\n",
        "                 preprocessing_function=None,\n",
        "                 data_format='channels_last',\n",
        "                 validation_split=0.0,\n",
        "                 # interpolation_order=1,\n",
        "                 dtype='float32',\n",
        "                 time_steps = 5):\n",
        "\n",
        "                 self.time_steps = time_steps\n",
        "\n",
        "                 super().__init__(featurewise_center=featurewise_center,\n",
        "                                  samplewise_center=samplewise_center,\n",
        "                                  featurewise_std_normalization=featurewise_std_normalization,\n",
        "                                  samplewise_std_normalization=samplewise_std_normalization,\n",
        "                                  zca_whitening=zca_whitening,\n",
        "                                  zca_epsilon=zca_epsilon,\n",
        "                                  rotation_range=rotation_range,\n",
        "                                  width_shift_range=width_shift_range,\n",
        "                                  height_shift_range=height_shift_range,\n",
        "                                  brightness_range=brightness_range,\n",
        "                                  shear_range=shear_range,\n",
        "                                  zoom_range=zoom_range,\n",
        "                                  channel_shift_range=channel_shift_range,\n",
        "                                  fill_mode=fill_mode,\n",
        "                                  cval=cval,\n",
        "                                  horizontal_flip=horizontal_flip,\n",
        "                                  vertical_flip=vertical_flip,\n",
        "                                  rescale=rescale,\n",
        "                                  preprocessing_function=preprocessing_function,\n",
        "                                  data_format=data_format,\n",
        "                                  validation_split=validation_split,\n",
        "                                  # interpolation_order=interpolation_order,\n",
        "                                  dtype=dtype)\n",
        "    \"\"\"Takes the path to a directory & generates batches of augmented data.\n",
        "        # Arguments\n",
        "            directory: string, path to the target directory.\n",
        "                It should contain one subdirectory per class.\n",
        "                Any PNG, JPG, BMP, PPM or TIF images\n",
        "                inside each of the subdirectories directory tree\n",
        "                will be included in the generator.\n",
        "                See [this script](\n",
        "                https://gist.github.com/fchollet/0830affa1f7f19fd47b06d4cf89ed44d)\n",
        "                for more details.\n",
        "            target_size: Tuple of integers `(height, width)`,\n",
        "                default: `(256, 256)`.\n",
        "                The dimensions to which all images found will be resized.\n",
        "            color_mode: One of \"grayscale\", \"rgb\", \"rgba\". Default: \"rgb\".\n",
        "                Whether the images will be converted to\n",
        "                have 1, 3, or 4 channels.\n",
        "            classes: Optional list of class subdirectories\n",
        "                (e.g. `['dogs', 'cats']`). Default: None.\n",
        "                If not provided, the list of classes will be automatically\n",
        "                inferred from the subdirectory names/structure\n",
        "                under `directory`, where each subdirectory will\n",
        "                be treated as a different class\n",
        "                (and the order of the classes, which will map to the label\n",
        "                indices, will be alphanumeric).\n",
        "                The dictionary containing the mapping from class names to class\n",
        "                indices can be obtained via the attribute `class_indices`.\n",
        "            class_mode: One of \"categorical\", \"binary\", \"sparse\",\n",
        "                \"input\", or None. Default: \"categorical\".\n",
        "                Determines the type of label arrays that are returned:\n",
        "                - \"categorical\" will be 2D one-hot encoded labels,\n",
        "                - \"binary\" will be 1D binary labels,\n",
        "                    \"sparse\" will be 1D integer labels,\n",
        "                - \"input\" will be images identical\n",
        "                    to input images (mainly used to work with autoencoders).\n",
        "                - If None, no labels are returned\n",
        "                  (the generator will only yield batches of image data,\n",
        "                  which is useful to use with `model.predict_generator()`).\n",
        "                  Please note that in case of class_mode None,\n",
        "                  the data still needs to reside in a subdirectory\n",
        "                  of `directory` for it to work correctly.\n",
        "            batch_size: Size of the batches of data (default: 32).\n",
        "            shuffle: Whether to shuffle the data (default: True)\n",
        "                If set to False, sorts the data in alphanumeric order.\n",
        "            seed: Optional random seed for shuffling and transformations.\n",
        "            save_to_dir: None or str (default: None).\n",
        "                This allows you to optionally specify\n",
        "                a directory to which to save\n",
        "                the augmented pictures being generated\n",
        "                (useful for visualizing what you are doing).\n",
        "            save_prefix: Str. Prefix to use for filenames of saved pictures\n",
        "                (only relevant if `save_to_dir` is set).\n",
        "            save_format: One of \"png\", \"jpeg\"\n",
        "                (only relevant if `save_to_dir` is set). Default: \"png\".\n",
        "            follow_links: Whether to follow symlinks inside\n",
        "                class subdirectories (default: False).\n",
        "            subset: Subset of data (`\"training\"` or `\"validation\"`) if\n",
        "                `validation_split` is set in `ImageDataGenerator`.\n",
        "            interpolation: Interpolation method used to\n",
        "                resample the image if the\n",
        "                target size is different from that of the loaded image.\n",
        "                Supported methods are `\"nearest\"`, `\"bilinear\"`,\n",
        "                and `\"bicubic\"`.\n",
        "                If PIL version 1.1.3 or newer is installed, `\"lanczos\"` is also\n",
        "                supported. If PIL version 3.4.0 or newer is installed,\n",
        "                `\"box\"` and `\"hamming\"` are also supported.\n",
        "                By default, `\"nearest\"` is used.\n",
        "        # Returns\n",
        "            A `DirectoryIterator` yielding tuples of `(x, y)`\n",
        "                where `x` is a numpy array containing a batch\n",
        "                of images with shape `(batch_size, *target_size, channels)`\n",
        "                and `y` is a numpy array of corresponding labels.\n",
        "        \"\"\"\n",
        "\n",
        "    def flow_from_directory(self,\n",
        "                            directory,\n",
        "                            target_size=(256, 256),\n",
        "                            color_mode='rgb',\n",
        "                            classes=None,\n",
        "                            class_mode='categorical',\n",
        "                            batch_size=32,\n",
        "                            shuffle=True,\n",
        "                            seed=None,\n",
        "                            save_to_dir=None,\n",
        "                            save_prefix='',\n",
        "                            save_format='png',\n",
        "                            follow_links=False,\n",
        "                            subset=None,\n",
        "                            interpolation='nearest'):\n",
        "\n",
        "        return TimeDistributedDirectoryIterator(\n",
        "            directory,\n",
        "            self,\n",
        "            target_size=target_size,\n",
        "            color_mode=color_mode,\n",
        "            classes=classes,\n",
        "            class_mode=class_mode,\n",
        "            data_format=self.data_format,\n",
        "            batch_size=batch_size,\n",
        "            shuffle=shuffle,\n",
        "            seed=seed,\n",
        "            save_to_dir=save_to_dir,\n",
        "            save_prefix=save_prefix,\n",
        "            save_format=save_format,\n",
        "            follow_links=follow_links,\n",
        "            subset=subset,\n",
        "            interpolation=interpolation\n",
        "        )\n",
        "        \n",
        "\n",
        "\n",
        "class TimeDistributedDirectoryIterator(DirectoryIterator):\n",
        "\n",
        "    def _get_batches_of_transformed_samples(self, index_array):\n",
        "        \"\"\"Gets a batch of transformed samples.\n",
        "        # Arguments\n",
        "            index_array: Array of sample indices to include in batch.\n",
        "        # Returns\n",
        "            A batch of transformed samples.\n",
        "        \"\"\"\n",
        "        TimeSteps = self.image_data_generator.time_steps\n",
        "        batch_x = np.zeros((len(index_array),) + (TimeSteps,) + self.image_shape, dtype=self.dtype)#KJ\n",
        "        # build batch of image data\n",
        "        # self.filepaths is dynamic, is better to call it once outside the loop\n",
        "        filepaths = self.filepaths\n",
        "        for i, j in enumerate(index_array):\n",
        "            for k in reversed(range(0,TimeSteps)):\n",
        "                try:\n",
        "                    img = load_img(filepaths[j-k],\n",
        "                                color_mode=self.color_mode,\n",
        "                                target_size=self.target_size,\n",
        "                                interpolation=self.interpolation)\n",
        "                    x = img_to_array(img, data_format=self.data_format)\n",
        "                except:\n",
        "                    print(\"Unexpected error:\", sys.exc_info())\n",
        "                    pass\n",
        "                # Pillow images should be closed after `load_img`,\n",
        "                # but not PIL images.\n",
        "                if hasattr(img, 'close'):\n",
        "                    img.close()\n",
        "                if self.image_data_generator:\n",
        "                    params = self.image_data_generator.get_random_transform(x.shape)\n",
        "                    x = self.image_data_generator.apply_transform(x, params)\n",
        "                    x = self.image_data_generator.standardize(x)\n",
        "                batch_x[i][k] = x\n",
        "        # optionally save augmented images to disk for debugging purposes\n",
        "        if self.save_to_dir:\n",
        "            for i, j in enumerate(index_array):\n",
        "                img = array_to_img(batch_x[i], self.data_format, scale=True)\n",
        "                fname = '{prefix}_{index}_{hash}.{format}'.format(\n",
        "                    prefix=self.save_prefix,\n",
        "                    index=j,\n",
        "                    hash=np.random.randint(1e7),\n",
        "                    format=self.save_format)\n",
        "                img.save(os.path.join(self.save_to_dir, fname))\n",
        "        # build batch of labels\n",
        "        if self.class_mode == 'input':\n",
        "            batch_y = batch_x.copy()\n",
        "        elif self.class_mode in {'binary', 'sparse'}:\n",
        "            batch_y = np.empty(len(batch_x), dtype=self.dtype)\n",
        "            for i, n_observation in enumerate(index_array):\n",
        "                batch_y[i] = self.classes[n_observation]\n",
        "        elif self.class_mode == 'categorical':\n",
        "            batch_y = np.zeros((len(batch_x), TimeSteps, len(self.class_indices)),\n",
        "                               dtype=self.dtype)\n",
        "            for i, n_observation in enumerate(index_array):\n",
        "                for q in reversed(range(0,TimeSteps)):\n",
        "                    batch_y[i,q,self.classes[n_observation-q]] = 1.\n",
        "        elif self.class_mode == 'multi_output':\n",
        "            batch_y = [output[index_array] for output in self.labels]\n",
        "        elif self.class_mode == 'raw':\n",
        "            batch_y = self.labels[index_array]\n",
        "        else:\n",
        "            return batch_x\n",
        "        if self.sample_weight is None:\n",
        "            return batch_x, batch_y\n",
        "        else:\n",
        "            return batch_x, batch_y, self.sample_weight[index_array]"
      ],
      "metadata": {
        "id": "3K_9DYIxZzcW"
      },
      "execution_count": 5,
      "outputs": []
    },
    {
      "cell_type": "code",
      "source": [
        ""
      ],
      "metadata": {
        "id": "CI8jxNP6wQn2"
      },
      "execution_count": 5,
      "outputs": []
    },
    {
      "cell_type": "code",
      "source": [
        ""
      ],
      "metadata": {
        "id": "H0iY2ZOi4SNP"
      },
      "execution_count": 5,
      "outputs": []
    },
    {
      "cell_type": "code",
      "source": [
        "seed=24\n",
        "batch_size= 3\n",
        "n_classes=1\n",
        "\n",
        "\n",
        "\n",
        "\n",
        "#Define the generator.\n",
        "#We are not doing any rotation or zoom to make sure mask values are not interpolated.\n",
        "#It is important to keep pixel values in mask as 0, 1, 2, 3, .....\n",
        "def trainGenerator(train_img_path, train_mask_path):\n",
        "    \n",
        "    img_data_gen_args = dict(horizontal_flip=True,\n",
        "                      vertical_flip=True,\n",
        "                      time_steps=3,\n",
        "                      fill_mode='reflect',\n",
        "                      width_shift_range=0.3,\n",
        "                      height_shift_range=0.3,\n",
        "                      shear_range=0.5,\n",
        "                     \n",
        "            \n",
        "                      \n",
        "                      rescale=1/255.)\n",
        "    \n",
        "    image_datagen = TimeDistributedImageDataGenerator(**img_data_gen_args)\n",
        "    mask_datagen = TimeDistributedImageDataGenerator(**img_data_gen_args)\n",
        "   \n",
        "    \n",
        "    image_generator = image_datagen.flow_from_directory(\n",
        "        train_img_path,\n",
        "        class_mode = None,\n",
        "        color_mode = 'grayscale',\n",
        "        target_size=(256,256),\n",
        "        batch_size = batch_size,\n",
        "        \n",
        "        seed = seed)\n",
        "    \n",
        "    mask_generator = mask_datagen.flow_from_directory(\n",
        "        train_mask_path,\n",
        "        class_mode = None ,\n",
        "        color_mode = 'grayscale',\n",
        "        target_size=(256,256),\n",
        "        batch_size = batch_size,\n",
        "    \n",
        "        seed = seed)\n",
        "    \n",
        "    train_generator = zip(image_generator, mask_generator)\n",
        "    return train_generator"
      ],
      "metadata": {
        "id": "MJfwYuU2wauT"
      },
      "execution_count": 6,
      "outputs": []
    },
    {
      "cell_type": "code",
      "source": [
        "train_img_path = \"/gdrive/MyDrive/output/train/train_images\"\n",
        "train_mask_path = \"/gdrive/MyDrive/output/train/train_masks\"\n",
        "train_img_gen = trainGenerator(train_img_path, train_mask_path)\n",
        "\n",
        "val_img_path = \"/gdrive/MyDrive/outputPNG/val_images\"\n",
        "val_mask_path = \"/gdrive/MyDrive/outputPNG/val_masks\"\n",
        "val_img_gen = trainGenerator(val_img_path, val_mask_path)"
      ],
      "metadata": {
        "colab": {
          "base_uri": "https://localhost:8080/"
        },
        "id": "vZRFl4-awfIJ",
        "outputId": "63d07575-e44c-49e5-c830-18c6941f5fba"
      },
      "execution_count": 7,
      "outputs": [
        {
          "output_type": "stream",
          "name": "stdout",
          "text": [
            "Found 2942 images belonging to 1 classes.\n",
            "Found 2942 images belonging to 1 classes.\n",
            "Found 318 images belonging to 1 classes.\n",
            "Found 318 images belonging to 1 classes.\n"
          ]
        }
      ]
    },
    {
      "cell_type": "code",
      "source": [
        "from matplotlib import pyplot as plt"
      ],
      "metadata": {
        "id": "nocxk1bX6L4Y"
      },
      "execution_count": 8,
      "outputs": []
    },
    {
      "cell_type": "code",
      "source": [
        "x, y = train_img_gen.__next__()\n",
        "\n",
        "for i in range(0,3):\n",
        "    image = x[0,i,:,:,0]\n",
        "    #mask = np.argmax(y[i], axis=2)\n",
        "    mask= y[0,i,:,:,0]\n",
        "    plt.subplot(1,2,1)\n",
        "    plt.imshow(image, cmap='gray')\n",
        "    plt.axis('off')\n",
        "    plt.subplot(1,2,2)\n",
        "    plt.imshow(mask, cmap='gray')\n",
        "    plt.axis('off')\n",
        "    plt.show()"
      ],
      "metadata": {
        "id": "CTpwKdWY6H5v",
        "outputId": "0dc84fe3-3594-463d-d256-0017d2545fd3",
        "colab": {
          "base_uri": "https://localhost:8080/",
          "height": 515
        }
      },
      "execution_count": 9,
      "outputs": [
        {
          "output_type": "display_data",
          "data": {
            "text/plain": [
              "<Figure size 432x288 with 2 Axes>"
            ],
            "image/png": "[encoded data removed]"
          },
          "metadata": {
            "needs_background": "light"
          }
        },
        {
          "output_type": "display_data",
          "data": {
            "text/plain": [
              "<Figure size 432x288 with 2 Axes>"
            ],
            "image/png": "[encoded data removed]"
          },
          "metadata": {
            "needs_background": "light"
          }
        },
        {
          "output_type": "display_data",
          "data": {
            "text/plain": [
              "<Figure size 432x288 with 2 Axes>"
            ],
            "image/png": "[encoded data removed]"
          },
          "metadata": {
            "needs_background": "light"
          }
        }
      ]
    },
    {
      "cell_type": "code",
      "source": [
        "x.max()"
      ],
      "metadata": {
        "colab": {
          "base_uri": "https://localhost:8080/"
        },
        "id": "uxVgcJhHwkVq",
        "outputId": "0804372d-7a63-4469-93ac-0e1aeabd38e2"
      },
      "execution_count": 10,
      "outputs": [
        {
          "output_type": "execute_result",
          "data": {
            "text/plain": [
              "0.98051906"
            ]
          },
          "metadata": {},
          "execution_count": 10
        }
      ]
    },
    {
      "cell_type": "code",
      "source": [
        "#Define the model metrcis and load model. \n",
        "\n",
        "num_train_imgs = len(os.listdir('/gdrive/MyDrive/output/train/train_images/images'))\n",
        "num_val_images = len(os.listdir('/gdrive/MyDrive/output/train/val_images/images'))\n",
        "steps_per_epoch = num_train_imgs//batch_size\n",
        "val_steps_per_epoch = num_val_images//batch_size\n",
        "\n",
        "steps=x.shape[0]\n",
        "IMG_HEIGHT = x.shape[1]\n",
        "IMG_WIDTH  = x.shape[2]\n",
        "IMG_CHANNELS = x.shape[3]\n",
        "input_shape = (steps,IMG_HEIGHT, IMG_WIDTH, IMG_CHANNELS)\n",
        "print(input_shape)"
      ],
      "metadata": {
        "colab": {
          "base_uri": "https://localhost:8080/"
        },
        "id": "OEIHvdK5wnwt",
        "outputId": "c9c64b26-233f-4813-a759-e17e64eea65e"
      },
      "execution_count": 11,
      "outputs": [
        {
          "output_type": "stream",
          "name": "stdout",
          "text": [
            "(3, 3, 256, 256)\n"
          ]
        }
      ]
    },
    {
      "cell_type": "code",
      "source": [
        "import tensorflow as tf"
      ],
      "metadata": {
        "id": "Iuxk1oOnwsYQ"
      },
      "execution_count": 12,
      "outputs": []
    },
    {
      "cell_type": "code",
      "source": [
        "time_steps = 3\n",
        "img_height = 256\n",
        "img_width = 256\n",
        "channels = 1"
      ],
      "metadata": {
        "id": "jvbZG9x5wvjn"
      },
      "execution_count": 13,
      "outputs": []
    },
    {
      "cell_type": "code",
      "source": [
        ""
      ],
      "metadata": {
        "id": "-qWLZ7Aawybu"
      },
      "execution_count": 13,
      "outputs": []
    },
    {
      "cell_type": "code",
      "source": [
        "print(steps_per_epoch)"
      ],
      "metadata": {
        "colab": {
          "base_uri": "https://localhost:8080/"
        },
        "id": "jUqqfFjGw1s1",
        "outputId": "4375a047-dbbf-4485-c57e-e9de2b0aa748"
      },
      "execution_count": 14,
      "outputs": [
        {
          "output_type": "stream",
          "name": "stdout",
          "text": [
            "980\n"
          ]
        }
      ]
    },
    {
      "cell_type": "code",
      "source": [
        "from tensorflow.keras.layers import Conv2D, TimeDistributed,Dropout,Input, Dense,\\\n",
        "    BatchNormalization, GRU, Layer, Flatten,MaxPooling2D, concatenate\n",
        "from tensorflow.keras.regularizers import l2\n",
        "from tensorflow.keras.models import Model\n",
        "from tensorflow.keras.utils import plot_model\n",
        "from tensorflow.keras.optimizers import Adam\n",
        "from keras import layers\n",
        "from keras import models"
      ],
      "metadata": {
        "id": "cUs70CAow4tn"
      },
      "execution_count": 15,
      "outputs": []
    },
    {
      "cell_type": "code",
      "source": [
        "from tensorflow.python.keras.layers import ConvLSTM2D\n",
        "\n"
      ],
      "metadata": {
        "id": "U3eGiRapQLZK"
      },
      "execution_count": 16,
      "outputs": []
    },
    {
      "cell_type": "code",
      "source": [
        "input_l = layers.Input(shape=(time_steps,img_height, img_width,channels))\n",
        "x =  (layers.TimeDistributed(layers.Conv2D( 64, kernel_size=(3, 3),padding='same',strides=(1,1) ))) (input_l)\n",
        "conv2 = layers.TimeDistributed( layers.Conv2D( 64, kernel_size=(3, 3),padding='same',strides=(1,1) ) ) (x)\n",
        "x=layers.TimeDistributed(layers.MaxPooling2D(pool_size=(2,2)))(conv2)\n",
        "x = layers.TimeDistributed( layers.Conv2D( 128, kernel_size=(3, 3),padding='same',strides=(1,1) ) ) (x)\n",
        "conv5 = layers.TimeDistributed( layers.Conv2D( 128, kernel_size=(3, 3),padding='same',strides=(1,1) ) ) (x)\n",
        "x=layers.TimeDistributed(layers.MaxPooling2D(pool_size=(2,2)))(conv5)\n",
        "x = layers.TimeDistributed( layers.Conv2D( 256, kernel_size=(3, 3),padding='same',strides=(1,1) ) ) (x)\n",
        "conv8 = layers.TimeDistributed( layers.Conv2D( 256, kernel_size=(3, 3),padding='same',strides=(1,1) ) ) (x)\n",
        "x=layers.TimeDistributed(layers.MaxPooling2D(pool_size=(2,2)))(conv8)\n",
        "x=layers.Bidirectional(layers.ConvLSTM2D(256,kernel_size=(3,3),padding='same',strides=(1,1),return_sequences=True))(x)\n",
        "up1 = layers.TimeDistributed( layers.Conv2DTranspose( 512,kernel_size=(3,3),padding='same',strides=(2,2)))(x)\n",
        "concat1 = layers.concatenate([up1, conv8])\n",
        "x = layers.TimeDistributed( layers.Conv2D( 256, kernel_size=(3, 3),padding='same',strides=(1,1) ) ) (concat1)\n",
        "x = layers.TimeDistributed( layers.Conv2D( 256, kernel_size=(3, 3),padding='same',strides=(1,1) ) ) (x)\n",
        "up2 = layers.TimeDistributed( layers.Conv2DTranspose( 256,kernel_size=(3,3),padding='same',strides=(2,2)))(x)\n",
        "concat2 = layers.concatenate([up2, conv5])\n",
        "x = layers.TimeDistributed( layers.Conv2D( 128, kernel_size=(3, 3),padding='same',strides=(1,1) ) ) (concat2)\n",
        "x = layers.TimeDistributed( layers.Conv2D( 128, kernel_size=(3, 3),padding='same',strides=(1,1) ) ) (x)\n",
        "up3 = layers.TimeDistributed( layers.Conv2DTranspose( 128,kernel_size=(3,3),padding='same',strides=(2,2)))(x)\n",
        "concat3 = layers.concatenate([up3, conv2])\n",
        "x = layers.TimeDistributed( layers.Conv2D( 64, kernel_size=(3, 3),padding='same',strides=(1,1) ) ) (concat3)\n",
        "x=layers.Bidirectional(layers.ConvLSTM2D(32,kernel_size=(3,3),padding='same',strides=(1,1),return_sequences=True))(x)\n",
        "out= layers.TimeDistributed( layers.Conv2D( 64, kernel_size=(1, 1),padding='same',strides=(1,1),data_format='channels_last' ) ) (x)\n",
        "out = tf.reshape(out, (-1, 1, 256,256, 64))\n",
        "out = layers.Conv2D( 1, kernel_size=(1, 1),padding='same',strides=(1,1), activation='sigmoid' )  (out)\n",
        "\n",
        "\n",
        "model = models.Model(inputs=input_l, outputs=out)\n",
        "model.summary()"
      ],
      "metadata": {
        "colab": {
          "base_uri": "https://localhost:8080/"
        },
        "id": "EMYL1MIaxCkf",
        "outputId": "200c156c-e446-4225-bf2f-738062cae348"
      },
      "execution_count": 17,
      "outputs": [
        {
          "output_type": "stream",
          "name": "stdout",
          "text": [
            "Model: \"model\"\n",
            "__________________________________________________________________________________________________\n",
            " Layer (type)                   Output Shape         Param #     Connected to                     \n",
            "==================================================================================================\n",
            " input_1 (InputLayer)           [(None, 3, 256, 256  0           []                               \n",
            "                                , 1)]                                                             \n",
            "                                                                                                  \n",
            " time_distributed (TimeDistribu  (None, 3, 256, 256,  640        ['input_1[0][0]']                \n",
            " ted)                            64)                                                              \n",
            "                                                                                                  \n",
            " time_distributed_1 (TimeDistri  (None, 3, 256, 256,  36928      ['time_distributed[0][0]']       \n",
            " buted)                          64)                                                              \n",
            "                                                                                                  \n",
            " time_distributed_2 (TimeDistri  (None, 3, 128, 128,  0          ['time_distributed_1[0][0]']     \n",
            " buted)                          64)                                                              \n",
            "                                                                                                  \n",
            " time_distributed_3 (TimeDistri  (None, 3, 128, 128,  73856      ['time_distributed_2[0][0]']     \n",
            " buted)                          128)                                                             \n",
            "                                                                                                  \n",
            " time_distributed_4 (TimeDistri  (None, 3, 128, 128,  147584     ['time_distributed_3[0][0]']     \n",
            " buted)                          128)                                                             \n",
            "                                                                                                  \n",
            " time_distributed_5 (TimeDistri  (None, 3, 64, 64, 1  0          ['time_distributed_4[0][0]']     \n",
            " buted)                         28)                                                               \n",
            "                                                                                                  \n",
            " time_distributed_6 (TimeDistri  (None, 3, 64, 64, 2  295168     ['time_distributed_5[0][0]']     \n",
            " buted)                         56)                                                               \n",
            "                                                                                                  \n",
            " time_distributed_7 (TimeDistri  (None, 3, 64, 64, 2  590080     ['time_distributed_6[0][0]']     \n",
            " buted)                         56)                                                               \n",
            "                                                                                                  \n",
            " time_distributed_8 (TimeDistri  (None, 3, 32, 32, 2  0          ['time_distributed_7[0][0]']     \n",
            " buted)                         56)                                                               \n",
            "                                                                                                  \n",
            " bidirectional (Bidirectional)  (None, 3, 32, 32, 5  9439232     ['time_distributed_8[0][0]']     \n",
            "                                12)                                                               \n",
            "                                                                                                  \n",
            " time_distributed_9 (TimeDistri  (None, 3, 64, 64, 5  2359808    ['bidirectional[0][0]']          \n",
            " buted)                         12)                                                               \n",
            "                                                                                                  \n",
            " concatenate (Concatenate)      (None, 3, 64, 64, 7  0           ['time_distributed_9[0][0]',     \n",
            "                                68)                               'time_distributed_7[0][0]']     \n",
            "                                                                                                  \n",
            " time_distributed_10 (TimeDistr  (None, 3, 64, 64, 2  1769728    ['concatenate[0][0]']            \n",
            " ibuted)                        56)                                                               \n",
            "                                                                                                  \n",
            " time_distributed_11 (TimeDistr  (None, 3, 64, 64, 2  590080     ['time_distributed_10[0][0]']    \n",
            " ibuted)                        56)                                                               \n",
            "                                                                                                  \n",
            " time_distributed_12 (TimeDistr  (None, 3, 128, 128,  590080     ['time_distributed_11[0][0]']    \n",
            " ibuted)                         256)                                                             \n",
            "                                                                                                  \n",
            " concatenate_1 (Concatenate)    (None, 3, 128, 128,  0           ['time_distributed_12[0][0]',    \n",
            "                                 384)                             'time_distributed_4[0][0]']     \n",
            "                                                                                                  \n",
            " time_distributed_13 (TimeDistr  (None, 3, 128, 128,  442496     ['concatenate_1[0][0]']          \n",
            " ibuted)                         128)                                                             \n",
            "                                                                                                  \n",
            " time_distributed_14 (TimeDistr  (None, 3, 128, 128,  147584     ['time_distributed_13[0][0]']    \n",
            " ibuted)                         128)                                                             \n",
            "                                                                                                  \n",
            " time_distributed_15 (TimeDistr  (None, 3, 256, 256,  147584     ['time_distributed_14[0][0]']    \n",
            " ibuted)                         128)                                                             \n",
            "                                                                                                  \n",
            " concatenate_2 (Concatenate)    (None, 3, 256, 256,  0           ['time_distributed_15[0][0]',    \n",
            "                                 192)                             'time_distributed_1[0][0]']     \n",
            "                                                                                                  \n",
            " time_distributed_16 (TimeDistr  (None, 3, 256, 256,  110656     ['concatenate_2[0][0]']          \n",
            " ibuted)                         64)                                                              \n",
            "                                                                                                  \n",
            " bidirectional_1 (Bidirectional  (None, 3, 256, 256,  221440     ['time_distributed_16[0][0]']    \n",
            " )                               64)                                                              \n",
            "                                                                                                  \n",
            " time_distributed_17 (TimeDistr  (None, 3, 256, 256,  4160       ['bidirectional_1[0][0]']        \n",
            " ibuted)                         64)                                                              \n",
            "                                                                                                  \n",
            " tf.reshape (TFOpLambda)        (None, 1, 256, 256,  0           ['time_distributed_17[0][0]']    \n",
            "                                 64)                                                              \n",
            "                                                                                                  \n",
            " conv2d_12 (Conv2D)             (None, 1, 256, 256,  65          ['tf.reshape[0][0]']             \n",
            "                                 1)                                                               \n",
            "                                                                                                  \n",
            "==================================================================================================\n",
            "Total params: 16,967,169\n",
            "Trainable params: 16,967,169\n",
            "Non-trainable params: 0\n",
            "__________________________________________________________________________________________________\n"
          ]
        }
      ]
    },
    {
      "cell_type": "code",
      "source": [
        "from keras import backend as K\n",
        "\n",
        "\n",
        "def dice_coefficient(y_true, y_pred, smooth=0.0001):\n",
        "    y_true_f = K.flatten(y_true)\n",
        "    y_pred_f = K.flatten(y_pred)\n",
        "\n",
        "    intersection = K.sum(y_true_f * y_pred_f)\n",
        "\n",
        "    return ((2. * intersection + smooth) / (K.sum(y_true_f) +\n",
        "            K.sum(y_pred_f) + smooth))\n",
        "\n",
        "\n",
        "def dice_coefficient_loss(y_true, y_pred):\n",
        "    return 1.0-dice_coefficient(y_true, y_pred)\n"
      ],
      "metadata": {
        "id": "vCQm5_8vxJPY"
      },
      "execution_count": 18,
      "outputs": []
    },
    {
      "cell_type": "code",
      "source": [
        "metrics = [  dice_coefficient ]\n"
      ],
      "metadata": {
        "id": "Uz7LJ7kn9qcW"
      },
      "execution_count": 19,
      "outputs": []
    },
    {
      "cell_type": "code",
      "source": [
        "model.compile(optimizer=Adam(1e-4), loss=dice_coefficient_loss, metrics=metrics)\n",
        "from tensorflow.keras import backend as K"
      ],
      "metadata": {
        "id": "6cMO2gwpxeMc"
      },
      "execution_count": 20,
      "outputs": []
    },
    {
      "cell_type": "code",
      "source": [
        "history=model.fit(train_img_gen,\n",
        "          steps_per_epoch=steps_per_epoch,\n",
        "          epochs=10,\n",
        "          verbose=1,\n",
        "          validation_data=val_img_gen,\n",
        "    \n",
        "          validation_steps=val_steps_per_epoch)"
      ],
      "metadata": {
        "colab": {
          "base_uri": "https://localhost:8080/"
        },
        "id": "34wxTngZxQlY",
        "outputId": "2cfea273-6ff7-4640-afde-1b0c7032b5da"
      },
      "execution_count": null,
      "outputs": [
        {
          "output_type": "stream",
          "name": "stdout",
          "text": [
            "Epoch 1/10\n",
            "980/980 [==============================] - 2691s 3s/step - loss: 0.9561 - dice_coefficient: 0.0439 - val_loss: 0.9747 - val_dice_coefficient: 0.0253\n",
            "Epoch 2/10\n",
            "980/980 [==============================] - 2514s 3s/step - loss: 0.9560 - dice_coefficient: 0.0440 - val_loss: 0.9745 - val_dice_coefficient: 0.0255\n",
            "Epoch 3/10\n",
            "980/980 [==============================] - 2546s 3s/step - loss: 0.9560 - dice_coefficient: 0.0439 - val_loss: 0.9747 - val_dice_coefficient: 0.0253\n",
            "Epoch 4/10\n",
            "980/980 [==============================] - 2489s 3s/step - loss: 0.9561 - dice_coefficient: 0.0439 - val_loss: 0.9746 - val_dice_coefficient: 0.0254\n",
            "Epoch 5/10\n",
            "980/980 [==============================] - 2543s 3s/step - loss: 0.9570 - dice_coefficient: 0.0430 - val_loss: 0.9747 - val_dice_coefficient: 0.0253\n",
            "Epoch 6/10\n",
            " 37/980 [>.............................] - ETA: 37:42 - loss: 0.9565 - dice_coefficient: 0.0431"
          ]
        }
      ]
    },
    {
      "cell_type": "code",
      "source": [
        ""
      ],
      "metadata": {
        "id": "C0tf0HvG4eeX"
      },
      "execution_count": null,
      "outputs": []
    }
  ]
}