{
  "cells": [
    {
      "cell_type": "markdown",
      "metadata": {
        "id": "view-in-github",
        "colab_type": "text"
      },
      "source": [
        "<a href=\"https://colab.research.google.com/github/Chiaradisanto/Segmentation/blob/main/Sensor15_epoche.ipynb\" target=\"_parent\"><img src=\"https://colab.research.google.com/assets/colab-badge.svg\" alt=\"Open In Colab\"/></a>"
      ]
    },
    {
      "cell_type": "code",
      "execution_count": 1,
      "metadata": {
        "colab": {
          "base_uri": "https://localhost:8080/"
        },
        "id": "F3_qTb56xYFW",
        "outputId": "961ce17a-92ab-41b4-dfeb-bc50798c26aa"
      },
      "outputs": [
        {
          "output_type": "stream",
          "name": "stdout",
          "text": [
            "Mounted at /gdrive\n"
          ]
        }
      ],
      "source": [
        "from google.colab import drive\n",
        "drive.mount('/gdrive')"
      ]
    },
    {
      "cell_type": "code",
      "execution_count": 2,
      "metadata": {
        "id": "s4mfRxXuxYXl"
      },
      "outputs": [],
      "source": [
        "\n",
        "import os\n",
        "from IPython.core.completer import time\n",
        "from natsort import natsorted\n",
        "from tensorflow.keras.preprocessing.image import (\n",
        "    array_to_img,\n",
        "    img_to_array,\n",
        "    load_img,\n",
        ")\n",
        "from tensorflow.keras import layers\n",
        "import tensorflow as tf\n",
        "import numpy as np\n"
      ]
    },
    {
      "cell_type": "code",
      "execution_count": 3,
      "metadata": {
        "id": "3b-r3j9CxZ78"
      },
      "outputs": [],
      "source": [
        "class GetLoader:\n",
        "    def __init__(self, *, imgs, masks, timesteps, batch_size, squeeze=False):\n",
        "        self.imgs = imgs\n",
        "        self.masks = masks\n",
        "        self.timesteps = timesteps\n",
        "        self.batch_size = batch_size\n",
        "        self.squeeze = squeeze\n",
        "        self.augmentation = tf.keras.Sequential(\n",
        "            [\n",
        "                layers.RandomFlip(\"horizontal_and_vertical\"),\n",
        "                layers.RandomRotation(0.2),\n",
        "\n",
        "\n",
        "            ]\n",
        "        )\n",
        "\n",
        "    def __iter__(self):\n",
        "        return self\n",
        "\n",
        "    def __next__(self):\n",
        "        xs = []\n",
        "        ys = []\n",
        "        for _ in range(self.batch_size):\n",
        "            index = np.random.randint(0, len(self.imgs) - self.timesteps)\n",
        "            xs.append(self.imgs[index : index + self.timesteps])\n",
        "            ys.append(self.masks[index + self.timesteps])\n",
        "        x, y = np.array(xs), np.array(ys)\n",
        "        x = x.squeeze(-1).transpose(0, 2, 3, 1)\n",
        "        xy = self.augmentation(tf.concat((x, y), axis=-1))\n",
        "\n",
        "        x = xy[:, :, :, :3]\n",
        "        y = xy[:, :, :, 3:]\n",
        "        if not self.squeeze:\n",
        "            x = tf.transpose(x, perm=(0, 3, 1, 2))[..., None]\n",
        "            y = tf.expand_dims(y, 1)\n",
        "        # if not tf.reduce_all(y[0] == 0):\n",
        "        #    ipdb.set_trace()\n",
        "        return x, y\n",
        "\n",
        "\n",
        "class DataLoader:\n",
        "    def __init__(\n",
        "        self,\n",
        "        data_folder: str,\n",
        "        *,\n",
        "        timesteps: int = 3,\n",
        "        batch_size=4,\n",
        "        squeeze=False,\n",
        "    ):\n",
        "        self.batch_size = batch_size\n",
        "        self.data_folder = data_folder\n",
        "        self.timesteps = timesteps\n",
        "        self.squeeze = squeeze\n",
        "        train_img_file_names = [\n",
        "            os.path.join(data_folder, \"train_images\", \"images\", fn)\n",
        "            for fn in os.listdir(os.path.join(data_folder, \"train_images\", \"images\"))\n",
        "        ]\n",
        "        train_img_file_names = natsorted(train_img_file_names)\n",
        "        # train_img_file_names.sort(key=lambda x: int(x.split(\"_\")[-1].split(\".\")[0]))\n",
        "        train_mask_file_names = [\n",
        "            fn.replace(\"images\", \"masks\") for fn in train_img_file_names\n",
        "        ]\n",
        "        self.train_imgs = (\n",
        "            np.array(\n",
        "                [\n",
        "                    img_to_array(load_img(fn, color_mode=\"grayscale\"))\n",
        "                    for fn in train_img_file_names\n",
        "                ]\n",
        "            )\n",
        "            / 255\n",
        "        )\n",
        "        self.train_masks = (\n",
        "            np.array(\n",
        "                [\n",
        "                    img_to_array(load_img(fn, color_mode=\"grayscale\"))\n",
        "                    for fn in train_mask_file_names\n",
        "                ]\n",
        "            )\n",
        "            / 255\n",
        "            > 0.5\n",
        "        ).astype(float)\n",
        "\n",
        "        val_img_file_names = [\n",
        "            os.path.join(data_folder, \"val_images\", \"images\", fn)\n",
        "            for fn in os.listdir(os.path.join(data_folder, \"val_images\", \"images\"))\n",
        "        ]\n",
        "        val_img_file_names = natsorted(val_img_file_names)\n",
        "        val_mask_file_names = [\n",
        "            fn.replace(\"images\", \"masks\") for fn in val_img_file_names\n",
        "        ]\n",
        "        self.val_imgs = (\n",
        "            np.array(\n",
        "                [\n",
        "                    img_to_array(load_img(fn, color_mode=\"grayscale\"))\n",
        "                    for fn in val_img_file_names\n",
        "                ]\n",
        "            )\n",
        "            / 255\n",
        "        )\n",
        "        self.val_masks = (\n",
        "            np.array(\n",
        "                [\n",
        "                    img_to_array(load_img(fn, color_mode=\"grayscale\"))\n",
        "                    for fn in val_mask_file_names\n",
        "                ]\n",
        "            )\n",
        "            / 255\n",
        "            > 0.5\n",
        "        ).astype(float)\n",
        "\n",
        "    def get_loaders(self):\n",
        "        return (\n",
        "            GetLoader(\n",
        "                imgs=self.train_imgs,\n",
        "                masks=self.train_masks,\n",
        "                timesteps=self.timesteps,\n",
        "                batch_size=self.batch_size,\n",
        "                squeeze=self.squeeze,\n",
        "            ),\n",
        "            GetLoader(\n",
        "                imgs=self.val_imgs,\n",
        "                masks=self.val_masks,\n",
        "                timesteps=self.timesteps,\n",
        "                batch_size=self.batch_size,\n",
        "                squeeze=self.squeeze,\n",
        "            ),\n",
        "        )"
      ]
    },
    {
      "cell_type": "code",
      "execution_count": 4,
      "metadata": {
        "id": "2jMEP4T9xf37"
      },
      "outputs": [],
      "source": [
        "train_loader, val_loader = DataLoader(\"/gdrive/MyDrive/adjustedROI/final_output\", squeeze=False).get_loaders()\n"
      ]
    },
    {
      "cell_type": "code",
      "execution_count": 5,
      "metadata": {
        "id": "wnMCBtiTxr2X"
      },
      "outputs": [],
      "source": [
        "x, y = train_loader.__next__()"
      ]
    },
    {
      "cell_type": "code",
      "execution_count": 6,
      "metadata": {
        "id": "Mue0IECMxry1"
      },
      "outputs": [],
      "source": [
        "from matplotlib import pyplot as plt"
      ]
    },
    {
      "cell_type": "code",
      "execution_count": 7,
      "metadata": {
        "id": "9Jt_IuN-xrwZ",
        "colab": {
          "base_uri": "https://localhost:8080/",
          "height": 515
        },
        "outputId": "358cee1a-f7c6-43d3-b656-5baf379e9138"
      },
      "outputs": [
        {
          "output_type": "display_data",
          "data": {
            "text/plain": [
              "<Figure size 432x288 with 2 Axes>"
            ],
            "image/png": "[encoded data removed]"
          },
          "metadata": {
            "needs_background": "light"
          }
        },
        {
          "output_type": "display_data",
          "data": {
            "text/plain": [
              "<Figure size 432x288 with 2 Axes>"
            ],
            "image/png": "[encoded data removed]"
          },
          "metadata": {
            "needs_background": "light"
          }
        },
        {
          "output_type": "display_data",
          "data": {
            "text/plain": [
              "<Figure size 432x288 with 2 Axes>"
            ],
            "image/png": "[encoded data removed]"
          },
          "metadata": {
            "needs_background": "light"
          }
        }
      ],
      "source": [
        "x, y = train_loader.__next__()\n",
        "\n",
        "for i in range(0,3):\n",
        "    image = x[i,0,:,:,0]\n",
        "    #mask = np.argmax(y[i], axis=2)\n",
        "    mask= y[i,0,:,:,0]\n",
        "    plt.subplot(1,2,1)\n",
        "    plt.imshow(image, cmap='gray')\n",
        "    plt.axis('off')\n",
        "    plt.subplot(1,2,2)\n",
        "    plt.imshow(mask, cmap='gray')\n",
        "    plt.axis('off')\n",
        "    plt.show()"
      ]
    },
    {
      "cell_type": "code",
      "source": [
        "x.shape"
      ],
      "metadata": {
        "colab": {
          "base_uri": "https://localhost:8080/"
        },
        "id": "7MzKDniQx7m_",
        "outputId": "515aff89-ee79-4aad-8baa-0d9e6ca248ba"
      },
      "execution_count": 8,
      "outputs": [
        {
          "output_type": "execute_result",
          "data": {
            "text/plain": [
              "TensorShape([4, 3, 256, 256, 1])"
            ]
          },
          "metadata": {},
          "execution_count": 8
        }
      ]
    },
    {
      "cell_type": "code",
      "source": [
        "y.shape\n"
      ],
      "metadata": {
        "colab": {
          "base_uri": "https://localhost:8080/"
        },
        "id": "yGTk5oU7x9nc",
        "outputId": "b03dce58-0d1c-42ef-95ff-d68d334ccda4"
      },
      "execution_count": 9,
      "outputs": [
        {
          "output_type": "execute_result",
          "data": {
            "text/plain": [
              "TensorShape([4, 1, 256, 256, 1])"
            ]
          },
          "metadata": {},
          "execution_count": 9
        }
      ]
    },
    {
      "cell_type": "code",
      "source": [
        "batch_size=4"
      ],
      "metadata": {
        "id": "SGu4uOebx_y_"
      },
      "execution_count": 10,
      "outputs": []
    },
    {
      "cell_type": "code",
      "execution_count": 11,
      "metadata": {
        "id": "0egJqf-Hxrta"
      },
      "outputs": [],
      "source": [
        "#Define the model metrcis and load model. \n",
        "\n",
        "num_train_imgs = len(os.listdir('/gdrive/MyDrive/adjustedROI/final_output/train_images/images'))\n",
        "num_val_images = len(os.listdir('/gdrive/MyDrive/adjustedROI/final_output/val_images/images'))\n",
        "steps_per_epoch = num_train_imgs//batch_size\n",
        "val_steps_per_epoch = num_val_images//batch_size\n"
      ]
    },
    {
      "cell_type": "code",
      "execution_count": 12,
      "metadata": {
        "id": "mR1HS97zxrrK"
      },
      "outputs": [],
      "source": [
        "import tensorflow as tf\n",
        "from tensorflow.keras.layers import Conv2D, TimeDistributed,Dropout,Input, Dense,\\\n",
        "    BatchNormalization, GRU, Layer, Flatten,MaxPooling2D, concatenate,Lambda\n",
        "from tensorflow.keras.regularizers import l2\n",
        "from tensorflow.keras.models import Model\n",
        "from tensorflow.keras.utils import plot_model\n",
        "from tensorflow.keras.optimizers import Adam\n",
        "from keras import layers\n",
        "from keras import models\n",
        "from tensorflow.python.keras.layers import ConvLSTM2D"
      ]
    },
    {
      "cell_type": "code",
      "execution_count": 13,
      "metadata": {
        "id": "E55fMYzUyAaa"
      },
      "outputs": [],
      "source": [
        "input_shape=(3,256,256,1)"
      ]
    },
    {
      "cell_type": "code",
      "execution_count": 14,
      "metadata": {
        "id": "lHLSqDDJxrom",
        "colab": {
          "base_uri": "https://localhost:8080/"
        },
        "outputId": "696c3ff8-0dbd-4c25-bb44-d10b63df0f48"
      },
      "outputs": [
        {
          "output_type": "stream",
          "name": "stdout",
          "text": [
            "Model: \"model\"\n",
            "__________________________________________________________________________________________________\n",
            " Layer (type)                   Output Shape         Param #     Connected to                     \n",
            "==================================================================================================\n",
            " input_1 (InputLayer)           [(None, 3, 256, 256  0           []                               \n",
            "                                , 1)]                                                             \n",
            "                                                                                                  \n",
            " time_distributed (TimeDistribu  (None, 3, 256, 256,  640        ['input_1[0][0]']                \n",
            " ted)                            64)                                                              \n",
            "                                                                                                  \n",
            " time_distributed_1 (TimeDistri  (None, 3, 256, 256,  256        ['time_distributed[0][0]']       \n",
            " buted)                          64)                                                              \n",
            "                                                                                                  \n",
            " time_distributed_2 (TimeDistri  (None, 3, 256, 256,  36928      ['time_distributed_1[0][0]']     \n",
            " buted)                          64)                                                              \n",
            "                                                                                                  \n",
            " time_distributed_3 (TimeDistri  (None, 3, 256, 256,  256        ['time_distributed_2[0][0]']     \n",
            " buted)                          64)                                                              \n",
            "                                                                                                  \n",
            " time_distributed_4 (TimeDistri  (None, 3, 128, 128,  0          ['time_distributed_3[0][0]']     \n",
            " buted)                          64)                                                              \n",
            "                                                                                                  \n",
            " time_distributed_5 (TimeDistri  (None, 3, 128, 128,  73856      ['time_distributed_4[0][0]']     \n",
            " buted)                          128)                                                             \n",
            "                                                                                                  \n",
            " time_distributed_6 (TimeDistri  (None, 3, 128, 128,  512        ['time_distributed_5[0][0]']     \n",
            " buted)                          128)                                                             \n",
            "                                                                                                  \n",
            " time_distributed_7 (TimeDistri  (None, 3, 128, 128,  147584     ['time_distributed_6[0][0]']     \n",
            " buted)                          128)                                                             \n",
            "                                                                                                  \n",
            " time_distributed_8 (TimeDistri  (None, 3, 128, 128,  512        ['time_distributed_7[0][0]']     \n",
            " buted)                          128)                                                             \n",
            "                                                                                                  \n",
            " time_distributed_9 (TimeDistri  (None, 3, 64, 64, 1  0          ['time_distributed_8[0][0]']     \n",
            " buted)                         28)                                                               \n",
            "                                                                                                  \n",
            " time_distributed_10 (TimeDistr  (None, 3, 64, 64, 2  295168     ['time_distributed_9[0][0]']     \n",
            " ibuted)                        56)                                                               \n",
            "                                                                                                  \n",
            " time_distributed_11 (TimeDistr  (None, 3, 64, 64, 2  1024       ['time_distributed_10[0][0]']    \n",
            " ibuted)                        56)                                                               \n",
            "                                                                                                  \n",
            " time_distributed_12 (TimeDistr  (None, 3, 64, 64, 2  590080     ['time_distributed_11[0][0]']    \n",
            " ibuted)                        56)                                                               \n",
            "                                                                                                  \n",
            " time_distributed_13 (TimeDistr  (None, 3, 64, 64, 2  1024       ['time_distributed_12[0][0]']    \n",
            " ibuted)                        56)                                                               \n",
            "                                                                                                  \n",
            " time_distributed_14 (TimeDistr  (None, 3, 32, 32, 2  0          ['time_distributed_13[0][0]']    \n",
            " ibuted)                        56)                                                               \n",
            "                                                                                                  \n",
            " bidirectional (Bidirectional)  (None, 3, 32, 32, 5  9439232     ['time_distributed_14[0][0]']    \n",
            "                                12)                                                               \n",
            "                                                                                                  \n",
            " time_distributed_15 (TimeDistr  (None, 3, 64, 64, 5  2359808    ['bidirectional[0][0]']          \n",
            " ibuted)                        12)                                                               \n",
            "                                                                                                  \n",
            " concatenate (Concatenate)      (None, 3, 64, 64, 7  0           ['time_distributed_15[0][0]',    \n",
            "                                68)                               'time_distributed_13[0][0]']    \n",
            "                                                                                                  \n",
            " time_distributed_16 (TimeDistr  (None, 3, 64, 64, 2  1769728    ['concatenate[0][0]']            \n",
            " ibuted)                        56)                                                               \n",
            "                                                                                                  \n",
            " time_distributed_17 (TimeDistr  (None, 3, 64, 64, 2  590080     ['time_distributed_16[0][0]']    \n",
            " ibuted)                        56)                                                               \n",
            "                                                                                                  \n",
            " time_distributed_18 (TimeDistr  (None, 3, 128, 128,  590080     ['time_distributed_17[0][0]']    \n",
            " ibuted)                         256)                                                             \n",
            "                                                                                                  \n",
            " concatenate_1 (Concatenate)    (None, 3, 128, 128,  0           ['time_distributed_18[0][0]',    \n",
            "                                 384)                             'time_distributed_7[0][0]']     \n",
            "                                                                                                  \n",
            " time_distributed_19 (TimeDistr  (None, 3, 128, 128,  442496     ['concatenate_1[0][0]']          \n",
            " ibuted)                         128)                                                             \n",
            "                                                                                                  \n",
            " time_distributed_20 (TimeDistr  (None, 3, 128, 128,  147584     ['time_distributed_19[0][0]']    \n",
            " ibuted)                         128)                                                             \n",
            "                                                                                                  \n",
            " time_distributed_21 (TimeDistr  (None, 3, 256, 256,  147584     ['time_distributed_20[0][0]']    \n",
            " ibuted)                         128)                                                             \n",
            "                                                                                                  \n",
            " concatenate_2 (Concatenate)    (None, 3, 256, 256,  0           ['time_distributed_21[0][0]',    \n",
            "                                 192)                             'time_distributed_2[0][0]']     \n",
            "                                                                                                  \n",
            " time_distributed_22 (TimeDistr  (None, 3, 256, 256,  110656     ['concatenate_2[0][0]']          \n",
            " ibuted)                         64)                                                              \n",
            "                                                                                                  \n",
            " bidirectional_1 (Bidirectional  (None, 256, 256, 64  221440     ['time_distributed_22[0][0]']    \n",
            " )                              )                                                                 \n",
            "                                                                                                  \n",
            " tf.expand_dims (TFOpLambda)    (None, 1, 256, 256,  0           ['bidirectional_1[0][0]']        \n",
            "                                 64)                                                              \n",
            "                                                                                                  \n",
            " conv2d_11 (Conv2D)             (None, 1, 256, 256,  65          ['tf.expand_dims[0][0]']         \n",
            "                                 1)                                                               \n",
            "                                                                                                  \n",
            "==================================================================================================\n",
            "Total params: 16,966,593\n",
            "Trainable params: 16,964,801\n",
            "Non-trainable params: 1,792\n",
            "__________________________________________________________________________________________________\n"
          ]
        }
      ],
      "source": [
        "input_l = layers.Input(shape=(input_shape))\n",
        "x =  (layers.TimeDistributed(layers.Conv2D( 64, kernel_size=(3, 3),padding='same',strides=(1,1),activation='relu' ) )) (input_l)\n",
        "x=layers.TimeDistributed(layers.BatchNormalization())(x)\n",
        "conv2 = layers.TimeDistributed( layers.Conv2D( 64, kernel_size=(3, 3),padding='same',strides=(1,1),activation='relu'  ) ) (x)\n",
        "x=layers.TimeDistributed(layers.BatchNormalization())(conv2)\n",
        "\n",
        "x=layers.TimeDistributed(layers.MaxPooling2D(pool_size=(2,2)))(x)\n",
        "x = layers.TimeDistributed( layers.Conv2D( 128, kernel_size=(3, 3),padding='same',strides=(1,1),activation='relu'   ) ) (x)\n",
        "x=layers.TimeDistributed(layers.BatchNormalization())(x)\n",
        "conv5 = layers.TimeDistributed( layers.Conv2D( 128, kernel_size=(3, 3),padding='same',strides=(1,1),activation='relu'   ) ) (x)\n",
        "x=layers.TimeDistributed(layers.BatchNormalization())(conv5)\n",
        "x=layers.TimeDistributed(layers.MaxPooling2D(pool_size=(2,2)))(x)\n",
        "x = layers.TimeDistributed( layers.Conv2D( 256, kernel_size=(3, 3),padding='same',strides=(1,1) ,activation='relu'  ) ) (x)\n",
        "x=layers.TimeDistributed(layers.BatchNormalization())(x)\n",
        "\n",
        "conv8 = layers.TimeDistributed( layers.Conv2D( 256, kernel_size=(3, 3),padding='same',strides=(1,1) ,activation='relu'  ) ) (x)\n",
        "conv8=layers.TimeDistributed(layers.BatchNormalization())(conv8)\n",
        "\n",
        "x=layers.TimeDistributed(layers.MaxPooling2D(pool_size=(2,2)))(conv8)\n",
        "\n",
        "x=layers.Bidirectional(layers.ConvLSTM2D(256,kernel_size=(3,3),padding='same',strides=(1,1),return_sequences=True,recurrent_dropout=0.2))(x)\n",
        "up1 = layers.TimeDistributed( layers.Conv2DTranspose( 512,kernel_size=(3,3),padding='same',strides=(2,2)))(x)\n",
        "concat1 = layers.concatenate([up1, conv8])\n",
        "x = layers.TimeDistributed( layers.Conv2D( 256, kernel_size=(3, 3),padding='same',strides=(1,1) ,activation='relu'  ) ) (concat1)\n",
        "x = layers.TimeDistributed( layers.Conv2D( 256, kernel_size=(3, 3),padding='same',strides=(1,1) ,activation='relu'  ) ) (x)\n",
        "up2 = layers.TimeDistributed( layers.Conv2DTranspose( 256,kernel_size=(3,3),padding='same',strides=(2,2)))(x)\n",
        "concat2 = layers.concatenate([up2, conv5])\n",
        "x = layers.TimeDistributed( layers.Conv2D( 128, kernel_size=(3, 3),padding='same',strides=(1,1),activation='relu'   ) ) (concat2)\n",
        "x = layers.TimeDistributed( layers.Conv2D( 128, kernel_size=(3, 3),padding='same',strides=(1,1) ,activation='relu'  ) ) (x)\n",
        "up3 = layers.TimeDistributed( layers.Conv2DTranspose( 128,kernel_size=(3,3),padding='same',strides=(2,2)))(x)\n",
        "concat3 = layers.concatenate([up3, conv2])\n",
        "x = layers.TimeDistributed( layers.Conv2D( 64, kernel_size=(3, 3),padding='same',strides=(1,1),activation='relu'   ) ) (concat3)\n",
        "x=layers.Bidirectional(layers.ConvLSTM2D(32,kernel_size=(3,3),padding='same',strides=(1,1),return_sequences=False,recurrent_dropout=0.2))(x)\n",
        "x=tf.expand_dims(x,axis=1)\n",
        "\n",
        "#out= layers.TimeDistributed( layers.Conv2D( 64, kernel_size=(1, 1),padding='same',strides=(1,1),activation='relu' ,  ) ) (x)\n",
        "#out = tf.reshape(out, (-1, 1, 256,256, 64))\n",
        "out = layers.Conv2D( 1, kernel_size=(1, 1),padding='same',strides=(1,1), activation='sigmoid' )  (x)\n",
        "\n",
        "\n",
        "model = models.Model(inputs=input_l, outputs=out)\n",
        "model.summary()"
      ]
    },
    {
      "cell_type": "code",
      "execution_count": 15,
      "metadata": {
        "id": "sXtohugbyH5O"
      },
      "outputs": [],
      "source": [
        "from keras import backend as K\n",
        "\n",
        "\n",
        "def dice_coefficient(y_true, y_pred, smooth=0.0001):\n",
        "    y_true_f = K.flatten(y_true)\n",
        "    y_pred_f = K.flatten(y_pred)\n",
        "\n",
        "    intersection = K.sum(y_true_f * y_pred_f)\n",
        "\n",
        "    return ((2. * intersection + smooth) / (K.sum(y_true_f) +\n",
        "            K.sum(y_pred_f) + smooth))\n",
        "\n",
        "\n",
        "def dice_coefficient_loss(y_true, y_pred):\n",
        "    return 1.0-dice_coefficient(y_true, y_pred)\n",
        "\n",
        "\n",
        "def iou_loss(y_true, y_pred):\n",
        "    return 1-iou(y_true, y_pred)\n",
        "\n",
        "def iou(y_true, y_pred):\n",
        "    intersection = K.sum(K.abs(y_true * y_pred))\n",
        "    sum_ = K.sum(K.square(y_true)) + K.sum(K.square(y_pred))\n",
        "    jac = (intersection) / (sum_ - intersection)\n",
        "    return jac"
      ]
    },
    {
      "cell_type": "code",
      "execution_count": 16,
      "metadata": {
        "id": "tH1F1TdsyKXJ"
      },
      "outputs": [],
      "source": [
        "LR = 5e-5\n",
        "optim = tf.keras.optimizers.Adam(LR)"
      ]
    },
    {
      "cell_type": "code",
      "execution_count": 17,
      "metadata": {
        "id": "fjnuViAjyKTt"
      },
      "outputs": [],
      "source": [
        "metrics=['Recall','Precision', dice_coefficient, 'binary_accuracy']\n"
      ]
    },
    {
      "cell_type": "code",
      "execution_count": 18,
      "metadata": {
        "id": "R_K5yDXeyKRH"
      },
      "outputs": [],
      "source": [
        "model.compile(optimizer=optim, loss=dice_coefficient_loss, metrics=metrics)\n"
      ]
    },
    {
      "cell_type": "code",
      "source": [
        "model_checkpoint_callback = tf.keras.callbacks.ModelCheckpoint(\n",
        "    filepath='/gdrive/MyDrive/chk/',\n",
        "    save_weights_only=True,\n",
        "    monitor='val_dice_coefficient',\n",
        "    mode='max',\n",
        "    save_best_only=True)\n"
      ],
      "metadata": {
        "id": "z764jz1IyMvO"
      },
      "execution_count": 19,
      "outputs": []
    },
    {
      "cell_type": "code",
      "execution_count": 20,
      "metadata": {
        "colab": {
          "base_uri": "https://localhost:8080/"
        },
        "id": "S5pfqEChyVFd",
        "outputId": "148ebc75-596c-432a-eec9-dc3a264f24c3"
      },
      "outputs": [
        {
          "output_type": "stream",
          "name": "stdout",
          "text": [
            "Epoch 1/15\n",
            "745/745 [==============================] - 1209s 2s/step - loss: 0.5763 - recall: 0.6275 - precision: 0.2647 - dice_coefficient: 0.4237 - binary_accuracy: 0.9469 - val_loss: 0.5419 - val_recall: 0.5072 - val_precision: 0.5376 - val_dice_coefficient: 0.4581 - val_binary_accuracy: 0.9715\n",
            "Epoch 2/15\n",
            "745/745 [==============================] - 1183s 2s/step - loss: 0.4568 - recall: 0.6687 - precision: 0.5879 - dice_coefficient: 0.5432 - binary_accuracy: 0.9793 - val_loss: 0.4329 - val_recall: 0.6890 - val_precision: 0.6032 - val_dice_coefficient: 0.5671 - val_binary_accuracy: 0.9735\n",
            "Epoch 3/15\n",
            "745/745 [==============================] - 1181s 2s/step - loss: 0.4257 - recall: 0.6756 - precision: 0.6263 - dice_coefficient: 0.5743 - binary_accuracy: 0.9806 - val_loss: 0.3707 - val_recall: 0.6389 - val_precision: 0.7210 - val_dice_coefficient: 0.6293 - val_binary_accuracy: 0.9790\n",
            "Epoch 4/15\n",
            "745/745 [==============================] - 1180s 2s/step - loss: 0.4000 - recall: 0.7015 - precision: 0.6570 - dice_coefficient: 0.6000 - binary_accuracy: 0.9816 - val_loss: 0.3540 - val_recall: 0.6418 - val_precision: 0.7394 - val_dice_coefficient: 0.6460 - val_binary_accuracy: 0.9806\n",
            "Epoch 5/15\n",
            "745/745 [==============================] - 1179s 2s/step - loss: 0.3777 - recall: 0.7190 - precision: 0.6900 - dice_coefficient: 0.6223 - binary_accuracy: 0.9826 - val_loss: 0.3846 - val_recall: 0.6216 - val_precision: 0.7897 - val_dice_coefficient: 0.6154 - val_binary_accuracy: 0.9812\n",
            "Epoch 6/15\n",
            "745/745 [==============================] - 1177s 2s/step - loss: 0.3906 - recall: 0.7110 - precision: 0.6697 - dice_coefficient: 0.6094 - binary_accuracy: 0.9826 - val_loss: 0.4685 - val_recall: 0.4701 - val_precision: 0.7465 - val_dice_coefficient: 0.5315 - val_binary_accuracy: 0.9773\n",
            "Epoch 7/15\n",
            "745/745 [==============================] - 1177s 2s/step - loss: 0.3710 - recall: 0.7146 - precision: 0.6983 - dice_coefficient: 0.6290 - binary_accuracy: 0.9832 - val_loss: 0.3819 - val_recall: 0.5280 - val_precision: 0.8417 - val_dice_coefficient: 0.6181 - val_binary_accuracy: 0.9799\n",
            "Epoch 8/15\n",
            "745/745 [==============================] - 1177s 2s/step - loss: 0.3721 - recall: 0.7210 - precision: 0.7102 - dice_coefficient: 0.6279 - binary_accuracy: 0.9834 - val_loss: 0.3825 - val_recall: 0.6074 - val_precision: 0.7288 - val_dice_coefficient: 0.6175 - val_binary_accuracy: 0.9804\n",
            "Epoch 9/15\n",
            "745/745 [==============================] - 1177s 2s/step - loss: 0.3685 - recall: 0.7344 - precision: 0.7047 - dice_coefficient: 0.6315 - binary_accuracy: 0.9844 - val_loss: 0.5704 - val_recall: 0.3187 - val_precision: 0.7794 - val_dice_coefficient: 0.4296 - val_binary_accuracy: 0.9737\n",
            "Epoch 10/15\n",
            "745/745 [==============================] - 1177s 2s/step - loss: 0.3509 - recall: 0.7241 - precision: 0.7175 - dice_coefficient: 0.6491 - binary_accuracy: 0.9835 - val_loss: 0.3649 - val_recall: 0.5929 - val_precision: 0.7859 - val_dice_coefficient: 0.6351 - val_binary_accuracy: 0.9812\n",
            "Epoch 11/15\n",
            "745/745 [==============================] - 1179s 2s/step - loss: 0.3701 - recall: 0.7344 - precision: 0.7013 - dice_coefficient: 0.6299 - binary_accuracy: 0.9842 - val_loss: 0.3528 - val_recall: 0.6659 - val_precision: 0.7481 - val_dice_coefficient: 0.6472 - val_binary_accuracy: 0.9802\n",
            "Epoch 12/15\n",
            "745/745 [==============================] - 1177s 2s/step - loss: 0.3392 - recall: 0.7452 - precision: 0.7347 - dice_coefficient: 0.6608 - binary_accuracy: 0.9845 - val_loss: 0.6884 - val_recall: 0.3215 - val_precision: 0.3635 - val_dice_coefficient: 0.3116 - val_binary_accuracy: 0.9601\n",
            "Epoch 13/15\n",
            "745/745 [==============================] - 1178s 2s/step - loss: 0.3421 - recall: 0.7470 - precision: 0.7378 - dice_coefficient: 0.6579 - binary_accuracy: 0.9853 - val_loss: 0.3442 - val_recall: 0.6343 - val_precision: 0.7551 - val_dice_coefficient: 0.6558 - val_binary_accuracy: 0.9798\n",
            "Epoch 14/15\n",
            "745/745 [==============================] - 1177s 2s/step - loss: 0.3391 - recall: 0.7441 - precision: 0.7366 - dice_coefficient: 0.6609 - binary_accuracy: 0.9848 - val_loss: 0.3552 - val_recall: 0.6519 - val_precision: 0.7553 - val_dice_coefficient: 0.6448 - val_binary_accuracy: 0.9813\n",
            "Epoch 15/15\n",
            "745/745 [==============================] - 1178s 2s/step - loss: 0.3243 - recall: 0.7590 - precision: 0.7466 - dice_coefficient: 0.6757 - binary_accuracy: 0.9851 - val_loss: 0.3485 - val_recall: 0.6538 - val_precision: 0.7980 - val_dice_coefficient: 0.6515 - val_binary_accuracy: 0.9818\n"
          ]
        }
      ],
      "source": [
        "history=model.fit(train_loader,\n",
        "          steps_per_epoch=steps_per_epoch,\n",
        "          epochs=15,\n",
        "          verbose=1,\n",
        "          validation_data=val_loader,\n",
        "          callbacks=model_checkpoint_callback,\n",
        "\n",
        "    \n",
        "          validation_steps=val_steps_per_epoch)"
      ]
    },
    {
      "cell_type": "code",
      "execution_count": 20,
      "metadata": {
        "id": "xOkiBfa1yYcZ"
      },
      "outputs": [],
      "source": []
    },
    {
      "cell_type": "code",
      "source": [
        "model.save('/gdrive/MyDrive/SensorAdjusted-15epochs-5e-5-savethebestonly-recurrent0.2-.h5')\n"
      ],
      "metadata": {
        "id": "XRK7J1ySlA1P"
      },
      "execution_count": 21,
      "outputs": []
    },
    {
      "cell_type": "code",
      "source": [
        "#Load previously saved model\n",
        "from keras.models import load_model\n",
        "model = load_model(\"/gdrive/MyDrive/SensorAdjusted-15epochs-5e-5-savethebestonly-recurrent0.2-.h5\", compile=False)"
      ],
      "metadata": {
        "id": "VYCc69DZwVNl"
      },
      "execution_count": 22,
      "outputs": []
    },
    {
      "cell_type": "code",
      "source": [
        "class GetLoader:\n",
        "    def __init__(self, *, imgs, masks, timesteps, batch_size, squeeze=False):\n",
        "        self.imgs = imgs\n",
        "        self.masks = masks\n",
        "        self.timesteps = timesteps\n",
        "        self.batch_size = batch_size\n",
        "        self.squeeze = squeeze\n",
        "        self.augmentation = tf.keras.Sequential(\n",
        "            [\n",
        "                layers.RandomFlip(\"horizontal_and_vertical\"),\n",
        "                layers.RandomRotation(0.2),\n",
        "            ]\n",
        "        )\n",
        "\n",
        "    def __iter__(self):\n",
        "        return self\n",
        "\n",
        "    def __next__(self):\n",
        "        xs = []\n",
        "        ys = []\n",
        "        for _ in range(self.batch_size):\n",
        "            index = np.random.randint(0, len(self.imgs) - self.timesteps)\n",
        "            xs.append(self.imgs[index : index + self.timesteps])\n",
        "            ys.append(self.masks[index + self.timesteps])\n",
        "        x, y = np.array(xs), np.array(ys)\n",
        "        x = x.squeeze(-1).transpose(0, 2, 3, 1)\n",
        "        xy = self.augmentation(tf.concat((x, y), axis=-1))\n",
        "\n",
        "        x = xy[:, :, :, :3]\n",
        "        y = xy[:, :, :, 3:]\n",
        "        if not self.squeeze:\n",
        "            x = tf.transpose(x, perm=(0, 3, 1, 2))[..., None]\n",
        "            y = tf.expand_dims(y, 1)\n",
        "        # if not tf.reduce_all(y[0] == 0):\n",
        "        #    ipdb.set_trace()\n",
        "        return x, y\n",
        "\n",
        "\n",
        "class DataLoader:\n",
        "    def __init__(\n",
        "        self,\n",
        "        data_folder: str,\n",
        "        *,\n",
        "        timesteps: int = 3,\n",
        "        batch_size=400,\n",
        "        squeeze=False,\n",
        "    ):\n",
        "        self.batch_size = batch_size\n",
        "        self.data_folder = data_folder\n",
        "        self.timesteps = timesteps\n",
        "        self.squeeze = squeeze\n",
        "        train_img_file_names = [\n",
        "            os.path.join(data_folder, \"train_images\", \"images\", fn)\n",
        "            for fn in os.listdir(os.path.join(data_folder, \"train_images\", \"images\"))\n",
        "        ]\n",
        "        train_img_file_names = natsorted(train_img_file_names)\n",
        "        # train_img_file_names.sort(key=lambda x: int(x.split(\"_\")[-1].split(\".\")[0]))\n",
        "        train_mask_file_names = [\n",
        "            fn.replace(\"images\", \"masks\") for fn in train_img_file_names\n",
        "        ]\n",
        "        self.train_imgs = (\n",
        "            np.array(\n",
        "                [\n",
        "                    img_to_array(load_img(fn, color_mode=\"grayscale\"))\n",
        "                    for fn in train_img_file_names\n",
        "                ]\n",
        "            )\n",
        "            / 255\n",
        "        )\n",
        "        self.train_masks = (\n",
        "            np.array(\n",
        "                [\n",
        "                    img_to_array(load_img(fn, color_mode=\"grayscale\"))\n",
        "                    for fn in train_mask_file_names\n",
        "                ]\n",
        "            )\n",
        "            / 255\n",
        "            > 0.5\n",
        "        ).astype(float)\n",
        "\n",
        "        val_img_file_names = [\n",
        "            os.path.join(data_folder, \"val_images\", \"images\", fn)\n",
        "            for fn in os.listdir(os.path.join(data_folder, \"val_images\", \"images\"))\n",
        "        ]\n",
        "        val_img_file_names = natsorted(val_img_file_names)\n",
        "        val_mask_file_names = [\n",
        "            fn.replace(\"images\", \"masks\") for fn in val_img_file_names\n",
        "        ]\n",
        "        self.val_imgs = (\n",
        "            np.array(\n",
        "                [\n",
        "                    img_to_array(load_img(fn, color_mode=\"grayscale\"))\n",
        "                    for fn in val_img_file_names\n",
        "                ]\n",
        "            )\n",
        "            / 255\n",
        "        )\n",
        "        self.val_masks = (\n",
        "            np.array(\n",
        "                [\n",
        "                    img_to_array(load_img(fn, color_mode=\"grayscale\"))\n",
        "                    for fn in val_mask_file_names\n",
        "                ]\n",
        "            )\n",
        "            / 255\n",
        "            > 0.5\n",
        "        ).astype(float)\n",
        "\n",
        "    def get_loaders(self):\n",
        "        return (\n",
        "            GetLoader(\n",
        "                imgs=self.train_imgs,\n",
        "                masks=self.train_masks,\n",
        "                timesteps=self.timesteps,\n",
        "                batch_size=self.batch_size,\n",
        "                squeeze=self.squeeze,\n",
        "            ),\n",
        "            GetLoader(\n",
        "                imgs=self.val_imgs,\n",
        "                masks=self.val_masks,\n",
        "                timesteps=self.timesteps,\n",
        "                batch_size=self.batch_size,\n",
        "                squeeze=self.squeeze,\n",
        "            ),\n",
        "        )"
      ],
      "metadata": {
        "id": "bvy5rN3FwdIu"
      },
      "execution_count": 23,
      "outputs": []
    },
    {
      "cell_type": "code",
      "source": [
        "data_folder = \"/gdrive/MyDrive/adjustedROI/final_output\"\n",
        "train,val_loader = DataLoader(data_folder, batch_size=477).get_loaders()"
      ],
      "metadata": {
        "id": "uEGBBWUOwgCW"
      },
      "execution_count": 24,
      "outputs": []
    },
    {
      "cell_type": "code",
      "source": [
        "a, b = val_loader.__next__()"
      ],
      "metadata": {
        "id": "n2xzXRBnwf_B"
      },
      "execution_count": 25,
      "outputs": []
    },
    {
      "cell_type": "code",
      "source": [
        "import random\n",
        "test_img_number = random.randint(0, a.shape[0]-1)\n",
        "test_img = a[test_img_number]\n",
        "ground_truth=b[test_img_number]\n",
        "#test_img_norm=test_img[:,:,0][:,:,None]\n",
        "test_img_input=np.expand_dims(test_img, 0)\n",
        "ground_truth.shape"
      ],
      "metadata": {
        "colab": {
          "base_uri": "https://localhost:8080/"
        },
        "id": "ulSduXwmwf8c",
        "outputId": "75255b39-5850-44bf-f7a8-e87748e6fc37"
      },
      "execution_count": 26,
      "outputs": [
        {
          "output_type": "execute_result",
          "data": {
            "text/plain": [
              "TensorShape([1, 256, 256, 1])"
            ]
          },
          "metadata": {},
          "execution_count": 26
        }
      ]
    },
    {
      "cell_type": "code",
      "source": [
        "import random\n",
        "test_img_number = random.randint(0, a.shape[0]-1)\n",
        "test_img = a[test_img_number]\n",
        "ground_truth=b[test_img_number]\n",
        "#test_img_norm=test_img[:,:,0][:,:,None]\n",
        "test_img_input=np.expand_dims(test_img, 0)\n",
        "\n",
        "prediction = (model.predict(test_img_input)[0,0,:,:,0] > 0.5).astype(np.uint8)\n",
        "plt.figure(figsize=(16, 8))\n",
        "plt.subplot(231)\n",
        "plt.axis('off')\n",
        "plt.title('Testing Image')\n",
        "plt.imshow(test_img[0,:,:,0], cmap='gray')\n",
        "\n",
        "\n",
        "plt.subplot(232)\n",
        "plt.title('Real Mask ')\n",
        "plt.axis('off')\n",
        "plt.imshow(ground_truth[0,:,:,0], cmap='gray')\n",
        "plt.subplot(233)\n",
        "plt.axis('off')\n",
        "plt.title('Predicted mask')\n",
        "plt.imshow(prediction, cmap='gray')\n",
        "\n",
        "plt.show()"
      ],
      "metadata": {
        "colab": {
          "base_uri": "https://localhost:8080/",
          "height": 245
        },
        "id": "oGUD1iiqwf5f",
        "outputId": "8c2e7cfd-a077-46d0-dec2-b47254a4d794"
      },
      "execution_count": 52,
      "outputs": [
        {
          "output_type": "display_data",
          "data": {
            "text/plain": [
              "<Figure size 1152x576 with 3 Axes>"
            ],
            "image/png": "[encoded data removed]"
          },
          "metadata": {
            "needs_background": "light"
          }
        }
      ]
    },
    {
      "cell_type": "code",
      "source": [
        "#IoU for a single image\n",
        "from tensorflow.keras.metrics import MeanIoU\n",
        "n_classes = 2\n",
        "IOU_keras = MeanIoU(num_classes=n_classes)  \n",
        "IOU_keras.update_state(ground_truth[0,:,:,0], prediction)\n",
        "print(\"Mean IoU =\", IOU_keras.result().numpy())"
      ],
      "metadata": {
        "colab": {
          "base_uri": "https://localhost:8080/"
        },
        "id": "u7whuUL9wrB7",
        "outputId": "53f18656-617f-4359-dc63-51ba4c34bc1d"
      },
      "execution_count": 53,
      "outputs": [
        {
          "output_type": "stream",
          "name": "stdout",
          "text": [
            "Mean IoU = 0.8577975\n"
          ]
        }
      ]
    },
    {
      "cell_type": "code",
      "source": [
        "num_val_images = len(os.listdir('/gdrive/MyDrive/adjustedROI/final_output/val_images/images'))\n",
        "print(num_val_images)"
      ],
      "metadata": {
        "colab": {
          "base_uri": "https://localhost:8080/"
        },
        "id": "pkO9AOqMzkOv",
        "outputId": "d92735a6-d97f-4b41-b5aa-3c1ac08312e3"
      },
      "execution_count": 55,
      "outputs": [
        {
          "output_type": "stream",
          "name": "stdout",
          "text": [
            "477\n"
          ]
        }
      ]
    },
    {
      "cell_type": "code",
      "source": [
        "import pandas as pd\n",
        "\n",
        "IoU_values = []\n",
        "for img in range(0, a.shape[0]):\n",
        "    temp_img = a[img]\n",
        "    ground_truth=b[img]\n",
        "    temp_img_input=np.expand_dims(temp_img, 0)\n",
        "    prediction = (model.predict(temp_img_input)[0,0,:,:,0]> 0.5).astype(np.uint8)\n",
        "    \n",
        "    IoU = MeanIoU(num_classes=n_classes)\n",
        "    IoU.update_state(ground_truth[0,:,:,0], prediction)\n",
        "    IoU = IoU.result().numpy()\n",
        "    IoU_values.append(IoU)\n",
        "\n",
        "    print(IoU)\n",
        "    \n",
        "\n",
        "\n",
        "df = pd.DataFrame(IoU_values, columns=[\"IoU\"])\n",
        "df = df[df.IoU != 1.0]    \n",
        "mean_IoU = df.mean().values\n",
        "print(\"Mean IoU is: \", mean_IoU)"
      ],
      "metadata": {
        "colab": {
          "base_uri": "https://localhost:8080/"
        },
        "id": "m0_26eWGwq-c",
        "outputId": "3822e566-7daf-4256-8c67-ef9206d41f58"
      },
      "execution_count": 56,
      "outputs": [
        {
          "output_type": "stream",
          "name": "stdout",
          "text": [
            "1.0\n",
            "0.7602928\n",
            "1.0\n",
            "0.4997635\n",
            "0.50502145\n",
            "1.0\n",
            "0.5797482\n",
            "0.49993134\n",
            "0.62490904\n",
            "0.6440548\n",
            "0.49019623\n",
            "0.64466226\n",
            "0.61679435\n",
            "0.5750706\n",
            "1.0\n",
            "0.801533\n",
            "0.49918365\n",
            "0.48575592\n",
            "1.0\n",
            "1.0\n",
            "0.87321997\n",
            "1.0\n",
            "1.0\n",
            "0.53741175\n",
            "0.4975891\n",
            "0.53741175\n",
            "0.6058946\n",
            "0.49993134\n",
            "1.0\n",
            "1.0\n",
            "1.0\n",
            "0.6041299\n",
            "0.8577975\n",
            "0.58980405\n",
            "1.0\n",
            "0.54139453\n",
            "0.5511654\n",
            "0.592387\n",
            "0.48138428\n",
            "0.7982832\n",
            "0.6040289\n",
            "0.80954885\n",
            "0.5797482\n",
            "0.62490904\n",
            "0.5395103\n",
            "0.6040289\n",
            "0.6453279\n",
            "1.0\n",
            "1.0\n",
            "0.7807131\n",
            "0.4982311\n",
            "0.66424406\n",
            "0.48329926\n",
            "0.48692322\n",
            "0.5423883\n",
            "0.4999237\n",
            "0.5898627\n",
            "1.0\n",
            "0.7344574\n",
            "1.0\n",
            "1.0\n",
            "1.0\n",
            "0.6772063\n",
            "0.7081872\n",
            "0.4999237\n",
            "0.6513666\n",
            "0.84376836\n",
            "0.8261925\n",
            "0.592387\n",
            "1.0\n",
            "0.49491882\n",
            "1.0\n",
            "1.0\n",
            "0.4975891\n",
            "0.71465147\n",
            "0.8119811\n",
            "1.0\n",
            "0.4923935\n",
            "0.811051\n",
            "1.0\n",
            "0.49153137\n",
            "0.49860382\n",
            "0.53558797\n",
            "0.631341\n",
            "0.68821144\n",
            "0.49900818\n",
            "0.4998169\n",
            "0.7921154\n",
            "1.0\n",
            "1.0\n",
            "0.4999237\n",
            "0.6542629\n",
            "0.5317144\n",
            "0.62411046\n",
            "0.49899292\n",
            "1.0\n",
            "0.6699565\n",
            "0.7815497\n",
            "0.8530511\n",
            "0.49970245\n",
            "0.54964596\n",
            "0.6334889\n",
            "1.0\n",
            "0.59478515\n",
            "0.7245589\n",
            "0.8119811\n",
            "0.48529053\n",
            "0.49999237\n",
            "0.7245589\n",
            "0.8530511\n",
            "0.7454109\n",
            "0.5750706\n",
            "0.88888586\n",
            "1.0\n",
            "1.0\n",
            "0.5426039\n",
            "1.0\n",
            "1.0\n",
            "0.6452216\n",
            "0.5476685\n",
            "0.64466226\n",
            "0.8688442\n",
            "0.7815497\n",
            "0.5547015\n",
            "1.0\n",
            "0.811051\n",
            "0.49573517\n",
            "0.79949737\n",
            "0.5409457\n",
            "0.5673946\n",
            "0.59782076\n",
            "0.49570465\n",
            "0.49996185\n",
            "0.48138428\n",
            "0.76921034\n",
            "0.7993604\n",
            "0.49536133\n",
            "0.82337034\n",
            "1.0\n",
            "0.60795546\n",
            "0.7993604\n",
            "0.4997635\n",
            "0.8420868\n",
            "1.0\n",
            "0.6772063\n",
            "0.52650756\n",
            "0.6279653\n",
            "0.79949737\n",
            "0.613982\n",
            "0.49819183\n",
            "1.0\n",
            "0.7807131\n",
            "1.0\n",
            "0.52650756\n",
            "0.7485192\n",
            "0.8059395\n",
            "1.0\n",
            "0.7912309\n",
            "0.49974066\n",
            "1.0\n",
            "0.5367651\n",
            "0.7831076\n",
            "0.54139453\n",
            "0.6061093\n",
            "1.0\n",
            "0.49982452\n",
            "0.78777087\n",
            "1.0\n",
            "0.776019\n",
            "0.5395499\n",
            "0.82696784\n",
            "1.0\n",
            "1.0\n",
            "0.49982452\n",
            "0.776019\n",
            "1.0\n",
            "0.68821144\n",
            "1.0\n",
            "0.776019\n",
            "0.7912309\n",
            "1.0\n",
            "0.49923706\n",
            "0.5673946\n",
            "0.5476685\n",
            "0.85413706\n",
            "1.0\n",
            "0.6867099\n",
            "0.49570465\n",
            "1.0\n",
            "0.64466226\n",
            "0.7602928\n",
            "0.8921988\n",
            "0.6513676\n",
            "0.68519473\n",
            "0.49590302\n",
            "0.49916077\n",
            "0.4998169\n",
            "0.4986267\n",
            "0.49970245\n",
            "0.6718817\n",
            "0.5794708\n",
            "0.7759255\n",
            "1.0\n",
            "0.84011924\n",
            "0.5594511\n",
            "0.6590172\n",
            "0.63026834\n",
            "1.0\n",
            "0.6448749\n",
            "0.48207855\n",
            "0.49998474\n",
            "0.54139453\n",
            "0.8752878\n",
            "1.0\n",
            "0.49742126\n",
            "0.8846641\n",
            "0.49961853\n",
            "0.8766134\n",
            "1.0\n",
            "0.61641514\n",
            "0.8722724\n",
            "0.49919128\n",
            "0.769717\n",
            "1.0\n",
            "1.0\n",
            "0.75599545\n",
            "0.81612027\n",
            "0.5750706\n",
            "0.70282185\n",
            "1.0\n",
            "1.0\n",
            "1.0\n",
            "0.49819183\n",
            "0.59081596\n",
            "0.7081872\n",
            "0.61641514\n",
            "0.68519473\n",
            "0.49022675\n",
            "0.49918365\n",
            "0.78510857\n",
            "0.49970245\n",
            "0.6503662\n",
            "0.8379972\n",
            "1.0\n",
            "1.0\n",
            "0.6058946\n",
            "0.5500004\n",
            "0.86290014\n",
            "0.86616755\n",
            "0.82672334\n",
            "0.4999466\n",
            "0.6058946\n",
            "0.49970245\n",
            "0.49819183\n",
            "0.4998169\n",
            "0.49874115\n",
            "0.49536896\n",
            "0.7993604\n",
            "0.7659358\n",
            "0.4923935\n",
            "0.62490904\n",
            "0.49916077\n",
            "0.6513676\n",
            "0.8825879\n",
            "0.82696784\n",
            "0.7454109\n",
            "0.49555206\n",
            "0.6041299\n",
            "0.605698\n",
            "0.776019\n",
            "0.6542629\n",
            "0.86616755\n",
            "0.6279653\n",
            "1.0\n",
            "0.4980011\n",
            "0.8654789\n",
            "1.0\n",
            "0.49923706\n",
            "0.54381436\n",
            "0.49474335\n",
            "0.8864763\n",
            "0.5162188\n",
            "1.0\n",
            "0.6155435\n",
            "0.49996948\n",
            "0.48989105\n",
            "1.0\n",
            "0.7676654\n",
            "0.53741175\n",
            "0.83672225\n",
            "0.5471109\n",
            "1.0\n",
            "0.78808355\n",
            "1.0\n",
            "0.4998169\n",
            "0.8688442\n",
            "0.5511654\n",
            "0.63026834\n",
            "0.8119811\n",
            "0.7308203\n",
            "0.7676654\n",
            "0.8722724\n",
            "0.49022675\n",
            "0.49944305\n",
            "0.61715055\n",
            "0.6088182\n",
            "0.49993134\n",
            "0.48329926\n",
            "1.0\n",
            "0.68519473\n",
            "1.0\n",
            "0.6282108\n",
            "1.0\n",
            "1.0\n",
            "0.49153137\n",
            "1.0\n",
            "0.49474335\n",
            "0.49153137\n",
            "0.4981537\n",
            "0.4998474\n",
            "0.4997635\n",
            "1.0\n",
            "1.0\n",
            "0.8540455\n",
            "0.49969482\n",
            "0.5476685\n",
            "0.5476685\n",
            "1.0\n",
            "0.49947357\n",
            "0.55391335\n",
            "0.86616755\n",
            "1.0\n",
            "0.49022675\n",
            "0.8921988\n",
            "0.4950714\n",
            "0.6058946\n",
            "0.49742126\n",
            "0.83672225\n",
            "1.0\n",
            "1.0\n",
            "0.5794708\n",
            "1.0\n",
            "1.0\n",
            "1.0\n",
            "0.77074003\n",
            "1.0\n",
            "0.49923706\n",
            "0.605698\n",
            "1.0\n",
            "1.0\n",
            "0.61641514\n",
            "0.50558376\n",
            "0.54139453\n",
            "1.0\n",
            "0.49742126\n",
            "1.0\n",
            "0.6041299\n",
            "0.5742662\n",
            "0.49993134\n",
            "0.54381436\n",
            "1.0\n",
            "1.0\n",
            "0.49967194\n",
            "1.0\n",
            "0.49536896\n",
            "0.61209613\n",
            "0.6856377\n",
            "0.88888586\n",
            "0.8540455\n",
            "0.71465147\n",
            "0.6772063\n",
            "0.5314398\n",
            "0.72971475\n",
            "0.8000951\n",
            "0.6513676\n",
            "0.7921154\n",
            "0.49899292\n",
            "0.5974814\n",
            "0.52813745\n",
            "1.0\n",
            "1.0\n",
            "0.776019\n",
            "1.0\n",
            "0.49835205\n",
            "0.52650756\n",
            "0.58899933\n",
            "0.49853516\n",
            "0.769717\n",
            "0.68689966\n",
            "0.80954885\n",
            "1.0\n",
            "1.0\n",
            "0.8730055\n",
            "1.0\n",
            "0.49777222\n",
            "1.0\n",
            "1.0\n",
            "0.49902344\n",
            "0.4998474\n",
            "0.49536896\n",
            "0.49998474\n",
            "0.80954885\n",
            "1.0\n",
            "0.49479675\n",
            "0.6452216\n",
            "1.0\n",
            "0.49590302\n",
            "1.0\n",
            "1.0\n",
            "0.8829737\n",
            "0.615629\n",
            "0.6155435\n",
            "0.49980164\n",
            "0.48918152\n",
            "0.5423883\n",
            "1.0\n",
            "0.5428559\n",
            "0.48918152\n",
            "0.57884204\n",
            "0.6040289\n",
            "0.7714081\n",
            "1.0\n",
            "0.579136\n",
            "0.78808355\n",
            "0.8701072\n",
            "0.60795546\n",
            "0.52801687\n",
            "0.6953676\n",
            "0.6058946\n",
            "1.0\n",
            "1.0\n",
            "0.74058944\n",
            "0.6155435\n",
            "0.4999466\n",
            "0.4901886\n",
            "0.6334889\n",
            "0.49999237\n",
            "1.0\n",
            "0.8598105\n",
            "1.0\n",
            "1.0\n",
            "0.62490904\n",
            "0.49967194\n",
            "0.4989624\n",
            "0.6706969\n",
            "1.0\n",
            "0.50558376\n",
            "0.72856694\n",
            "0.4998169\n",
            "0.499794\n",
            "1.0\n",
            "0.57370704\n",
            "1.0\n",
            "0.8503336\n",
            "0.49999237\n",
            "1.0\n",
            "0.5832344\n",
            "1.0\n",
            "0.8577975\n",
            "0.7356396\n",
            "0.49894714\n",
            "0.631341\n",
            "1.0\n",
            "1.0\n",
            "1.0\n",
            "1.0\n",
            "0.60795546\n",
            "0.58899933\n",
            "0.4998169\n",
            "0.52813745\n",
            "0.8654789\n",
            "0.68506825\n",
            "0.6453279\n",
            "0.631341\n",
            "0.8651602\n",
            "0.49401093\n",
            "0.54381436\n",
            "Mean IoU is:  [0.63025105]\n"
          ]
        }
      ]
    },
    {
      "cell_type": "code",
      "source": [],
      "metadata": {
        "id": "3POz2HE_wq7g"
      },
      "execution_count": null,
      "outputs": []
    }
  ],
  "metadata": {
    "accelerator": "GPU",
    "colab": {
      "provenance": [],
      "authorship_tag": "ABX9TyM2h29lK+xpVYpTaXdhnDZP",
      "include_colab_link": true
    },
    "kernelspec": {
      "display_name": "Python 3",
      "name": "python3"
    },
    "language_info": {
      "name": "python"
    }
  },
  "nbformat": 4,
  "nbformat_minor": 0
}