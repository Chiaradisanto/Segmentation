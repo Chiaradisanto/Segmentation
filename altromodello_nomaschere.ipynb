{
  "cells": [
    {
      "cell_type": "markdown",
      "metadata": {
        "id": "view-in-github",
        "colab_type": "text"
      },
      "source": [
        "<a href=\"https://colab.research.google.com/github/Chiaradisanto/Segmentation/blob/main/altromodello_nomaschere.ipynb\" target=\"_parent\"><img src=\"https://colab.research.google.com/assets/colab-badge.svg\" alt=\"Open In Colab\"/></a>"
      ]
    },
    {
      "cell_type": "code",
      "execution_count": 1,
      "metadata": {
        "colab": {
          "base_uri": "https://localhost:8080/"
        },
        "id": "FfrckOyCA98F",
        "outputId": "2a93f3c4-0983-40c4-f3d3-8e78f5772253"
      },
      "outputs": [
        {
          "output_type": "stream",
          "name": "stdout",
          "text": [
            "Mounted at /gdrive\n"
          ]
        }
      ],
      "source": [
        "\n",
        "from google.colab import drive\n",
        "\n",
        "drive.mount('/gdrive')"
      ]
    },
    {
      "cell_type": "code",
      "execution_count": 2,
      "metadata": {
        "id": "HW19XTn9BAAC"
      },
      "outputs": [],
      "source": [
        "import tensorflow as tf"
      ]
    },
    {
      "cell_type": "code",
      "execution_count": 3,
      "metadata": {
        "id": "HVy0CQsJLMOY"
      },
      "outputs": [],
      "source": [
        "# https://github.com/kivijoshi/TimeDistributedImageDataGenerator\n",
        "import os\n",
        "import sys\n",
        "\n",
        "import tensorflow as tf\n",
        "from tensorflow import keras\n",
        "from tensorflow.keras.preprocessing.image import ImageDataGenerator\n",
        "import types\n",
        "import numpy as np\n",
        "from tensorflow.keras.preprocessing.image import array_to_img, img_to_array, load_img\n",
        "from tensorflow.keras.preprocessing.image import DirectoryIterator\n",
        "\n",
        "class TimeDistributedImageDataGenerator(ImageDataGenerator):\n",
        "    def __init__(self,\n",
        "                 featurewise_center=False,\n",
        "                 samplewise_center=False,\n",
        "                 featurewise_std_normalization=False,\n",
        "                 samplewise_std_normalization=False,\n",
        "                 zca_whitening=False,\n",
        "                 zca_epsilon=1e-6,\n",
        "                 rotation_range=0,\n",
        "                 width_shift_range=0.,\n",
        "                 height_shift_range=0.,\n",
        "                 brightness_range=None,\n",
        "                 shear_range=0.,\n",
        "                 zoom_range=0.,\n",
        "                 channel_shift_range=0.,\n",
        "                 fill_mode='nearest',\n",
        "                 cval=0.,\n",
        "                 horizontal_flip=False,\n",
        "                 vertical_flip=False,\n",
        "                 rescale=None,\n",
        "                 preprocessing_function=None,\n",
        "                 data_format='channels_last',\n",
        "                 validation_split=0.0,\n",
        "                 # interpolation_order=1,\n",
        "                 dtype='float32',\n",
        "                 time_steps = 5):\n",
        "\n",
        "                 self.time_steps = time_steps\n",
        "\n",
        "                 super().__init__(featurewise_center=featurewise_center,\n",
        "                                  samplewise_center=samplewise_center,\n",
        "                                  featurewise_std_normalization=featurewise_std_normalization,\n",
        "                                  samplewise_std_normalization=samplewise_std_normalization,\n",
        "                                  zca_whitening=zca_whitening,\n",
        "                                  zca_epsilon=zca_epsilon,\n",
        "                                  rotation_range=rotation_range,\n",
        "                                  width_shift_range=width_shift_range,\n",
        "                                  height_shift_range=height_shift_range,\n",
        "                                  brightness_range=brightness_range,\n",
        "                                  shear_range=shear_range,\n",
        "                                  zoom_range=zoom_range,\n",
        "                                  channel_shift_range=channel_shift_range,\n",
        "                                  fill_mode=fill_mode,\n",
        "                                  cval=cval,\n",
        "                                  horizontal_flip=horizontal_flip,\n",
        "                                  vertical_flip=vertical_flip,\n",
        "                                  rescale=rescale,\n",
        "                                  preprocessing_function=preprocessing_function,\n",
        "                                  data_format=data_format,\n",
        "                                  validation_split=validation_split,\n",
        "                                  # interpolation_order=interpolation_order,\n",
        "                                  dtype=dtype)\n",
        "    \"\"\"Takes the path to a directory & generates batches of augmented data.\n",
        "        # Arguments\n",
        "            directory: string, path to the target directory.\n",
        "                It should contain one subdirectory per class.\n",
        "                Any PNG, JPG, BMP, PPM or TIF images\n",
        "                inside each of the subdirectories directory tree\n",
        "                will be included in the generator.\n",
        "                See [this script](\n",
        "                https://gist.github.com/fchollet/0830affa1f7f19fd47b06d4cf89ed44d)\n",
        "                for more details.\n",
        "            target_size: Tuple of integers `(height, width)`,\n",
        "                default: `(256, 256)`.\n",
        "                The dimensions to which all images found will be resized.\n",
        "            color_mode: One of \"grayscale\", \"rgb\", \"rgba\". Default: \"rgb\".\n",
        "                Whether the images will be converted to\n",
        "                have 1, 3, or 4 channels.\n",
        "            classes: Optional list of class subdirectories\n",
        "                (e.g. `['dogs', 'cats']`). Default: None.\n",
        "                If not provided, the list of classes will be automatically\n",
        "                inferred from the subdirectory names/structure\n",
        "                under `directory`, where each subdirectory will\n",
        "                be treated as a different class\n",
        "                (and the order of the classes, which will map to the label\n",
        "                indices, will be alphanumeric).\n",
        "                The dictionary containing the mapping from class names to class\n",
        "                indices can be obtained via the attribute `class_indices`.\n",
        "            class_mode: One of \"categorical\", \"binary\", \"sparse\",\n",
        "                \"input\", or None. Default: \"categorical\".\n",
        "                Determines the type of label arrays that are returned:\n",
        "                - \"categorical\" will be 2D one-hot encoded labels,\n",
        "                - \"binary\" will be 1D binary labels,\n",
        "                    \"sparse\" will be 1D integer labels,\n",
        "                - \"input\" will be images identical\n",
        "                    to input images (mainly used to work with autoencoders).\n",
        "                - If None, no labels are returned\n",
        "                  (the generator will only yield batches of image data,\n",
        "                  which is useful to use with `model.predict_generator()`).\n",
        "                  Please note that in case of class_mode None,\n",
        "                  the data still needs to reside in a subdirectory\n",
        "                  of `directory` for it to work correctly.\n",
        "            batch_size: Size of the batches of data (default: 32).\n",
        "            shuffle: Whether to shuffle the data (default: True)\n",
        "                If set to False, sorts the data in alphanumeric order.\n",
        "            seed: Optional random seed for shuffling and transformations.\n",
        "            save_to_dir: None or str (default: None).\n",
        "                This allows you to optionally specify\n",
        "                a directory to which to save\n",
        "                the augmented pictures being generated\n",
        "                (useful for visualizing what you are doing).\n",
        "            save_prefix: Str. Prefix to use for filenames of saved pictures\n",
        "                (only relevant if `save_to_dir` is set).\n",
        "            save_format: One of \"png\", \"jpeg\"\n",
        "                (only relevant if `save_to_dir` is set). Default: \"png\".\n",
        "            follow_links: Whether to follow symlinks inside\n",
        "                class subdirectories (default: False).\n",
        "            subset: Subset of data (`\"training\"` or `\"validation\"`) if\n",
        "                `validation_split` is set in `ImageDataGenerator`.\n",
        "            interpolation: Interpolation method used to\n",
        "                resample the image if the\n",
        "                target size is different from that of the loaded image.\n",
        "                Supported methods are `\"nearest\"`, `\"bilinear\"`,\n",
        "                and `\"bicubic\"`.\n",
        "                If PIL version 1.1.3 or newer is installed, `\"lanczos\"` is also\n",
        "                supported. If PIL version 3.4.0 or newer is installed,\n",
        "                `\"box\"` and `\"hamming\"` are also supported.\n",
        "                By default, `\"nearest\"` is used.\n",
        "        # Returns\n",
        "            A `DirectoryIterator` yielding tuples of `(x, y)`\n",
        "                where `x` is a numpy array containing a batch\n",
        "                of images with shape `(batch_size, *target_size, channels)`\n",
        "                and `y` is a numpy array of corresponding labels.\n",
        "        \"\"\"\n",
        "\n",
        "    def flow_from_directory(self,\n",
        "                            directory,\n",
        "                            target_size=(256, 256),\n",
        "                            color_mode='rgb',\n",
        "                            classes=None,\n",
        "                            class_mode='categorical',\n",
        "                            batch_size=32,\n",
        "                            shuffle=True,\n",
        "                            seed=None,\n",
        "                            save_to_dir=None,\n",
        "                            save_prefix='',\n",
        "                            save_format='png',\n",
        "                            follow_links=False,\n",
        "                            subset=None,\n",
        "                            interpolation='nearest'):\n",
        "\n",
        "        return TimeDistributedDirectoryIterator(\n",
        "            directory,\n",
        "            self,\n",
        "            target_size=target_size,\n",
        "            color_mode=color_mode,\n",
        "            classes=classes,\n",
        "            class_mode=class_mode,\n",
        "            data_format=self.data_format,\n",
        "            batch_size=batch_size,\n",
        "            shuffle=shuffle,\n",
        "            seed=seed,\n",
        "            save_to_dir=save_to_dir,\n",
        "            save_prefix=save_prefix,\n",
        "            save_format=save_format,\n",
        "            follow_links=follow_links,\n",
        "            subset=subset,\n",
        "            interpolation=interpolation\n",
        "        )\n",
        "        \n",
        "\n",
        "\n",
        "class TimeDistributedDirectoryIterator(DirectoryIterator):\n",
        "\n",
        "    def _get_batches_of_transformed_samples(self, index_array):\n",
        "        \"\"\"Gets a batch of transformed samples.\n",
        "        # Arguments\n",
        "            index_array: Array of sample indices to include in batch.\n",
        "        # Returns\n",
        "            A batch of transformed samples.\n",
        "        \"\"\"\n",
        "        TimeSteps = self.image_data_generator.time_steps\n",
        "        batch_x = np.zeros((len(index_array),) + (TimeSteps,) + self.image_shape, dtype=self.dtype)#KJ\n",
        "        # build batch of image data\n",
        "        # self.filepaths is dynamic, is better to call it once outside the loop\n",
        "        filepaths = self.filepaths\n",
        "        for i, j in enumerate(index_array):\n",
        "            for k in reversed(range(0,TimeSteps)):\n",
        "                try:\n",
        "                    img = load_img(filepaths[j-k],\n",
        "                                color_mode=self.color_mode,\n",
        "                                target_size=self.target_size,\n",
        "                                interpolation=self.interpolation)\n",
        "                    x = img_to_array(img, data_format=self.data_format)\n",
        "                except:\n",
        "                    print(\"Unexpected error:\", sys.exc_info())\n",
        "                    pass\n",
        "                # Pillow images should be closed after `load_img`,\n",
        "                # but not PIL images.\n",
        "                if hasattr(img, 'close'):\n",
        "                    img.close()\n",
        "                if self.image_data_generator:\n",
        "                    params = self.image_data_generator.get_random_transform(x.shape)\n",
        "                    x = self.image_data_generator.apply_transform(x, params)\n",
        "                    x = self.image_data_generator.standardize(x)\n",
        "                batch_x[i][k] = x\n",
        "        # optionally save augmented images to disk for debugging purposes\n",
        "        if self.save_to_dir:\n",
        "            for i, j in enumerate(index_array):\n",
        "                img = array_to_img(batch_x[i], self.data_format, scale=True)\n",
        "                fname = '{prefix}_{index}_{hash}.{format}'.format(\n",
        "                    prefix=self.save_prefix,\n",
        "                    index=j,\n",
        "                    hash=np.random.randint(1e7),\n",
        "                    format=self.save_format)\n",
        "                img.save(os.path.join(self.save_to_dir, fname))\n",
        "        # build batch of labels\n",
        "        if self.class_mode == 'input':\n",
        "            batch_y = batch_x.copy()\n",
        "        elif self.class_mode in {'binary', 'sparse'}:\n",
        "            batch_y = np.empty(len(batch_x), dtype=self.dtype)\n",
        "            for i, n_observation in enumerate(index_array):\n",
        "                batch_y[i] = self.classes[n_observation]\n",
        "        elif self.class_mode == 'categorical':\n",
        "            batch_y = np.zeros((len(batch_x), TimeSteps, len(self.class_indices)),\n",
        "                               dtype=self.dtype)\n",
        "            for i, n_observation in enumerate(index_array):\n",
        "                for q in reversed(range(0,TimeSteps)):\n",
        "                    batch_y[i,q,self.classes[n_observation-q]] = 1.\n",
        "        elif self.class_mode == 'multi_output':\n",
        "            batch_y = [output[index_array] for output in self.labels]\n",
        "        elif self.class_mode == 'raw':\n",
        "            batch_y = self.labels[index_array]\n",
        "        else:\n",
        "            return batch_x\n",
        "        if self.sample_weight is None:\n",
        "            return batch_x, batch_y\n",
        "        else:\n",
        "            return batch_x, batch_y, self.sample_weight[index_array]"
      ]
    },
    {
      "cell_type": "code",
      "execution_count": 4,
      "metadata": {
        "id": "TOubSjacBL6G"
      },
      "outputs": [],
      "source": [
        "\n",
        "seed=42\n",
        "from keras.preprocessing.image import ImageDataGenerator\n",
        "\n",
        "\n",
        "img_data_gen_args = dict(rescale=1./255,\n",
        "                     rotation_range=90,\n",
        "                     zoom_range=0.2,\n",
        "                     brightness_range=[0.3,0.9],\n",
        "\n",
        "                     width_shift_range=0.3,\n",
        "                     height_shift_range=0.3,\n",
        "                     shear_range=0.5,\n",
        "         \n",
        "                     horizontal_flip=True,\n",
        "                     vertical_flip=True,\n",
        "                     fill_mode='constant')\n",
        "\n",
        "mask_data_gen_args = dict(\n",
        "                     rotation_range=90,\n",
        "                     zoom_range=0.2,\n",
        "                     brightness_range=[0.3,0.9],\n",
        "\n",
        "                     width_shift_range=0.3,\n",
        "                     height_shift_range=0.3,\n",
        "                     shear_range=0.5,\n",
        "    \n",
        "                     horizontal_flip=True,\n",
        "                     vertical_flip=True,\n",
        "                     fill_mode='constant',\n",
        "                     preprocessing_function = lambda x: np.where(x>0, 1, 0).astype(x.dtype)\n",
        "                \n",
        "                     \n",
        "                     ) #Binarize the output again. \n",
        "\n",
        "image_data_generator = ImageDataGenerator(**img_data_gen_args)\n",
        "mask_data_generator = ImageDataGenerator(**mask_data_gen_args)"
      ]
    },
    {
      "cell_type": "code",
      "execution_count": 5,
      "metadata": {
        "id": "8SyTIieBBO3r"
      },
      "outputs": [],
      "source": [
        "train_img_path = \"/gdrive/MyDrive/FOLD5/train/train_images\"\n",
        "train_mask_path = \"/gdrive/MyDrive/FOLD5/train/train_masks\"\n",
        "\n",
        "val_img_path = \"/gdrive/MyDrive/FOLD5/train/val_images\"\n",
        "val_mask_path = \"/gdrive/MyDrive/FOLD5/train/val_masks\"\n"
      ]
    },
    {
      "cell_type": "code",
      "execution_count": 45,
      "metadata": {
        "colab": {
          "base_uri": "https://localhost:8080/"
        },
        "id": "TnSqn4IiBTlj",
        "outputId": "d07c36c7-98dd-4e18-c3eb-28811ed429a0"
      },
      "outputs": [
        {
          "output_type": "stream",
          "name": "stdout",
          "text": [
            "Found 1804 images belonging to 1 classes.\n",
            "Found 1804 images belonging to 1 classes.\n",
            "Found 381 images belonging to 1 classes.\n",
            "Found 381 images belonging to 1 classes.\n"
          ]
        }
      ],
      "source": [
        "batch_size=3\n",
        "image_generator = image_data_generator.flow_from_directory(train_img_path, \n",
        "                                                           seed=seed, \n",
        "                                                           batch_size=batch_size,\n",
        "                                                           color_mode = 'grayscale',\n",
        "                                                           \n",
        "                                                           target_size=(256,256),\n",
        "                                                           \n",
        "                                                           class_mode=None)  #Very important to set this otherwise it returns multiple numpy arrays \n",
        "                                                                            #thinking class mode is binary.\n",
        "\n",
        "mask_generator = mask_data_generator.flow_from_directory(train_mask_path, \n",
        "                                                         seed=seed, \n",
        "                                                         batch_size=batch_size,\n",
        "                                                         color_mode = 'grayscale',\n",
        "\n",
        "                                                         target_size=(256,256)  , #Read masks in grayscale\n",
        "                                                         class_mode=None)\n",
        "\n",
        "\n",
        "valid_img_generator = image_data_generator.flow_from_directory(val_img_path, \n",
        "                                                               seed=seed, \n",
        "                                                               batch_size=381, \n",
        "                                                               color_mode = 'grayscale', \n",
        "                                                               \n",
        "                                                               target_size=(256,256),\n",
        "                                                               class_mode=None) #Default batch size 32, if not specified here\n",
        "valid_mask_generator = mask_data_generator.flow_from_directory(val_mask_path, \n",
        "                                                               seed=seed, \n",
        "                                                               batch_size=381, \n",
        "                                                               target_size=(256,256),\n",
        "                                                               \n",
        "                                                               color_mode = 'grayscale',   #Read masks in grayscale\n",
        "                                                               class_mode=None)  #Default batch size 32, if not specified here\n",
        "\n",
        "\n",
        "\n",
        "\n",
        "\n",
        "\n",
        "train_generator = zip(image_generator, mask_generator)\n",
        "val_generator = zip(valid_img_generator, valid_mask_generator)"
      ]
    },
    {
      "cell_type": "code",
      "execution_count": 6,
      "metadata": {
        "id": "003xe-avANHp"
      },
      "outputs": [],
      "source": [
        ""
      ]
    },
    {
      "cell_type": "code",
      "execution_count": 7,
      "metadata": {
        "id": "CIIo4w3VAmS0"
      },
      "outputs": [],
      "source": [
        "import numpy as np\n",
        "from matplotlib import pyplot as plt\n",
        "import os\n"
      ]
    },
    {
      "cell_type": "code",
      "execution_count": 8,
      "metadata": {
        "colab": {
          "base_uri": "https://localhost:8080/",
          "height": 515
        },
        "id": "YIETEUW5BYJQ",
        "outputId": "dd6ba352-fe73-4f49-e626-8dbc20c3af19"
      },
      "outputs": [
        {
          "output_type": "display_data",
          "data": {
            "text/plain": [
              "<Figure size 432x288 with 2 Axes>"
            ],
            "image/png": "[encoded data removed]"
          },
          "metadata": {
            "needs_background": "light"
          }
        },
        {
          "output_type": "display_data",
          "data": {
            "text/plain": [
              "<Figure size 432x288 with 2 Axes>"
            ],
            "image/png": "[encoded data removed]"
          },
          "metadata": {
            "needs_background": "light"
          }
        },
        {
          "output_type": "display_data",
          "data": {
            "text/plain": [
              "<Figure size 432x288 with 2 Axes>"
            ],
            "image/png": "[encoded data removed]"
          },
          "metadata": {
            "needs_background": "light"
          }
        }
      ],
      "source": [
        "x, y = train_generator.__next__()\n",
        "\n",
        "for i in range(0,3):\n",
        "    image = x[i,:,:,0]\n",
        "    #mask = np.argmax(y[i], axis=2)\n",
        "    mask= y[i,:,:,0]\n",
        "    plt.subplot(1,2,1)\n",
        "    plt.imshow(image, cmap='gray')\n",
        "    plt.axis('off')\n",
        "    plt.subplot(1,2,2)\n",
        "    plt.imshow(mask, cmap='gray')\n",
        "    plt.axis('off')\n",
        "    plt.show()"
      ]
    },
    {
      "cell_type": "code",
      "execution_count": 9,
      "metadata": {
        "id": "ORlHNIFrBZ18"
      },
      "outputs": [],
      "source": [
        "#Define the model metrcis and load model. \n",
        "\n",
        "num_train_imgs = len(os.listdir('/gdrive/MyDrive/FOLD5/train/train_images/images'))\n",
        "num_val_images = len(os.listdir('/gdrive/MyDrive/FOLD5/train/val_images/images'))\n",
        "steps_per_epoch = num_train_imgs//batch_size\n",
        "val_steps_per_epoch = num_val_images//batch_size\n",
        "\n",
        "\n"
      ]
    },
    {
      "cell_type": "code",
      "source": [
        ""
      ],
      "metadata": {
        "id": "NlUL0eE_JFD6"
      },
      "execution_count": 9,
      "outputs": []
    },
    {
      "cell_type": "code",
      "source": [
        "input_shape=(256,256,1)"
      ],
      "metadata": {
        "id": "zLpz3v-fvEZ3"
      },
      "execution_count": 10,
      "outputs": []
    },
    {
      "cell_type": "code",
      "execution_count": 11,
      "metadata": {
        "id": "yFNr9-xvBcU9"
      },
      "outputs": [],
      "source": [
        "\n",
        "from tensorflow.keras.layers import Conv3D, TimeDistributed,Dropout,Input, Dense,\\\n",
        "    BatchNormalization, GRU, Layer, Flatten,MaxPooling3D, concatenate,UpSampling3D,Lambda,Reshape\n",
        "from tensorflow.keras.regularizers import l2\n",
        "from tensorflow.keras.models import Model\n",
        "from tensorflow.keras.utils import plot_model\n",
        "from tensorflow.keras.optimizers import Adam\n",
        "from keras import layers\n",
        "from keras import models\n",
        "from tensorflow.python.keras.layers import ConvLSTM2D\n",
        "from keras import backend as K\n"
      ]
    },
    {
      "cell_type": "code",
      "source": [
        ""
      ],
      "metadata": {
        "id": "eVl29sdqu2lo"
      },
      "execution_count": 11,
      "outputs": []
    },
    {
      "cell_type": "code",
      "execution_count": 12,
      "metadata": {
        "id": "QvdwshxyBjfA"
      },
      "outputs": [],
      "source": [
        "def unet(input_size=(256,256,1)):\n",
        "    N = input_size[0]\n",
        "\n",
        "    inputs = Input(input_size)\n",
        "    \n",
        "    conv1 = layers.Conv2D(64, 3, activation = 'relu', padding = 'same', kernel_initializer = 'he_normal')(inputs)\n",
        "    conv1 = layers.Conv2D(64, 3, activation = 'relu', padding = 'same', kernel_initializer = 'he_normal')(conv1)\n",
        "  \n",
        "    pool1 = layers.MaxPooling2D(pool_size=(2, 2))(conv1)\n",
        "    conv2 = layers.Conv2D(128, 3, activation = 'relu', padding = 'same', kernel_initializer = 'he_normal')(pool1)\n",
        "    conv2 = layers.Conv2D(128, 3, activation = 'relu', padding = 'same', kernel_initializer = 'he_normal')(conv2)\n",
        "    pool2 = layers.MaxPooling2D(pool_size=(2, 2))(conv2)\n",
        "    conv3 = layers.Conv2D(256, 3, activation = 'relu', padding = 'same', kernel_initializer = 'he_normal')(pool2)\n",
        "    conv3 = layers.Conv2D(256, 3, activation = 'relu', padding = 'same', kernel_initializer = 'he_normal')(conv3)\n",
        "    drop3 = layers.Dropout(0.5)(conv3)\n",
        "    pool3 = layers.MaxPooling2D(pool_size=(2, 2))(conv3)\n",
        "    # D1\n",
        "    conv4 = layers.Conv2D(512, 3, activation = 'relu', padding = 'same', kernel_initializer = 'he_normal')(pool3)     \n",
        "    conv4_1 = layers.Conv2D(512, 3, activation = 'relu', padding = 'same', kernel_initializer = 'he_normal')(conv4)\n",
        "    drop4_1 = Dropout(0.5)(conv4_1)\n",
        "   \n",
        "    up6 = layers.Conv2DTranspose(256, kernel_size=2, strides=2, padding='same',kernel_initializer = 'he_normal')(conv4_1)\n",
        "    up6 = layers.BatchNormalization(axis=3)(up6)\n",
        "    up6 = layers.Activation('relu')(up6)\n",
        "\n",
        "    x1 = layers.Reshape(target_shape=(1, np.int32(N/4), np.int32(N/4), 256))(drop3)\n",
        "    x2 = layers.Reshape(target_shape=(1, np.int32(N/4), np.int32(N/4), 256))(up6)\n",
        "    merge6  = concatenate([x1,x2], axis = 1) \n",
        "    merge6 = layers.ConvLSTM2D(filters = 128, kernel_size=(3, 3), padding='same', return_sequences = False, go_backwards = True,kernel_initializer = 'he_normal' )(merge6)\n",
        "            \n",
        "    conv6 = layers.Conv2D(256, 3, activation = 'relu', padding = 'same', kernel_initializer = 'he_normal')(merge6)\n",
        "    conv6 = layers.Conv2D(256, 3, activation = 'relu', padding = 'same', kernel_initializer = 'he_normal')(conv6)\n",
        "\n",
        "    up7 = layers.Conv2DTranspose(128, kernel_size=2, strides=2, padding='same',kernel_initializer = 'he_normal')(conv6)\n",
        "    up7 = layers.BatchNormalization(axis=3)(up7)\n",
        "    up7 = layers.Activation('relu')(up7)\n",
        "\n",
        "    x1 = layers.Reshape(target_shape=(1, np.int32(N/2), np.int32(N/2), 128))(conv2)\n",
        "    x2 = layers.Reshape(target_shape=(1, np.int32(N/2), np.int32(N/2), 128))(up7)\n",
        "    merge7  = concatenate([x1,x2], axis = 1) \n",
        "    merge7 = layers.ConvLSTM2D(filters = 64, kernel_size=(3, 3), padding='same', return_sequences = False, go_backwards = True,kernel_initializer = 'he_normal' )(merge7)\n",
        "        \n",
        "    conv7 = layers.Conv2D(128, 3, activation = 'relu', padding = 'same', kernel_initializer = 'he_normal')(merge7)\n",
        "    conv7 = layers.Conv2D(128, 3, activation = 'relu', padding = 'same', kernel_initializer = 'he_normal')(conv7)\n",
        "\n",
        "    up8 = layers.Conv2DTranspose(64, kernel_size=2, strides=2, padding='same',kernel_initializer = 'he_normal')(conv7)\n",
        "    up8 = layers.BatchNormalization(axis=3)(up8)\n",
        "    up8 = layers.Activation('relu')(up8)    \n",
        "\n",
        "    x1 = layers.Reshape(target_shape=(1, N, N, 64))(conv1)\n",
        "    x2 = layers.Reshape(target_shape=(1, N, N, 64))(up8)\n",
        "    merge8  = concatenate([x1,x2], axis = 1) \n",
        "    merge8 = ConvLSTM2D(filters = 32, kernel_size=(3, 3), padding='same', return_sequences = False, go_backwards = True,kernel_initializer = 'he_normal' )(merge8)    \n",
        "    \n",
        "    conv8 = layers.Conv2D(64, 3, activation = 'relu', padding = 'same', kernel_initializer = 'he_normal')(merge8)\n",
        "    conv8 = layers.Conv2D(64, 3, activation = 'relu', padding = 'same', kernel_initializer = 'he_normal')(conv8)\n",
        "    conv8 = layers.Conv2D(2, 3, activation = 'relu', padding = 'same', kernel_initializer = 'he_normal')(conv8)\n",
        "    conv9 = layers.Conv2D(1, 1, activation = 'sigmoid')(conv8)\n",
        "\n",
        "    return Model(inputs=[inputs], outputs=[conv9])"
      ]
    },
    {
      "cell_type": "code",
      "source": [
        "\n",
        "model = unet(input_size=(256,256,1))\n",
        "model.summary()\n"
      ],
      "metadata": {
        "colab": {
          "base_uri": "https://localhost:8080/"
        },
        "id": "rJ3V37-878Li",
        "outputId": "42643b38-342a-4684-8ed5-4275a7eb61ba"
      },
      "execution_count": 13,
      "outputs": [
        {
          "output_type": "stream",
          "name": "stdout",
          "text": [
            "WARNING:tensorflow:The following Variables were used in a Lambda layer's call (tf.keras.backend.rnn), but are not present in its tracked objects:   <tf.Variable 'conv_lst_m2d/kernel:0' shape=(3, 3, 64, 128) dtype=float32>\n",
            "  <tf.Variable 'conv_lst_m2d/recurrent_kernel:0' shape=(3, 3, 32, 128) dtype=float32>\n",
            "  <tf.Variable 'conv_lst_m2d/bias:0' shape=(128,) dtype=float32>. This is a strong indication that the Lambda layer should be rewritten as a subclassed Layer.\n",
            "Model: \"model\"\n",
            "__________________________________________________________________________________________________\n",
            " Layer (type)                   Output Shape         Param #     Connected to                     \n",
            "==================================================================================================\n",
            " input_1 (InputLayer)           [(None, 256, 256, 1  0           []                               \n",
            "                                )]                                                                \n",
            "                                                                                                  \n",
            " conv2d (Conv2D)                (None, 256, 256, 64  640         ['input_1[0][0]']                \n",
            "                                )                                                                 \n",
            "                                                                                                  \n",
            " conv2d_1 (Conv2D)              (None, 256, 256, 64  36928       ['conv2d[0][0]']                 \n",
            "                                )                                                                 \n",
            "                                                                                                  \n",
            " max_pooling2d (MaxPooling2D)   (None, 128, 128, 64  0           ['conv2d_1[0][0]']               \n",
            "                                )                                                                 \n",
            "                                                                                                  \n",
            " conv2d_2 (Conv2D)              (None, 128, 128, 12  73856       ['max_pooling2d[0][0]']          \n",
            "                                8)                                                                \n",
            "                                                                                                  \n",
            " conv2d_3 (Conv2D)              (None, 128, 128, 12  147584      ['conv2d_2[0][0]']               \n",
            "                                8)                                                                \n",
            "                                                                                                  \n",
            " max_pooling2d_1 (MaxPooling2D)  (None, 64, 64, 128)  0          ['conv2d_3[0][0]']               \n",
            "                                                                                                  \n",
            " conv2d_4 (Conv2D)              (None, 64, 64, 256)  295168      ['max_pooling2d_1[0][0]']        \n",
            "                                                                                                  \n",
            " conv2d_5 (Conv2D)              (None, 64, 64, 256)  590080      ['conv2d_4[0][0]']               \n",
            "                                                                                                  \n",
            " max_pooling2d_2 (MaxPooling2D)  (None, 32, 32, 256)  0          ['conv2d_5[0][0]']               \n",
            "                                                                                                  \n",
            " conv2d_6 (Conv2D)              (None, 32, 32, 512)  1180160     ['max_pooling2d_2[0][0]']        \n",
            "                                                                                                  \n",
            " conv2d_7 (Conv2D)              (None, 32, 32, 512)  2359808     ['conv2d_6[0][0]']               \n",
            "                                                                                                  \n",
            " conv2d_transpose (Conv2DTransp  (None, 64, 64, 256)  524544     ['conv2d_7[0][0]']               \n",
            " ose)                                                                                             \n",
            "                                                                                                  \n",
            " batch_normalization (BatchNorm  (None, 64, 64, 256)  1024       ['conv2d_transpose[0][0]']       \n",
            " alization)                                                                                       \n",
            "                                                                                                  \n",
            " dropout (Dropout)              (None, 64, 64, 256)  0           ['conv2d_5[0][0]']               \n",
            "                                                                                                  \n",
            " activation (Activation)        (None, 64, 64, 256)  0           ['batch_normalization[0][0]']    \n",
            "                                                                                                  \n",
            " reshape (Reshape)              (None, 1, 64, 64, 2  0           ['dropout[0][0]']                \n",
            "                                56)                                                               \n",
            "                                                                                                  \n",
            " reshape_1 (Reshape)            (None, 1, 64, 64, 2  0           ['activation[0][0]']             \n",
            "                                56)                                                               \n",
            "                                                                                                  \n",
            " concatenate (Concatenate)      (None, 2, 64, 64, 2  0           ['reshape[0][0]',                \n",
            "                                56)                               'reshape_1[0][0]']              \n",
            "                                                                                                  \n",
            " conv_lstm2d (ConvLSTM2D)       (None, 64, 64, 128)  1769984     ['concatenate[0][0]']            \n",
            "                                                                                                  \n",
            " conv2d_8 (Conv2D)              (None, 64, 64, 256)  295168      ['conv_lstm2d[0][0]']            \n",
            "                                                                                                  \n",
            " conv2d_9 (Conv2D)              (None, 64, 64, 256)  590080      ['conv2d_8[0][0]']               \n",
            "                                                                                                  \n",
            " conv2d_transpose_1 (Conv2DTran  (None, 128, 128, 12  131200     ['conv2d_9[0][0]']               \n",
            " spose)                         8)                                                                \n",
            "                                                                                                  \n",
            " batch_normalization_1 (BatchNo  (None, 128, 128, 12  512        ['conv2d_transpose_1[0][0]']     \n",
            " rmalization)                   8)                                                                \n",
            "                                                                                                  \n",
            " activation_1 (Activation)      (None, 128, 128, 12  0           ['batch_normalization_1[0][0]']  \n",
            "                                8)                                                                \n",
            "                                                                                                  \n",
            " reshape_2 (Reshape)            (None, 1, 128, 128,  0           ['conv2d_3[0][0]']               \n",
            "                                 128)                                                             \n",
            "                                                                                                  \n",
            " reshape_3 (Reshape)            (None, 1, 128, 128,  0           ['activation_1[0][0]']           \n",
            "                                 128)                                                             \n",
            "                                                                                                  \n",
            " concatenate_1 (Concatenate)    (None, 2, 128, 128,  0           ['reshape_2[0][0]',              \n",
            "                                 128)                             'reshape_3[0][0]']              \n",
            "                                                                                                  \n",
            " conv_lstm2d_1 (ConvLSTM2D)     (None, 128, 128, 64  442624      ['concatenate_1[0][0]']          \n",
            "                                )                                                                 \n",
            "                                                                                                  \n",
            " conv2d_10 (Conv2D)             (None, 128, 128, 12  73856       ['conv_lstm2d_1[0][0]']          \n",
            "                                8)                                                                \n",
            "                                                                                                  \n",
            " conv2d_11 (Conv2D)             (None, 128, 128, 12  147584      ['conv2d_10[0][0]']              \n",
            "                                8)                                                                \n",
            "                                                                                                  \n",
            " conv2d_transpose_2 (Conv2DTran  (None, 256, 256, 64  32832      ['conv2d_11[0][0]']              \n",
            " spose)                         )                                                                 \n",
            "                                                                                                  \n",
            " batch_normalization_2 (BatchNo  (None, 256, 256, 64  256        ['conv2d_transpose_2[0][0]']     \n",
            " rmalization)                   )                                                                 \n",
            "                                                                                                  \n",
            " activation_2 (Activation)      (None, 256, 256, 64  0           ['batch_normalization_2[0][0]']  \n",
            "                                )                                                                 \n",
            "                                                                                                  \n",
            " reshape_4 (Reshape)            (None, 1, 256, 256,  0           ['conv2d_1[0][0]']               \n",
            "                                 64)                                                              \n",
            "                                                                                                  \n",
            " reshape_5 (Reshape)            (None, 1, 256, 256,  0           ['activation_2[0][0]']           \n",
            "                                 64)                                                              \n",
            "                                                                                                  \n",
            " concatenate_2 (Concatenate)    (None, 2, 256, 256,  0           ['reshape_4[0][0]',              \n",
            "                                 64)                              'reshape_5[0][0]']              \n",
            "                                                                                                  \n",
            " tf.compat.v1.zeros_like (TFOpL  (None, 2, 256, 256,  0          ['concatenate_2[0][0]']          \n",
            " ambda)                          64)                                                              \n",
            "                                                                                                  \n",
            " tf.math.reduce_sum (TFOpLambda  (None, 256, 256, 64  0          ['tf.compat.v1.zeros_like[0][0]']\n",
            " )                              )                                                                 \n",
            "                                                                                                  \n",
            " tf.compat.v1.nn.convolution (T  (None, 256, 256, 32  0          ['tf.math.reduce_sum[0][0]']     \n",
            " FOpLambda)                     )                                                                 \n",
            "                                                                                                  \n",
            " tf.keras.backend.rnn (TFOpLamb  ((None, 256, 256, 3  0          ['concatenate_2[0][0]',          \n",
            " da)                            2),                               'tf.compat.v1.nn.convolution[0][\n",
            "                                 (None, 2, 256, 256              0]',                             \n",
            "                                , 32),                            'tf.compat.v1.nn.convolution[0][\n",
            "                                 ((None, 256, 256,               0]']                             \n",
            "                                32),                                                              \n",
            "                                 (None, 256, 256, 3                                               \n",
            "                                2)))                                                              \n",
            "                                                                                                  \n",
            " conv2d_12 (Conv2D)             (None, 256, 256, 64  18496       ['tf.keras.backend.rnn[0][0]']   \n",
            "                                )                                                                 \n",
            "                                                                                                  \n",
            " conv2d_13 (Conv2D)             (None, 256, 256, 64  36928       ['conv2d_12[0][0]']              \n",
            "                                )                                                                 \n",
            "                                                                                                  \n",
            " conv2d_14 (Conv2D)             (None, 256, 256, 2)  1154        ['conv2d_13[0][0]']              \n",
            "                                                                                                  \n",
            " conv2d_15 (Conv2D)             (None, 256, 256, 1)  3           ['conv2d_14[0][0]']              \n",
            "                                                                                                  \n",
            "==================================================================================================\n",
            "Total params: 8,750,469\n",
            "Trainable params: 8,749,573\n",
            "Non-trainable params: 896\n",
            "__________________________________________________________________________________________________\n"
          ]
        }
      ]
    },
    {
      "cell_type": "code",
      "execution_count": 14,
      "metadata": {
        "id": "y39SCWYABodV"
      },
      "outputs": [],
      "source": [
        "\n",
        "from keras import backend as K\n",
        "\n",
        "\n",
        "def dice_coefficient(y_true, y_pred, smooth=0.0001):\n",
        "    y_true_f = K.flatten(y_true)\n",
        "    y_pred_f = K.flatten(y_pred)\n",
        "\n",
        "    intersection = K.sum(y_true_f * y_pred_f)\n",
        "\n",
        "    return ((2. * intersection + smooth) / (K.sum(y_true_f) +\n",
        "            K.sum(y_pred_f) + smooth))\n",
        "\n",
        "\n",
        "def dice_coefficient_loss(y_true, y_pred):\n",
        "    return 1.0-dice_coefficient(y_true, y_pred)\n",
        "\n",
        "\n",
        "def iou_loss(y_true, y_pred):\n",
        "    return 1-iou(y_true, y_pred)\n",
        "\n",
        "def iou(y_true, y_pred):\n",
        "    intersection = K.sum(K.abs(y_true * y_pred))\n",
        "    sum_ = K.sum(K.square(y_true)) + K.sum(K.square(y_pred))\n",
        "    jac = (intersection) / (sum_ - intersection)\n",
        "    return jac"
      ]
    },
    {
      "cell_type": "code",
      "execution_count": 15,
      "metadata": {
        "id": "1-wwBP8SBr0n"
      },
      "outputs": [],
      "source": [
        "metrics=[iou, dice_coefficient, 'binary_accuracy']"
      ]
    },
    {
      "cell_type": "code",
      "execution_count": 16,
      "metadata": {
        "id": "uZyQAdRFBtW3"
      },
      "outputs": [],
      "source": [
        "LR = 1e-4\n",
        "optim = tf.keras.optimizers.Adam(LR)"
      ]
    },
    {
      "cell_type": "code",
      "execution_count": 17,
      "metadata": {
        "id": "3tN7nJdqByAy"
      },
      "outputs": [],
      "source": [
        "model.compile(optimizer=optim, loss=dice_coefficient_loss, metrics=metrics)"
      ]
    },
    {
      "cell_type": "code",
      "execution_count": 18,
      "metadata": {
        "id": "YCCD-SfLLqjp"
      },
      "outputs": [],
      "source": [
        "model_checkpoint_callback = tf.keras.callbacks.ModelCheckpoint(\n",
        "    filepath='/gdrive/MyDrive/FOLD5/chk/',\n",
        "    save_weights_only=True,\n",
        "    monitor='dice_coefficient',\n",
        "    mode='max',\n",
        "    save_best_only=True)"
      ]
    },
    {
      "cell_type": "code",
      "execution_count": 19,
      "metadata": {
        "colab": {
          "base_uri": "https://localhost:8080/"
        },
        "id": "Z-B0nrmjBx9q",
        "outputId": "3648e83f-88b5-40e8-ae7d-96bd83f68946"
      },
      "outputs": [
        {
          "output_type": "stream",
          "name": "stdout",
          "text": [
            "Epoch 1/30\n",
            "601/601 [==============================] - 642s 1s/step - loss: 0.4779 - iou: 0.4067 - dice_coefficient: 0.5215 - binary_accuracy: 0.9216 - val_loss: 0.4494 - val_iou: 0.4220 - val_dice_coefficient: 0.5506 - val_binary_accuracy: 0.9729\n",
            "Epoch 2/30\n",
            "601/601 [==============================] - 236s 393ms/step - loss: 0.3420 - iou: 0.5193 - dice_coefficient: 0.6580 - binary_accuracy: 0.9745 - val_loss: 0.4231 - val_iou: 0.4444 - val_dice_coefficient: 0.5769 - val_binary_accuracy: 0.9777\n",
            "Epoch 3/30\n",
            "601/601 [==============================] - 242s 403ms/step - loss: 0.3239 - iou: 0.5404 - dice_coefficient: 0.6761 - binary_accuracy: 0.9761 - val_loss: 0.4241 - val_iou: 0.4434 - val_dice_coefficient: 0.5759 - val_binary_accuracy: 0.9772\n",
            "Epoch 4/30\n",
            "601/601 [==============================] - 241s 401ms/step - loss: 0.3078 - iou: 0.5566 - dice_coefficient: 0.6914 - binary_accuracy: 0.9776 - val_loss: 0.4749 - val_iou: 0.4028 - val_dice_coefficient: 0.5251 - val_binary_accuracy: 0.9790\n",
            "Epoch 5/30\n",
            "601/601 [==============================] - 241s 401ms/step - loss: 0.2961 - iou: 0.5710 - dice_coefficient: 0.7040 - binary_accuracy: 0.9788 - val_loss: 0.3498 - val_iou: 0.5121 - val_dice_coefficient: 0.6502 - val_binary_accuracy: 0.9775\n",
            "Epoch 6/30\n",
            "601/601 [==============================] - 241s 402ms/step - loss: 0.2894 - iou: 0.5790 - dice_coefficient: 0.7105 - binary_accuracy: 0.9792 - val_loss: 0.3463 - val_iou: 0.5229 - val_dice_coefficient: 0.6537 - val_binary_accuracy: 0.9810\n",
            "Epoch 7/30\n",
            "601/601 [==============================] - 242s 403ms/step - loss: 0.2857 - iou: 0.5826 - dice_coefficient: 0.7135 - binary_accuracy: 0.9798 - val_loss: 0.3898 - val_iou: 0.4883 - val_dice_coefficient: 0.6102 - val_binary_accuracy: 0.9806\n",
            "Epoch 8/30\n",
            "601/601 [==============================] - 241s 402ms/step - loss: 0.2754 - iou: 0.5924 - dice_coefficient: 0.7238 - binary_accuracy: 0.9805 - val_loss: 0.3888 - val_iou: 0.4747 - val_dice_coefficient: 0.6112 - val_binary_accuracy: 0.9760\n",
            "Epoch 9/30\n",
            "601/601 [==============================] - 241s 400ms/step - loss: 0.2825 - iou: 0.5870 - dice_coefficient: 0.7167 - binary_accuracy: 0.9801 - val_loss: 0.4340 - val_iou: 0.4383 - val_dice_coefficient: 0.5660 - val_binary_accuracy: 0.9799\n",
            "Epoch 10/30\n",
            "601/601 [==============================] - 241s 401ms/step - loss: 0.2718 - iou: 0.5987 - dice_coefficient: 0.7283 - binary_accuracy: 0.9808 - val_loss: 0.4554 - val_iou: 0.4192 - val_dice_coefficient: 0.5446 - val_binary_accuracy: 0.9788\n",
            "Epoch 11/30\n",
            "601/601 [==============================] - 241s 400ms/step - loss: 0.2716 - iou: 0.5996 - dice_coefficient: 0.7286 - binary_accuracy: 0.9813 - val_loss: 0.3805 - val_iou: 0.4938 - val_dice_coefficient: 0.6195 - val_binary_accuracy: 0.9804\n",
            "Epoch 12/30\n",
            "601/601 [==============================] - 241s 401ms/step - loss: 0.2733 - iou: 0.5990 - dice_coefficient: 0.7269 - binary_accuracy: 0.9807 - val_loss: 0.4292 - val_iou: 0.4453 - val_dice_coefficient: 0.5708 - val_binary_accuracy: 0.9797\n",
            "Epoch 13/30\n",
            "601/601 [==============================] - 240s 400ms/step - loss: 0.2662 - iou: 0.6070 - dice_coefficient: 0.7339 - binary_accuracy: 0.9816 - val_loss: 0.3562 - val_iou: 0.5132 - val_dice_coefficient: 0.6438 - val_binary_accuracy: 0.9814\n",
            "Epoch 14/30\n",
            "601/601 [==============================] - 240s 399ms/step - loss: 0.2716 - iou: 0.6027 - dice_coefficient: 0.7284 - binary_accuracy: 0.9810 - val_loss: 0.4588 - val_iou: 0.4253 - val_dice_coefficient: 0.5412 - val_binary_accuracy: 0.9803\n",
            "Epoch 15/30\n",
            "601/601 [==============================] - 240s 400ms/step - loss: 0.2657 - iou: 0.6069 - dice_coefficient: 0.7345 - binary_accuracy: 0.9816 - val_loss: 0.3762 - val_iou: 0.4948 - val_dice_coefficient: 0.6238 - val_binary_accuracy: 0.9804\n",
            "Epoch 16/30\n",
            "601/601 [==============================] - 242s 403ms/step - loss: 0.2640 - iou: 0.6115 - dice_coefficient: 0.7362 - binary_accuracy: 0.9818 - val_loss: 0.3824 - val_iou: 0.4834 - val_dice_coefficient: 0.6176 - val_binary_accuracy: 0.9799\n",
            "Epoch 17/30\n",
            "601/601 [==============================] - 240s 400ms/step - loss: 0.2641 - iou: 0.6141 - dice_coefficient: 0.7361 - binary_accuracy: 0.9818 - val_loss: 0.4759 - val_iou: 0.4013 - val_dice_coefficient: 0.5241 - val_binary_accuracy: 0.9792\n",
            "Epoch 18/30\n",
            "601/601 [==============================] - 240s 400ms/step - loss: 0.2492 - iou: 0.6248 - dice_coefficient: 0.7510 - binary_accuracy: 0.9820 - val_loss: 0.3520 - val_iou: 0.5255 - val_dice_coefficient: 0.6480 - val_binary_accuracy: 0.9823\n",
            "Epoch 19/30\n",
            "601/601 [==============================] - 240s 399ms/step - loss: 0.2545 - iou: 0.6200 - dice_coefficient: 0.7456 - binary_accuracy: 0.9823 - val_loss: 0.3441 - val_iou: 0.5307 - val_dice_coefficient: 0.6559 - val_binary_accuracy: 0.9803\n",
            "Epoch 20/30\n",
            "601/601 [==============================] - 240s 399ms/step - loss: 0.2596 - iou: 0.6159 - dice_coefficient: 0.7405 - binary_accuracy: 0.9821 - val_loss: 0.3865 - val_iou: 0.4885 - val_dice_coefficient: 0.6135 - val_binary_accuracy: 0.9820\n",
            "Epoch 21/30\n",
            "601/601 [==============================] - 241s 400ms/step - loss: 0.2559 - iou: 0.6207 - dice_coefficient: 0.7443 - binary_accuracy: 0.9826 - val_loss: 0.3392 - val_iou: 0.5372 - val_dice_coefficient: 0.6608 - val_binary_accuracy: 0.9801\n",
            "Epoch 22/30\n",
            "601/601 [==============================] - 240s 400ms/step - loss: 0.2466 - iou: 0.6277 - dice_coefficient: 0.7526 - binary_accuracy: 0.9828 - val_loss: 0.3294 - val_iou: 0.5459 - val_dice_coefficient: 0.6706 - val_binary_accuracy: 0.9826\n",
            "Epoch 23/30\n",
            "601/601 [==============================] - 240s 399ms/step - loss: 0.2551 - iou: 0.6193 - dice_coefficient: 0.7440 - binary_accuracy: 0.9827 - val_loss: 0.3626 - val_iou: 0.5139 - val_dice_coefficient: 0.6374 - val_binary_accuracy: 0.9812\n",
            "Epoch 24/30\n",
            "601/601 [==============================] - 240s 399ms/step - loss: 0.2395 - iou: 0.6386 - dice_coefficient: 0.7606 - binary_accuracy: 0.9832 - val_loss: 0.3243 - val_iou: 0.5515 - val_dice_coefficient: 0.6757 - val_binary_accuracy: 0.9819\n",
            "Epoch 25/30\n",
            "601/601 [==============================] - 241s 401ms/step - loss: 0.2530 - iou: 0.6248 - dice_coefficient: 0.7471 - binary_accuracy: 0.9825 - val_loss: 0.3897 - val_iou: 0.4830 - val_dice_coefficient: 0.6103 - val_binary_accuracy: 0.9809\n",
            "Epoch 26/30\n",
            "601/601 [==============================] - 240s 399ms/step - loss: 0.2517 - iou: 0.6289 - dice_coefficient: 0.7485 - binary_accuracy: 0.9832 - val_loss: 0.3512 - val_iou: 0.5218 - val_dice_coefficient: 0.6488 - val_binary_accuracy: 0.9812\n",
            "Epoch 27/30\n",
            "601/601 [==============================] - 240s 399ms/step - loss: 0.2407 - iou: 0.6388 - dice_coefficient: 0.7585 - binary_accuracy: 0.9833 - val_loss: 0.3514 - val_iou: 0.5199 - val_dice_coefficient: 0.6486 - val_binary_accuracy: 0.9805\n",
            "Epoch 28/30\n",
            "601/601 [==============================] - 240s 400ms/step - loss: 0.2516 - iou: 0.6272 - dice_coefficient: 0.7485 - binary_accuracy: 0.9830 - val_loss: 0.5024 - val_iou: 0.3766 - val_dice_coefficient: 0.4976 - val_binary_accuracy: 0.9795\n",
            "Epoch 29/30\n",
            "601/601 [==============================] - 240s 400ms/step - loss: 0.2353 - iou: 0.6431 - dice_coefficient: 0.7638 - binary_accuracy: 0.9836 - val_loss: 0.3958 - val_iou: 0.4778 - val_dice_coefficient: 0.6042 - val_binary_accuracy: 0.9806\n",
            "Epoch 30/30\n",
            "601/601 [==============================] - 240s 399ms/step - loss: 0.2383 - iou: 0.6416 - dice_coefficient: 0.7618 - binary_accuracy: 0.9834 - val_loss: 0.3506 - val_iou: 0.5219 - val_dice_coefficient: 0.6494 - val_binary_accuracy: 0.9826\n"
          ]
        }
      ],
      "source": [
        "history=model.fit(train_generator,\n",
        "          steps_per_epoch=steps_per_epoch,\n",
        "          epochs=30,\n",
        "          verbose=1,\n",
        "          callbacks=model_checkpoint_callback,\n",
        "          validation_data=val_generator,\n",
        "          validation_steps=val_steps_per_epoch)"
      ]
    },
    {
      "cell_type": "code",
      "execution_count": 25,
      "metadata": {
        "id": "gGHl09bIB1BU"
      },
      "outputs": [],
      "source": [
        "model.save('/gdrive/MyDrive/Fold5/altromodello30epoche256-nomaschere.h5')"
      ]
    },
    {
      "cell_type": "code",
      "source": [
        "model=load_model('/gdrive/MyDrive/Fold5/altromodello30epoche256-nomaschere.h5')"
      ],
      "metadata": {
        "colab": {
          "base_uri": "https://localhost:8080/",
          "height": 553
        },
        "id": "pCkb-E2v8HHg",
        "outputId": "36273f6f-9fce-4f5a-e78d-c131e9da9b29"
      },
      "execution_count": 24,
      "outputs": [
        {
          "output_type": "error",
          "ename": "TypeError",
          "evalue": "ignored",
          "traceback": [
            "\u001b[0;31m---------------------------------------------------------------------------\u001b[0m",
            "\u001b[0;31mTypeError\u001b[0m                                 Traceback (most recent call last)",
            "\u001b[0;32m<ipython-input-24-5bbbc91060be>\u001b[0m in \u001b[0;36m<module>\u001b[0;34m()\u001b[0m\n\u001b[0;32m----> 1\u001b[0;31m \u001b[0mmodel\u001b[0m\u001b[0;34m=\u001b[0m\u001b[0mload_model\u001b[0m\u001b[0;34m(\u001b[0m\u001b[0;34m'/gdrive/MyDrive/Fold5/altromodello30epoche256-nomaschere.h5'\u001b[0m\u001b[0;34m)\u001b[0m\u001b[0;34m\u001b[0m\u001b[0;34m\u001b[0m\u001b[0m\n\u001b[0m",
            "\u001b[0;32m/usr/local/lib/python3.7/dist-packages/keras/utils/traceback_utils.py\u001b[0m in \u001b[0;36merror_handler\u001b[0;34m(*args, **kwargs)\u001b[0m\n\u001b[1;32m     65\u001b[0m     \u001b[0;32mexcept\u001b[0m \u001b[0mException\u001b[0m \u001b[0;32mas\u001b[0m \u001b[0me\u001b[0m\u001b[0;34m:\u001b[0m  \u001b[0;31m# pylint: disable=broad-except\u001b[0m\u001b[0;34m\u001b[0m\u001b[0;34m\u001b[0m\u001b[0m\n\u001b[1;32m     66\u001b[0m       \u001b[0mfiltered_tb\u001b[0m \u001b[0;34m=\u001b[0m \u001b[0m_process_traceback_frames\u001b[0m\u001b[0;34m(\u001b[0m\u001b[0me\u001b[0m\u001b[0;34m.\u001b[0m\u001b[0m__traceback__\u001b[0m\u001b[0;34m)\u001b[0m\u001b[0;34m\u001b[0m\u001b[0;34m\u001b[0m\u001b[0m\n\u001b[0;32m---> 67\u001b[0;31m       \u001b[0;32mraise\u001b[0m \u001b[0me\u001b[0m\u001b[0;34m.\u001b[0m\u001b[0mwith_traceback\u001b[0m\u001b[0;34m(\u001b[0m\u001b[0mfiltered_tb\u001b[0m\u001b[0;34m)\u001b[0m \u001b[0;32mfrom\u001b[0m \u001b[0;32mNone\u001b[0m\u001b[0;34m\u001b[0m\u001b[0;34m\u001b[0m\u001b[0m\n\u001b[0m\u001b[1;32m     68\u001b[0m     \u001b[0;32mfinally\u001b[0m\u001b[0;34m:\u001b[0m\u001b[0;34m\u001b[0m\u001b[0;34m\u001b[0m\u001b[0m\n\u001b[1;32m     69\u001b[0m       \u001b[0;32mdel\u001b[0m \u001b[0mfiltered_tb\u001b[0m\u001b[0;34m\u001b[0m\u001b[0;34m\u001b[0m\u001b[0m\n",
            "\u001b[0;32m/usr/local/lib/python3.7/dist-packages/keras/backend.py\u001b[0m in \u001b[0;36mrnn\u001b[0;34m(step_function, inputs, initial_states, go_backwards, mask, constants, unroll, input_length, time_major, zero_output_for_mask)\u001b[0m\n\u001b[1;32m   4597\u001b[0m     \u001b[0;31m# the value is discarded.\u001b[0m\u001b[0;34m\u001b[0m\u001b[0;34m\u001b[0m\u001b[0;34m\u001b[0m\u001b[0m\n\u001b[1;32m   4598\u001b[0m     output_time_zero, _ = step_function(\n\u001b[0;32m-> 4599\u001b[0;31m         input_time_zero, tuple(initial_states) + tuple(constants))\n\u001b[0m\u001b[1;32m   4600\u001b[0m     output_ta = tuple(\n\u001b[1;32m   4601\u001b[0m         tf.TensorArray(\n",
            "\u001b[0;31mTypeError\u001b[0m: Exception encountered when calling layer \"tf.keras.backend.rnn\" (type TFOpLambda).\n\n'str' object is not callable\n\nCall arguments received:\n  • step_function='step'\n  • inputs=tf.Tensor(shape=(None, 2, 256, 256, 64), dtype=float32)\n  • initial_states=['tf.Tensor(shape=(None, 256, 256, 32), dtype=float32)', 'tf.Tensor(shape=(None, 256, 256, 32), dtype=float32)']\n  • go_backwards=True\n  • mask=None\n  • constants=None\n  • unroll=False\n  • input_length=2\n  • time_major=False\n  • zero_output_for_mask=False"
          ]
        }
      ]
    },
    {
      "cell_type": "code",
      "execution_count": 105,
      "metadata": {
        "id": "Je0WjKS7eZjR",
        "colab": {
          "base_uri": "https://localhost:8080/",
          "height": 588
        },
        "outputId": "c1aaa6c2-7e81-4f3f-ea5f-7be52dc2c762"
      },
      "outputs": [
        {
          "output_type": "error",
          "ename": "TypeError",
          "evalue": "ignored",
          "traceback": [
            "\u001b[0;31m---------------------------------------------------------------------------\u001b[0m",
            "\u001b[0;31mTypeError\u001b[0m                                 Traceback (most recent call last)",
            "\u001b[0;32m<ipython-input-105-8de1f783879e>\u001b[0m in \u001b[0;36m<module>\u001b[0;34m()\u001b[0m\n\u001b[1;32m      1\u001b[0m \u001b[0;31m#Load previously saved model\u001b[0m\u001b[0;34m\u001b[0m\u001b[0;34m\u001b[0m\u001b[0;34m\u001b[0m\u001b[0m\n\u001b[1;32m      2\u001b[0m \u001b[0;32mfrom\u001b[0m \u001b[0mkeras\u001b[0m\u001b[0;34m.\u001b[0m\u001b[0mmodels\u001b[0m \u001b[0;32mimport\u001b[0m \u001b[0mload_model\u001b[0m\u001b[0;34m\u001b[0m\u001b[0;34m\u001b[0m\u001b[0m\n\u001b[0;32m----> 3\u001b[0;31m \u001b[0mmodel\u001b[0m \u001b[0;34m=\u001b[0m \u001b[0mload_model\u001b[0m\u001b[0;34m(\u001b[0m\u001b[0;34m\"/gdrive/MyDrive/Fold5/altromodello30epoche256-nomaschere.h5\"\u001b[0m\u001b[0;34m,\u001b[0m \u001b[0mcompile\u001b[0m\u001b[0;34m=\u001b[0m\u001b[0;32mFalse\u001b[0m\u001b[0;34m)\u001b[0m\u001b[0;34m\u001b[0m\u001b[0;34m\u001b[0m\u001b[0m\n\u001b[0m",
            "\u001b[0;32m/usr/local/lib/python3.7/dist-packages/keras/utils/traceback_utils.py\u001b[0m in \u001b[0;36merror_handler\u001b[0;34m(*args, **kwargs)\u001b[0m\n\u001b[1;32m     65\u001b[0m     \u001b[0;32mexcept\u001b[0m \u001b[0mException\u001b[0m \u001b[0;32mas\u001b[0m \u001b[0me\u001b[0m\u001b[0;34m:\u001b[0m  \u001b[0;31m# pylint: disable=broad-except\u001b[0m\u001b[0;34m\u001b[0m\u001b[0;34m\u001b[0m\u001b[0m\n\u001b[1;32m     66\u001b[0m       \u001b[0mfiltered_tb\u001b[0m \u001b[0;34m=\u001b[0m \u001b[0m_process_traceback_frames\u001b[0m\u001b[0;34m(\u001b[0m\u001b[0me\u001b[0m\u001b[0;34m.\u001b[0m\u001b[0m__traceback__\u001b[0m\u001b[0;34m)\u001b[0m\u001b[0;34m\u001b[0m\u001b[0;34m\u001b[0m\u001b[0m\n\u001b[0;32m---> 67\u001b[0;31m       \u001b[0;32mraise\u001b[0m \u001b[0me\u001b[0m\u001b[0;34m.\u001b[0m\u001b[0mwith_traceback\u001b[0m\u001b[0;34m(\u001b[0m\u001b[0mfiltered_tb\u001b[0m\u001b[0;34m)\u001b[0m \u001b[0;32mfrom\u001b[0m \u001b[0;32mNone\u001b[0m\u001b[0;34m\u001b[0m\u001b[0;34m\u001b[0m\u001b[0m\n\u001b[0m\u001b[1;32m     68\u001b[0m     \u001b[0;32mfinally\u001b[0m\u001b[0;34m:\u001b[0m\u001b[0;34m\u001b[0m\u001b[0;34m\u001b[0m\u001b[0m\n\u001b[1;32m     69\u001b[0m       \u001b[0;32mdel\u001b[0m \u001b[0mfiltered_tb\u001b[0m\u001b[0;34m\u001b[0m\u001b[0;34m\u001b[0m\u001b[0m\n",
            "\u001b[0;32m/usr/local/lib/python3.7/dist-packages/keras/backend.py\u001b[0m in \u001b[0;36mrnn\u001b[0;34m(step_function, inputs, initial_states, go_backwards, mask, constants, unroll, input_length, time_major, zero_output_for_mask)\u001b[0m\n\u001b[1;32m   4597\u001b[0m     \u001b[0;31m# the value is discarded.\u001b[0m\u001b[0;34m\u001b[0m\u001b[0;34m\u001b[0m\u001b[0;34m\u001b[0m\u001b[0m\n\u001b[1;32m   4598\u001b[0m     output_time_zero, _ = step_function(\n\u001b[0;32m-> 4599\u001b[0;31m         input_time_zero, tuple(initial_states) + tuple(constants))\n\u001b[0m\u001b[1;32m   4600\u001b[0m     output_ta = tuple(\n\u001b[1;32m   4601\u001b[0m         tf.TensorArray(\n",
            "\u001b[0;31mTypeError\u001b[0m: Exception encountered when calling layer \"tf.keras.backend.rnn\" (type TFOpLambda).\n\n'str' object is not callable\n\nCall arguments received:\n  • step_function='step'\n  • inputs=tf.Tensor(shape=(None, 2, 256, 256, 64), dtype=float32)\n  • initial_states=['tf.Tensor(shape=(None, 256, 256, 32), dtype=float32)', 'tf.Tensor(shape=(None, 256, 256, 32), dtype=float32)']\n  • go_backwards=True\n  • mask=None\n  • constants=None\n  • unroll=False\n  • input_length=2\n  • time_major=False\n  • zero_output_for_mask=False"
          ]
        }
      ],
      "source": [
        "#Load previously saved model\n",
        "from keras.models import load_model\n",
        "model = load_model(\"/gdrive/MyDrive/Fold5/altromodello30epoche256-nomaschere.h5\", compile=False)"
      ]
    },
    {
      "cell_type": "code",
      "execution_count": 200,
      "metadata": {
        "id": "zQWrFsneeZgj"
      },
      "outputs": [],
      "source": [
        "a, b = val_generator.__next__()"
      ]
    },
    {
      "cell_type": "code",
      "execution_count": 201,
      "metadata": {
        "colab": {
          "base_uri": "https://localhost:8080/"
        },
        "id": "W5w_5Hx6hQ0g",
        "outputId": "1fb13803-e61f-440a-ed19-8ab8fe5003d7"
      },
      "outputs": [
        {
          "output_type": "execute_result",
          "data": {
            "text/plain": [
              "(381, 256, 256, 1)"
            ]
          },
          "metadata": {},
          "execution_count": 201
        }
      ],
      "source": [
        "a.shape"
      ]
    },
    {
      "cell_type": "code",
      "execution_count": 202,
      "metadata": {
        "colab": {
          "base_uri": "https://localhost:8080/",
          "height": 515
        },
        "id": "sqfoD4XRGPkX",
        "outputId": "99976dc5-fefe-468a-cec8-21cf9187527f"
      },
      "outputs": [
        {
          "output_type": "display_data",
          "data": {
            "text/plain": [
              "<Figure size 432x288 with 2 Axes>"
            ],
            "image/png": "[encoded data removed]"
          },
          "metadata": {
            "needs_background": "light"
          }
        },
        {
          "output_type": "display_data",
          "data": {
            "text/plain": [
              "<Figure size 432x288 with 2 Axes>"
            ],
            "image/png": "[encoded data removed]"
          },
          "metadata": {
            "needs_background": "light"
          }
        },
        {
          "output_type": "display_data",
          "data": {
            "text/plain": [
              "<Figure size 432x288 with 2 Axes>"
            ],
            "image/png": "[encoded data removed]"
          },
          "metadata": {
            "needs_background": "light"
          }
        }
      ],
      "source": [
        "for i in range(0,3):\n",
        "    image = a[i]\n",
        "    mask = b[i]\n",
        "    plt.subplot(1,2,1)\n",
        "    plt.axis('off')\n",
        "    plt.imshow(image[:,:,0], cmap='gray')\n",
        "    plt.subplot(1,2,2)\n",
        "    plt.axis('off')\n",
        "    plt.imshow(mask[:,:,0],cmap='gray')\n",
        "    plt.show()\n"
      ]
    },
    {
      "cell_type": "code",
      "execution_count": 206,
      "metadata": {
        "id": "TwDdyTylaX4F",
        "colab": {
          "base_uri": "https://localhost:8080/",
          "height": 245
        },
        "outputId": "a45efea2-bcc6-4c51-8269-d0b461095864"
      },
      "outputs": [
        {
          "output_type": "display_data",
          "data": {
            "text/plain": [
              "<Figure size 1152x576 with 3 Axes>"
            ],
            "image/png": "[encoded data removed]"
          },
          "metadata": {
            "needs_background": "light"
          }
        }
      ],
      "source": [
        "import random\n",
        "test_img_number = random.randint(0, a.shape[0]-1)\n",
        "test_img = a[test_img_number]\n",
        "ground_truth=b[test_img_number]\n",
        "#test_img_norm=test_img[:,:,0][:,:,None]\n",
        "test_img_input=np.expand_dims(test_img, 0)\n",
        "prediction = (model.predict(test_img_input)[0,:,:,0] > 0.5).astype(np.uint8)\n",
        "plt.figure(figsize=(16, 8))\n",
        "plt.subplot(231)\n",
        "plt.axis('off')\n",
        "plt.title('Testing Image')\n",
        "plt.imshow(test_img[:,:,0], cmap='gray')\n",
        "\n",
        "\n",
        "plt.subplot(232)\n",
        "plt.title('Real Mask ')\n",
        "plt.axis('off')\n",
        "plt.imshow(ground_truth[:,:,0], cmap='gray')\n",
        "\n",
        "plt.subplot(233)\n",
        "plt.axis('off')\n",
        "plt.title('Predicted mask')\n",
        "plt.imshow(prediction, cmap='gray')\n",
        "\n",
        "plt.show()"
      ]
    },
    {
      "cell_type": "code",
      "execution_count": 207,
      "metadata": {
        "id": "fmgBN3YLnZfE",
        "colab": {
          "base_uri": "https://localhost:8080/"
        },
        "outputId": "4a2a3018-4d14-47ec-81c9-34161693c09c"
      },
      "outputs": [
        {
          "output_type": "stream",
          "name": "stdout",
          "text": [
            "Mean IoU = 0.9094011\n"
          ]
        }
      ],
      "source": [
        "#IoU for a single image\n",
        "from tensorflow.keras.metrics import MeanIoU\n",
        "n_classes = 2\n",
        "\n",
        "IOU_keras = MeanIoU(num_classes=n_classes)  \n",
        "\n",
        "IOU_keras.update_state(ground_truth[:,:,0], prediction)\n",
        "print(\"Mean IoU =\", IOU_keras.result().numpy())"
      ]
    },
    {
      "cell_type": "code",
      "execution_count": 208,
      "metadata": {
        "id": "pLjuxYkYaX1d",
        "colab": {
          "base_uri": "https://localhost:8080/"
        },
        "outputId": "da546c3d-7379-4513-8b48-f7607e028fae"
      },
      "outputs": [
        {
          "output_type": "stream",
          "name": "stdout",
          "text": [
            "0.66960365\n",
            "0.49111176\n",
            "0.4947815\n",
            "0.8234252\n",
            "1.0\n",
            "0.8504853\n",
            "0.49274445\n",
            "0.8245069\n",
            "0.8822831\n",
            "1.0\n",
            "0.49266052\n",
            "0.8743583\n",
            "0.58402836\n",
            "0.8754824\n",
            "0.7681165\n",
            "0.8672737\n",
            "1.0\n",
            "0.90715194\n",
            "1.0\n",
            "0.5171036\n",
            "0.84912777\n",
            "0.49564362\n",
            "0.49233246\n",
            "1.0\n",
            "1.0\n",
            "0.82016706\n",
            "0.88223696\n",
            "1.0\n",
            "0.821086\n",
            "0.88036144\n",
            "0.80141175\n",
            "0.7472254\n",
            "1.0\n",
            "0.7431978\n",
            "0.8832566\n",
            "0.8768892\n",
            "0.49806213\n",
            "0.49186707\n",
            "1.0\n",
            "0.92708474\n",
            "0.46922302\n",
            "1.0\n",
            "0.7747525\n",
            "0.5802743\n",
            "0.82855743\n",
            "0.78772944\n",
            "1.0\n",
            "0.7477182\n",
            "0.7564099\n",
            "0.92810094\n",
            "0.8507316\n",
            "0.76420665\n",
            "0.49349976\n",
            "0.893762\n",
            "0.579327\n",
            "0.49227905\n",
            "0.66002035\n",
            "0.8484423\n",
            "0.49985504\n",
            "0.75426877\n",
            "0.77863836\n",
            "0.52798545\n",
            "0.48210144\n",
            "0.4900589\n",
            "1.0\n",
            "0.49346924\n",
            "0.86970794\n",
            "0.8322048\n",
            "0.8676564\n",
            "1.0\n",
            "1.0\n",
            "0.82736456\n",
            "0.7219717\n",
            "0.5381212\n",
            "1.0\n",
            "0.8795392\n",
            "0.71830666\n",
            "0.49345398\n",
            "0.49484253\n",
            "1.0\n",
            "0.87898153\n",
            "0.85643744\n",
            "1.0\n",
            "0.49801636\n",
            "0.8689356\n",
            "1.0\n",
            "0.8006383\n",
            "0.8547164\n",
            "0.49812317\n",
            "0.4817276\n",
            "0.8619424\n",
            "0.8361497\n",
            "1.0\n",
            "1.0\n",
            "0.7857156\n",
            "0.4944229\n",
            "0.49047852\n",
            "0.87334913\n",
            "1.0\n",
            "0.47990417\n",
            "0.91037726\n",
            "0.6380221\n",
            "0.59529334\n",
            "0.6086217\n",
            "0.57260674\n",
            "0.8777026\n",
            "0.73353237\n",
            "0.47567257\n",
            "0.49869537\n",
            "1.0\n",
            "1.0\n",
            "0.6737243\n",
            "0.8926444\n",
            "0.68204087\n",
            "0.9143468\n",
            "1.0\n",
            "0.8812335\n",
            "0.7561041\n",
            "0.5488007\n",
            "0.49236298\n",
            "1.0\n",
            "0.853763\n",
            "0.91684973\n",
            "1.0\n",
            "0.896171\n",
            "0.8799111\n",
            "0.7999065\n",
            "0.49344635\n",
            "0.4945755\n",
            "1.0\n",
            "0.749311\n",
            "1.0\n",
            "1.0\n",
            "0.77282274\n",
            "0.7874235\n",
            "1.0\n",
            "0.5917765\n",
            "0.84071267\n",
            "0.85039186\n",
            "0.90038323\n",
            "1.0\n",
            "0.4986725\n",
            "0.8510549\n",
            "0.48192596\n",
            "1.0\n",
            "0.9095044\n",
            "0.8794483\n",
            "0.6315847\n",
            "1.0\n",
            "0.86496943\n",
            "0.49669647\n",
            "1.0\n",
            "1.0\n",
            "1.0\n",
            "0.84876895\n",
            "1.0\n",
            "0.80862534\n",
            "1.0\n",
            "0.49625397\n",
            "1.0\n",
            "0.9082341\n",
            "0.49406433\n",
            "0.91703475\n",
            "0.9198065\n",
            "0.87679887\n",
            "0.87136316\n",
            "0.9211637\n",
            "0.7158778\n",
            "0.49554443\n",
            "0.49503326\n",
            "0.5639671\n",
            "0.4875641\n",
            "0.88100386\n",
            "0.4928131\n",
            "0.49089813\n",
            "0.5413606\n",
            "0.49269867\n",
            "0.81971395\n",
            "1.0\n",
            "1.0\n",
            "0.48454285\n",
            "0.77921116\n",
            "0.7578229\n",
            "0.518238\n",
            "0.90276664\n",
            "1.0\n",
            "0.912904\n",
            "1.0\n",
            "0.80609\n",
            "1.0\n",
            "0.8189282\n",
            "0.52328205\n",
            "0.5212101\n",
            "0.47792816\n",
            "0.8176304\n",
            "0.68634814\n",
            "0.83779037\n",
            "0.51504946\n",
            "0.58354753\n",
            "0.46541595\n",
            "1.0\n",
            "1.0\n",
            "0.9115025\n",
            "0.6569259\n",
            "1.0\n",
            "0.6895817\n",
            "0.8545586\n",
            "0.49573517\n",
            "1.0\n",
            "0.8420273\n",
            "0.49842072\n",
            "0.6017016\n",
            "0.4923706\n",
            "0.49038696\n",
            "0.8657025\n",
            "0.86608934\n",
            "0.4986801\n",
            "0.8062711\n",
            "0.87616086\n",
            "1.0\n",
            "0.49388123\n",
            "1.0\n",
            "0.63864684\n",
            "0.8001573\n",
            "1.0\n",
            "0.47453308\n",
            "0.49021912\n",
            "0.8752755\n",
            "0.4913864\n",
            "0.49549103\n",
            "0.49152374\n",
            "0.8715157\n",
            "0.49761808\n",
            "0.49534607\n",
            "0.50211316\n",
            "0.8709297\n",
            "0.46274567\n",
            "0.4910736\n",
            "0.86529446\n",
            "0.49770355\n",
            "0.82833815\n",
            "0.80798364\n",
            "0.4998169\n",
            "0.50262886\n",
            "0.77600235\n",
            "0.899513\n",
            "0.8220936\n",
            "0.8928498\n",
            "0.88334876\n",
            "0.49391937\n",
            "0.92385525\n",
            "1.0\n",
            "0.60989136\n",
            "0.8728913\n",
            "0.5763248\n",
            "0.89052165\n",
            "0.49238586\n",
            "0.9158374\n",
            "1.0\n",
            "0.46195984\n",
            "0.8980681\n",
            "1.0\n",
            "0.8372996\n",
            "0.75850844\n",
            "0.8303815\n",
            "0.47091675\n",
            "1.0\n",
            "0.79163\n",
            "0.8624816\n",
            "0.8862141\n",
            "0.8886235\n",
            "0.85718435\n",
            "0.8525338\n",
            "0.57185864\n",
            "0.7074284\n",
            "0.83185923\n",
            "0.9110472\n",
            "0.49292755\n",
            "0.810235\n",
            "0.86114466\n",
            "0.9121227\n",
            "0.48796082\n",
            "0.62518096\n",
            "0.8657422\n",
            "0.4992447\n",
            "0.53355443\n",
            "0.6523477\n",
            "0.81518614\n",
            "0.43814087\n",
            "1.0\n",
            "0.49041748\n",
            "0.7507596\n",
            "1.0\n",
            "0.9071219\n",
            "0.858467\n",
            "0.46692657\n",
            "0.84577894\n",
            "0.74703014\n",
            "0.47212982\n",
            "0.8296962\n",
            "0.4920044\n",
            "1.0\n",
            "1.0\n",
            "0.49343872\n",
            "0.84322053\n",
            "1.0\n",
            "0.8973559\n",
            "0.49102783\n",
            "0.87426645\n",
            "0.7386904\n",
            "0.48703766\n",
            "0.73517144\n",
            "0.7156013\n",
            "0.88642883\n",
            "0.91608274\n",
            "1.0\n",
            "0.73489344\n",
            "0.50257605\n",
            "0.7681531\n",
            "0.9081875\n",
            "0.6699557\n",
            "0.8974414\n",
            "0.49765778\n",
            "1.0\n",
            "0.46494293\n",
            "0.6014301\n",
            "1.0\n",
            "0.49210358\n",
            "0.87307006\n",
            "0.8679648\n",
            "0.5188885\n",
            "0.90447974\n",
            "0.839283\n",
            "0.60879797\n",
            "0.864153\n",
            "0.9189935\n",
            "0.80385184\n",
            "0.9124944\n",
            "0.85717297\n",
            "0.8662584\n",
            "0.4940338\n",
            "1.0\n",
            "0.4681778\n",
            "1.0\n",
            "0.599891\n",
            "0.8567153\n",
            "0.90572274\n",
            "0.60882664\n",
            "0.724948\n",
            "0.69297284\n",
            "0.88104963\n",
            "0.8484198\n",
            "0.9094011\n",
            "0.49952614\n",
            "0.7264843\n",
            "0.9009675\n",
            "0.68681294\n",
            "0.49352264\n",
            "0.4931183\n",
            "0.8857112\n",
            "0.86506426\n",
            "0.7734071\n",
            "0.4997177\n",
            "0.5966929\n",
            "0.49280548\n",
            "0.8624073\n",
            "1.0\n",
            "0.89387536\n",
            "0.4922943\n",
            "0.85132235\n",
            "0.5534902\n",
            "0.4972763\n",
            "0.9020599\n",
            "0.49124908\n",
            "1.0\n",
            "0.8659057\n",
            "0.8646018\n",
            "1.0\n",
            "0.4995575\n",
            "0.79072124\n",
            "0.8425406\n",
            "Mean IoU is:  [0.70614636]\n"
          ]
        }
      ],
      "source": [
        "import pandas as pd\n",
        "\n",
        "IoU_values = []\n",
        "for img in range(0, a.shape[0]):\n",
        "    temp_img = a[img]\n",
        "    ground_truth=b[img]\n",
        "    temp_img_input=np.expand_dims(temp_img, 0)\n",
        "    prediction = (model.predict(temp_img_input)[0,:,:,0] > 0.5).astype(np.uint8)\n",
        "    \n",
        "    IoU = MeanIoU(num_classes=n_classes)\n",
        "    IoU.update_state(ground_truth[:,:,0], prediction)\n",
        "    IoU = IoU.result().numpy()\n",
        "    IoU_values.append(IoU)\n",
        "\n",
        "    print(IoU)\n",
        "    \n",
        "\n",
        "\n",
        "df = pd.DataFrame(IoU_values, columns=[\"IoU\"])\n",
        "df = df[df.IoU != 1.0]    \n",
        "mean_IoU = df.mean().values\n",
        "print(\"Mean IoU is: \", mean_IoU)"
      ]
    },
    {
      "cell_type": "code",
      "execution_count": null,
      "metadata": {
        "id": "s3oPJeiFaXy1"
      },
      "outputs": [],
      "source": [
        ""
      ]
    },
    {
      "cell_type": "code",
      "execution_count": null,
      "metadata": {
        "id": "rCmQ9Eq3aXv_"
      },
      "outputs": [],
      "source": [
        ""
      ]
    },
    {
      "cell_type": "code",
      "execution_count": null,
      "metadata": {
        "id": "6aGnSNPwaXtZ"
      },
      "outputs": [],
      "source": [
        ""
      ]
    },
    {
      "cell_type": "code",
      "execution_count": null,
      "metadata": {
        "id": "97RwGomXaXrC"
      },
      "outputs": [],
      "source": [
        ""
      ]
    },
    {
      "cell_type": "code",
      "execution_count": null,
      "metadata": {
        "id": "z21mrVv0aXoq"
      },
      "outputs": [],
      "source": [
        ""
      ]
    },
    {
      "cell_type": "code",
      "execution_count": null,
      "metadata": {
        "id": "airK2Md1aXmH"
      },
      "outputs": [],
      "source": [
        ""
      ]
    },
    {
      "cell_type": "code",
      "execution_count": null,
      "metadata": {
        "id": "eQMDRC8VaXYo"
      },
      "outputs": [],
      "source": [
        ""
      ]
    },
    {
      "cell_type": "code",
      "execution_count": null,
      "metadata": {
        "colab": {
          "base_uri": "https://localhost:8080/",
          "height": 52
        },
        "id": "VgquYFgjGSoC",
        "outputId": "26ffd871-414d-4239-9391-ee8212e50025"
      },
      "outputs": [
        {
          "name": "stdout",
          "output_type": "stream",
          "text": [
            "(1, 3, 3, 128, 128, 1)\n"
          ]
        },
        {
          "data": {
            "text/plain": [
              "<Figure size 432x288 with 0 Axes>"
            ]
          },
          "metadata": {},
          "output_type": "display_data"
        }
      ],
      "source": [
        "for j in range(1,476):\n",
        "  img1 = np.expand_dims(a[j-1], axis=0)\n",
        "  res1 = model.predict(img1)\n",
        "  res1[res1>=0.5] = 1\n",
        "  res1[res1<0.5] = 0\n",
        "\n",
        "  \n",
        "  img2 = np.expand_dims(a[j], axis=0) \n",
        "  res2 = model.predict(img2)\n",
        "  res2[res2>=0.5] = 1\n",
        "  res2[res2<0.5] = 0\n",
        "    \n",
        "  img3 = np.expand_dims(a[j+1], axis=0)\n",
        "  res3 = model.predict(img3)\n",
        "  res3[res3>=0.5] = 1\n",
        "  res3[res3<0.5] = 0\n",
        "  plt.gray()\n",
        "\n",
        "res = np.array([np.concatenate((res1,res2,res3), axis=0)])\n",
        "res[res >= 0.5] = 1\n",
        "res[res < 0.5] = 0\n",
        "\n",
        "print(res.shape)\n"
      ]
    },
    {
      "cell_type": "code",
      "execution_count": null,
      "metadata": {
        "id": "6evHefV_GIHs"
      },
      "outputs": [],
      "source": [
        ""
      ]
    },
    {
      "cell_type": "code",
      "execution_count": null,
      "metadata": {
        "colab": {
          "base_uri": "https://localhost:8080/",
          "height": 130
        },
        "id": "z5S6608QGOPy",
        "outputId": "8739b977-7332-4823-e4f9-009b2a2ade05"
      },
      "outputs": [
        {
          "ename": "SyntaxError",
          "evalue": "ignored",
          "output_type": "error",
          "traceback": [
            "\u001b[0;36m  File \u001b[0;32m\"<ipython-input-19-bf958a28024e>\"\u001b[0;36m, line \u001b[0;32m1\u001b[0m\n\u001b[0;31m    for j in range(1, val_generator[0]):\u001b[0m\n\u001b[0m                                        ^\u001b[0m\n\u001b[0;31mSyntaxError\u001b[0m\u001b[0;31m:\u001b[0m unexpected EOF while parsing\n"
          ]
        }
      ],
      "source": [
        "for j in range(1, val_generator[0]):\n",
        "  \n"
      ]
    },
    {
      "cell_type": "code",
      "execution_count": null,
      "metadata": {
        "id": "BwD_Cb73GOMU"
      },
      "outputs": [],
      "source": [
        ""
      ]
    },
    {
      "cell_type": "code",
      "execution_count": null,
      "metadata": {
        "id": "vzeHm7gNGOJR"
      },
      "outputs": [],
      "source": [
        "import random\n",
        "test_img_number = random.randint(0, a.shape[0]-1)\n",
        "test_img = a[test_img_number]\n",
        "ground_truth=b[test_img_number]\n",
        "#test_img_norm=test_img[:,:,0][:,:,None]\n",
        "test_img_input=np.expand_dims(test_img, 0)\n",
        "\n",
        "prediction = (model.predict(test_img_input)[0,0,:,:,0] > 0.5).astype(np.uint8)\n",
        "plt.figure(figsize=(16, 8))\n",
        "plt.subplot(231)\n",
        "plt.axis('off')\n",
        "plt.title('Testing Image')\n",
        "plt.imshow(test_img[0,:,:,0], cmap='gray')\n",
        "\n",
        "plt.subplot(232)\n",
        "\n",
        "plt.title('Real Mask ')\n",
        "plt.axis('off')\n",
        "plt.imshow(ground_truth[0,:,:,0], cmap='gray')\n",
        "plt.subplot(233)\n",
        "plt.axis('off')\n",
        "plt.title('Predicted mask')\n",
        "plt.imshow(prediction, cmap='gray')\n",
        "\n",
        "plt.show()"
      ]
    },
    {
      "cell_type": "code",
      "execution_count": null,
      "metadata": {
        "id": "A046SP6oGOGj"
      },
      "outputs": [],
      "source": [
        ""
      ]
    },
    {
      "cell_type": "code",
      "execution_count": null,
      "metadata": {
        "id": "ykDr3SxPGOD9"
      },
      "outputs": [],
      "source": [
        ""
      ]
    },
    {
      "cell_type": "code",
      "execution_count": null,
      "metadata": {
        "id": "7xCSW9faGOBN"
      },
      "outputs": [],
      "source": [
        ""
      ]
    },
    {
      "cell_type": "code",
      "execution_count": null,
      "metadata": {
        "id": "k50OEfPcGN-l"
      },
      "outputs": [],
      "source": [
        ""
      ]
    },
    {
      "cell_type": "code",
      "execution_count": null,
      "metadata": {
        "id": "O2DtVY5eGN79"
      },
      "outputs": [],
      "source": [
        ""
      ]
    },
    {
      "cell_type": "code",
      "execution_count": null,
      "metadata": {
        "id": "DLJa1ImTGN5d"
      },
      "outputs": [],
      "source": [
        ""
      ]
    },
    {
      "cell_type": "code",
      "execution_count": null,
      "metadata": {
        "id": "9lHWHF4JGN2_"
      },
      "outputs": [],
      "source": [
        ""
      ]
    },
    {
      "cell_type": "code",
      "execution_count": null,
      "metadata": {
        "id": "XY7ZtSvpGN0d"
      },
      "outputs": [],
      "source": [
        ""
      ]
    },
    {
      "cell_type": "code",
      "execution_count": null,
      "metadata": {
        "id": "bmKW3vG_GIEN"
      },
      "outputs": [],
      "source": [
        ""
      ]
    },
    {
      "cell_type": "code",
      "execution_count": null,
      "metadata": {
        "id": "ZDhuZ2zJGIBI"
      },
      "outputs": [],
      "source": [
        ""
      ]
    },
    {
      "cell_type": "code",
      "execution_count": null,
      "metadata": {
        "id": "Olnv08clGHvr"
      },
      "outputs": [],
      "source": [
        ""
      ]
    },
    {
      "cell_type": "code",
      "execution_count": null,
      "metadata": {
        "colab": {
          "base_uri": "https://localhost:8080/"
        },
        "id": "rEpopumYepm7",
        "outputId": "655bb1bc-1538-4aca-d6a5-73ff85fec030"
      },
      "outputs": [
        {
          "data": {
            "text/plain": [
              "(3, 128, 128, 1)"
            ]
          },
          "execution_count": 42,
          "metadata": {},
          "output_type": "execute_result"
        }
      ],
      "source": [
        "import random\n",
        "test_img_number = random.randint(0, a.shape[0]-1)\n",
        "test_img = a[test_img_number]\n",
        "ground_truth=b[test_img_number]\n",
        "#test_img_norm=test_img[:,:,0][:,:,None]\n",
        "\n",
        "test_img_input=np.expand_dims(test_img, 0)\n",
        "ground_truth.shape"
      ]
    },
    {
      "cell_type": "code",
      "execution_count": null,
      "metadata": {
        "colab": {
          "base_uri": "https://localhost:8080/",
          "height": 245
        },
        "id": "UCXo38D3epjf",
        "outputId": "d34f6836-123f-4450-fb7e-46965b4fa561"
      },
      "outputs": [
        {
          "data": {
            "image/png": "[encoded data removed]",
            "text/plain": [
              "<Figure size 1152x576 with 3 Axes>"
            ]
          },
          "metadata": {},
          "output_type": "display_data"
        }
      ],
      "source": [
        "import random\n",
        "test_img_number = random.randint(0, a.shape[0]-1)\n",
        "test_img = a[test_img_number]\n",
        "ground_truth=b[test_img_number]\n",
        "#test_img_norm=test_img[:,:,0][:,:,None]\n",
        "test_img_input=np.expand_dims(test_img, 0)\n",
        "\n",
        "prediction = (model.predict(test_img_input)[0,0,:,:,0] > 0.5).astype(np.uint8)\n",
        "plt.figure(figsize=(16, 8))\n",
        "plt.subplot(231)\n",
        "plt.axis('off')\n",
        "plt.title('Testing Image')\n",
        "plt.imshow(test_img[0,:,:,0], cmap='gray')\n",
        "\n",
        "plt.subplot(232)\n",
        "\n",
        "plt.title('Real Mask ')\n",
        "plt.axis('off')\n",
        "plt.imshow(ground_truth[0,:,:,0], cmap='gray')\n",
        "plt.subplot(233)\n",
        "plt.axis('off')\n",
        "plt.title('Predicted mask')\n",
        "plt.imshow(prediction, cmap='gray')\n",
        "\n",
        "plt.show()"
      ]
    },
    {
      "cell_type": "code",
      "execution_count": null,
      "metadata": {
        "colab": {
          "base_uri": "https://localhost:8080/"
        },
        "id": "IzsMCCXAephO",
        "outputId": "412c524f-ef35-43af-8ce4-9c082bacbbac"
      },
      "outputs": [
        {
          "name": "stdout",
          "output_type": "stream",
          "text": [
            "Mean IoU = 0.4878235\n"
          ]
        }
      ],
      "source": [
        "\n",
        "#IoU for a single image\n",
        "from tensorflow.keras.metrics import MeanIoU\n",
        "n_classes = 2\n",
        "IOU_keras = MeanIoU(num_classes=n_classes)  \n",
        "IOU_keras.update_state(ground_truth[0,:,:,0], prediction)\n",
        "print(\"Mean IoU =\", IOU_keras.result().numpy())"
      ]
    },
    {
      "cell_type": "code",
      "execution_count": null,
      "metadata": {
        "colab": {
          "base_uri": "https://localhost:8080/"
        },
        "id": "NWERqKZ2epeo",
        "outputId": "01ac179b-fa09-472d-ff1c-96686888bacb"
      },
      "outputs": [
        {
          "name": "stdout",
          "output_type": "stream",
          "text": [
            "0.6180633\n",
            "0.49822998\n",
            "0.7410177\n",
            "0.6890902\n",
            "0.7132847\n",
            "0.7918916\n",
            "0.4845581\n",
            "0.74232125\n",
            "0.59491545\n",
            "0.4833374\n",
            "0.627467\n",
            "1.0\n",
            "0.7346523\n",
            "0.703405\n",
            "1.0\n",
            "0.62411714\n",
            "0.49597168\n",
            "0.6323108\n",
            "1.0\n",
            "0.6501851\n",
            "0.4883728\n",
            "0.5881425\n",
            "0.6541257\n",
            "1.0\n",
            "1.0\n",
            "0.49154663\n",
            "0.46939087\n",
            "0.49578857\n",
            "0.6708994\n",
            "0.4862671\n",
            "0.60599804\n",
            "0.48757935\n",
            "0.51412684\n",
            "1.0\n",
            "1.0\n",
            "0.4953003\n",
            "0.47543335\n",
            "0.5977655\n",
            "0.71323466\n",
            "0.5833928\n",
            "0.49935913\n",
            "0.50292194\n",
            "0.5669876\n",
            "0.56545514\n",
            "0.6325985\n",
            "0.49447632\n",
            "0.49554443\n",
            "0.66667044\n",
            "0.68443143\n",
            "0.4730835\n",
            "0.768549\n",
            "0.60221446\n",
            "0.64089966\n",
            "1.0\n",
            "0.4781494\n",
            "0.7155191\n",
            "0.50893444\n",
            "0.49925706\n",
            "0.6145861\n",
            "1.0\n",
            "0.49786377\n",
            "0.6013087\n",
            "1.0\n",
            "0.66860735\n",
            "0.77641404\n",
            "0.4930725\n",
            "0.5587265\n",
            "0.49957275\n",
            "0.66372156\n",
            "0.4973755\n",
            "0.6683755\n",
            "0.64867866\n",
            "0.58109695\n",
            "0.590022\n",
            "0.5425316\n",
            "0.48135376\n",
            "0.557687\n",
            "0.49713135\n",
            "0.48895264\n",
            "0.49768066\n",
            "0.5980749\n",
            "0.4827881\n",
            "0.49682617\n",
            "0.587107\n",
            "0.6389549\n",
            "0.48547363\n",
            "0.66105145\n",
            "1.0\n",
            "0.4949646\n",
            "1.0\n",
            "0.6478698\n",
            "0.6897645\n",
            "1.0\n",
            "0.4777527\n",
            "1.0\n",
            "0.6718845\n",
            "0.49520874\n",
            "0.4940796\n",
            "0.5426611\n",
            "0.7065214\n",
            "0.4890442\n",
            "0.6652804\n",
            "0.49917603\n",
            "0.763683\n",
            "0.49986747\n",
            "0.49938965\n",
            "0.5915414\n",
            "0.7946278\n",
            "1.0\n",
            "0.7561815\n",
            "0.75545937\n",
            "1.0\n",
            "0.49591064\n",
            "0.46203613\n",
            "1.0\n",
            "0.6153277\n",
            "0.6263023\n",
            "0.4998474\n",
            "0.6982166\n",
            "0.56016445\n",
            "0.48138428\n",
            "0.48712158\n",
            "0.5764443\n",
            "0.70394135\n",
            "0.7006903\n",
            "0.6203633\n",
            "1.0\n",
            "1.0\n",
            "0.52990896\n",
            "0.63372606\n",
            "0.4875183\n",
            "0.48312378\n",
            "0.5006101\n",
            "0.7144092\n",
            "0.84166396\n",
            "0.49398804\n",
            "0.46731567\n",
            "0.63084245\n",
            "0.49902344\n",
            "0.74991417\n",
            "1.0\n",
            "1.0\n",
            "0.7231946\n",
            "0.5666104\n",
            "0.52386814\n",
            "0.49856567\n",
            "0.71975213\n",
            "0.4842224\n",
            "0.4980774\n",
            "0.6535939\n",
            "1.0\n",
            "0.61895865\n",
            "0.58112323\n",
            "1.0\n",
            "0.77804935\n",
            "0.76528233\n",
            "0.48703003\n",
            "1.0\n",
            "0.5858428\n",
            "0.49343872\n",
            "0.49075317\n",
            "0.6437543\n",
            "0.4828186\n",
            "0.6459257\n",
            "0.49992728\n",
            "0.84629285\n",
            "0.48931885\n",
            "0.46951294\n",
            "0.6348487\n",
            "0.6746915\n",
            "0.49996948\n",
            "1.0\n",
            "0.49990845\n",
            "0.6750543\n",
            "1.0\n",
            "0.64513636\n",
            "0.48251343\n",
            "0.7947024\n",
            "0.6880045\n",
            "0.48428345\n",
            "0.5979849\n",
            "0.49951172\n",
            "0.6517005\n",
            "0.7430655\n",
            "0.49893188\n",
            "0.6688701\n",
            "0.65133804\n",
            "0.68297327\n",
            "0.8033869\n",
            "0.8163778\n",
            "0.7492448\n",
            "0.7380401\n",
            "0.49551392\n",
            "0.51584566\n",
            "0.678833\n",
            "0.48953247\n",
            "0.49609375\n",
            "1.0\n",
            "0.4750061\n",
            "1.0\n",
            "0.48168945\n",
            "0.64767736\n",
            "0.640762\n",
            "0.49691772\n",
            "0.7425493\n",
            "0.7756727\n",
            "1.0\n",
            "0.7622154\n",
            "0.49432373\n",
            "0.47943115\n",
            "0.733868\n",
            "0.49942017\n",
            "0.5998385\n",
            "0.7784545\n",
            "0.63337666\n",
            "0.58905953\n",
            "0.5949798\n",
            "0.4729309\n",
            "1.0\n",
            "0.674663\n",
            "0.61729825\n",
            "1.0\n",
            "1.0\n",
            "0.67949367\n",
            "0.6159353\n",
            "1.0\n",
            "0.47540283\n",
            "0.5529958\n",
            "0.59725416\n",
            "0.4878235\n",
            "0.4822998\n",
            "0.7217263\n",
            "0.8166876\n",
            "0.7204217\n",
            "1.0\n",
            "0.67139345\n",
            "0.70836604\n",
            "0.7479229\n",
            "1.0\n",
            "0.5256345\n",
            "1.0\n",
            "0.7151522\n",
            "1.0\n",
            "0.7651273\n",
            "0.68212426\n",
            "0.48516846\n",
            "0.4963684\n",
            "0.5522853\n",
            "0.49847412\n",
            "0.7568216\n",
            "0.5942932\n",
            "0.48495483\n",
            "0.48538208\n",
            "1.0\n",
            "0.7459277\n",
            "0.76808923\n",
            "0.80899537\n",
            "0.48614502\n",
            "0.47650146\n",
            "0.67950994\n",
            "0.7310592\n",
            "0.65507865\n",
            "0.71533495\n",
            "0.4998169\n",
            "0.49798584\n",
            "0.7597586\n",
            "0.48458862\n",
            "1.0\n",
            "1.0\n",
            "0.49865723\n",
            "0.7463651\n",
            "0.49719238\n",
            "0.6906222\n",
            "0.69425225\n",
            "0.48443604\n",
            "0.69402844\n",
            "0.4923706\n",
            "0.6387464\n",
            "1.0\n",
            "0.7039704\n",
            "0.77464706\n",
            "0.72390807\n",
            "0.49438477\n",
            "0.6643019\n",
            "0.49974838\n",
            "0.5960312\n",
            "1.0\n",
            "0.49139404\n",
            "0.560288\n",
            "0.6349987\n",
            "0.6974509\n",
            "0.4819336\n",
            "0.66482854\n",
            "0.49917603\n",
            "0.4960327\n",
            "0.68374556\n",
            "0.52342176\n",
            "1.0\n",
            "0.6233307\n",
            "0.63645303\n",
            "0.74615407\n",
            "0.4918518\n",
            "0.49938965\n",
            "0.7516027\n",
            "0.4711609\n",
            "0.6283662\n",
            "0.7826688\n",
            "0.48587036\n",
            "1.0\n",
            "0.5066358\n",
            "0.49996948\n",
            "0.6510705\n",
            "0.6720634\n",
            "0.48043823\n",
            "0.715688\n",
            "1.0\n",
            "0.48254395\n",
            "1.0\n",
            "0.4973755\n",
            "0.63470644\n",
            "0.7714608\n",
            "1.0\n",
            "0.49993896\n",
            "0.4987793\n",
            "0.79557395\n",
            "1.0\n",
            "0.4880371\n",
            "0.48999023\n",
            "0.49423218\n",
            "0.68627405\n",
            "0.4975891\n",
            "0.49597168\n",
            "0.48599243\n",
            "0.6343529\n",
            "0.57818186\n",
            "1.0\n",
            "0.8229263\n",
            "0.49242097\n",
            "0.4847107\n",
            "0.74402106\n",
            "0.47909546\n",
            "0.49019828\n",
            "0.49441528\n",
            "0.4923401\n",
            "0.7804818\n",
            "0.6304159\n",
            "0.49752808\n",
            "1.0\n",
            "0.49990845\n",
            "0.49502563\n",
            "0.7511288\n",
            "0.49661255\n",
            "0.48275757\n",
            "0.4897766\n",
            "0.49005127\n",
            "1.0\n",
            "0.4934082\n",
            "0.47286987\n",
            "0.6694845\n",
            "0.62676746\n",
            "1.0\n",
            "0.72416335\n",
            "1.0\n",
            "0.7484983\n",
            "0.7422284\n",
            "0.49230957\n",
            "0.47247314\n",
            "0.5525277\n",
            "0.63959074\n",
            "1.0\n",
            "0.5886424\n",
            "0.48632812\n",
            "0.77148306\n",
            "1.0\n",
            "0.5744945\n",
            "0.49917603\n",
            "0.49996948\n",
            "0.73745275\n",
            "0.63284826\n",
            "0.48623657\n",
            "0.6426979\n",
            "0.48846436\n",
            "0.49276733\n",
            "0.4899292\n",
            "0.63468647\n",
            "0.61856914\n",
            "0.570315\n",
            "0.49612427\n",
            "0.6055457\n",
            "0.56806034\n",
            "0.48544312\n",
            "0.754735\n",
            "0.4809265\n",
            "0.57973975\n",
            "1.0\n",
            "0.49868774\n",
            "0.48171997\n",
            "0.67169154\n",
            "0.67987317\n",
            "0.6866667\n",
            "0.4998474\n",
            "1.0\n",
            "0.49221802\n",
            "0.49407557\n",
            "0.56125915\n",
            "1.0\n",
            "0.7273878\n",
            "0.4882202\n",
            "0.4973755\n",
            "0.48330688\n",
            "0.49780273\n",
            "0.6551656\n",
            "0.64920807\n",
            "0.49313354\n",
            "1.0\n",
            "0.56485945\n",
            "0.7806699\n",
            "0.48947144\n",
            "0.48110962\n",
            "0.7109759\n",
            "0.7188373\n",
            "1.0\n",
            "0.6445071\n",
            "0.6032665\n",
            "0.65462697\n",
            "0.6255\n",
            "0.7140405\n",
            "0.71078587\n",
            "0.56645954\n",
            "0.49987793\n",
            "0.47964478\n",
            "1.0\n",
            "1.0\n",
            "1.0\n",
            "0.7188263\n",
            "0.5559355\n",
            "0.6666172\n",
            "0.71331966\n",
            "0.70424736\n",
            "1.0\n",
            "1.0\n",
            "0.6141185\n",
            "0.49291992\n",
            "0.4867859\n",
            "0.48547363\n",
            "0.7646872\n",
            "0.48623657\n",
            "0.67125964\n",
            "0.71028024\n",
            "0.49240112\n",
            "1.0\n",
            "0.71227986\n",
            "0.49032593\n",
            "0.60509735\n",
            "0.6887908\n",
            "0.6398926\n",
            "0.658564\n",
            "0.74732983\n",
            "0.78570616\n",
            "0.49053955\n",
            "0.66594243\n",
            "0.49832153\n",
            "0.68908316\n",
            "0.6403232\n",
            "1.0\n",
            "0.4972229\n",
            "0.4985962\n",
            "0.8054091\n",
            "0.72754365\n",
            "0.49926758\n",
            "0.5221856\n",
            "1.0\n",
            "0.8007309\n",
            "0.6799444\n",
            "0.47387695\n",
            "0.66403604\n",
            "0.7543646\n",
            "Mean IoU is:  [0.5964839]\n"
          ]
        }
      ],
      "source": [
        "\n",
        "import pandas as pd\n",
        "\n",
        "IoU_values = []\n",
        "for img in range(0, a.shape[0]):\n",
        "    temp_img = a[img]\n",
        "    ground_truth=b[img]\n",
        "    temp_img_input=np.expand_dims(temp_img, 0)\n",
        "    prediction = (model.predict(temp_img_input)[0,0,:,:,0]> 0.5).astype(np.uint8)\n",
        "    \n",
        "    IoU = MeanIoU(num_classes=n_classes)\n",
        "    IoU.update_state(ground_truth[0,:,:,0], prediction)\n",
        "    IoU = IoU.result().numpy()\n",
        "    IoU_values.append(IoU)\n",
        "\n",
        "    print(IoU)\n",
        "    \n",
        "\n",
        "\n",
        "df = pd.DataFrame(IoU_values, columns=[\"IoU\"])\n",
        "df = df[df.IoU != 1.0]    \n",
        "mean_IoU = df.mean().values\n",
        "print(\"Mean IoU is: \", mean_IoU)"
      ]
    },
    {
      "cell_type": "code",
      "execution_count": null,
      "metadata": {
        "id": "vQjSDsV6epcQ"
      },
      "outputs": [],
      "source": [
        ""
      ]
    }
  ],
  "metadata": {
    "accelerator": "GPU",
    "colab": {
      "name": "altromodello-nomaschere.ipynb",
      "provenance": [],
      "authorship_tag": "ABX9TyNgtXvxxInGAEQ2zV9PeOnN",
      "include_colab_link": true
    },
    "kernelspec": {
      "display_name": "Python 3",
      "name": "python3"
    },
    "language_info": {
      "name": "python"
    }
  },
  "nbformat": 4,
  "nbformat_minor": 0
}