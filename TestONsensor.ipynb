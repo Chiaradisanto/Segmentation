{
  "nbformat": 4,
  "nbformat_minor": 0,
  "metadata": {
    "colab": {
      "provenance": [],
      "include_colab_link": true
    },
    "kernelspec": {
      "name": "python3",
      "display_name": "Python 3"
    },
    "language_info": {
      "name": "python"
    },
    "gpuClass": "standard",
    "accelerator": "GPU"
  },
  "cells": [
    {
      "cell_type": "markdown",
      "metadata": {
        "id": "view-in-github",
        "colab_type": "text"
      },
      "source": [
        "<a href=\"https://colab.research.google.com/github/Chiaradisanto/Segmentation/blob/main/TestONsensor.ipynb\" target=\"_parent\"><img src=\"https://colab.research.google.com/assets/colab-badge.svg\" alt=\"Open In Colab\"/></a>"
      ]
    },
    {
      "cell_type": "code",
      "execution_count": 1,
      "metadata": {
        "colab": {
          "base_uri": "https://localhost:8080/"
        },
        "id": "Lqd9xlI4dxb-",
        "outputId": "23b43fb2-9016-479b-df65-a101e84c25b2"
      },
      "outputs": [
        {
          "output_type": "stream",
          "name": "stdout",
          "text": [
            "Drive already mounted at /gdrive; to attempt to forcibly remount, call drive.mount(\"/gdrive\", force_remount=True).\n"
          ]
        }
      ],
      "source": [
        "\n",
        "from google.colab import drive\n",
        "drive.mount('/gdrive')\n"
      ]
    },
    {
      "cell_type": "code",
      "source": [
        "\n",
        "#Load previously saved model\n",
        "from keras.models import load_model\n",
        "model = load_model(\"/gdrive/MyDrive/SensorAdjusted-15epochs-5e-5-savethebestonl-.h5\", compile=False)"
      ],
      "metadata": {
        "id": "4fnokF5Ad08O"
      },
      "execution_count": 65,
      "outputs": []
    },
    {
      "cell_type": "code",
      "source": [
        "\n",
        "from matplotlib import pyplot as plt\n",
        "import random\n",
        "import pandas as pd\n",
        "import numpy as np\n",
        "import matplotlib.pyplot as plt\n",
        "plt.style.use(\"ggplot\")\n",
        "%matplotlib inline\n",
        "import cv2\n",
        "from tqdm import tqdm_notebook, tnrange\n",
        "from glob import glob\n",
        "from itertools import chain\n",
        "from skimage.io import imread, imshow, concatenate_images\n",
        "from skimage.transform import resize\n",
        "from skimage.morphology import label\n",
        "from sklearn.model_selection import train_test_split\n",
        "\n",
        "import tensorflow as tf\n",
        "#from skimage.color import rgb2gray\n",
        "from tensorflow.keras import Input\n",
        "from tensorflow.keras.models import Model, load_model, save_model\n",
        "from tensorflow.keras.layers import Input, Activation, BatchNormalization, Dropout, Lambda, Conv2D, Conv2DTranspose, MaxPooling2D, add, concatenate,UpSampling2D,ZeroPadding2D\n",
        "from tensorflow.keras.optimizers import Adam\n",
        "from tensorflow.keras.callbacks import EarlyStopping, ModelCheckpoint\n",
        "\n",
        "from tensorflow.keras import backend as K\n",
        "\n",
        "from tensorflow.keras.callbacks import EarlyStopping, ModelCheckpoint"
      ],
      "metadata": {
        "id": "btk2ESaDeBE8"
      },
      "execution_count": 66,
      "outputs": []
    },
    {
      "cell_type": "code",
      "source": [
        "\n",
        "\n",
        "import os\n",
        "from IPython.core.completer import time\n",
        "from natsort import natsorted\n",
        "from tensorflow.keras.preprocessing.image import (\n",
        "    array_to_img,\n",
        "    img_to_array,\n",
        "    load_img,\n",
        ")\n",
        "from tensorflow.keras import layers\n",
        "import tensorflow as tf\n",
        "import numpy as np"
      ],
      "metadata": {
        "id": "nkJCZjQjeP7V"
      },
      "execution_count": 67,
      "outputs": []
    },
    {
      "cell_type": "code",
      "source": [
        "\n",
        "class GetLoader:\n",
        "    def __init__(self, *, imgs, masks, timesteps, batch_size, squeeze=False):\n",
        "        self.imgs = imgs\n",
        "        self.masks = masks\n",
        "        self.timesteps = timesteps\n",
        "        self.batch_size = batch_size\n",
        "        self.squeeze = squeeze\n",
        "        self.augmentation = tf.keras.Sequential(\n",
        "            [\n",
        "                layers.RandomFlip(\"horizontal_and_vertical\"),\n",
        "                layers.RandomRotation(0.2),\n",
        "            ]\n",
        "        )\n",
        "\n",
        "    def __iter__(self):\n",
        "        return self\n",
        "\n",
        "    def __next__(self):\n",
        "        xs = []\n",
        "        ys = []\n",
        "        for _ in range(self.batch_size):\n",
        "            index = np.random.randint(0, len(self.imgs) - self.timesteps)\n",
        "            xs.append(self.imgs[index : index + self.timesteps])\n",
        "            ys.append(self.masks[index + self.timesteps])\n",
        "        x, y = np.array(xs), np.array(ys)\n",
        "        x = x.squeeze(-1).transpose(0, 2, 3, 1)\n",
        "        xy = self.augmentation(tf.concat((x, y), axis=-1))\n",
        "\n",
        "        x = xy[:, :, :, :3]\n",
        "        y = xy[:, :, :, 3:]\n",
        "        if not self.squeeze:\n",
        "            x = tf.transpose(x, perm=(0, 3, 1, 2))[..., None]\n",
        "            y = tf.expand_dims(y, 1)\n",
        "        # if not tf.reduce_all(y[0] == 0):\n",
        "        #    ipdb.set_trace()\n",
        "        return x, y\n",
        "\n",
        "\n",
        "class DataLoader:\n",
        "    def __init__(\n",
        "        self,\n",
        "        data_folder: str,\n",
        "        *,\n",
        "        timesteps: int = 3,\n",
        "        batch_size=4,\n",
        "        squeeze=False,\n",
        "    ):\n",
        "        self.batch_size = batch_size\n",
        "        self.data_folder = data_folder\n",
        "        self.timesteps = timesteps\n",
        "        self.squeeze = squeeze\n",
        "        train_img_file_names = [\n",
        "            os.path.join(data_folder, \"train_images\", \"images\", fn)\n",
        "            for fn in os.listdir(os.path.join(data_folder, \"train_images\", \"images\"))\n",
        "        ]\n",
        "        train_img_file_names = natsorted(train_img_file_names)\n",
        "        # train_img_file_names.sort(key=lambda x: int(x.split(\"_\")[-1].split(\".\")[0]))\n",
        "        train_mask_file_names = [\n",
        "            fn.replace(\"images\", \"masks\") for fn in train_img_file_names\n",
        "        ]\n",
        "        self.train_imgs = (\n",
        "            np.array(\n",
        "                [\n",
        "                    img_to_array(load_img(fn, color_mode=\"grayscale\"))\n",
        "                    for fn in train_img_file_names\n",
        "                ]\n",
        "            )\n",
        "            / 255\n",
        "        )\n",
        "        self.train_masks = (\n",
        "            np.array(\n",
        "                [\n",
        "                    img_to_array(load_img(fn, color_mode=\"grayscale\"))\n",
        "                    for fn in train_mask_file_names\n",
        "                ]\n",
        "            )\n",
        "            / 255\n",
        "            > 0.5\n",
        "        ).astype(float)\n",
        "\n",
        "        val_img_file_names = [\n",
        "            os.path.join(data_folder, \"test_images\", \"images\", fn)\n",
        "            for fn in os.listdir(os.path.join(data_folder, \"test_images\", \"images\"))\n",
        "        ]\n",
        "        val_img_file_names = natsorted(val_img_file_names)\n",
        "        val_mask_file_names = [\n",
        "            fn.replace(\"images\", \"masks\") for fn in val_img_file_names\n",
        "        ]\n",
        "        self.val_imgs = (\n",
        "            np.array(\n",
        "                [\n",
        "                    img_to_array(load_img(fn, color_mode=\"grayscale\"))\n",
        "                    for fn in val_img_file_names\n",
        "                ]\n",
        "            )\n",
        "            / 255\n",
        "        )\n",
        "        self.val_masks = (\n",
        "            np.array(\n",
        "                [\n",
        "                    img_to_array(load_img(fn, color_mode=\"grayscale\"))\n",
        "                    for fn in val_mask_file_names\n",
        "                ]\n",
        "            )\n",
        "            / 255\n",
        "            > 0.5\n",
        "        ).astype(float)\n",
        "\n",
        "    def get_loaders(self):\n",
        "        return (\n",
        "            GetLoader(\n",
        "                imgs=self.train_imgs,\n",
        "                masks=self.train_masks,\n",
        "                timesteps=self.timesteps,\n",
        "                batch_size=self.batch_size,\n",
        "                squeeze=self.squeeze,\n",
        "            ),\n",
        "            GetLoader(\n",
        "                imgs=self.val_imgs,\n",
        "                masks=self.val_masks,\n",
        "                timesteps=self.timesteps,\n",
        "                batch_size=self.batch_size,\n",
        "                squeeze=self.squeeze,\n",
        "            ),\n",
        "        )"
      ],
      "metadata": {
        "id": "CEvo7MOQYSyt"
      },
      "execution_count": 68,
      "outputs": []
    },
    {
      "cell_type": "code",
      "source": [
        "train_loader, val_loader = DataLoader(\"/gdrive/MyDrive/TEST-TOTALE/prova\", batch_size=225,squeeze=False).get_loaders()\n"
      ],
      "metadata": {
        "id": "bHmRBbqM6BFi"
      },
      "execution_count": 69,
      "outputs": []
    },
    {
      "cell_type": "code",
      "source": [
        "a, b = val_loader.__next__()"
      ],
      "metadata": {
        "id": "ODorOk4AfeF6"
      },
      "execution_count": 70,
      "outputs": []
    },
    {
      "cell_type": "code",
      "source": [
        "a.shape"
      ],
      "metadata": {
        "colab": {
          "base_uri": "https://localhost:8080/"
        },
        "id": "Y5p0N_4i4H_O",
        "outputId": "b9073c09-4e76-4ae6-d69d-4086726f361b"
      },
      "execution_count": 71,
      "outputs": [
        {
          "output_type": "execute_result",
          "data": {
            "text/plain": [
              "TensorShape([225, 3, 256, 256, 1])"
            ]
          },
          "metadata": {},
          "execution_count": 71
        }
      ]
    },
    {
      "cell_type": "code",
      "source": [
        "\n",
        "for i in range(0,3):\n",
        "    image = a[i,0,:,:,0]\n",
        "    #mask = np.argmax(y[i], axis=2)\n",
        "    mask= b[i,0,:,:,0]\n",
        "    plt.subplot(1,2,1)\n",
        "    plt.imshow(image, cmap='gray')\n",
        "    plt.axis('off')\n",
        "    plt.subplot(1,2,2)\n",
        "    plt.imshow(mask, cmap='gray')\n",
        "    plt.axis('off')\n",
        "    plt.show()"
      ],
      "metadata": {
        "colab": {
          "base_uri": "https://localhost:8080/",
          "height": 515
        },
        "id": "wq3H0HmJeURS",
        "outputId": "501bd617-7030-44f5-cba7-abfa8e2c155c"
      },
      "execution_count": 72,
      "outputs": [
        {
          "output_type": "display_data",
          "data": {
            "text/plain": [
              "<Figure size 432x288 with 2 Axes>"
            ],
            "image/png": "[encoded data removed]"
          },
          "metadata": {
            "needs_background": "light"
          }
        },
        {
          "output_type": "display_data",
          "data": {
            "text/plain": [
              "<Figure size 432x288 with 2 Axes>"
            ],
            "image/png": "[encoded data removed]"
          },
          "metadata": {
            "needs_background": "light"
          }
        },
        {
          "output_type": "display_data",
          "data": {
            "text/plain": [
              "<Figure size 432x288 with 2 Axes>"
            ],
            "image/png": "[encoded data removed]"
          },
          "metadata": {
            "needs_background": "light"
          }
        }
      ]
    },
    {
      "cell_type": "code",
      "source": [
        "import random\n",
        "test_img_number = random.randint(0, a.shape[0]-1)\n",
        "test_img = a[test_img_number]\n",
        "ground_truth=b[test_img_number]\n",
        "#test_img_norm=test_img[:,:,0][:,:,None]\n",
        "test_img_input=np.expand_dims(test_img, 0)\n",
        "\n",
        "prediction = (model.predict(test_img_input)[0,0,:,:,0] > 0.5).astype(np.uint8)\n",
        "plt.figure(figsize=(16, 8))\n",
        "plt.subplot(231)\n",
        "plt.axis('off')\n",
        "plt.title('Testing Image')\n",
        "plt.imshow(test_img[0,:,:,0], cmap='gray')\n",
        "\n",
        "\n",
        "plt.subplot(232)\n",
        "plt.title('Real Mask ')\n",
        "plt.axis('off')\n",
        "plt.imshow(ground_truth[0,:,:,0], cmap='gray')\n",
        "plt.subplot(233)\n",
        "plt.axis('off')\n",
        "plt.title('Predicted mask')\n",
        "plt.imshow(prediction, cmap='gray')\n",
        "\n",
        "plt.show()"
      ],
      "metadata": {
        "colab": {
          "base_uri": "https://localhost:8080/",
          "height": 246
        },
        "id": "s_c8d4JReVxW",
        "outputId": "5dbc1402-cc36-4059-f8fc-7c7571b29889"
      },
      "execution_count": 76,
      "outputs": [
        {
          "output_type": "display_data",
          "data": {
            "text/plain": [
              "<Figure size 1152x576 with 3 Axes>"
            ],
            "image/png": "[encoded data removed]"
          },
          "metadata": {
            "needs_background": "light"
          }
        }
      ]
    },
    {
      "cell_type": "code",
      "source": [
        "\n",
        "\n",
        "#IoU for a single image\n",
        "from tensorflow.keras.metrics import MeanIoU\n",
        "n_classes = 2\n",
        "IOU_keras = MeanIoU(num_classes=n_classes)  \n",
        "IOU_keras.update_state(ground_truth[0,:,:,0], prediction)\n",
        "print(\"Mean IoU =\", IOU_keras.result().numpy())"
      ],
      "metadata": {
        "id": "qwIgDEBdeX3O",
        "colab": {
          "base_uri": "https://localhost:8080/"
        },
        "outputId": "a7d4ce04-2251-4953-b280-7df132afc08f"
      },
      "execution_count": 74,
      "outputs": [
        {
          "output_type": "stream",
          "name": "stdout",
          "text": [
            "Mean IoU = 0.49692535\n"
          ]
        }
      ]
    },
    {
      "cell_type": "code",
      "source": [
        "\n",
        "import pandas as pd\n",
        "\n",
        "IoU_values = []\n",
        "for img in range(0, a.shape[0]):\n",
        "    temp_img = a[img]\n",
        "    ground_truth=b[img]\n",
        "    temp_img_input=np.expand_dims(temp_img, 0)\n",
        "    prediction = (model.predict(temp_img_input)[0,0,:,:,0]> 0.5).astype(np.uint8)\n",
        "    \n",
        "    IoU = MeanIoU(num_classes=n_classes)\n",
        "    IoU.update_state(ground_truth[0,:,:,0], prediction)\n",
        "    IoU = IoU.result().numpy()\n",
        "    IoU_values.append(IoU)\n",
        "\n",
        "    print(IoU)\n",
        "    \n",
        "\n",
        "\n",
        "df = pd.DataFrame(IoU_values, columns=[\"IoU\"])\n",
        "df = df[df.IoU != 1.0]    \n",
        "mean_IoU = df.mean().values\n",
        "print(\"Mean IoU is: \", mean_IoU)"
      ],
      "metadata": {
        "colab": {
          "base_uri": "https://localhost:8080/"
        },
        "id": "qfUSUEILeZ7v",
        "outputId": "ad84c642-28ec-4698-93ce-f52fd60414bf"
      },
      "execution_count": 75,
      "outputs": [
        {
          "output_type": "stream",
          "name": "stdout",
          "text": [
            "1.0\n",
            "0.57832295\n",
            "0.5299861\n",
            "0.49687195\n",
            "0.7909117\n",
            "0.64812386\n",
            "1.0\n",
            "0.49331665\n",
            "0.48631287\n",
            "0.48603058\n",
            "0.8749224\n",
            "1.0\n",
            "0.85530967\n",
            "1.0\n",
            "1.0\n",
            "1.0\n",
            "0.49717712\n",
            "0.7848922\n",
            "0.49783325\n",
            "1.0\n",
            "1.0\n",
            "0.64115644\n",
            "0.85979474\n",
            "0.49887848\n",
            "0.49410248\n",
            "1.0\n",
            "0.5299861\n",
            "0.49391937\n",
            "0.8749224\n",
            "0.84414333\n",
            "0.49991608\n",
            "0.84440124\n",
            "0.78845537\n",
            "0.49479675\n",
            "1.0\n",
            "0.49593353\n",
            "0.8568876\n",
            "0.8031268\n",
            "1.0\n",
            "0.7980324\n",
            "0.49949646\n",
            "0.86991143\n",
            "0.84497464\n",
            "0.4948578\n",
            "1.0\n",
            "0.4995346\n",
            "1.0\n",
            "1.0\n",
            "0.48603058\n",
            "0.49331665\n",
            "1.0\n",
            "1.0\n",
            "0.5299861\n",
            "0.84440124\n",
            "0.4995041\n",
            "1.0\n",
            "1.0\n",
            "0.49549866\n",
            "1.0\n",
            "0.76921445\n",
            "1.0\n",
            "0.4971161\n",
            "1.0\n",
            "1.0\n",
            "0.48390198\n",
            "1.0\n",
            "0.83296406\n",
            "0.87978876\n",
            "1.0\n",
            "0.4949112\n",
            "0.7312884\n",
            "1.0\n",
            "0.7547454\n",
            "0.48603058\n",
            "0.4995041\n",
            "1.0\n",
            "0.8568876\n",
            "1.0\n",
            "0.49991608\n",
            "0.49549866\n",
            "1.0\n",
            "1.0\n",
            "0.4940033\n",
            "1.0\n",
            "0.6888324\n",
            "0.49887848\n",
            "1.0\n",
            "0.49684906\n",
            "1.0\n",
            "1.0\n",
            "1.0\n",
            "1.0\n",
            "1.0\n",
            "0.76921445\n",
            "0.49479675\n",
            "1.0\n",
            "0.6347194\n",
            "0.49739075\n",
            "0.49329376\n",
            "0.48389435\n",
            "0.4959488\n",
            "0.48659515\n",
            "0.49523163\n",
            "0.4951477\n",
            "1.0\n",
            "1.0\n",
            "0.5299861\n",
            "0.77221644\n",
            "1.0\n",
            "1.0\n",
            "0.49794006\n",
            "0.49947357\n",
            "0.49085236\n",
            "1.0\n",
            "0.49767303\n",
            "0.84497464\n",
            "1.0\n",
            "0.8199117\n",
            "0.8349451\n",
            "0.8199117\n",
            "1.0\n",
            "1.0\n",
            "1.0\n",
            "0.48461914\n",
            "0.49954224\n",
            "0.8031268\n",
            "1.0\n",
            "1.0\n",
            "1.0\n",
            "0.48806\n",
            "0.86991143\n",
            "0.4998474\n",
            "0.4997635\n",
            "1.0\n",
            "1.0\n",
            "0.4979782\n",
            "0.49593353\n",
            "0.49479675\n",
            "1.0\n",
            "0.49359894\n",
            "1.0\n",
            "0.76921445\n",
            "0.80472654\n",
            "0.85979474\n",
            "1.0\n",
            "1.0\n",
            "1.0\n",
            "1.0\n",
            "0.882973\n",
            "0.49987793\n",
            "0.49477386\n",
            "1.0\n",
            "0.4875641\n",
            "0.49928284\n",
            "1.0\n",
            "0.49477386\n",
            "0.8568876\n",
            "0.82657343\n",
            "0.8690046\n",
            "0.49652863\n",
            "1.0\n",
            "0.4998474\n",
            "1.0\n",
            "1.0\n",
            "1.0\n",
            "0.78168\n",
            "0.48378754\n",
            "0.77221644\n",
            "0.73779136\n",
            "0.4995041\n",
            "1.0\n",
            "0.4946518\n",
            "0.8536693\n",
            "1.0\n",
            "0.76704395\n",
            "0.4949112\n",
            "1.0\n",
            "0.4953766\n",
            "1.0\n",
            "0.49995422\n",
            "0.4971161\n",
            "1.0\n",
            "0.4938736\n",
            "0.49794006\n",
            "0.48672485\n",
            "0.8797884\n",
            "1.0\n",
            "0.5258838\n",
            "0.49692535\n",
            "0.83296406\n",
            "0.4937973\n",
            "1.0\n",
            "0.7957013\n",
            "1.0\n",
            "0.8017198\n",
            "0.8641297\n",
            "0.4992981\n",
            "1.0\n",
            "0.48631287\n",
            "1.0\n",
            "1.0\n",
            "1.0\n",
            "0.48390198\n",
            "0.49479675\n",
            "0.4875641\n",
            "0.49410248\n",
            "0.4997635\n",
            "0.49477386\n",
            "0.59570843\n",
            "0.4875641\n",
            "1.0\n",
            "0.7547454\n",
            "0.80472654\n",
            "1.0\n",
            "1.0\n",
            "1.0\n",
            "1.0\n",
            "1.0\n",
            "1.0\n",
            "0.49825287\n",
            "1.0\n",
            "1.0\n",
            "0.5426939\n",
            "0.49941254\n",
            "1.0\n",
            "Mean IoU is:  [0.61393]\n"
          ]
        }
      ]
    },
    {
      "cell_type": "code",
      "source": [],
      "metadata": {
        "id": "Pcx2K36Zebhj"
      },
      "execution_count": 12,
      "outputs": []
    }
  ]
}