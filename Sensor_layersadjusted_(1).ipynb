{
  "cells": [
    {
      "cell_type": "markdown",
      "metadata": {
        "id": "view-in-github",
        "colab_type": "text"
      },
      "source": [
        "<a href=\"https://colab.research.google.com/github/Chiaradisanto/Segmentation/blob/main/Sensor_layersadjusted_(1).ipynb\" target=\"_parent\"><img src=\"https://colab.research.google.com/assets/colab-badge.svg\" alt=\"Open In Colab\"/></a>"
      ]
    },
    {
      "cell_type": "code",
      "execution_count": 1,
      "metadata": {
        "colab": {
          "base_uri": "https://localhost:8080/"
        },
        "id": "Mpks1ti2dmLG",
        "outputId": "1c291ba3-17a8-4efd-90f2-c3fe0bc33813"
      },
      "outputs": [
        {
          "output_type": "stream",
          "name": "stdout",
          "text": [
            "Mounted at /gdrive\n"
          ]
        }
      ],
      "source": [
        "from google.colab import drive\n",
        "drive.mount('/gdrive')"
      ]
    },
    {
      "cell_type": "code",
      "execution_count": 2,
      "metadata": {
        "id": "Z77zcQDHdpGx"
      },
      "outputs": [],
      "source": [
        "\n",
        "import os\n",
        "from IPython.core.completer import time\n",
        "from natsort import natsorted\n",
        "from tensorflow.keras.preprocessing.image import (\n",
        "    array_to_img,\n",
        "    img_to_array,\n",
        "    load_img,\n",
        ")\n",
        "from tensorflow.keras import layers\n",
        "import tensorflow as tf\n",
        "import numpy as np"
      ]
    },
    {
      "cell_type": "code",
      "execution_count": 3,
      "metadata": {
        "id": "_GvDvxW3dpDE"
      },
      "outputs": [],
      "source": [
        "class GetLoader:\n",
        "    def __init__(self, *, imgs, masks, timesteps, batch_size, squeeze=False):\n",
        "        self.imgs = imgs\n",
        "        self.masks = masks\n",
        "        self.timesteps = timesteps\n",
        "        self.batch_size = 4\n",
        "        self.squeeze = squeeze\n",
        "        self.augmentation = tf.keras.Sequential(\n",
        "            [\n",
        "                layers.RandomFlip(\"horizontal_and_vertical\"),\n",
        "                layers.RandomRotation(0.2),\n",
        "            ]\n",
        "        )\n",
        "\n",
        "    def __iter__(self):\n",
        "        return self\n",
        "\n",
        "    def __next__(self):\n",
        "        xs = []\n",
        "        ys = []\n",
        "        for _ in range(self.batch_size):\n",
        "            index = np.random.randint(0, len(self.imgs) - self.timesteps)\n",
        "            xs.append(self.imgs[index : index + self.timesteps])\n",
        "            ys.append(self.masks[index + self.timesteps])\n",
        "        x, y = np.array(xs), np.array(ys)\n",
        "        x = x.squeeze(-1).transpose(0, 2, 3, 1)\n",
        "        xy = self.augmentation(tf.concat((x, y), axis=-1))\n",
        "\n",
        "        x = xy[:, :, :, :3]\n",
        "        y = xy[:, :, :, 3:]\n",
        "        if not self.squeeze:\n",
        "            x = tf.transpose(x, perm=(0, 3, 1, 2))[..., None]\n",
        "            y = tf.expand_dims(y, 1)\n",
        "        # if not tf.reduce_all(y[0] == 0):\n",
        "        #    ipdb.set_trace()\n",
        "        return x, y\n",
        "\n",
        "\n",
        "class DataLoader:\n",
        "    def __init__(\n",
        "        self,\n",
        "        data_folder: str,\n",
        "        *,\n",
        "        timesteps: int = 3,\n",
        "        batch_size=4,\n",
        "        squeeze=False,\n",
        "    ):\n",
        "        self.batch_size = batch_size\n",
        "        self.data_folder = data_folder\n",
        "        self.timesteps = timesteps\n",
        "        self.squeeze = squeeze\n",
        "        train_img_file_names = [\n",
        "            os.path.join(data_folder, \"train_images\", \"images\", fn)\n",
        "            for fn in os.listdir(os.path.join(data_folder, \"train_images\", \"images\"))\n",
        "        ]\n",
        "        train_img_file_names = natsorted(train_img_file_names)\n",
        "        # train_img_file_names.sort(key=lambda x: int(x.split(\"_\")[-1].split(\".\")[0]))\n",
        "        train_mask_file_names = [\n",
        "            fn.replace(\"images\", \"masks\") for fn in train_img_file_names\n",
        "        ]\n",
        "        self.train_imgs = (\n",
        "            np.array(\n",
        "                [\n",
        "                    img_to_array(load_img(fn, color_mode=\"grayscale\"))\n",
        "                    for fn in train_img_file_names\n",
        "                ]\n",
        "            )\n",
        "            / 255\n",
        "        )\n",
        "        self.train_masks = (\n",
        "            np.array(\n",
        "                [\n",
        "                    img_to_array(load_img(fn, color_mode=\"grayscale\"))\n",
        "                    for fn in train_mask_file_names\n",
        "                ]\n",
        "            )\n",
        "            / 255\n",
        "            > 0.5\n",
        "        ).astype(float)\n",
        "\n",
        "        val_img_file_names = [\n",
        "            os.path.join(data_folder, \"val_images\", \"images\", fn)\n",
        "            for fn in os.listdir(os.path.join(data_folder, \"val_images\", \"images\"))\n",
        "        ]\n",
        "        val_img_file_names = natsorted(val_img_file_names)\n",
        "        val_mask_file_names = [\n",
        "            fn.replace(\"images\", \"masks\") for fn in val_img_file_names\n",
        "        ]\n",
        "        self.val_imgs = (\n",
        "            np.array(\n",
        "                [\n",
        "                    img_to_array(load_img(fn, color_mode=\"grayscale\"))\n",
        "                    for fn in val_img_file_names\n",
        "                ]\n",
        "            )\n",
        "            / 255\n",
        "        )\n",
        "        self.val_masks = (\n",
        "            np.array(\n",
        "                [\n",
        "                    img_to_array(load_img(fn, color_mode=\"grayscale\"))\n",
        "                    for fn in val_mask_file_names\n",
        "                ]\n",
        "            )\n",
        "            / 255\n",
        "            > 0.5\n",
        "        ).astype(float)\n",
        "\n",
        "    def get_loaders(self):\n",
        "        return (\n",
        "            GetLoader(\n",
        "                imgs=self.train_imgs,\n",
        "                masks=self.train_masks,\n",
        "                timesteps=self.timesteps,\n",
        "                batch_size=self.batch_size,\n",
        "                squeeze=self.squeeze,\n",
        "            ),\n",
        "            GetLoader(\n",
        "                imgs=self.val_imgs,\n",
        "                masks=self.val_masks,\n",
        "                timesteps=self.timesteps,\n",
        "                batch_size=self.batch_size,\n",
        "                squeeze=self.squeeze,\n",
        "            ),\n",
        "        )"
      ]
    },
    {
      "cell_type": "code",
      "execution_count": 4,
      "metadata": {
        "id": "uyydvpDhdpAl"
      },
      "outputs": [],
      "source": [
        "train_loader, val_loader = DataLoader(\"/gdrive/MyDrive/adjustedROI/final_output\", squeeze=False).get_loaders()\n"
      ]
    },
    {
      "cell_type": "code",
      "execution_count": 5,
      "metadata": {
        "id": "FkiYiHHpdo-A"
      },
      "outputs": [],
      "source": [
        "x, y = train_loader.__next__()"
      ]
    },
    {
      "cell_type": "code",
      "execution_count": 6,
      "metadata": {
        "id": "KLT-mSOPdo7n"
      },
      "outputs": [],
      "source": [
        "from matplotlib import pyplot as plt"
      ]
    },
    {
      "cell_type": "code",
      "execution_count": 7,
      "metadata": {
        "colab": {
          "base_uri": "https://localhost:8080/",
          "height": 515
        },
        "id": "VBSK7qDEdo5C",
        "outputId": "1e80d302-86f8-412f-c409-f0c89bde4d07"
      },
      "outputs": [
        {
          "output_type": "display_data",
          "data": {
            "text/plain": [
              "<Figure size 432x288 with 2 Axes>"
            ],
            "image/png": "[encoded data removed]"
          },
          "metadata": {
            "needs_background": "light"
          }
        },
        {
          "output_type": "display_data",
          "data": {
            "text/plain": [
              "<Figure size 432x288 with 2 Axes>"
            ],
            "image/png": "[encoded data removed]"
          },
          "metadata": {
            "needs_background": "light"
          }
        },
        {
          "output_type": "display_data",
          "data": {
            "text/plain": [
              "<Figure size 432x288 with 2 Axes>"
            ],
            "image/png": "[encoded data removed]"
          },
          "metadata": {
            "needs_background": "light"
          }
        }
      ],
      "source": [
        "\n",
        "x, y = train_loader.__next__()\n",
        "\n",
        "for i in range(0,3):\n",
        "    image = x[i,0,:,:,0]\n",
        "    #mask = np.argmax(y[i], axis=2)\n",
        "    mask= y[i,0,:,:,0]\n",
        "    plt.subplot(1,2,1)\n",
        "    plt.imshow(image, cmap='gray')\n",
        "    plt.axis('off')\n",
        "    plt.subplot(1,2,2)\n",
        "    plt.imshow(mask, cmap='gray')\n",
        "    plt.axis('off')\n",
        "    plt.show()"
      ]
    },
    {
      "cell_type": "code",
      "execution_count": 8,
      "metadata": {
        "colab": {
          "base_uri": "https://localhost:8080/"
        },
        "id": "hIYnW33H5cGG",
        "outputId": "9d189775-b253-4a2f-f4c1-f9028a600279"
      },
      "outputs": [
        {
          "output_type": "execute_result",
          "data": {
            "text/plain": [
              "TensorShape([4, 1, 256, 256, 1])"
            ]
          },
          "metadata": {},
          "execution_count": 8
        }
      ],
      "source": [
        "y.shape"
      ]
    },
    {
      "cell_type": "code",
      "execution_count": 9,
      "metadata": {
        "id": "d6f7bKOndo2s"
      },
      "outputs": [],
      "source": [
        "batch_size=4"
      ]
    },
    {
      "cell_type": "code",
      "execution_count": 10,
      "metadata": {
        "colab": {
          "base_uri": "https://localhost:8080/"
        },
        "id": "fwhv29agugOa",
        "outputId": "5f53650a-5884-4eb4-8074-8032ad18afcc"
      },
      "outputs": [
        {
          "output_type": "execute_result",
          "data": {
            "text/plain": [
              "TensorShape([4, 1, 256, 256, 1])"
            ]
          },
          "metadata": {},
          "execution_count": 10
        }
      ],
      "source": [
        "y.shape"
      ]
    },
    {
      "cell_type": "code",
      "execution_count": 11,
      "metadata": {
        "id": "xBuFvzUXvmDW"
      },
      "outputs": [],
      "source": [
        "x, y = val_loader.__next__()\n",
        "\n"
      ]
    },
    {
      "cell_type": "code",
      "execution_count": 12,
      "metadata": {
        "id": "7DXV9c0odo0W"
      },
      "outputs": [],
      "source": [
        "#Define the model metrcis and load model. \n",
        "\n",
        "num_train_imgs = len(os.listdir('/gdrive/MyDrive/adjustedROI/final_output/train_images/images'))\n",
        "num_val_images = len(os.listdir('/gdrive/MyDrive/adjustedROI/final_output/val_images/images'))\n",
        "steps_per_epoch = num_train_imgs//batch_size\n",
        "val_steps_per_epoch = num_val_images//batch_size\n"
      ]
    },
    {
      "cell_type": "code",
      "execution_count": 13,
      "metadata": {
        "colab": {
          "base_uri": "https://localhost:8080/"
        },
        "id": "teBh4intvW7r",
        "outputId": "407f9b8a-2da4-430c-c826-6b8ba66b2ab4"
      },
      "outputs": [
        {
          "output_type": "execute_result",
          "data": {
            "text/plain": [
              "477"
            ]
          },
          "metadata": {},
          "execution_count": 13
        }
      ],
      "source": [
        "num_val_images"
      ]
    },
    {
      "cell_type": "code",
      "execution_count": 14,
      "metadata": {
        "id": "cmYMQrpCdox9"
      },
      "outputs": [],
      "source": [
        "import tensorflow as tf\n",
        "from tensorflow.keras.layers import Conv2D, TimeDistributed,Dropout,Input, Dense,\\\n",
        "    BatchNormalization, GRU, Layer, Flatten,MaxPooling2D, concatenate,Lambda\n",
        "from tensorflow.keras.regularizers import l2\n",
        "from tensorflow.keras.models import Model\n",
        "from tensorflow.keras.utils import plot_model\n",
        "from tensorflow.keras.optimizers import Adam\n",
        "from keras import layers\n",
        "from keras import models\n",
        "from tensorflow.python.keras.layers import ConvLSTM2D"
      ]
    },
    {
      "cell_type": "code",
      "execution_count": 15,
      "metadata": {
        "id": "i3KYDslbdovU"
      },
      "outputs": [],
      "source": [
        "input_shape=(3,256,256,1)"
      ]
    },
    {
      "cell_type": "code",
      "execution_count": null,
      "metadata": {
        "id": "C3KphFEleWRt"
      },
      "outputs": [],
      "source": []
    },
    {
      "cell_type": "code",
      "execution_count": 16,
      "metadata": {
        "colab": {
          "base_uri": "https://localhost:8080/"
        },
        "id": "OEJwv69mdosz",
        "outputId": "e380d036-939f-4c43-98cc-8763405bc95a"
      },
      "outputs": [
        {
          "output_type": "stream",
          "name": "stdout",
          "text": [
            "Model: \"model\"\n",
            "__________________________________________________________________________________________________\n",
            " Layer (type)                   Output Shape         Param #     Connected to                     \n",
            "==================================================================================================\n",
            " input_1 (InputLayer)           [(None, 3, 256, 256  0           []                               \n",
            "                                , 1)]                                                             \n",
            "                                                                                                  \n",
            " time_distributed (TimeDistribu  (None, 3, 256, 256,  640        ['input_1[0][0]']                \n",
            " ted)                            64)                                                              \n",
            "                                                                                                  \n",
            " time_distributed_1 (TimeDistri  (None, 3, 256, 256,  36928      ['time_distributed[0][0]']       \n",
            " buted)                          64)                                                              \n",
            "                                                                                                  \n",
            " time_distributed_2 (TimeDistri  (None, 3, 128, 128,  0          ['time_distributed_1[0][0]']     \n",
            " buted)                          64)                                                              \n",
            "                                                                                                  \n",
            " time_distributed_3 (TimeDistri  (None, 3, 128, 128,  73856      ['time_distributed_2[0][0]']     \n",
            " buted)                          128)                                                             \n",
            "                                                                                                  \n",
            " time_distributed_4 (TimeDistri  (None, 3, 128, 128,  147584     ['time_distributed_3[0][0]']     \n",
            " buted)                          128)                                                             \n",
            "                                                                                                  \n",
            " time_distributed_5 (TimeDistri  (None, 3, 64, 64, 1  0          ['time_distributed_4[0][0]']     \n",
            " buted)                         28)                                                               \n",
            "                                                                                                  \n",
            " time_distributed_6 (TimeDistri  (None, 3, 64, 64, 2  295168     ['time_distributed_5[0][0]']     \n",
            " buted)                         56)                                                               \n",
            "                                                                                                  \n",
            " time_distributed_7 (TimeDistri  (None, 3, 64, 64, 2  590080     ['time_distributed_6[0][0]']     \n",
            " buted)                         56)                                                               \n",
            "                                                                                                  \n",
            " time_distributed_8 (TimeDistri  (None, 3, 32, 32, 2  0          ['time_distributed_7[0][0]']     \n",
            " buted)                         56)                                                               \n",
            "                                                                                                  \n",
            " bidirectional (Bidirectional)  (None, 3, 32, 32, 5  9439232     ['time_distributed_8[0][0]']     \n",
            "                                12)                                                               \n",
            "                                                                                                  \n",
            " time_distributed_9 (TimeDistri  (None, 3, 64, 64, 5  2359808    ['bidirectional[0][0]']          \n",
            " buted)                         12)                                                               \n",
            "                                                                                                  \n",
            " concatenate (Concatenate)      (None, 3, 64, 64, 7  0           ['time_distributed_9[0][0]',     \n",
            "                                68)                               'time_distributed_7[0][0]']     \n",
            "                                                                                                  \n",
            " time_distributed_10 (TimeDistr  (None, 3, 64, 64, 2  1769728    ['concatenate[0][0]']            \n",
            " ibuted)                        56)                                                               \n",
            "                                                                                                  \n",
            " time_distributed_11 (TimeDistr  (None, 3, 64, 64, 2  590080     ['time_distributed_10[0][0]']    \n",
            " ibuted)                        56)                                                               \n",
            "                                                                                                  \n",
            " time_distributed_12 (TimeDistr  (None, 3, 128, 128,  590080     ['time_distributed_11[0][0]']    \n",
            " ibuted)                         256)                                                             \n",
            "                                                                                                  \n",
            " concatenate_1 (Concatenate)    (None, 3, 128, 128,  0           ['time_distributed_12[0][0]',    \n",
            "                                 384)                             'time_distributed_4[0][0]']     \n",
            "                                                                                                  \n",
            " time_distributed_13 (TimeDistr  (None, 3, 128, 128,  442496     ['concatenate_1[0][0]']          \n",
            " ibuted)                         128)                                                             \n",
            "                                                                                                  \n",
            " time_distributed_14 (TimeDistr  (None, 3, 128, 128,  147584     ['time_distributed_13[0][0]']    \n",
            " ibuted)                         128)                                                             \n",
            "                                                                                                  \n",
            " time_distributed_15 (TimeDistr  (None, 3, 256, 256,  147584     ['time_distributed_14[0][0]']    \n",
            " ibuted)                         128)                                                             \n",
            "                                                                                                  \n",
            " concatenate_2 (Concatenate)    (None, 3, 256, 256,  0           ['time_distributed_15[0][0]',    \n",
            "                                 192)                             'time_distributed_1[0][0]']     \n",
            "                                                                                                  \n",
            " time_distributed_16 (TimeDistr  (None, 3, 256, 256,  110656     ['concatenate_2[0][0]']          \n",
            " ibuted)                         64)                                                              \n",
            "                                                                                                  \n",
            " bidirectional_1 (Bidirectional  (None, 256, 256, 64  221440     ['time_distributed_16[0][0]']    \n",
            " )                              )                                                                 \n",
            "                                                                                                  \n",
            " tf.expand_dims (TFOpLambda)    (None, 1, 256, 256,  0           ['bidirectional_1[0][0]']        \n",
            "                                 64)                                                              \n",
            "                                                                                                  \n",
            " time_distributed_17 (TimeDistr  (None, 1, 256, 256,  4160       ['tf.expand_dims[0][0]']         \n",
            " ibuted)                         64)                                                              \n",
            "                                                                                                  \n",
            " conv2d_12 (Conv2D)             (None, 1, 256, 256,  65          ['time_distributed_17[0][0]']    \n",
            "                                 1)                                                               \n",
            "                                                                                                  \n",
            "==================================================================================================\n",
            "Total params: 16,967,169\n",
            "Trainable params: 16,967,169\n",
            "Non-trainable params: 0\n",
            "__________________________________________________________________________________________________\n"
          ]
        }
      ],
      "source": [
        "\n",
        "input_l = layers.Input(shape=(input_shape))\n",
        "x =  (layers.TimeDistributed(layers.Conv2D( 64, kernel_size=(3, 3),padding='same',strides=(1,1),activation='relu' ) )) (input_l)\n",
        "conv2 = layers.TimeDistributed( layers.Conv2D( 64, kernel_size=(3, 3),padding='same',strides=(1,1),activation='relu'  ) ) (x)\n",
        "x=layers.TimeDistributed(layers.MaxPooling2D(pool_size=(2,2)))(conv2)\n",
        "x = layers.TimeDistributed( layers.Conv2D( 128, kernel_size=(3, 3),padding='same',strides=(1,1),activation='relu'   ) ) (x)\n",
        "conv5 = layers.TimeDistributed( layers.Conv2D( 128, kernel_size=(3, 3),padding='same',strides=(1,1),activation='relu'   ) ) (x)\n",
        "x=layers.TimeDistributed(layers.MaxPooling2D(pool_size=(2,2)))(conv5)\n",
        "x = layers.TimeDistributed( layers.Conv2D( 256, kernel_size=(3, 3),padding='same',strides=(1,1) ,activation='relu'  ) ) (x)\n",
        "conv8 = layers.TimeDistributed( layers.Conv2D( 256, kernel_size=(3, 3),padding='same',strides=(1,1) ,activation='relu'  ) ) (x)\n",
        "x=layers.TimeDistributed(layers.MaxPooling2D(pool_size=(2,2)))(conv8)\n",
        "x=layers.Bidirectional(layers.ConvLSTM2D(256,kernel_size=(3,3),padding='same',strides=(1,1),return_sequences=True,recurrent_dropout=0.3))(x)\n",
        "up1 = layers.TimeDistributed( layers.Conv2DTranspose( 512,kernel_size=(3,3),padding='same',strides=(2,2)))(x)\n",
        "concat1 = layers.concatenate([up1, conv8])\n",
        "x = layers.TimeDistributed( layers.Conv2D( 256, kernel_size=(3, 3),padding='same',strides=(1,1) ,activation='relu'  ) ) (concat1)\n",
        "x = layers.TimeDistributed( layers.Conv2D( 256, kernel_size=(3, 3),padding='same',strides=(1,1) ,activation='relu'  ) ) (x)\n",
        "up2 = layers.TimeDistributed( layers.Conv2DTranspose( 256,kernel_size=(3,3),padding='same',strides=(2,2)))(x)\n",
        "concat2 = layers.concatenate([up2, conv5])\n",
        "x = layers.TimeDistributed( layers.Conv2D( 128, kernel_size=(3, 3),padding='same',strides=(1,1),activation='relu'   ) ) (concat2)\n",
        "x = layers.TimeDistributed( layers.Conv2D( 128, kernel_size=(3, 3),padding='same',strides=(1,1) ,activation='relu'  ) ) (x)\n",
        "up3 = layers.TimeDistributed( layers.Conv2DTranspose( 128,kernel_size=(3,3),padding='same',strides=(2,2)))(x)\n",
        "concat3 = layers.concatenate([up3, conv2])\n",
        "x = layers.TimeDistributed( layers.Conv2D( 64, kernel_size=(3, 3),padding='same',strides=(1,1),activation='relu'   ) ) (concat3)\n",
        "x=layers.Bidirectional(layers.ConvLSTM2D(32,kernel_size=(3,3),padding='same',strides=(1,1),return_sequences=False,recurrent_dropout=0.3))(x)\n",
        "x=tf.expand_dims(x,axis=1)\n",
        "\n",
        "out= layers.TimeDistributed( layers.Conv2D( 64, kernel_size=(1, 1),padding='same',strides=(1,1),activation='relu'   ) ) (x)\n",
        "#out = tf.reshape(out, (-1, 1, 256,256, 64))\n",
        "out = layers.Conv2D( 1, kernel_size=(1, 1),padding='same',strides=(1,1), activation='sigmoid' )  (out)\n",
        "\n",
        "\n",
        "model = models.Model(inputs=input_l, outputs=out)\n",
        "model.summary()"
      ]
    },
    {
      "cell_type": "code",
      "execution_count": 17,
      "metadata": {
        "id": "eG509OlGfhuN"
      },
      "outputs": [],
      "source": [
        "from keras import backend as K\n",
        "\n",
        "\n",
        "def dice_coefficient(y_true, y_pred, smooth=0.0001):\n",
        "    y_true_f = K.flatten(y_true)\n",
        "    y_pred_f = K.flatten(y_pred)\n",
        "\n",
        "    intersection = K.sum(y_true_f * y_pred_f)\n",
        "\n",
        "    return ((2. * intersection + smooth) / (K.sum(y_true_f) +\n",
        "            K.sum(y_pred_f) + smooth))\n",
        "\n",
        "\n",
        "def dice_coefficient_loss(y_true, y_pred):\n",
        "    return 1.0-dice_coefficient(y_true, y_pred)\n",
        "\n",
        "\n",
        "def iou_loss(y_true, y_pred):\n",
        "    return 1-iou(y_true, y_pred)\n",
        "\n",
        "def iou(y_true, y_pred):\n",
        "    intersection = K.sum(K.abs(y_true * y_pred))\n",
        "    sum_ = K.sum(K.square(y_true)) + K.sum(K.square(y_pred))\n",
        "    jac = (intersection) / (sum_ - intersection)\n",
        "    return jac"
      ]
    },
    {
      "cell_type": "code",
      "execution_count": 18,
      "metadata": {
        "id": "QYpTkW_6fhqt"
      },
      "outputs": [],
      "source": [
        "LR = 5e-5\n",
        "optim = tf.keras.optimizers.Adam(LR)"
      ]
    },
    {
      "cell_type": "code",
      "execution_count": 19,
      "metadata": {
        "id": "y3EnFinifhoY"
      },
      "outputs": [],
      "source": [
        "metrics=['Recall','Precision', dice_coefficient, 'binary_accuracy']\n"
      ]
    },
    {
      "cell_type": "code",
      "execution_count": 20,
      "metadata": {
        "id": "9_gD-lo8fhmQ"
      },
      "outputs": [],
      "source": [
        "model.compile(optimizer=optim, loss=dice_coefficient_loss, metrics=metrics)\n"
      ]
    },
    {
      "cell_type": "code",
      "execution_count": 20,
      "metadata": {
        "id": "0bUV4g19doqZ"
      },
      "outputs": [],
      "source": []
    },
    {
      "cell_type": "code",
      "execution_count": 21,
      "metadata": {
        "id": "2sPc1s5bgALL"
      },
      "outputs": [],
      "source": [
        "model_checkpoint_callback = tf.keras.callbacks.ModelCheckpoint(\n",
        "    filepath='/gdrive/MyDrive/chk/',\n",
        "    save_weights_only=True,\n",
        "    monitor='val_dice_coefficient',\n",
        "    mode='max',\n",
        "    save_best_only=True)\n"
      ]
    },
    {
      "cell_type": "code",
      "execution_count": 22,
      "metadata": {
        "colab": {
          "base_uri": "https://localhost:8080/"
        },
        "id": "zGechLxIgAHr",
        "outputId": "c3d23428-51da-4300-9e08-984eb99a0bae"
      },
      "outputs": [
        {
          "output_type": "stream",
          "name": "stdout",
          "text": [
            "Epoch 1/15\n",
            "745/745 [==============================] - 1191s 2s/step - loss: 0.6525 - recall: 0.5742 - precision: 0.2425 - dice_coefficient: 0.3475 - binary_accuracy: 0.9430 - val_loss: 0.5346 - val_recall: 0.4813 - val_precision: 0.5509 - val_dice_coefficient: 0.4654 - val_binary_accuracy: 0.9700\n",
            "Epoch 2/15\n",
            "745/745 [==============================] - 1160s 2s/step - loss: 0.5043 - recall: 0.6563 - precision: 0.5123 - dice_coefficient: 0.4957 - binary_accuracy: 0.9750 - val_loss: 0.4310 - val_recall: 0.7374 - val_precision: 0.5389 - val_dice_coefficient: 0.5690 - val_binary_accuracy: 0.9691\n",
            "Epoch 3/15\n",
            "745/745 [==============================] - 1159s 2s/step - loss: 0.4619 - recall: 0.6855 - precision: 0.5669 - dice_coefficient: 0.5381 - binary_accuracy: 0.9778 - val_loss: 0.3988 - val_recall: 0.5838 - val_precision: 0.7303 - val_dice_coefficient: 0.6012 - val_binary_accuracy: 0.9793\n",
            "Epoch 4/15\n",
            "745/745 [==============================] - 1158s 2s/step - loss: 0.4359 - recall: 0.6925 - precision: 0.5963 - dice_coefficient: 0.5641 - binary_accuracy: 0.9788 - val_loss: 0.4243 - val_recall: 0.7664 - val_precision: 0.5558 - val_dice_coefficient: 0.5757 - val_binary_accuracy: 0.9684\n",
            "Epoch 5/15\n",
            "745/745 [==============================] - 1157s 2s/step - loss: 0.4320 - recall: 0.7008 - precision: 0.6049 - dice_coefficient: 0.5680 - binary_accuracy: 0.9794 - val_loss: 0.3703 - val_recall: 0.5841 - val_precision: 0.7720 - val_dice_coefficient: 0.6297 - val_binary_accuracy: 0.9810\n",
            "Epoch 6/15\n",
            "745/745 [==============================] - 1154s 2s/step - loss: 0.4278 - recall: 0.7132 - precision: 0.6164 - dice_coefficient: 0.5722 - binary_accuracy: 0.9803 - val_loss: 0.3752 - val_recall: 0.6407 - val_precision: 0.7429 - val_dice_coefficient: 0.6248 - val_binary_accuracy: 0.9799\n",
            "Epoch 7/15\n",
            "745/745 [==============================] - 1153s 2s/step - loss: 0.4124 - recall: 0.7094 - precision: 0.6442 - dice_coefficient: 0.5876 - binary_accuracy: 0.9811 - val_loss: 0.3991 - val_recall: 0.5932 - val_precision: 0.7732 - val_dice_coefficient: 0.6009 - val_binary_accuracy: 0.9793\n",
            "Epoch 8/15\n",
            "745/745 [==============================] - 1152s 2s/step - loss: 0.3998 - recall: 0.7088 - precision: 0.6404 - dice_coefficient: 0.6002 - binary_accuracy: 0.9815 - val_loss: 0.4055 - val_recall: 0.5579 - val_precision: 0.7969 - val_dice_coefficient: 0.5945 - val_binary_accuracy: 0.9806\n",
            "Epoch 9/15\n",
            "745/745 [==============================] - 1152s 2s/step - loss: 0.4068 - recall: 0.7103 - precision: 0.6467 - dice_coefficient: 0.5932 - binary_accuracy: 0.9818 - val_loss: 0.3779 - val_recall: 0.6871 - val_precision: 0.6842 - val_dice_coefficient: 0.6221 - val_binary_accuracy: 0.9792\n",
            "Epoch 10/15\n",
            "745/745 [==============================] - 1151s 2s/step - loss: 0.3807 - recall: 0.7244 - precision: 0.6825 - dice_coefficient: 0.6193 - binary_accuracy: 0.9830 - val_loss: 0.3826 - val_recall: 0.6411 - val_precision: 0.7391 - val_dice_coefficient: 0.6174 - val_binary_accuracy: 0.9797\n",
            "Epoch 11/15\n",
            "745/745 [==============================] - 1152s 2s/step - loss: 0.3914 - recall: 0.7301 - precision: 0.6700 - dice_coefficient: 0.6086 - binary_accuracy: 0.9826 - val_loss: 0.3402 - val_recall: 0.6494 - val_precision: 0.7747 - val_dice_coefficient: 0.6598 - val_binary_accuracy: 0.9806\n",
            "Epoch 12/15\n",
            "745/745 [==============================] - 1150s 2s/step - loss: 0.3789 - recall: 0.7263 - precision: 0.6773 - dice_coefficient: 0.6211 - binary_accuracy: 0.9828 - val_loss: 0.3810 - val_recall: 0.6607 - val_precision: 0.7282 - val_dice_coefficient: 0.6190 - val_binary_accuracy: 0.9807\n",
            "Epoch 13/15\n",
            "745/745 [==============================] - 1150s 2s/step - loss: 0.3808 - recall: 0.7159 - precision: 0.6837 - dice_coefficient: 0.6192 - binary_accuracy: 0.9830 - val_loss: 0.3698 - val_recall: 0.6894 - val_precision: 0.6973 - val_dice_coefficient: 0.6302 - val_binary_accuracy: 0.9775\n",
            "Epoch 14/15\n",
            "745/745 [==============================] - 1150s 2s/step - loss: 0.3760 - recall: 0.7349 - precision: 0.6810 - dice_coefficient: 0.6240 - binary_accuracy: 0.9827 - val_loss: 0.4027 - val_recall: 0.7128 - val_precision: 0.6432 - val_dice_coefficient: 0.5973 - val_binary_accuracy: 0.9772\n",
            "Epoch 15/15\n",
            "745/745 [==============================] - 1150s 2s/step - loss: 0.3642 - recall: 0.7376 - precision: 0.6997 - dice_coefficient: 0.6358 - binary_accuracy: 0.9835 - val_loss: 0.3904 - val_recall: 0.6151 - val_precision: 0.7440 - val_dice_coefficient: 0.6096 - val_binary_accuracy: 0.9795\n"
          ]
        }
      ],
      "source": [
        "history=model.fit(train_loader,\n",
        "          steps_per_epoch=steps_per_epoch,\n",
        "          epochs=15,\n",
        "          verbose=1,\n",
        "          validation_data=val_loader,\n",
        "\n",
        "    \n",
        "          validation_steps=val_steps_per_epoch)"
      ]
    },
    {
      "cell_type": "code",
      "execution_count": 23,
      "metadata": {
        "id": "pZBawl9_7MKn"
      },
      "outputs": [],
      "source": [
        "model.save('/gdrive/MyDrive/Sensor15-5e-5-roiadjusted-recurrentdropout0ò3-savethebest.h5')\n"
      ]
    },
    {
      "cell_type": "code",
      "execution_count": 24,
      "metadata": {
        "id": "hy6KmhrigAE0"
      },
      "outputs": [],
      "source": [
        "#Load previously saved model\n",
        "from keras.models import load_model\n",
        "model = load_model(\"/gdrive/MyDrive/Sensor15-5e-5-roiadjusted-recurrentdropout0ò3-savethebest.h5\", compile=False)"
      ]
    },
    {
      "cell_type": "code",
      "execution_count": 25,
      "metadata": {
        "id": "L2CEhiYWgACd"
      },
      "outputs": [],
      "source": [
        "\n",
        "class GetLoader:\n",
        "    def __init__(self, *, imgs, masks, timesteps, batch_size, squeeze=False):\n",
        "        self.imgs = imgs\n",
        "        self.masks = masks\n",
        "        self.timesteps = timesteps\n",
        "        self.batch_size = batch_size\n",
        "        self.squeeze = squeeze\n",
        "        self.augmentation = tf.keras.Sequential(\n",
        "            [\n",
        "                layers.RandomFlip(\"horizontal_and_vertical\"),\n",
        "                layers.RandomRotation(0.2),\n",
        "            ]\n",
        "        )\n",
        "\n",
        "    def __iter__(self):\n",
        "        return self\n",
        "\n",
        "    def __next__(self):\n",
        "        xs = []\n",
        "        ys = []\n",
        "        for _ in range(self.batch_size):\n",
        "            index = np.random.randint(0, len(self.imgs) - self.timesteps)\n",
        "            xs.append(self.imgs[index : index + self.timesteps])\n",
        "            ys.append(self.masks[index + self.timesteps])\n",
        "        x, y = np.array(xs), np.array(ys)\n",
        "        x = x.squeeze(-1).transpose(0, 2, 3, 1)\n",
        "        xy = self.augmentation(tf.concat((x, y), axis=-1))\n",
        "\n",
        "        x = xy[:, :, :, :3]\n",
        "        y = xy[:, :, :, 3:]\n",
        "        if not self.squeeze:\n",
        "            x = tf.transpose(x, perm=(0, 3, 1, 2))[..., None]\n",
        "            y = tf.expand_dims(y, 1)\n",
        "        # if not tf.reduce_all(y[0] == 0):\n",
        "        #    ipdb.set_trace()\n",
        "        return x, y\n",
        "\n",
        "\n",
        "class DataLoader:\n",
        "    def __init__(\n",
        "        self,\n",
        "        data_folder: str,\n",
        "        *,\n",
        "        timesteps: int = 3,\n",
        "        batch_size=400,\n",
        "        squeeze=False,\n",
        "    ):\n",
        "        self.batch_size = batch_size\n",
        "        self.data_folder = data_folder\n",
        "        self.timesteps = timesteps\n",
        "        self.squeeze = squeeze\n",
        "        train_img_file_names = [\n",
        "            os.path.join(data_folder, \"train_images\", \"images\", fn)\n",
        "            for fn in os.listdir(os.path.join(data_folder, \"train_images\", \"images\"))\n",
        "        ]\n",
        "        train_img_file_names = natsorted(train_img_file_names)\n",
        "        # train_img_file_names.sort(key=lambda x: int(x.split(\"_\")[-1].split(\".\")[0]))\n",
        "        train_mask_file_names = [\n",
        "            fn.replace(\"images\", \"masks\") for fn in train_img_file_names\n",
        "        ]\n",
        "        self.train_imgs = (\n",
        "            np.array(\n",
        "                [\n",
        "                    img_to_array(load_img(fn, color_mode=\"grayscale\"))\n",
        "                    for fn in train_img_file_names\n",
        "                ]\n",
        "            )\n",
        "            / 255\n",
        "        )\n",
        "        self.train_masks = (\n",
        "            np.array(\n",
        "                [\n",
        "                    img_to_array(load_img(fn, color_mode=\"grayscale\"))\n",
        "                    for fn in train_mask_file_names\n",
        "                ]\n",
        "            )\n",
        "            / 255\n",
        "            > 0.5\n",
        "        ).astype(float)\n",
        "\n",
        "        val_img_file_names = [\n",
        "            os.path.join(data_folder, \"val_images\", \"images\", fn)\n",
        "            for fn in os.listdir(os.path.join(data_folder, \"val_images\", \"images\"))\n",
        "        ]\n",
        "        val_img_file_names = natsorted(val_img_file_names)\n",
        "        val_mask_file_names = [\n",
        "            fn.replace(\"images\", \"masks\") for fn in val_img_file_names\n",
        "        ]\n",
        "        self.val_imgs = (\n",
        "            np.array(\n",
        "                [\n",
        "                    img_to_array(load_img(fn, color_mode=\"grayscale\"))\n",
        "                    for fn in val_img_file_names\n",
        "                ]\n",
        "            )\n",
        "            / 255\n",
        "        )\n",
        "        self.val_masks = (\n",
        "            np.array(\n",
        "                [\n",
        "                    img_to_array(load_img(fn, color_mode=\"grayscale\"))\n",
        "                    for fn in val_mask_file_names\n",
        "                ]\n",
        "            )\n",
        "            / 255\n",
        "            > 0.5\n",
        "        ).astype(float)\n",
        "\n",
        "    def get_loaders(self):\n",
        "        return (\n",
        "            GetLoader(\n",
        "                imgs=self.train_imgs,\n",
        "                masks=self.train_masks,\n",
        "                timesteps=self.timesteps,\n",
        "                batch_size=self.batch_size,\n",
        "                squeeze=self.squeeze,\n",
        "            ),\n",
        "            GetLoader(\n",
        "                imgs=self.val_imgs,\n",
        "                masks=self.val_masks,\n",
        "                timesteps=self.timesteps,\n",
        "                batch_size=self.batch_size,\n",
        "                squeeze=self.squeeze,\n",
        "            ),\n",
        "        )"
      ]
    },
    {
      "cell_type": "code",
      "execution_count": 26,
      "metadata": {
        "id": "ssywpSGNwEWu"
      },
      "outputs": [],
      "source": [
        "data_folder = \"/gdrive/MyDrive/adjustedROI/final_output\"\n",
        "train,val_loader = DataLoader(data_folder, batch_size=477).get_loaders()"
      ]
    },
    {
      "cell_type": "code",
      "execution_count": 27,
      "metadata": {
        "id": "q1D36sZHwPtc"
      },
      "outputs": [],
      "source": [
        "a, b = val_loader.__next__()\n"
      ]
    },
    {
      "cell_type": "code",
      "execution_count": 28,
      "metadata": {
        "colab": {
          "base_uri": "https://localhost:8080/"
        },
        "id": "aNc1mpTHwR1Z",
        "outputId": "a7308b0f-8042-49ab-9c52-c5b707821b17"
      },
      "outputs": [
        {
          "output_type": "execute_result",
          "data": {
            "text/plain": [
              "TensorShape([1, 256, 256, 1])"
            ]
          },
          "metadata": {},
          "execution_count": 28
        }
      ],
      "source": [
        "import random\n",
        "test_img_number = random.randint(0, a.shape[0]-1)\n",
        "test_img = a[test_img_number]\n",
        "ground_truth=b[test_img_number]\n",
        "#test_img_norm=test_img[:,:,0][:,:,None]\n",
        "test_img_input=np.expand_dims(test_img, 0)\n",
        "ground_truth.shape"
      ]
    },
    {
      "cell_type": "code",
      "execution_count": 46,
      "metadata": {
        "colab": {
          "base_uri": "https://localhost:8080/",
          "height": 245
        },
        "id": "KUsdij4nwTSL",
        "outputId": "edc0f40b-98e2-4154-a804-562b363440bc"
      },
      "outputs": [
        {
          "output_type": "display_data",
          "data": {
            "text/plain": [
              "<Figure size 1152x576 with 3 Axes>"
            ],
            "image/png": "[encoded data removed]"
          },
          "metadata": {
            "needs_background": "light"
          }
        }
      ],
      "source": [
        "import random\n",
        "test_img_number = random.randint(0, a.shape[0]-1)\n",
        "test_img = a[test_img_number]\n",
        "ground_truth=b[test_img_number]\n",
        "#test_img_norm=test_img[:,:,0][:,:,None]\n",
        "test_img_input=np.expand_dims(test_img, 0)\n",
        "\n",
        "prediction = (model.predict(test_img_input)[0,0,:,:,0] > 0.5).astype(np.uint8)\n",
        "plt.figure(figsize=(16, 8))\n",
        "plt.subplot(231)\n",
        "plt.axis('off')\n",
        "plt.title('Testing Image')\n",
        "plt.imshow(test_img[0,:,:,0], cmap='gray')\n",
        "\n",
        "\n",
        "plt.subplot(232)\n",
        "plt.title('Real Mask ')\n",
        "plt.axis('off')\n",
        "plt.imshow(ground_truth[0,:,:,0], cmap='gray')\n",
        "plt.subplot(233)\n",
        "plt.axis('off')\n",
        "plt.title('Predicted mask')\n",
        "plt.imshow(prediction, cmap='gray')\n",
        "\n",
        "plt.show()"
      ]
    },
    {
      "cell_type": "code",
      "execution_count": 30,
      "metadata": {
        "colab": {
          "base_uri": "https://localhost:8080/"
        },
        "id": "GQ6RK255wVBf",
        "outputId": "3be21b1d-21d2-4078-85a2-4914438e8e5b"
      },
      "outputs": [
        {
          "output_type": "stream",
          "name": "stdout",
          "text": [
            "Mean IoU = 0.49900818\n"
          ]
        }
      ],
      "source": [
        "#IoU for a single image\n",
        "from tensorflow.keras.metrics import MeanIoU\n",
        "n_classes = 2\n",
        "IOU_keras = MeanIoU(num_classes=n_classes)  \n",
        "IOU_keras.update_state(ground_truth[0,:,:,0], prediction)\n",
        "print(\"Mean IoU =\", IOU_keras.result().numpy())"
      ]
    },
    {
      "cell_type": "code",
      "execution_count": 31,
      "metadata": {
        "colab": {
          "base_uri": "https://localhost:8080/"
        },
        "id": "KyT3vwzvwXi7",
        "outputId": "7b817043-c258-498b-c9c0-d1619d5f7da0"
      },
      "outputs": [
        {
          "output_type": "stream",
          "name": "stdout",
          "text": [
            "1.0\n",
            "0.8184368\n",
            "0.49739838\n",
            "1.0\n",
            "0.60298455\n",
            "0.63849556\n",
            "0.84478974\n",
            "0.7486746\n",
            "0.7128687\n",
            "0.4960556\n",
            "0.8408038\n",
            "0.49964142\n",
            "0.49234772\n",
            "0.6194233\n",
            "0.6671051\n",
            "0.4867401\n",
            "1.0\n",
            "0.86683726\n",
            "1.0\n",
            "0.7669241\n",
            "0.8325355\n",
            "0.49620056\n",
            "0.672097\n",
            "0.813807\n",
            "0.4990921\n",
            "0.67312884\n",
            "0.5354142\n",
            "0.6886562\n",
            "0.6787388\n",
            "0.6861017\n",
            "0.85474247\n",
            "0.83804566\n",
            "0.6231515\n",
            "0.62448835\n",
            "1.0\n",
            "0.7815676\n",
            "0.61316156\n",
            "1.0\n",
            "0.8072481\n",
            "0.4959488\n",
            "1.0\n",
            "1.0\n",
            "0.8375577\n",
            "0.6613828\n",
            "0.8342949\n",
            "0.7675585\n",
            "0.48480225\n",
            "0.49835968\n",
            "0.6314503\n",
            "0.691713\n",
            "0.6861017\n",
            "1.0\n",
            "0.61316156\n",
            "0.6517385\n",
            "0.4981842\n",
            "0.87014735\n",
            "0.84096706\n",
            "0.49234772\n",
            "0.67312884\n",
            "0.813807\n",
            "0.71696556\n",
            "0.84478974\n",
            "1.0\n",
            "0.8441083\n",
            "0.8375577\n",
            "0.49330902\n",
            "0.69638\n",
            "0.49996185\n",
            "1.0\n",
            "0.7157675\n",
            "0.672097\n",
            "0.75029445\n",
            "1.0\n",
            "0.4867401\n",
            "0.64374304\n",
            "0.7157675\n",
            "0.49636078\n",
            "0.7824279\n",
            "0.6788424\n",
            "1.0\n",
            "0.48474884\n",
            "0.85718143\n",
            "0.7128687\n",
            "0.49181366\n",
            "0.7246129\n",
            "0.8020311\n",
            "0.813807\n",
            "0.49009705\n",
            "0.49856567\n",
            "1.0\n",
            "0.49539185\n",
            "0.49813843\n",
            "0.8724829\n",
            "0.801703\n",
            "0.4960556\n",
            "0.7786048\n",
            "0.48417664\n",
            "0.49693298\n",
            "0.6194233\n",
            "1.0\n",
            "0.6517385\n",
            "0.72047603\n",
            "0.7246129\n",
            "0.63849556\n",
            "0.49113464\n",
            "0.49999237\n",
            "0.82983696\n",
            "0.496727\n",
            "0.4965744\n",
            "0.49251556\n",
            "0.49900818\n",
            "0.49851227\n",
            "0.73032594\n",
            "0.65945727\n",
            "0.49508667\n",
            "0.73151803\n",
            "0.7360041\n",
            "0.7490101\n",
            "0.49834442\n",
            "0.49700165\n",
            "0.4988327\n",
            "0.6231515\n",
            "1.0\n",
            "0.49604797\n",
            "0.49860382\n",
            "0.844882\n",
            "0.61316156\n",
            "0.6788424\n",
            "0.6594161\n",
            "0.49620056\n",
            "0.8435836\n",
            "0.49128723\n",
            "0.4985733\n",
            "1.0\n",
            "0.778371\n",
            "0.49767303\n",
            "0.4908142\n",
            "0.49612427\n",
            "0.49967194\n",
            "0.49667358\n",
            "1.0\n",
            "0.6635666\n",
            "0.4930954\n",
            "0.6644156\n",
            "0.6944653\n",
            "1.0\n",
            "0.61332947\n",
            "0.76158017\n",
            "0.48832703\n",
            "0.6282168\n",
            "0.49712372\n",
            "0.49667358\n",
            "0.49601746\n",
            "0.7082406\n",
            "1.0\n",
            "0.4955902\n",
            "0.8773247\n",
            "0.778371\n",
            "0.8498727\n",
            "0.5354142\n",
            "0.82249784\n",
            "0.7082406\n",
            "0.7854311\n",
            "0.49251556\n",
            "0.8295084\n",
            "0.8498727\n",
            "0.8523213\n",
            "0.49925232\n",
            "0.6573139\n",
            "0.63731575\n",
            "0.67827845\n",
            "0.49977875\n",
            "0.49009705\n",
            "0.652326\n",
            "0.49906158\n",
            "0.49980164\n",
            "0.8690213\n",
            "0.712715\n",
            "0.6751349\n",
            "0.84096706\n",
            "1.0\n",
            "0.8336779\n",
            "0.84573114\n",
            "0.8561679\n",
            "1.0\n",
            "0.6526064\n",
            "0.49612427\n",
            "0.48832703\n",
            "1.0\n",
            "0.49835205\n",
            "0.49790192\n",
            "0.4960556\n",
            "0.49655914\n",
            "0.6573139\n",
            "0.6224406\n",
            "0.85718143\n",
            "0.7199186\n",
            "0.4981842\n",
            "0.49900818\n",
            "0.49952698\n",
            "1.0\n",
            "0.49755096\n",
            "0.6630088\n",
            "0.6126981\n",
            "0.6517385\n",
            "1.0\n",
            "0.7364868\n",
            "0.4990921\n",
            "0.49009705\n",
            "0.49819183\n",
            "0.8512274\n",
            "0.6224406\n",
            "0.8540952\n",
            "0.49957275\n",
            "0.49925232\n",
            "0.8416045\n",
            "1.0\n",
            "0.49967194\n",
            "0.49274445\n",
            "0.48832703\n",
            "0.8523213\n",
            "0.7828493\n",
            "0.62448835\n",
            "0.4985962\n",
            "0.65999734\n",
            "1.0\n",
            "1.0\n",
            "0.49900818\n",
            "0.49925232\n",
            "0.6867442\n",
            "0.8408038\n",
            "0.82983696\n",
            "0.73032594\n",
            "0.6180863\n",
            "0.82438695\n",
            "0.60693383\n",
            "0.71502167\n",
            "0.719\n",
            "0.49952698\n",
            "0.5354142\n",
            "0.6644156\n",
            "0.4907303\n",
            "1.0\n",
            "0.787962\n",
            "0.49892426\n",
            "0.4977646\n",
            "0.63165134\n",
            "0.77308804\n",
            "1.0\n",
            "0.8486011\n",
            "0.691713\n",
            "1.0\n",
            "0.49128723\n",
            "0.6231515\n",
            "0.71502167\n",
            "0.8512274\n",
            "0.49601746\n",
            "0.8441083\n",
            "0.4981842\n",
            "0.787962\n",
            "0.7951398\n",
            "0.61316156\n",
            "0.6126981\n",
            "1.0\n",
            "0.49819946\n",
            "0.7199186\n",
            "0.6788573\n",
            "0.6404359\n",
            "1.0\n",
            "0.8441083\n",
            "0.652326\n",
            "0.86683726\n",
            "0.7157675\n",
            "0.49999237\n",
            "0.49755096\n",
            "1.0\n",
            "0.63965374\n",
            "0.7854311\n",
            "0.7246129\n",
            "0.6258204\n",
            "0.71696556\n",
            "0.83817565\n",
            "0.49755096\n",
            "0.8549133\n",
            "0.86683726\n",
            "0.4960556\n",
            "0.6036413\n",
            "0.7092838\n",
            "0.83817565\n",
            "0.4975586\n",
            "0.73377126\n",
            "0.76661223\n",
            "0.78742635\n",
            "0.6788573\n",
            "1.0\n",
            "1.0\n",
            "0.48376465\n",
            "0.60298455\n",
            "1.0\n",
            "0.6713692\n",
            "0.4999771\n",
            "1.0\n",
            "0.75013065\n",
            "0.84096706\n",
            "0.4936905\n",
            "0.8512274\n",
            "1.0\n",
            "0.8184368\n",
            "0.49777985\n",
            "0.71358967\n",
            "0.85549366\n",
            "1.0\n",
            "0.8724829\n",
            "0.8184368\n",
            "0.49767303\n",
            "0.77572036\n",
            "0.7126422\n",
            "0.4926529\n",
            "0.62448835\n",
            "0.49695587\n",
            "0.4959488\n",
            "0.8549133\n",
            "0.76073027\n",
            "0.8347273\n",
            "0.7854311\n",
            "0.4981842\n",
            "1.0\n",
            "0.6835562\n",
            "0.7486746\n",
            "0.78129387\n",
            "0.4926529\n",
            "0.8389747\n",
            "0.49819946\n",
            "0.852752\n",
            "0.8498727\n",
            "0.83804566\n",
            "0.49835205\n",
            "0.8647411\n",
            "0.49977875\n",
            "0.49856567\n",
            "0.49573517\n",
            "1.0\n",
            "0.7413158\n",
            "0.71502167\n",
            "0.787962\n",
            "0.49590302\n",
            "0.8584323\n",
            "0.84213245\n",
            "0.6671051\n",
            "0.6317598\n",
            "0.85474247\n",
            "0.49777985\n",
            "0.8370979\n",
            "0.64332116\n",
            "0.49964142\n",
            "0.86683726\n",
            "0.85549366\n",
            "0.6886562\n",
            "0.8919766\n",
            "0.49886322\n",
            "0.49695587\n",
            "0.71167606\n",
            "0.8312101\n",
            "0.7530943\n",
            "0.7298049\n",
            "0.49957275\n",
            "0.49882507\n",
            "0.7975025\n",
            "0.49330902\n",
            "0.49749756\n",
            "1.0\n",
            "0.49900055\n",
            "0.49790192\n",
            "0.49977875\n",
            "1.0\n",
            "1.0\n",
            "1.0\n",
            "0.7669241\n",
            "0.73032594\n",
            "1.0\n",
            "1.0\n",
            "0.69210505\n",
            "0.4969635\n",
            "0.6575\n",
            "0.49443817\n",
            "0.766965\n",
            "1.0\n",
            "0.49900818\n",
            "0.8037871\n",
            "1.0\n",
            "0.6630088\n",
            "0.75948286\n",
            "0.49996185\n",
            "0.4985962\n",
            "0.83817565\n",
            "1.0\n",
            "0.60693383\n",
            "0.7298049\n",
            "0.49526978\n",
            "0.8254025\n",
            "0.813807\n",
            "0.4993744\n",
            "0.8587502\n",
            "1.0\n",
            "0.49813843\n",
            "0.49181366\n",
            "0.67041916\n",
            "1.0\n",
            "0.49980164\n",
            "0.49590302\n",
            "0.6985886\n",
            "0.8540952\n",
            "0.7360041\n",
            "0.49906158\n",
            "0.6157503\n",
            "0.49590302\n",
            "0.61771625\n",
            "0.62344956\n",
            "0.65999734\n",
            "0.49234772\n",
            "0.7126422\n",
            "0.8523213\n",
            "0.4975586\n",
            "0.6788424\n",
            "0.74565053\n",
            "0.61771625\n",
            "0.6261201\n",
            "0.49853516\n",
            "0.766965\n",
            "0.4990921\n",
            "0.49803925\n",
            "0.4960556\n",
            "0.67827845\n",
            "0.6788424\n",
            "0.62448835\n",
            "0.84482217\n",
            "0.49868774\n",
            "0.49739838\n",
            "0.6526064\n",
            "0.4984131\n",
            "0.712715\n",
            "0.4990921\n",
            "0.7776983\n",
            "0.85713303\n",
            "0.496109\n",
            "0.48760986\n",
            "1.0\n",
            "0.6944653\n",
            "0.72037387\n",
            "0.63194597\n",
            "0.7082406\n",
            "0.49620056\n",
            "0.84096706\n",
            "1.0\n",
            "0.49251556\n",
            "0.83564645\n",
            "0.49834442\n",
            "0.766965\n",
            "1.0\n",
            "0.6111911\n",
            "0.84478974\n",
            "0.49868774\n",
            "0.7774786\n",
            "0.4955902\n",
            "0.4969635\n",
            "0.48796844\n",
            "0.4908142\n",
            "0.8662914\n",
            "0.69807374\n",
            "0.49790192\n",
            "0.8512274\n",
            "1.0\n",
            "0.6788424\n",
            "0.6389777\n",
            "0.49755096\n",
            "0.67889005\n",
            "0.8918948\n",
            "Mean IoU is:  [0.6513301]\n"
          ]
        }
      ],
      "source": [
        "import pandas as pd\n",
        "\n",
        "IoU_values = []\n",
        "for img in range(0, a.shape[0]):\n",
        "    temp_img = a[img]\n",
        "    ground_truth=b[img]\n",
        "    temp_img_input=np.expand_dims(temp_img, 0)\n",
        "    prediction = (model.predict(temp_img_input)[0,0,:,:,0]> 0.5).astype(np.uint8)\n",
        "    \n",
        "    IoU = MeanIoU(num_classes=n_classes)\n",
        "    IoU.update_state(ground_truth[0,:,:,0], prediction)\n",
        "    IoU = IoU.result().numpy()\n",
        "    IoU_values.append(IoU)\n",
        "\n",
        "    print(IoU)\n",
        "    \n",
        "\n",
        "\n",
        "df = pd.DataFrame(IoU_values, columns=[\"IoU\"])\n",
        "df = df[df.IoU != 1.0]    \n",
        "mean_IoU = df.mean().values\n",
        "print(\"Mean IoU is: \", mean_IoU)"
      ]
    },
    {
      "cell_type": "code",
      "execution_count": null,
      "metadata": {
        "id": "yl9v1RsRwZOl"
      },
      "outputs": [],
      "source": []
    }
  ],
  "metadata": {
    "accelerator": "GPU",
    "colab": {
      "provenance": [],
      "include_colab_link": true
    },
    "kernelspec": {
      "display_name": "Python 3",
      "name": "python3"
    },
    "language_info": {
      "name": "python"
    }
  },
  "nbformat": 4,
  "nbformat_minor": 0
}