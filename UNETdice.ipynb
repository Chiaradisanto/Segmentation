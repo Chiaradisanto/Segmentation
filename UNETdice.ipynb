{
  "nbformat": 4,
  "nbformat_minor": 0,
  "metadata": {
    "colab": {
      "name": "UNETdice.ipynb",
      "provenance": [],
      "collapsed_sections": [],
      "authorship_tag": "ABX9TyNaAhXgwMftsCqo8Wj6vmy4",
      "include_colab_link": true
    },
    "kernelspec": {
      "name": "python3",
      "display_name": "Python 3"
    },
    "language_info": {
      "name": "python"
    },
    "accelerator": "GPU"
  },
  "cells": [
    {
      "cell_type": "markdown",
      "metadata": {
        "id": "view-in-github",
        "colab_type": "text"
      },
      "source": [
        "<a href=\"https://colab.research.google.com/github/Chiaradisanto/Segmentation/blob/main/UNETdice.ipynb\" target=\"_parent\"><img src=\"https://colab.research.google.com/assets/colab-badge.svg\" alt=\"Open In Colab\"/></a>"
      ]
    },
    {
      "cell_type": "code",
      "execution_count": 1,
      "metadata": {
        "colab": {
          "base_uri": "https://localhost:8080/"
        },
        "id": "7zDirzEcTdFm",
        "outputId": "15eb906b-74bf-471f-bb97-0ab022777da9"
      },
      "outputs": [
        {
          "output_type": "stream",
          "name": "stdout",
          "text": [
            "Mounted at /gdrive\n"
          ]
        }
      ],
      "source": [
        "from google.colab import drive\n",
        "drive.mount('/gdrive')"
      ]
    },
    {
      "cell_type": "code",
      "source": [
        "import os\n",
        "batch_size=16"
      ],
      "metadata": {
        "id": "-68NOnIETeAD"
      },
      "execution_count": 2,
      "outputs": []
    },
    {
      "cell_type": "code",
      "source": [
        "seed=24\n",
        "batch_size=16\n",
        "n_classes=1\n",
        "from tensorflow.keras.preprocessing.image import ImageDataGenerator\n",
        "\n",
        "\n",
        "\n",
        "\n",
        "#Define the generator.\n",
        "#We are not doing any rotation or zoom to make sure mask values are not interpolated.\n",
        "#It is important to keep pixel values in mask as 0, 1, 2, 3, .....\n",
        "def trainGenerator(train_img_path, train_mask_path):\n",
        "    \n",
        "    img_data_gen_args = dict(horizontal_flip=True,\n",
        "                      vertical_flip=True,\n",
        "                      fill_mode='reflect',shear_range=0.5, \n",
        "                      rotation_range=50,\n",
        "                      zoom_range=0.2,\n",
        "                      width_shift_range=0.2, height_shift_range=0.2,\n",
        "            \n",
        "                      rescale=1/255.)\n",
        "    \n",
        "    image_datagen = ImageDataGenerator(**img_data_gen_args)\n",
        "    mask_datagen = ImageDataGenerator(**img_data_gen_args)\n",
        "   \n",
        "    \n",
        "    image_generator = image_datagen.flow_from_directory(\n",
        "        train_img_path,\n",
        "        class_mode = None,\n",
        "        color_mode = 'grayscale',\n",
        "        target_size=(512,512),\n",
        "        batch_size = batch_size,\n",
        "        seed = seed)\n",
        "    \n",
        "    mask_generator = mask_datagen.flow_from_directory(\n",
        "        train_mask_path,\n",
        "        class_mode = None ,\n",
        "        color_mode = 'grayscale',\n",
        "        target_size=(512,512),\n",
        "        batch_size = batch_size,\n",
        "        seed = seed)\n",
        "    \n",
        "    train_generator = zip(image_generator, mask_generator)\n",
        "    return train_generator"
      ],
      "metadata": {
        "id": "f-a9WjFKTfkB"
      },
      "execution_count": 3,
      "outputs": []
    },
    {
      "cell_type": "code",
      "source": [
        ""
      ],
      "metadata": {
        "id": "f9ZeErQuUoR_"
      },
      "execution_count": 3,
      "outputs": []
    },
    {
      "cell_type": "code",
      "source": [
        "train_img_path = \"/gdrive/MyDrive/TESI/output/train/train_images\"\n",
        "train_mask_path = \"/gdrive/MyDrive/TESI/output/train/train_masks\"\n",
        "train_img_gen = trainGenerator(train_img_path, train_mask_path)\n",
        "\n",
        "val_img_path = \"/gdrive/MyDrive/TESI/output/train/val_images\"\n",
        "val_mask_path = \"/gdrive/MyDrive/TESI/output/train/val_masks\"\n",
        "val_img_gen = trainGenerator(val_img_path, val_mask_path)"
      ],
      "metadata": {
        "colab": {
          "base_uri": "https://localhost:8080/"
        },
        "id": "w0ZmERQ_T6nS",
        "outputId": "faf9f39b-d0d4-4384-ac30-b23c9fb06fb4"
      },
      "execution_count": 4,
      "outputs": [
        {
          "output_type": "stream",
          "name": "stdout",
          "text": [
            "Found 2960 images belonging to 1 classes.\n",
            "Found 2960 images belonging to 1 classes.\n",
            "Found 320 images belonging to 1 classes.\n",
            "Found 320 images belonging to 1 classes.\n"
          ]
        }
      ]
    },
    {
      "cell_type": "code",
      "source": [
        "x, y = train_img_gen.__next__()\n"
      ],
      "metadata": {
        "id": "qjU0scePUVG-"
      },
      "execution_count": 5,
      "outputs": []
    },
    {
      "cell_type": "markdown",
      "source": [
        ""
      ],
      "metadata": {
        "id": "sOXoZaKYKvms"
      }
    },
    {
      "cell_type": "code",
      "source": [
        "print(x.shape)\n",
        "print(y.shape)\n",
        "print(\"max value in image dataset is: \", y.max())"
      ],
      "metadata": {
        "colab": {
          "base_uri": "https://localhost:8080/"
        },
        "id": "yeVbsiGBk2iG",
        "outputId": "2bb96708-eaca-498a-f3c3-4a63911fa38d"
      },
      "execution_count": 6,
      "outputs": [
        {
          "output_type": "stream",
          "name": "stdout",
          "text": [
            "(16, 512, 512, 1)\n",
            "(16, 512, 512, 1)\n",
            "max value in image dataset is:  1.0\n"
          ]
        }
      ]
    },
    {
      "cell_type": "code",
      "source": [
        "#Define the model metrcis and load model. \n",
        "\n",
        "num_train_imgs = len(os.listdir('/gdrive/MyDrive/TESI/output/train/train_images/images'))\n",
        "num_val_images = len(os.listdir('/gdrive/MyDrive/TESI/output/train/val_images/images'))\n",
        "steps_per_epoch = num_train_imgs//batch_size\n",
        "val_steps_per_epoch = num_val_images//batch_size\n",
        "\n",
        "IMG_HEIGHT = x.shape[1]\n",
        "IMG_WIDTH  = x.shape[2]\n",
        "IMG_CHANNELS = x.shape[3]\n",
        "input_shape = (IMG_HEIGHT, IMG_WIDTH, IMG_CHANNELS)\n",
        "print(input_shape)"
      ],
      "metadata": {
        "colab": {
          "base_uri": "https://localhost:8080/"
        },
        "id": "wBTiPVr8k56S",
        "outputId": "57418ef6-9e7c-42e7-a124-caa2bb342b05"
      },
      "execution_count": 7,
      "outputs": [
        {
          "output_type": "stream",
          "name": "stdout",
          "text": [
            "(512, 512, 1)\n"
          ]
        }
      ]
    },
    {
      "cell_type": "code",
      "source": [
        "import tensorflow as tf\n"
      ],
      "metadata": {
        "id": "3sN5yf0Xk8s6"
      },
      "execution_count": 8,
      "outputs": []
    },
    {
      "cell_type": "code",
      "source": [
        "inputs = tf.keras.layers.Input((IMG_HEIGHT, IMG_WIDTH, IMG_CHANNELS))\n",
        "#Contraction path\n",
        "c1 = tf.keras.layers.Conv2D(16, (3, 3), activation='relu', kernel_initializer='he_normal', padding='same')(inputs)\n",
        "c1 = tf.keras.layers.Dropout(0.1)(c1)\n",
        "c1 = tf.keras.layers.Conv2D(16, (3, 3), activation='relu', kernel_initializer='he_normal', padding='same')(c1)\n",
        "p1 = tf.keras.layers.MaxPooling2D((2, 2))(c1)\n",
        "\n",
        "c2 = tf.keras.layers.Conv2D(32, (3, 3), activation='relu', kernel_initializer='he_normal', padding='same')(p1)\n",
        "c2 = tf.keras.layers.Dropout(0.1)(c2)\n",
        "c2 = tf.keras.layers.Conv2D(32, (3, 3), activation='relu', kernel_initializer='he_normal', padding='same')(c2)\n",
        "p2 = tf.keras.layers.MaxPooling2D((2, 2))(c2)\n",
        " \n",
        "c3 = tf.keras.layers.Conv2D(64, (3, 3), activation='relu', kernel_initializer='he_normal', padding='same')(p2)\n",
        "c3 = tf.keras.layers.Dropout(0.2)(c3)\n",
        "c3 = tf.keras.layers.Conv2D(64, (3, 3), activation='relu', kernel_initializer='he_normal', padding='same')(c3)\n",
        "p3 = tf.keras.layers.MaxPooling2D((2, 2))(c3)\n",
        " \n",
        "c4 = tf.keras.layers.Conv2D(128, (3, 3), activation='relu', kernel_initializer='he_normal', padding='same')(p3)\n",
        "c4 = tf.keras.layers.Dropout(0.2)(c4)\n",
        "c4 = tf.keras.layers.Conv2D(128, (3, 3), activation='relu', kernel_initializer='he_normal', padding='same')(c4)\n",
        "p4 = tf.keras.layers.MaxPooling2D(pool_size=(2, 2))(c4)\n",
        " \n",
        "c5 = tf.keras.layers.Conv2D(256, (3, 3), activation='relu', kernel_initializer='he_normal', padding='same')(p4)\n",
        "c5 = tf.keras.layers.Dropout(0.3)(c5)\n",
        "c5 = tf.keras.layers.Conv2D(256, (3, 3), activation='relu', kernel_initializer='he_normal', padding='same')(c5)\n",
        "\n",
        "#Expansive path \n",
        "u6 = tf.keras.layers.Conv2DTranspose(128, (2, 2), strides=(2, 2), padding='same')(c5)\n",
        "u6 = tf.keras.layers.concatenate([u6, c4])\n",
        "c6 = tf.keras.layers.Conv2D(128, (3, 3), activation='relu', kernel_initializer='he_normal', padding='same')(u6)\n",
        "c6 = tf.keras.layers.Dropout(0.2)(c6)\n",
        "c6 = tf.keras.layers.Conv2D(128, (3, 3), activation='relu', kernel_initializer='he_normal', padding='same')(c6)\n",
        " \n",
        "u7 = tf.keras.layers.Conv2DTranspose(64, (2, 2), strides=(2, 2), padding='same')(c6)\n",
        "u7 = tf.keras.layers.concatenate([u7, c3])\n",
        "c7 = tf.keras.layers.Conv2D(64, (3, 3), activation='relu', kernel_initializer='he_normal', padding='same')(u7)\n",
        "c7 = tf.keras.layers.Dropout(0.2)(c7)\n",
        "c7 = tf.keras.layers.Conv2D(64, (3, 3), activation='relu', kernel_initializer='he_normal', padding='same')(c7)\n",
        " \n",
        "u8 = tf.keras.layers.Conv2DTranspose(32, (2, 2), strides=(2, 2), padding='same')(c7)\n",
        "u8 = tf.keras.layers.concatenate([u8, c2])\n",
        "c8 = tf.keras.layers.Conv2D(32, (3, 3), activation='relu', kernel_initializer='he_normal', padding='same')(u8)\n",
        "c8 = tf.keras.layers.Dropout(0.1)(c8)\n",
        "c8 = tf.keras.layers.Conv2D(32, (3, 3), activation='relu', kernel_initializer='he_normal', padding='same')(c8)\n",
        " \n",
        "u9 = tf.keras.layers.Conv2DTranspose(16, (2, 2), strides=(2, 2), padding='same')(c8)\n",
        "u9 = tf.keras.layers.concatenate([u9, c1], axis=3)\n",
        "c9 = tf.keras.layers.Conv2D(16, (3, 3), activation='relu', kernel_initializer='he_normal', padding='same')(u9)\n",
        "c9 = tf.keras.layers.Dropout(0.1)(c9)\n",
        "c9 = tf.keras.layers.Conv2D(16, (3, 3), activation='relu', kernel_initializer='he_normal', padding='same')(c9)\n",
        " \n",
        "outputs = tf.keras.layers.Conv2D(1, (1, 1), activation='sigmoid')(c9)"
      ],
      "metadata": {
        "id": "QBNzHYeglJ4O"
      },
      "execution_count": 9,
      "outputs": []
    },
    {
      "cell_type": "code",
      "source": [
        "\n",
        "model = tf.keras.Model(inputs=[inputs], outputs=[outputs])"
      ],
      "metadata": {
        "id": "g7OWYnoyl92y"
      },
      "execution_count": 10,
      "outputs": []
    },
    {
      "cell_type": "code",
      "source": [
        "model.summary()"
      ],
      "metadata": {
        "colab": {
          "base_uri": "https://localhost:8080/"
        },
        "id": "riVtmResl_Oz",
        "outputId": "5c2f8826-208f-465a-cbc6-6041469cd8b4"
      },
      "execution_count": 11,
      "outputs": [
        {
          "output_type": "stream",
          "name": "stdout",
          "text": [
            "Model: \"model\"\n",
            "__________________________________________________________________________________________________\n",
            " Layer (type)                   Output Shape         Param #     Connected to                     \n",
            "==================================================================================================\n",
            " input_1 (InputLayer)           [(None, 512, 512, 1  0           []                               \n",
            "                                )]                                                                \n",
            "                                                                                                  \n",
            " conv2d (Conv2D)                (None, 512, 512, 16  160         ['input_1[0][0]']                \n",
            "                                )                                                                 \n",
            "                                                                                                  \n",
            " dropout (Dropout)              (None, 512, 512, 16  0           ['conv2d[0][0]']                 \n",
            "                                )                                                                 \n",
            "                                                                                                  \n",
            " conv2d_1 (Conv2D)              (None, 512, 512, 16  2320        ['dropout[0][0]']                \n",
            "                                )                                                                 \n",
            "                                                                                                  \n",
            " max_pooling2d (MaxPooling2D)   (None, 256, 256, 16  0           ['conv2d_1[0][0]']               \n",
            "                                )                                                                 \n",
            "                                                                                                  \n",
            " conv2d_2 (Conv2D)              (None, 256, 256, 32  4640        ['max_pooling2d[0][0]']          \n",
            "                                )                                                                 \n",
            "                                                                                                  \n",
            " dropout_1 (Dropout)            (None, 256, 256, 32  0           ['conv2d_2[0][0]']               \n",
            "                                )                                                                 \n",
            "                                                                                                  \n",
            " conv2d_3 (Conv2D)              (None, 256, 256, 32  9248        ['dropout_1[0][0]']              \n",
            "                                )                                                                 \n",
            "                                                                                                  \n",
            " max_pooling2d_1 (MaxPooling2D)  (None, 128, 128, 32  0          ['conv2d_3[0][0]']               \n",
            "                                )                                                                 \n",
            "                                                                                                  \n",
            " conv2d_4 (Conv2D)              (None, 128, 128, 64  18496       ['max_pooling2d_1[0][0]']        \n",
            "                                )                                                                 \n",
            "                                                                                                  \n",
            " dropout_2 (Dropout)            (None, 128, 128, 64  0           ['conv2d_4[0][0]']               \n",
            "                                )                                                                 \n",
            "                                                                                                  \n",
            " conv2d_5 (Conv2D)              (None, 128, 128, 64  36928       ['dropout_2[0][0]']              \n",
            "                                )                                                                 \n",
            "                                                                                                  \n",
            " max_pooling2d_2 (MaxPooling2D)  (None, 64, 64, 64)  0           ['conv2d_5[0][0]']               \n",
            "                                                                                                  \n",
            " conv2d_6 (Conv2D)              (None, 64, 64, 128)  73856       ['max_pooling2d_2[0][0]']        \n",
            "                                                                                                  \n",
            " dropout_3 (Dropout)            (None, 64, 64, 128)  0           ['conv2d_6[0][0]']               \n",
            "                                                                                                  \n",
            " conv2d_7 (Conv2D)              (None, 64, 64, 128)  147584      ['dropout_3[0][0]']              \n",
            "                                                                                                  \n",
            " max_pooling2d_3 (MaxPooling2D)  (None, 32, 32, 128)  0          ['conv2d_7[0][0]']               \n",
            "                                                                                                  \n",
            " conv2d_8 (Conv2D)              (None, 32, 32, 256)  295168      ['max_pooling2d_3[0][0]']        \n",
            "                                                                                                  \n",
            " dropout_4 (Dropout)            (None, 32, 32, 256)  0           ['conv2d_8[0][0]']               \n",
            "                                                                                                  \n",
            " conv2d_9 (Conv2D)              (None, 32, 32, 256)  590080      ['dropout_4[0][0]']              \n",
            "                                                                                                  \n",
            " conv2d_transpose (Conv2DTransp  (None, 64, 64, 128)  131200     ['conv2d_9[0][0]']               \n",
            " ose)                                                                                             \n",
            "                                                                                                  \n",
            " concatenate (Concatenate)      (None, 64, 64, 256)  0           ['conv2d_transpose[0][0]',       \n",
            "                                                                  'conv2d_7[0][0]']               \n",
            "                                                                                                  \n",
            " conv2d_10 (Conv2D)             (None, 64, 64, 128)  295040      ['concatenate[0][0]']            \n",
            "                                                                                                  \n",
            " dropout_5 (Dropout)            (None, 64, 64, 128)  0           ['conv2d_10[0][0]']              \n",
            "                                                                                                  \n",
            " conv2d_11 (Conv2D)             (None, 64, 64, 128)  147584      ['dropout_5[0][0]']              \n",
            "                                                                                                  \n",
            " conv2d_transpose_1 (Conv2DTran  (None, 128, 128, 64  32832      ['conv2d_11[0][0]']              \n",
            " spose)                         )                                                                 \n",
            "                                                                                                  \n",
            " concatenate_1 (Concatenate)    (None, 128, 128, 12  0           ['conv2d_transpose_1[0][0]',     \n",
            "                                8)                                'conv2d_5[0][0]']               \n",
            "                                                                                                  \n",
            " conv2d_12 (Conv2D)             (None, 128, 128, 64  73792       ['concatenate_1[0][0]']          \n",
            "                                )                                                                 \n",
            "                                                                                                  \n",
            " dropout_6 (Dropout)            (None, 128, 128, 64  0           ['conv2d_12[0][0]']              \n",
            "                                )                                                                 \n",
            "                                                                                                  \n",
            " conv2d_13 (Conv2D)             (None, 128, 128, 64  36928       ['dropout_6[0][0]']              \n",
            "                                )                                                                 \n",
            "                                                                                                  \n",
            " conv2d_transpose_2 (Conv2DTran  (None, 256, 256, 32  8224       ['conv2d_13[0][0]']              \n",
            " spose)                         )                                                                 \n",
            "                                                                                                  \n",
            " concatenate_2 (Concatenate)    (None, 256, 256, 64  0           ['conv2d_transpose_2[0][0]',     \n",
            "                                )                                 'conv2d_3[0][0]']               \n",
            "                                                                                                  \n",
            " conv2d_14 (Conv2D)             (None, 256, 256, 32  18464       ['concatenate_2[0][0]']          \n",
            "                                )                                                                 \n",
            "                                                                                                  \n",
            " dropout_7 (Dropout)            (None, 256, 256, 32  0           ['conv2d_14[0][0]']              \n",
            "                                )                                                                 \n",
            "                                                                                                  \n",
            " conv2d_15 (Conv2D)             (None, 256, 256, 32  9248        ['dropout_7[0][0]']              \n",
            "                                )                                                                 \n",
            "                                                                                                  \n",
            " conv2d_transpose_3 (Conv2DTran  (None, 512, 512, 16  2064       ['conv2d_15[0][0]']              \n",
            " spose)                         )                                                                 \n",
            "                                                                                                  \n",
            " concatenate_3 (Concatenate)    (None, 512, 512, 32  0           ['conv2d_transpose_3[0][0]',     \n",
            "                                )                                 'conv2d_1[0][0]']               \n",
            "                                                                                                  \n",
            " conv2d_16 (Conv2D)             (None, 512, 512, 16  4624        ['concatenate_3[0][0]']          \n",
            "                                )                                                                 \n",
            "                                                                                                  \n",
            " dropout_8 (Dropout)            (None, 512, 512, 16  0           ['conv2d_16[0][0]']              \n",
            "                                )                                                                 \n",
            "                                                                                                  \n",
            " conv2d_17 (Conv2D)             (None, 512, 512, 16  2320        ['dropout_8[0][0]']              \n",
            "                                )                                                                 \n",
            "                                                                                                  \n",
            " conv2d_18 (Conv2D)             (None, 512, 512, 1)  17          ['conv2d_17[0][0]']              \n",
            "                                                                                                  \n",
            "==================================================================================================\n",
            "Total params: 1,940,817\n",
            "Trainable params: 1,940,817\n",
            "Non-trainable params: 0\n",
            "__________________________________________________________________________________________________\n"
          ]
        }
      ]
    },
    {
      "cell_type": "code",
      "source": [
        ""
      ],
      "metadata": {
        "id": "j3o7H1k52cnJ"
      },
      "execution_count": null,
      "outputs": []
    },
    {
      "cell_type": "code",
      "source": [
        ""
      ],
      "metadata": {
        "id": "o7sDi3K_lMox"
      },
      "execution_count": null,
      "outputs": []
    },
    {
      "cell_type": "code",
      "source": [
        ""
      ],
      "metadata": {
        "id": "JK_pHiXRl7he"
      },
      "execution_count": null,
      "outputs": []
    },
    {
      "cell_type": "code",
      "source": [
        ""
      ],
      "metadata": {
        "id": "fZXFE3Z5lRsy"
      },
      "execution_count": null,
      "outputs": []
    },
    {
      "cell_type": "code",
      "source": [
        ""
      ],
      "metadata": {
        "id": "HCk_r6QNl3YF"
      },
      "execution_count": null,
      "outputs": []
    },
    {
      "cell_type": "code",
      "source": [
        ""
      ],
      "metadata": {
        "id": "vg_HCnEaljlU"
      },
      "execution_count": null,
      "outputs": []
    },
    {
      "cell_type": "code",
      "source": [
        ""
      ],
      "metadata": {
        "colab": {
          "base_uri": "https://localhost:8080/"
        },
        "id": "QnkKZwidlUPa",
        "outputId": "63a7399e-592c-446f-ebbd-eee2b63c67d4"
      },
      "execution_count": null,
      "outputs": [
        {
          "output_type": "stream",
          "name": "stdout",
          "text": [
            "Epoch 1/30\n",
            "493/493 [==============================] - 715s 1s/step - loss: 0.9369 - dice_coef: 0.0630 - iou: 0.0332 - recall_1: 0.7447 - precision_1: 0.0357 - val_loss: 0.9668 - val_dice_coef: 0.0332 - val_iou: 0.0169 - val_recall_1: 0.6835 - val_precision_1: 0.0269\n",
            "Epoch 2/30\n",
            "493/493 [==============================] - 302s 612ms/step - loss: 0.8570 - dice_coef: 0.1430 - iou: 0.0798 - recall_1: 0.2604 - precision_1: 0.1042 - val_loss: 0.8455 - val_dice_coef: 0.1545 - val_iou: 0.0851 - val_recall_1: 0.1473 - val_precision_1: 0.2355\n",
            "Epoch 3/30\n",
            "493/493 [==============================] - 301s 611ms/step - loss: 0.7967 - dice_coef: 0.2035 - iou: 0.1179 - recall_1: 0.2858 - precision_1: 0.2107 - val_loss: 0.9945 - val_dice_coef: 0.0055 - val_iou: 0.0029 - val_recall_1: 0.0017 - val_precision_1: 0.2316\n",
            "Epoch 4/30\n",
            "493/493 [==============================] - 301s 611ms/step - loss: 0.7627 - dice_coef: 0.2370 - iou: 0.1406 - recall_1: 0.3036 - precision_1: 0.2565 - val_loss: 0.8011 - val_dice_coef: 0.1989 - val_iou: 0.1134 - val_recall_1: 0.2002 - val_precision_1: 0.3087\n",
            "Epoch 5/30\n",
            "493/493 [==============================] - 301s 612ms/step - loss: 0.7366 - dice_coef: 0.2635 - iou: 0.1599 - recall_1: 0.3344 - precision_1: 0.2919 - val_loss: 0.7915 - val_dice_coef: 0.2085 - val_iou: 0.1199 - val_recall_1: 0.1628 - val_precision_1: 0.3890\n",
            "Epoch 6/30\n",
            "493/493 [==============================] - 301s 611ms/step - loss: 0.7270 - dice_coef: 0.2732 - iou: 0.1669 - recall_1: 0.3431 - precision_1: 0.3079 - val_loss: 0.7910 - val_dice_coef: 0.2090 - val_iou: 0.1200 - val_recall_1: 0.1541 - val_precision_1: 0.4192\n",
            "Epoch 7/30\n",
            "493/493 [==============================] - 301s 610ms/step - loss: 0.7165 - dice_coef: 0.2837 - iou: 0.1751 - recall_1: 0.3500 - precision_1: 0.3208 - val_loss: 0.7042 - val_dice_coef: 0.2958 - val_iou: 0.1784 - val_recall_1: 0.3008 - val_precision_1: 0.4116\n",
            "Epoch 8/30\n",
            "493/493 [==============================] - 300s 610ms/step - loss: 0.7131 - dice_coef: 0.2873 - iou: 0.1774 - recall_1: 0.3637 - precision_1: 0.3233 - val_loss: 0.7180 - val_dice_coef: 0.2820 - val_iou: 0.1687 - val_recall_1: 0.2403 - val_precision_1: 0.4510\n",
            "Epoch 9/30\n",
            "493/493 [==============================] - 300s 609ms/step - loss: 0.7049 - dice_coef: 0.2955 - iou: 0.1845 - recall_1: 0.3571 - precision_1: 0.3404 - val_loss: 0.7082 - val_dice_coef: 0.2918 - val_iou: 0.1763 - val_recall_1: 0.2702 - val_precision_1: 0.4354\n",
            "Epoch 10/30\n",
            "493/493 [==============================] - 300s 608ms/step - loss: 0.6973 - dice_coef: 0.3028 - iou: 0.1882 - recall_1: 0.3627 - precision_1: 0.3459 - val_loss: 0.7494 - val_dice_coef: 0.2506 - val_iou: 0.1465 - val_recall_1: 0.1885 - val_precision_1: 0.4338\n",
            "Epoch 11/30\n",
            "493/493 [==============================] - 300s 609ms/step - loss: 0.6930 - dice_coef: 0.3076 - iou: 0.1934 - recall_1: 0.3678 - precision_1: 0.3586 - val_loss: 0.6827 - val_dice_coef: 0.3173 - val_iou: 0.1955 - val_recall_1: 0.2856 - val_precision_1: 0.4813\n",
            "Epoch 12/30\n",
            "493/493 [==============================] - 300s 609ms/step - loss: 0.6830 - dice_coef: 0.3171 - iou: 0.2002 - recall_1: 0.3700 - precision_1: 0.3676 - val_loss: 0.7094 - val_dice_coef: 0.2906 - val_iou: 0.1734 - val_recall_1: 0.2365 - val_precision_1: 0.4461\n",
            "Epoch 13/30\n",
            "493/493 [==============================] - 300s 608ms/step - loss: 0.6855 - dice_coef: 0.3141 - iou: 0.1979 - recall_1: 0.3675 - precision_1: 0.3690 - val_loss: 0.7601 - val_dice_coef: 0.2399 - val_iou: 0.1417 - val_recall_1: 0.1964 - val_precision_1: 0.4090\n",
            "Epoch 14/30\n",
            "493/493 [==============================] - 300s 608ms/step - loss: 0.6804 - dice_coef: 0.3192 - iou: 0.2006 - recall_1: 0.3677 - precision_1: 0.3814 - val_loss: 0.7971 - val_dice_coef: 0.2029 - val_iou: 0.1165 - val_recall_1: 0.1423 - val_precision_1: 0.4750\n",
            "Epoch 15/30\n",
            "493/493 [==============================] - 300s 608ms/step - loss: 0.6805 - dice_coef: 0.3190 - iou: 0.2023 - recall_1: 0.3812 - precision_1: 0.3717 - val_loss: 0.7184 - val_dice_coef: 0.2816 - val_iou: 0.1691 - val_recall_1: 0.2320 - val_precision_1: 0.4554\n",
            "Epoch 16/30\n",
            "493/493 [==============================] - 296s 600ms/step - loss: 0.6692 - dice_coef: 0.3310 - iou: 0.2110 - recall_1: 0.3809 - precision_1: 0.3776 - val_loss: 0.7187 - val_dice_coef: 0.2813 - val_iou: 0.1682 - val_recall_1: 0.2330 - val_precision_1: 0.4438\n",
            "Epoch 17/30\n",
            "493/493 [==============================] - 296s 601ms/step - loss: 0.6631 - dice_coef: 0.3373 - iou: 0.2148 - recall_1: 0.3842 - precision_1: 0.3936 - val_loss: 0.7480 - val_dice_coef: 0.2520 - val_iou: 0.1484 - val_recall_1: 0.2102 - val_precision_1: 0.4544\n",
            "Epoch 18/30\n",
            "493/493 [==============================] - 296s 601ms/step - loss: 0.6670 - dice_coef: 0.3332 - iou: 0.2132 - recall_1: 0.3896 - precision_1: 0.3947 - val_loss: 0.7480 - val_dice_coef: 0.2520 - val_iou: 0.1502 - val_recall_1: 0.1888 - val_precision_1: 0.4552\n",
            "Epoch 19/30\n",
            "493/493 [==============================] - 297s 602ms/step - loss: 0.6660 - dice_coef: 0.3342 - iou: 0.2135 - recall_1: 0.3802 - precision_1: 0.4003 - val_loss: 0.7735 - val_dice_coef: 0.2265 - val_iou: 0.1306 - val_recall_1: 0.1541 - val_precision_1: 0.5107\n",
            "Epoch 20/30\n",
            "493/493 [==============================] - 297s 602ms/step - loss: 0.6610 - dice_coef: 0.3390 - iou: 0.2177 - recall_1: 0.3997 - precision_1: 0.4042 - val_loss: 0.6954 - val_dice_coef: 0.3046 - val_iou: 0.1860 - val_recall_1: 0.2783 - val_precision_1: 0.4508\n",
            "Epoch 21/30\n",
            "493/493 [==============================] - 297s 602ms/step - loss: 0.6547 - dice_coef: 0.3456 - iou: 0.2235 - recall_1: 0.3911 - precision_1: 0.4175 - val_loss: 0.7368 - val_dice_coef: 0.2632 - val_iou: 0.1559 - val_recall_1: 0.1999 - val_precision_1: 0.4740\n",
            "Epoch 22/30\n",
            "493/493 [==============================] - 296s 600ms/step - loss: 0.6563 - dice_coef: 0.3440 - iou: 0.2213 - recall_1: 0.3923 - precision_1: 0.4148 - val_loss: 0.7107 - val_dice_coef: 0.2893 - val_iou: 0.1732 - val_recall_1: 0.2414 - val_precision_1: 0.4717\n",
            "Epoch 23/30\n",
            "493/493 [==============================] - 295s 599ms/step - loss: 0.6559 - dice_coef: 0.3437 - iou: 0.2220 - recall_1: 0.3921 - precision_1: 0.4207 - val_loss: 0.7737 - val_dice_coef: 0.2263 - val_iou: 0.1309 - val_recall_1: 0.1510 - val_precision_1: 0.5285\n",
            "Epoch 24/30\n",
            "493/493 [==============================] - 295s 598ms/step - loss: 0.6518 - dice_coef: 0.3477 - iou: 0.2251 - recall_1: 0.3980 - precision_1: 0.4221 - val_loss: 0.7056 - val_dice_coef: 0.2944 - val_iou: 0.1778 - val_recall_1: 0.2470 - val_precision_1: 0.4549\n",
            "Epoch 25/30\n",
            "493/493 [==============================] - 295s 599ms/step - loss: 0.6540 - dice_coef: 0.3463 - iou: 0.2236 - recall_1: 0.3928 - precision_1: 0.4229 - val_loss: 0.7171 - val_dice_coef: 0.2829 - val_iou: 0.1718 - val_recall_1: 0.2133 - val_precision_1: 0.4634\n",
            "Epoch 26/30\n",
            "493/493 [==============================] - 295s 598ms/step - loss: 0.6460 - dice_coef: 0.3539 - iou: 0.2286 - recall_1: 0.4036 - precision_1: 0.4225 - val_loss: 0.6761 - val_dice_coef: 0.3239 - val_iou: 0.1993 - val_recall_1: 0.2807 - val_precision_1: 0.4753\n",
            "Epoch 27/30\n",
            "493/493 [==============================] - 294s 597ms/step - loss: 0.6412 - dice_coef: 0.3583 - iou: 0.2331 - recall_1: 0.3986 - precision_1: 0.4309 - val_loss: 0.7018 - val_dice_coef: 0.2982 - val_iou: 0.1796 - val_recall_1: 0.2386 - val_precision_1: 0.4817\n",
            "Epoch 28/30\n",
            "493/493 [==============================] - 294s 597ms/step - loss: 0.6354 - dice_coef: 0.3641 - iou: 0.2375 - recall_1: 0.4039 - precision_1: 0.4373 - val_loss: 0.7073 - val_dice_coef: 0.2927 - val_iou: 0.1767 - val_recall_1: 0.2209 - val_precision_1: 0.5164\n",
            "Epoch 29/30\n",
            "493/493 [==============================] - 294s 597ms/step - loss: 0.6403 - dice_coef: 0.3592 - iou: 0.2338 - recall_1: 0.3985 - precision_1: 0.4408 - val_loss: 0.7242 - val_dice_coef: 0.2758 - val_iou: 0.1644 - val_recall_1: 0.2286 - val_precision_1: 0.4549\n",
            "Epoch 30/30\n",
            "493/493 [==============================] - 297s 602ms/step - loss: 0.6343 - dice_coef: 0.3652 - iou: 0.2390 - recall_1: 0.4013 - precision_1: 0.4448 - val_loss: 0.6978 - val_dice_coef: 0.3022 - val_iou: 0.1835 - val_recall_1: 0.2656 - val_precision_1: 0.4840\n"
          ]
        }
      ]
    },
    {
      "cell_type": "code",
      "source": [
        ""
      ],
      "metadata": {
        "id": "hUd9B5btlWIX"
      },
      "execution_count": null,
      "outputs": []
    },
    {
      "cell_type": "code",
      "source": [
        "\n",
        "model.compile(optimizer='adam', loss='binary_crossentropy', metrics=['accuracy'])\n",
        "model.summary()"
      ],
      "metadata": {
        "colab": {
          "base_uri": "https://localhost:8080/"
        },
        "id": "lhQ3zFP12f_0",
        "outputId": "4efafce7-799f-4781-e846-551b1c485a3d"
      },
      "execution_count": 12,
      "outputs": [
        {
          "output_type": "stream",
          "name": "stdout",
          "text": [
            "Model: \"model\"\n",
            "__________________________________________________________________________________________________\n",
            " Layer (type)                   Output Shape         Param #     Connected to                     \n",
            "==================================================================================================\n",
            " input_1 (InputLayer)           [(None, 512, 512, 1  0           []                               \n",
            "                                )]                                                                \n",
            "                                                                                                  \n",
            " conv2d (Conv2D)                (None, 512, 512, 16  160         ['input_1[0][0]']                \n",
            "                                )                                                                 \n",
            "                                                                                                  \n",
            " dropout (Dropout)              (None, 512, 512, 16  0           ['conv2d[0][0]']                 \n",
            "                                )                                                                 \n",
            "                                                                                                  \n",
            " conv2d_1 (Conv2D)              (None, 512, 512, 16  2320        ['dropout[0][0]']                \n",
            "                                )                                                                 \n",
            "                                                                                                  \n",
            " max_pooling2d (MaxPooling2D)   (None, 256, 256, 16  0           ['conv2d_1[0][0]']               \n",
            "                                )                                                                 \n",
            "                                                                                                  \n",
            " conv2d_2 (Conv2D)              (None, 256, 256, 32  4640        ['max_pooling2d[0][0]']          \n",
            "                                )                                                                 \n",
            "                                                                                                  \n",
            " dropout_1 (Dropout)            (None, 256, 256, 32  0           ['conv2d_2[0][0]']               \n",
            "                                )                                                                 \n",
            "                                                                                                  \n",
            " conv2d_3 (Conv2D)              (None, 256, 256, 32  9248        ['dropout_1[0][0]']              \n",
            "                                )                                                                 \n",
            "                                                                                                  \n",
            " max_pooling2d_1 (MaxPooling2D)  (None, 128, 128, 32  0          ['conv2d_3[0][0]']               \n",
            "                                )                                                                 \n",
            "                                                                                                  \n",
            " conv2d_4 (Conv2D)              (None, 128, 128, 64  18496       ['max_pooling2d_1[0][0]']        \n",
            "                                )                                                                 \n",
            "                                                                                                  \n",
            " dropout_2 (Dropout)            (None, 128, 128, 64  0           ['conv2d_4[0][0]']               \n",
            "                                )                                                                 \n",
            "                                                                                                  \n",
            " conv2d_5 (Conv2D)              (None, 128, 128, 64  36928       ['dropout_2[0][0]']              \n",
            "                                )                                                                 \n",
            "                                                                                                  \n",
            " max_pooling2d_2 (MaxPooling2D)  (None, 64, 64, 64)  0           ['conv2d_5[0][0]']               \n",
            "                                                                                                  \n",
            " conv2d_6 (Conv2D)              (None, 64, 64, 128)  73856       ['max_pooling2d_2[0][0]']        \n",
            "                                                                                                  \n",
            " dropout_3 (Dropout)            (None, 64, 64, 128)  0           ['conv2d_6[0][0]']               \n",
            "                                                                                                  \n",
            " conv2d_7 (Conv2D)              (None, 64, 64, 128)  147584      ['dropout_3[0][0]']              \n",
            "                                                                                                  \n",
            " max_pooling2d_3 (MaxPooling2D)  (None, 32, 32, 128)  0          ['conv2d_7[0][0]']               \n",
            "                                                                                                  \n",
            " conv2d_8 (Conv2D)              (None, 32, 32, 256)  295168      ['max_pooling2d_3[0][0]']        \n",
            "                                                                                                  \n",
            " dropout_4 (Dropout)            (None, 32, 32, 256)  0           ['conv2d_8[0][0]']               \n",
            "                                                                                                  \n",
            " conv2d_9 (Conv2D)              (None, 32, 32, 256)  590080      ['dropout_4[0][0]']              \n",
            "                                                                                                  \n",
            " conv2d_transpose (Conv2DTransp  (None, 64, 64, 128)  131200     ['conv2d_9[0][0]']               \n",
            " ose)                                                                                             \n",
            "                                                                                                  \n",
            " concatenate (Concatenate)      (None, 64, 64, 256)  0           ['conv2d_transpose[0][0]',       \n",
            "                                                                  'conv2d_7[0][0]']               \n",
            "                                                                                                  \n",
            " conv2d_10 (Conv2D)             (None, 64, 64, 128)  295040      ['concatenate[0][0]']            \n",
            "                                                                                                  \n",
            " dropout_5 (Dropout)            (None, 64, 64, 128)  0           ['conv2d_10[0][0]']              \n",
            "                                                                                                  \n",
            " conv2d_11 (Conv2D)             (None, 64, 64, 128)  147584      ['dropout_5[0][0]']              \n",
            "                                                                                                  \n",
            " conv2d_transpose_1 (Conv2DTran  (None, 128, 128, 64  32832      ['conv2d_11[0][0]']              \n",
            " spose)                         )                                                                 \n",
            "                                                                                                  \n",
            " concatenate_1 (Concatenate)    (None, 128, 128, 12  0           ['conv2d_transpose_1[0][0]',     \n",
            "                                8)                                'conv2d_5[0][0]']               \n",
            "                                                                                                  \n",
            " conv2d_12 (Conv2D)             (None, 128, 128, 64  73792       ['concatenate_1[0][0]']          \n",
            "                                )                                                                 \n",
            "                                                                                                  \n",
            " dropout_6 (Dropout)            (None, 128, 128, 64  0           ['conv2d_12[0][0]']              \n",
            "                                )                                                                 \n",
            "                                                                                                  \n",
            " conv2d_13 (Conv2D)             (None, 128, 128, 64  36928       ['dropout_6[0][0]']              \n",
            "                                )                                                                 \n",
            "                                                                                                  \n",
            " conv2d_transpose_2 (Conv2DTran  (None, 256, 256, 32  8224       ['conv2d_13[0][0]']              \n",
            " spose)                         )                                                                 \n",
            "                                                                                                  \n",
            " concatenate_2 (Concatenate)    (None, 256, 256, 64  0           ['conv2d_transpose_2[0][0]',     \n",
            "                                )                                 'conv2d_3[0][0]']               \n",
            "                                                                                                  \n",
            " conv2d_14 (Conv2D)             (None, 256, 256, 32  18464       ['concatenate_2[0][0]']          \n",
            "                                )                                                                 \n",
            "                                                                                                  \n",
            " dropout_7 (Dropout)            (None, 256, 256, 32  0           ['conv2d_14[0][0]']              \n",
            "                                )                                                                 \n",
            "                                                                                                  \n",
            " conv2d_15 (Conv2D)             (None, 256, 256, 32  9248        ['dropout_7[0][0]']              \n",
            "                                )                                                                 \n",
            "                                                                                                  \n",
            " conv2d_transpose_3 (Conv2DTran  (None, 512, 512, 16  2064       ['conv2d_15[0][0]']              \n",
            " spose)                         )                                                                 \n",
            "                                                                                                  \n",
            " concatenate_3 (Concatenate)    (None, 512, 512, 32  0           ['conv2d_transpose_3[0][0]',     \n",
            "                                )                                 'conv2d_1[0][0]']               \n",
            "                                                                                                  \n",
            " conv2d_16 (Conv2D)             (None, 512, 512, 16  4624        ['concatenate_3[0][0]']          \n",
            "                                )                                                                 \n",
            "                                                                                                  \n",
            " dropout_8 (Dropout)            (None, 512, 512, 16  0           ['conv2d_16[0][0]']              \n",
            "                                )                                                                 \n",
            "                                                                                                  \n",
            " conv2d_17 (Conv2D)             (None, 512, 512, 16  2320        ['dropout_8[0][0]']              \n",
            "                                )                                                                 \n",
            "                                                                                                  \n",
            " conv2d_18 (Conv2D)             (None, 512, 512, 1)  17          ['conv2d_17[0][0]']              \n",
            "                                                                                                  \n",
            "==================================================================================================\n",
            "Total params: 1,940,817\n",
            "Trainable params: 1,940,817\n",
            "Non-trainable params: 0\n",
            "__________________________________________________________________________________________________\n"
          ]
        }
      ]
    },
    {
      "cell_type": "code",
      "source": [
        "history=model.fit(train_img_gen,\n",
        "          steps_per_epoch=steps_per_epoch,\n",
        "          epochs=10,\n",
        "          verbose=1,\n",
        "          validation_data=val_img_gen,\n",
        "          validation_steps=val_steps_per_epoch)"
      ],
      "metadata": {
        "colab": {
          "base_uri": "https://localhost:8080/"
        },
        "id": "kdYoeVFv2f8R",
        "outputId": "b8cdf25a-d7eb-4c14-b247-532c710bd2a3"
      },
      "execution_count": 13,
      "outputs": [
        {
          "output_type": "stream",
          "name": "stdout",
          "text": [
            "Epoch 1/10\n",
            "185/185 [==============================] - 1547s 8s/step - loss: 0.1373 - accuracy: 0.9657 - val_loss: 0.0959 - val_accuracy: 0.9786\n",
            "Epoch 2/10\n",
            "185/185 [==============================] - 231s 1s/step - loss: 0.1102 - accuracy: 0.9684 - val_loss: 0.0853 - val_accuracy: 0.9779\n",
            "Epoch 3/10\n",
            "185/185 [==============================] - 230s 1s/step - loss: 0.1039 - accuracy: 0.9683 - val_loss: 0.0808 - val_accuracy: 0.9779\n",
            "Epoch 4/10\n",
            "185/185 [==============================] - 230s 1s/step - loss: 0.0974 - accuracy: 0.9683 - val_loss: 0.0884 - val_accuracy: 0.9769\n",
            "Epoch 5/10\n",
            "185/185 [==============================] - 230s 1s/step - loss: 0.0911 - accuracy: 0.9685 - val_loss: 0.0665 - val_accuracy: 0.9782\n",
            "Epoch 6/10\n",
            "185/185 [==============================] - 231s 1s/step - loss: 0.0869 - accuracy: 0.9680 - val_loss: 0.0569 - val_accuracy: 0.9783\n",
            "Epoch 7/10\n",
            "185/185 [==============================] - 230s 1s/step - loss: 0.0843 - accuracy: 0.9682 - val_loss: 0.0632 - val_accuracy: 0.9782\n",
            "Epoch 8/10\n",
            "185/185 [==============================] - 230s 1s/step - loss: 0.0865 - accuracy: 0.9681 - val_loss: 0.0704 - val_accuracy: 0.9778\n",
            "Epoch 9/10\n",
            "185/185 [==============================] - 230s 1s/step - loss: 0.0826 - accuracy: 0.9683 - val_loss: 0.0591 - val_accuracy: 0.9777\n",
            "Epoch 10/10\n",
            "185/185 [==============================] - 230s 1s/step - loss: 0.0813 - accuracy: 0.9681 - val_loss: 0.0535 - val_accuracy: 0.9774\n"
          ]
        }
      ]
    },
    {
      "cell_type": "code",
      "source": [
        ""
      ],
      "metadata": {
        "id": "gXKlpTyq2f5q"
      },
      "execution_count": null,
      "outputs": []
    }
  ]
}