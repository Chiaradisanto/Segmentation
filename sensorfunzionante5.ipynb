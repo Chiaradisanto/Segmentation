{
  "nbformat": 4,
  "nbformat_minor": 0,
  "metadata": {
    "colab": {
      "name": "sensorfunzionante.ipynb",
      "provenance": [],
      "authorship_tag": "ABX9TyPqlRhAQFRXuLmZ/r6n9MWs",
      "include_colab_link": true
    },
    "kernelspec": {
      "name": "python3",
      "display_name": "Python 3"
    },
    "language_info": {
      "name": "python"
    },
    "accelerator": "GPU"
  },
  "cells": [
    {
      "cell_type": "markdown",
      "metadata": {
        "id": "view-in-github",
        "colab_type": "text"
      },
      "source": [
        "<a href=\"https://colab.research.google.com/github/Chiaradisanto/Segmentation/blob/main/sensorfunzionante5.ipynb\" target=\"_parent\"><img src=\"https://colab.research.google.com/assets/colab-badge.svg\" alt=\"Open In Colab\"/></a>"
      ]
    },
    {
      "cell_type": "code",
      "execution_count": 25,
      "metadata": {
        "colab": {
          "base_uri": "https://localhost:8080/"
        },
        "id": "kddQIh15wLtP",
        "outputId": "e6aa9c2f-1c30-49d9-a7f6-ee8c9e4840e3"
      },
      "outputs": [
        {
          "output_type": "stream",
          "name": "stdout",
          "text": [
            "Drive already mounted at /gdrive; to attempt to forcibly remount, call drive.mount(\"/gdrive\", force_remount=True).\n"
          ]
        }
      ],
      "source": [
        "from google.colab import drive\n",
        "drive.mount('/gdrive')"
      ]
    },
    {
      "cell_type": "code",
      "source": [
        "import os\n",
        "batch_size=3"
      ],
      "metadata": {
        "id": "CI8jxNP6wQn2"
      },
      "execution_count": 26,
      "outputs": []
    },
    {
      "cell_type": "code",
      "source": [
        "seed=24\n",
        "batch_size= 3\n",
        "n_classes=1\n",
        "from tensorflow.keras.preprocessing.image import ImageDataGenerator\n",
        "\n",
        "\n",
        "\n",
        "\n",
        "#Define the generator.\n",
        "#We are not doing any rotation or zoom to make sure mask values are not interpolated.\n",
        "#It is important to keep pixel values in mask as 0, 1, 2, 3, .....\n",
        "def trainGenerator(train_img_path, train_mask_path):\n",
        "    \n",
        "    img_data_gen_args = dict(horizontal_flip=True,\n",
        "                      vertical_flip=True,\n",
        "                      fill_mode='reflect',rescale=1/255.)\n",
        "    \n",
        "    image_datagen = ImageDataGenerator(**img_data_gen_args)\n",
        "    mask_datagen = ImageDataGenerator(**img_data_gen_args)\n",
        "   \n",
        "    \n",
        "    image_generator = image_datagen.flow_from_directory(\n",
        "        train_img_path,\n",
        "        class_mode = None,\n",
        "        color_mode = 'grayscale',\n",
        "        target_size=(512,512),\n",
        "        batch_size = batch_size,\n",
        "        seed = seed)\n",
        "    \n",
        "    mask_generator = mask_datagen.flow_from_directory(\n",
        "        train_mask_path,\n",
        "        class_mode = None ,\n",
        "        color_mode = 'grayscale',\n",
        "        target_size=(512,512),\n",
        "        batch_size = batch_size,\n",
        "        seed = seed)\n",
        "    \n",
        "    train_generator = zip(image_generator, mask_generator)\n",
        "    return train_generator"
      ],
      "metadata": {
        "id": "MJfwYuU2wauT"
      },
      "execution_count": 27,
      "outputs": []
    },
    {
      "cell_type": "code",
      "source": [
        "train_img_path = \"/gdrive/MyDrive/TESI/prova/data/train_images\"\n",
        "train_mask_path = \"/gdrive/MyDrive/TESI/prova/data/train_masks\"\n",
        "train_img_gen = trainGenerator(train_img_path, train_mask_path)\n",
        "\n",
        "val_img_path = \"/gdrive/MyDrive/TESI/prova/data/val_images\"\n",
        "val_mask_path = \"/gdrive/MyDrive/TESI/prova/data/val_masks\"\n",
        "val_img_gen = trainGenerator(val_img_path, val_mask_path)"
      ],
      "metadata": {
        "colab": {
          "base_uri": "https://localhost:8080/"
        },
        "id": "vZRFl4-awfIJ",
        "outputId": "74cce605-daf3-427f-8292-4a2e7cb7e10f"
      },
      "execution_count": 28,
      "outputs": [
        {
          "output_type": "stream",
          "name": "stdout",
          "text": [
            "Found 384 images belonging to 1 classes.\n",
            "Found 384 images belonging to 1 classes.\n",
            "Found 96 images belonging to 1 classes.\n",
            "Found 96 images belonging to 1 classes.\n"
          ]
        }
      ]
    },
    {
      "cell_type": "code",
      "source": [
        "x, y = train_img_gen.__next__()\n",
        "x_val, y_val= val_img_gen.__next__()"
      ],
      "metadata": {
        "id": "3RRk6Ixywhno"
      },
      "execution_count": 29,
      "outputs": []
    },
    {
      "cell_type": "code",
      "source": [
        "print(y.size)\n",
        "print(x_val.size)\n",
        "print(\"max value in image dataset is: \", x_val.max())"
      ],
      "metadata": {
        "colab": {
          "base_uri": "https://localhost:8080/"
        },
        "id": "uxVgcJhHwkVq",
        "outputId": "3c65ece7-d266-4bf2-884e-44b95f9764eb"
      },
      "execution_count": 30,
      "outputs": [
        {
          "output_type": "stream",
          "name": "stdout",
          "text": [
            "786432\n",
            "786432\n",
            "max value in image dataset is:  0.97647065\n"
          ]
        }
      ]
    },
    {
      "cell_type": "code",
      "source": [
        "#Define the model metrcis and load model. \n",
        "\n",
        "num_train_imgs = len(os.listdir('/gdrive/MyDrive/TESI/prova/data/train_images/images'))\n",
        "num_val_images = len(os.listdir('/gdrive/MyDrive/TESI/prova/data/val_images/images'))\n",
        "steps_per_epoch = num_train_imgs//batch_size\n",
        "val_steps_per_epoch = num_val_images//batch_size\n",
        "\n",
        "IMG_HEIGHT = x.shape[1]\n",
        "IMG_WIDTH  = x.shape[2]\n",
        "IMG_CHANNELS = x.shape[3]\n",
        "input_shape = (3,IMG_HEIGHT, IMG_WIDTH, IMG_CHANNELS)\n",
        "print(input_shape)"
      ],
      "metadata": {
        "colab": {
          "base_uri": "https://localhost:8080/"
        },
        "id": "OEIHvdK5wnwt",
        "outputId": "46ab14e8-2d82-4c33-8944-82c54edf267e"
      },
      "execution_count": 31,
      "outputs": [
        {
          "output_type": "stream",
          "name": "stdout",
          "text": [
            "(3, 512, 512, 1)\n"
          ]
        }
      ]
    },
    {
      "cell_type": "code",
      "source": [
        "import tensorflow as tf"
      ],
      "metadata": {
        "id": "Iuxk1oOnwsYQ"
      },
      "execution_count": 32,
      "outputs": []
    },
    {
      "cell_type": "code",
      "source": [
        "time_steps = 3\n",
        "img_height = 512\n",
        "img_width = 512\n",
        "channels = 1"
      ],
      "metadata": {
        "id": "jvbZG9x5wvjn"
      },
      "execution_count": 33,
      "outputs": []
    },
    {
      "cell_type": "code",
      "source": [
        "num_train_imgs = len(os.listdir('/gdrive/MyDrive/TESI/prova/data/train_images/images'))\n",
        "num_val_images = len(os.listdir('/gdrive/MyDrive/TESI/prova/data/val_images/images'))\n",
        "steps_per_epoch = num_train_imgs//batch_size\n",
        "val_steps_per_epoch = num_val_images//batch_size"
      ],
      "metadata": {
        "id": "-qWLZ7Aawybu"
      },
      "execution_count": 34,
      "outputs": []
    },
    {
      "cell_type": "code",
      "source": [
        "print(steps_per_epoch)"
      ],
      "metadata": {
        "colab": {
          "base_uri": "https://localhost:8080/"
        },
        "id": "jUqqfFjGw1s1",
        "outputId": "f01ca043-0b71-48cd-e2bc-3b46a4ba9505"
      },
      "execution_count": 35,
      "outputs": [
        {
          "output_type": "stream",
          "name": "stdout",
          "text": [
            "128\n"
          ]
        }
      ]
    },
    {
      "cell_type": "code",
      "source": [
        "from tensorflow.keras.layers import Conv2D, TimeDistributed,Dropout,Input, Dense,\\\n",
        "    BatchNormalization, GRU, Layer, Flatten,MaxPooling2D, concatenate\n",
        "from tensorflow.keras.regularizers import l2\n",
        "from tensorflow.keras.models import Model\n",
        "from tensorflow.keras.utils import plot_model\n",
        "from tensorflow.keras.optimizers import Adam\n",
        "from keras import layers\n",
        "from keras import models"
      ],
      "metadata": {
        "id": "cUs70CAow4tn"
      },
      "execution_count": 36,
      "outputs": []
    },
    {
      "cell_type": "code",
      "source": [
        "input_l = layers.Input(shape=(time_steps,img_height, img_width,channels))\n",
        "x =  (layers.TimeDistributed(layers.Conv2D( 64, kernel_size=(3, 3),padding='same',strides=(1,1) ))) (input_l)\n",
        "conv2 = layers.TimeDistributed( layers.Conv2D( 64, kernel_size=(3, 3),padding='same',strides=(1,1) ) ) (x)\n",
        "x=layers.TimeDistributed(layers.MaxPooling2D(pool_size=(2,2)))(conv2)\n",
        "x = layers.TimeDistributed( layers.Conv2D( 128, kernel_size=(3, 3),padding='same',strides=(1,1) ) ) (x)\n",
        "conv5 = layers.TimeDistributed( layers.Conv2D( 128, kernel_size=(3, 3),padding='same',strides=(1,1) ) ) (x)\n",
        "x=layers.TimeDistributed(layers.MaxPooling2D(pool_size=(2,2)))(conv5)\n",
        "x = layers.TimeDistributed( layers.Conv2D( 256, kernel_size=(3, 3),padding='same',strides=(1,1) ) ) (x)\n",
        "conv8 = layers.TimeDistributed( layers.Conv2D( 256, kernel_size=(3, 3),padding='same',strides=(1,1) ) ) (x)\n",
        "x=layers.TimeDistributed(layers.MaxPooling2D(pool_size=(2,2)))(conv8)\n",
        "x=layers.Bidirectional(layers.ConvLSTM2D(256,kernel_size=(3,3),padding='same',strides=(1,1),return_sequences=True))(x)\n",
        "up1 = layers.TimeDistributed( layers.Conv2DTranspose( 512,kernel_size=(3,3),padding='same',strides=(2,2)))(x)\n",
        "concat1 = layers.concatenate([up1, conv8])\n",
        "x = layers.TimeDistributed( layers.Conv2D( 256, kernel_size=(3, 3),padding='same',strides=(1,1) ) ) (concat1)\n",
        "x = layers.TimeDistributed( layers.Conv2D( 256, kernel_size=(3, 3),padding='same',strides=(1,1) ) ) (x)\n",
        "up2 = layers.TimeDistributed( layers.Conv2DTranspose( 256,kernel_size=(3,3),padding='same',strides=(2,2)))(x)\n",
        "concat2 = layers.concatenate([up2, conv5])\n",
        "x = layers.TimeDistributed( layers.Conv2D( 128, kernel_size=(3, 3),padding='same',strides=(1,1) ) ) (concat2)\n",
        "x = layers.TimeDistributed( layers.Conv2D( 128, kernel_size=(3, 3),padding='same',strides=(1,1) ) ) (x)\n",
        "up3 = layers.TimeDistributed( layers.Conv2DTranspose( 128,kernel_size=(3,3),padding='same',strides=(2,2)))(x)\n",
        "concat3 = layers.concatenate([up3, conv2])\n",
        "x = layers.TimeDistributed( layers.Conv2D( 64, kernel_size=(3, 3),padding='same',strides=(1,1) ) ) (concat3)\n",
        "x=layers.Bidirectional(layers.ConvLSTM2D(32,kernel_size=(3,3),padding='same',strides=(1,1),return_sequences=True))(x)\n",
        "out = tf.reshape(x, (-1, 1, 512,512, 64))\n",
        "#out= layers.TimeDistributed( layers.Conv2D( 64, kernel_size=(1, 1),padding='same',strides=(1,1) ) ) (out)\n",
        "\n",
        "\n",
        "model = models.Model(inputs=input_l, outputs=out)\n",
        "model.summary()"
      ],
      "metadata": {
        "colab": {
          "base_uri": "https://localhost:8080/"
        },
        "id": "EMYL1MIaxCkf",
        "outputId": "9f2a2005-cdbb-47f7-b387-7bfb99d77a56"
      },
      "execution_count": 37,
      "outputs": [
        {
          "output_type": "stream",
          "name": "stdout",
          "text": [
            "Model: \"model_1\"\n",
            "__________________________________________________________________________________________________\n",
            " Layer (type)                   Output Shape         Param #     Connected to                     \n",
            "==================================================================================================\n",
            " input_2 (InputLayer)           [(None, 3, 512, 512  0           []                               \n",
            "                                , 1)]                                                             \n",
            "                                                                                                  \n",
            " time_distributed_17 (TimeDistr  (None, 3, 512, 512,  640        ['input_2[0][0]']                \n",
            " ibuted)                         64)                                                              \n",
            "                                                                                                  \n",
            " time_distributed_18 (TimeDistr  (None, 3, 512, 512,  36928      ['time_distributed_17[0][0]']    \n",
            " ibuted)                         64)                                                              \n",
            "                                                                                                  \n",
            " time_distributed_19 (TimeDistr  (None, 3, 256, 256,  0          ['time_distributed_18[0][0]']    \n",
            " ibuted)                         64)                                                              \n",
            "                                                                                                  \n",
            " time_distributed_20 (TimeDistr  (None, 3, 256, 256,  73856      ['time_distributed_19[0][0]']    \n",
            " ibuted)                         128)                                                             \n",
            "                                                                                                  \n",
            " time_distributed_21 (TimeDistr  (None, 3, 256, 256,  147584     ['time_distributed_20[0][0]']    \n",
            " ibuted)                         128)                                                             \n",
            "                                                                                                  \n",
            " time_distributed_22 (TimeDistr  (None, 3, 128, 128,  0          ['time_distributed_21[0][0]']    \n",
            " ibuted)                         128)                                                             \n",
            "                                                                                                  \n",
            " time_distributed_23 (TimeDistr  (None, 3, 128, 128,  295168     ['time_distributed_22[0][0]']    \n",
            " ibuted)                         256)                                                             \n",
            "                                                                                                  \n",
            " time_distributed_24 (TimeDistr  (None, 3, 128, 128,  590080     ['time_distributed_23[0][0]']    \n",
            " ibuted)                         256)                                                             \n",
            "                                                                                                  \n",
            " time_distributed_25 (TimeDistr  (None, 3, 64, 64, 2  0          ['time_distributed_24[0][0]']    \n",
            " ibuted)                        56)                                                               \n",
            "                                                                                                  \n",
            " bidirectional_2 (Bidirectional  (None, 3, 64, 64, 5  9439232    ['time_distributed_25[0][0]']    \n",
            " )                              12)                                                               \n",
            "                                                                                                  \n",
            " time_distributed_26 (TimeDistr  (None, 3, 128, 128,  2359808    ['bidirectional_2[0][0]']        \n",
            " ibuted)                         512)                                                             \n",
            "                                                                                                  \n",
            " concatenate_3 (Concatenate)    (None, 3, 128, 128,  0           ['time_distributed_26[0][0]',    \n",
            "                                 768)                             'time_distributed_24[0][0]']    \n",
            "                                                                                                  \n",
            " time_distributed_27 (TimeDistr  (None, 3, 128, 128,  1769728    ['concatenate_3[0][0]']          \n",
            " ibuted)                         256)                                                             \n",
            "                                                                                                  \n",
            " time_distributed_28 (TimeDistr  (None, 3, 128, 128,  590080     ['time_distributed_27[0][0]']    \n",
            " ibuted)                         256)                                                             \n",
            "                                                                                                  \n",
            " time_distributed_29 (TimeDistr  (None, 3, 256, 256,  590080     ['time_distributed_28[0][0]']    \n",
            " ibuted)                         256)                                                             \n",
            "                                                                                                  \n",
            " concatenate_4 (Concatenate)    (None, 3, 256, 256,  0           ['time_distributed_29[0][0]',    \n",
            "                                 384)                             'time_distributed_21[0][0]']    \n",
            "                                                                                                  \n",
            " time_distributed_30 (TimeDistr  (None, 3, 256, 256,  442496     ['concatenate_4[0][0]']          \n",
            " ibuted)                         128)                                                             \n",
            "                                                                                                  \n",
            " time_distributed_31 (TimeDistr  (None, 3, 256, 256,  147584     ['time_distributed_30[0][0]']    \n",
            " ibuted)                         128)                                                             \n",
            "                                                                                                  \n",
            " time_distributed_32 (TimeDistr  (None, 3, 512, 512,  147584     ['time_distributed_31[0][0]']    \n",
            " ibuted)                         128)                                                             \n",
            "                                                                                                  \n",
            " concatenate_5 (Concatenate)    (None, 3, 512, 512,  0           ['time_distributed_32[0][0]',    \n",
            "                                 192)                             'time_distributed_18[0][0]']    \n",
            "                                                                                                  \n",
            " time_distributed_33 (TimeDistr  (None, 3, 512, 512,  110656     ['concatenate_5[0][0]']          \n",
            " ibuted)                         64)                                                              \n",
            "                                                                                                  \n",
            " bidirectional_3 (Bidirectional  (None, 3, 512, 512,  221440     ['time_distributed_33[0][0]']    \n",
            " )                               64)                                                              \n",
            "                                                                                                  \n",
            " tf.reshape_1 (TFOpLambda)      (None, 1, 512, 512,  0           ['bidirectional_3[0][0]']        \n",
            "                                 64)                                                              \n",
            "                                                                                                  \n",
            "==================================================================================================\n",
            "Total params: 16,962,944\n",
            "Trainable params: 16,962,944\n",
            "Non-trainable params: 0\n",
            "__________________________________________________________________________________________________\n"
          ]
        }
      ]
    },
    {
      "cell_type": "code",
      "source": [
        "def dice_coeff(pred, target):\n",
        "    smooth = 1.\n",
        "    num = pred.size(0)\n",
        "    m1 = pred.view(num, -1)  # Flatten\n",
        "    m2 = target.view(num, -1)  # Flatten\n",
        "    intersection = (m1 * m2).sum()\n",
        "\n",
        "    return (2. * intersection + smooth) / (m1.sum() + m2.sum() + smooth)\n",
        "def dice_coef_loss(pred, target):\n",
        "    return 1-dice_coeff(pred, target)"
      ],
      "metadata": {
        "id": "vJUzhDnD2RFq"
      },
      "execution_count": 79,
      "outputs": []
    },
    {
      "cell_type": "code",
      "source": [
        "#no\n",
        "from keras import backend as K\n",
        "def dice_coef(y_true, y_pred, epsilon=1e-6):\n",
        "    intersection = K.sum(K.abs(y_true * y_pred), axis=-1)\n",
        "    return (2. * intersection) / (K.sum(K.square(y_true),axis=-1) + K.sum(K.square(y_pred),axis=-1) + epsilon)\n",
        "\n",
        "def dice_coef_loss(y_true, y_pred):\n",
        "    return 1-dice_coef(y_true, y_pred)\n",
        "\n",
        "\n"
      ],
      "metadata": {
        "id": "vCQm5_8vxJPY"
      },
      "execution_count": 68,
      "outputs": []
    },
    {
      "cell_type": "code",
      "source": [
        "from keras import backend as K\n",
        "def dice_coef(y_true, y_pred, epsilon=1e-6):\n",
        "    intersection = K.sum(K.abs(y_true * y_pred), axis=-1)\n",
        "    return (2. * intersection) / (K.sum(K.square(y_true),axis=-1) + K.sum(K.square(y_pred),axis=-1) + epsilon)\n",
        "\n",
        "def dice_coef_loss(y_true, y_pred):\n",
        "    return 1-dice_coef(y_true, y_pred)"
      ],
      "metadata": {
        "id": "J9_R4j9hMIHS"
      },
      "execution_count": 86,
      "outputs": []
    },
    {
      "cell_type": "code",
      "source": [
        "from tensorflow.keras import backend as K\n",
        "from tensorflow.keras.metrics import Recall, Precision"
      ],
      "metadata": {
        "id": "6cMO2gwpxeMc"
      },
      "execution_count": 87,
      "outputs": []
    },
    {
      "cell_type": "code",
      "source": [
        "\n",
        "model.compile(optimizer=Adam(1e-4), loss=dice_coef_loss, metrics=dice_coef)\n"
      ],
      "metadata": {
        "id": "qTyteV7FHdpY"
      },
      "execution_count": 88,
      "outputs": []
    },
    {
      "cell_type": "code",
      "source": [
        "history=model.fit(train_img_gen,\n",
        "          steps_per_epoch=steps_per_epoch,\n",
        "          epochs=10,\n",
        "          verbose=1,\n",
        "          validation_data=val_img_gen,\n",
        "    \n",
        "          validation_steps=val_steps_per_epoch)"
      ],
      "metadata": {
        "colab": {
          "base_uri": "https://localhost:8080/"
        },
        "id": "34wxTngZxQlY",
        "outputId": "c38454ea-0f87-410d-97ad-f78d396c367f"
      },
      "execution_count": null,
      "outputs": [
        {
          "output_type": "stream",
          "name": "stdout",
          "text": [
            "Epoch 1/10\n",
            "128/128 [==============================] - 271s 2s/step - loss: -3.5614 - dice_coef: 4.5614 - val_loss: -4.0126 - val_dice_coef: 5.0126\n",
            "Epoch 2/10\n",
            "128/128 [==============================] - 207s 2s/step - loss: -4.0051 - dice_coef: 5.0051 - val_loss: -4.0117 - val_dice_coef: 5.0117\n",
            "Epoch 3/10\n",
            "128/128 [==============================] - 208s 2s/step - loss: -4.0156 - dice_coef: 5.0156 - val_loss: -4.0188 - val_dice_coef: 5.0188\n",
            "Epoch 4/10\n",
            "128/128 [==============================] - 207s 2s/step - loss: -4.0150 - dice_coef: 5.0150 - val_loss: -4.0201 - val_dice_coef: 5.0201\n",
            "Epoch 5/10\n",
            "128/128 [==============================] - 207s 2s/step - loss: -4.0132 - dice_coef: 5.0132 - val_loss: -4.0198 - val_dice_coef: 5.0198\n",
            "Epoch 6/10\n",
            "128/128 [==============================] - 207s 2s/step - loss: -4.0187 - dice_coef: 5.0187 - val_loss: -4.0225 - val_dice_coef: 5.0225\n",
            "Epoch 7/10\n",
            "128/128 [==============================] - 207s 2s/step - loss: -4.0177 - dice_coef: 5.0177 - val_loss: -4.0149 - val_dice_coef: 5.0149\n",
            "Epoch 8/10\n",
            "128/128 [==============================] - 207s 2s/step - loss: -4.0138 - dice_coef: 5.0138 - val_loss: -4.0306 - val_dice_coef: 5.0306\n",
            "Epoch 9/10\n",
            "128/128 [==============================] - 208s 2s/step - loss: -4.0193 - dice_coef: 5.0193 - val_loss: -4.0021 - val_dice_coef: 5.0021\n",
            "Epoch 10/10\n",
            "128/128 [==============================] - 207s 2s/step - loss: -4.0154 - dice_coef: 5.0154 - val_loss: -4.0218 - val_dice_coef: 5.0218\n"
          ]
        }
      ]
    },
    {
      "cell_type": "code",
      "source": [
        "\n",
        "model.save('/gdrive/MyDrive/TESI/sensor3Dfunzionante.hdf5')"
      ],
      "metadata": {
        "id": "mwSgElIWyF3j"
      },
      "execution_count": null,
      "outputs": []
    }
  ]
}