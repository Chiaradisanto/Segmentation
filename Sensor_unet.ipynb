{
  "cells": [
    {
      "cell_type": "markdown",
      "metadata": {
        "id": "view-in-github",
        "colab_type": "text"
      },
      "source": [
        "<a href=\"https://colab.research.google.com/github/Chiaradisanto/Segmentation/blob/main/Sensor_unet.ipynb\" target=\"_parent\"><img src=\"https://colab.research.google.com/assets/colab-badge.svg\" alt=\"Open In Colab\"/></a>"
      ]
    },
    {
      "cell_type": "code",
      "execution_count": 1,
      "metadata": {
        "colab": {
          "base_uri": "https://localhost:8080/"
        },
        "id": "Mpks1ti2dmLG",
        "outputId": "8ab6e3a7-b41d-4db4-a63c-2797fad04daa"
      },
      "outputs": [
        {
          "output_type": "stream",
          "name": "stdout",
          "text": [
            "Mounted at /gdrive\n"
          ]
        }
      ],
      "source": [
        "from google.colab import drive\n",
        "drive.mount('/gdrive')\n"
      ]
    },
    {
      "cell_type": "code",
      "execution_count": 2,
      "metadata": {
        "id": "Z77zcQDHdpGx"
      },
      "outputs": [],
      "source": [
        "\n",
        "import os\n",
        "from IPython.core.completer import time\n",
        "from natsort import natsorted\n",
        "from tensorflow.keras.preprocessing.image import (\n",
        "    array_to_img,\n",
        "    img_to_array,\n",
        "    load_img,\n",
        ")\n",
        "from tensorflow.keras import layers\n",
        "import tensorflow as tf\n",
        "import numpy as np"
      ]
    },
    {
      "cell_type": "code",
      "execution_count": 4,
      "metadata": {
        "id": "_GvDvxW3dpDE"
      },
      "outputs": [],
      "source": [
        "class GetLoader:\n",
        "    def __init__(self, *, imgs, masks, timesteps, batch_size, squeeze=False):\n",
        "        self.imgs = imgs\n",
        "        self.masks = masks\n",
        "        self.timesteps = timesteps\n",
        "        self.batch_size = 4\n",
        "        self.squeeze = squeeze\n",
        "        self.augmentation = tf.keras.Sequential(\n",
        "            [\n",
        "                layers.RandomFlip(\"horizontal_and_vertical\"),\n",
        "                layers.RandomRotation(0.2),\n",
        "  \n",
        "\n",
        "            ]\n",
        "        )\n",
        "\n",
        "    def __iter__(self):\n",
        "        return self\n",
        "\n",
        "    def __next__(self):\n",
        "        xs = []\n",
        "        ys = []\n",
        "        for _ in range(self.batch_size):\n",
        "            index = np.random.randint(0, len(self.imgs) - self.timesteps)\n",
        "            xs.append(self.imgs[index : index + self.timesteps])\n",
        "            ys.append(self.masks[index + self.timesteps])\n",
        "        x, y = np.array(xs), np.array(ys)\n",
        "        x = x.squeeze(-1).transpose(0, 2, 3, 1)\n",
        "        xy = self.augmentation(tf.concat((x, y), axis=-1))\n",
        "\n",
        "        x = xy[:, :, :, :3]\n",
        "        y = xy[:, :, :, 3:]\n",
        "        if not self.squeeze:\n",
        "            x = tf.transpose(x, perm=(0, 3, 1, 2))[..., None]\n",
        "            y = tf.expand_dims(y, 1)\n",
        "        # if not tf.reduce_all(y[0] == 0):\n",
        "        #    ipdb.set_trace()\n",
        "        return x, y\n",
        "\n",
        "\n",
        "class DataLoader:\n",
        "    def __init__(\n",
        "        self,\n",
        "        data_folder: str,\n",
        "        *,\n",
        "        timesteps: int = 3,\n",
        "        batch_size=4,\n",
        "        squeeze=False,\n",
        "    ):\n",
        "        self.batch_size = batch_size\n",
        "        self.data_folder = data_folder\n",
        "        self.timesteps = timesteps\n",
        "        self.squeeze = squeeze\n",
        "        train_img_file_names = [\n",
        "            os.path.join(data_folder, \"train_images\", \"images\", fn)\n",
        "            for fn in os.listdir(os.path.join(data_folder, \"train_images\", \"images\"))\n",
        "        ]\n",
        "        train_img_file_names = natsorted(train_img_file_names)\n",
        "        # train_img_file_names.sort(key=lambda x: int(x.split(\"_\")[-1].split(\".\")[0]))\n",
        "        train_mask_file_names = [\n",
        "            fn.replace(\"images\", \"masks\") for fn in train_img_file_names\n",
        "        ]\n",
        "        self.train_imgs = (\n",
        "            np.array(\n",
        "                [\n",
        "                    img_to_array(load_img(fn, color_mode=\"grayscale\"))\n",
        "                    for fn in train_img_file_names\n",
        "                ]\n",
        "            )\n",
        "            / 255\n",
        "        )\n",
        "        self.train_masks = (\n",
        "            np.array(\n",
        "                [\n",
        "                    img_to_array(load_img(fn, color_mode=\"grayscale\"))\n",
        "                    for fn in train_mask_file_names\n",
        "                ]\n",
        "            )\n",
        "            / 255\n",
        "            > 0.5\n",
        "        ).astype(float)\n",
        "\n",
        "        val_img_file_names = [\n",
        "            os.path.join(data_folder, \"val_images\", \"images\", fn)\n",
        "            for fn in os.listdir(os.path.join(data_folder, \"val_images\", \"images\"))\n",
        "        ]\n",
        "        val_img_file_names = natsorted(val_img_file_names)\n",
        "        val_mask_file_names = [\n",
        "            fn.replace(\"images\", \"masks\") for fn in val_img_file_names\n",
        "        ]\n",
        "        self.val_imgs = (\n",
        "            np.array(\n",
        "                [\n",
        "                    img_to_array(load_img(fn, color_mode=\"grayscale\"))\n",
        "                    for fn in val_img_file_names\n",
        "                ]\n",
        "            )\n",
        "            / 255\n",
        "        )\n",
        "        self.val_masks = (\n",
        "            np.array(\n",
        "                [\n",
        "                    img_to_array(load_img(fn, color_mode=\"grayscale\"))\n",
        "                    for fn in val_mask_file_names\n",
        "                ]\n",
        "            )\n",
        "            / 255\n",
        "            > 0.5\n",
        "        ).astype(float)\n",
        "\n",
        "    def get_loaders(self):\n",
        "        return (\n",
        "            GetLoader(\n",
        "                imgs=self.train_imgs,\n",
        "                masks=self.train_masks,\n",
        "                timesteps=self.timesteps,\n",
        "                batch_size=self.batch_size,\n",
        "                squeeze=self.squeeze,\n",
        "            ),\n",
        "            GetLoader(\n",
        "                imgs=self.val_imgs,\n",
        "                masks=self.val_masks,\n",
        "                timesteps=self.timesteps,\n",
        "                batch_size=self.batch_size,\n",
        "                squeeze=self.squeeze,\n",
        "            ),\n",
        "        )"
      ]
    },
    {
      "cell_type": "code",
      "execution_count": 5,
      "metadata": {
        "id": "uyydvpDhdpAl"
      },
      "outputs": [],
      "source": [
        "\n",
        "train_loader, val_loader = DataLoader(\"/gdrive/MyDrive/adjustedROI/final_output\", squeeze=False).get_loaders()\n"
      ]
    },
    {
      "cell_type": "code",
      "execution_count": 6,
      "metadata": {
        "id": "FkiYiHHpdo-A"
      },
      "outputs": [],
      "source": [
        "x, y = val_loader.__next__()"
      ]
    },
    {
      "cell_type": "code",
      "execution_count": 7,
      "metadata": {
        "id": "KLT-mSOPdo7n"
      },
      "outputs": [],
      "source": [
        "from matplotlib import pyplot as plt"
      ]
    },
    {
      "cell_type": "code",
      "execution_count": 8,
      "metadata": {
        "colab": {
          "base_uri": "https://localhost:8080/",
          "height": 515
        },
        "id": "VBSK7qDEdo5C",
        "outputId": "f9cfea14-d594-4172-9dc0-fe21ea8f1272"
      },
      "outputs": [
        {
          "output_type": "display_data",
          "data": {
            "text/plain": [
              "<Figure size 432x288 with 2 Axes>"
            ],
            "image/png": "[encoded data removed]"
          },
          "metadata": {
            "needs_background": "light"
          }
        },
        {
          "output_type": "display_data",
          "data": {
            "text/plain": [
              "<Figure size 432x288 with 2 Axes>"
            ],
            "image/png": "[encoded data removed]"
          },
          "metadata": {
            "needs_background": "light"
          }
        },
        {
          "output_type": "display_data",
          "data": {
            "text/plain": [
              "<Figure size 432x288 with 2 Axes>"
            ],
            "image/png": "[encoded data removed]"
          },
          "metadata": {
            "needs_background": "light"
          }
        }
      ],
      "source": [
        "\n",
        "x, y = val_loader.__next__()\n",
        "\n",
        "for i in range(0,3):\n",
        "    image = x[i,0,:,:,0]\n",
        "    #mask = np.argmax(y[i], axis=2)\n",
        "    mask= y[i,0,:,:,0]\n",
        "    plt.subplot(1,2,1)\n",
        "    plt.imshow(image, cmap='gray')\n",
        "    plt.axis('off')\n",
        "    plt.subplot(1,2,2)\n",
        "    plt.imshow(mask, cmap='gray')\n",
        "    plt.axis('off')\n",
        "    plt.show()"
      ]
    },
    {
      "cell_type": "code",
      "execution_count": 9,
      "metadata": {
        "colab": {
          "base_uri": "https://localhost:8080/"
        },
        "id": "hIYnW33H5cGG",
        "outputId": "1da2ebf8-11eb-44ac-9a60-3a08af0b0114"
      },
      "outputs": [
        {
          "output_type": "execute_result",
          "data": {
            "text/plain": [
              "TensorShape([4, 3, 256, 256, 1])"
            ]
          },
          "metadata": {},
          "execution_count": 9
        }
      ],
      "source": [
        "x.shape"
      ]
    },
    {
      "cell_type": "code",
      "execution_count": 9,
      "metadata": {
        "id": "d6f7bKOndo2s"
      },
      "outputs": [],
      "source": [
        "batch_size=4"
      ]
    },
    {
      "cell_type": "code",
      "source": [
        "input_shape=(3,256,256,1)"
      ],
      "metadata": {
        "id": "DGPye0TLJdb2"
      },
      "execution_count": 10,
      "outputs": []
    },
    {
      "cell_type": "code",
      "execution_count": 12,
      "metadata": {
        "id": "cmYMQrpCdox9"
      },
      "outputs": [],
      "source": [
        "import tensorflow as tf\n",
        "from tensorflow.keras.layers import Conv2D, TimeDistributed,Dropout,Input, Dense,\\\n",
        "    BatchNormalization, GRU, Layer, Flatten,MaxPooling2D, concatenate,Lambda\n",
        "from tensorflow.keras.regularizers import l2\n",
        "from tensorflow.keras.models import Model\n",
        "from tensorflow.keras.utils import plot_model\n",
        "from tensorflow.keras.optimizers import Adam\n",
        "from keras import layers\n",
        "from keras import models\n",
        "from tensorflow.python.keras.layers import ConvLSTM2D"
      ]
    },
    {
      "cell_type": "code",
      "execution_count": 13,
      "metadata": {
        "id": "C3KphFEleWRt",
        "colab": {
          "base_uri": "https://localhost:8080/"
        },
        "outputId": "84e880a0-a631-4fc8-ab7d-ef61253a5290"
      },
      "outputs": [
        {
          "output_type": "stream",
          "name": "stdout",
          "text": [
            "Model: \"model\"\n",
            "__________________________________________________________________________________________________\n",
            " Layer (type)                   Output Shape         Param #     Connected to                     \n",
            "==================================================================================================\n",
            " input_2 (InputLayer)           [(None, 3, 256, 256  0           []                               \n",
            "                                , 1)]                                                             \n",
            "                                                                                                  \n",
            " time_distributed_36 (TimeDistr  (None, 3, 256, 256,  160        ['input_2[0][0]']                \n",
            " ibuted)                         16)                                                              \n",
            "                                                                                                  \n",
            " time_distributed_37 (TimeDistr  (None, 3, 256, 256,  64         ['time_distributed_36[0][0]']    \n",
            " ibuted)                         16)                                                              \n",
            "                                                                                                  \n",
            " time_distributed_38 (TimeDistr  (None, 3, 256, 256,  2320       ['time_distributed_37[0][0]']    \n",
            " ibuted)                         16)                                                              \n",
            "                                                                                                  \n",
            " time_distributed_39 (TimeDistr  (None, 3, 256, 256,  64         ['time_distributed_38[0][0]']    \n",
            " ibuted)                         16)                                                              \n",
            "                                                                                                  \n",
            " time_distributed_40 (TimeDistr  (None, 3, 128, 128,  0          ['time_distributed_39[0][0]']    \n",
            " ibuted)                         16)                                                              \n",
            "                                                                                                  \n",
            " time_distributed_41 (TimeDistr  (None, 3, 128, 128,  4640       ['time_distributed_40[0][0]']    \n",
            " ibuted)                         32)                                                              \n",
            "                                                                                                  \n",
            " time_distributed_42 (TimeDistr  (None, 3, 128, 128,  128        ['time_distributed_41[0][0]']    \n",
            " ibuted)                         32)                                                              \n",
            "                                                                                                  \n",
            " time_distributed_43 (TimeDistr  (None, 3, 128, 128,  9248       ['time_distributed_42[0][0]']    \n",
            " ibuted)                         32)                                                              \n",
            "                                                                                                  \n",
            " time_distributed_44 (TimeDistr  (None, 3, 128, 128,  128        ['time_distributed_43[0][0]']    \n",
            " ibuted)                         32)                                                              \n",
            "                                                                                                  \n",
            " time_distributed_45 (TimeDistr  (None, 3, 64, 64, 3  0          ['time_distributed_44[0][0]']    \n",
            " ibuted)                        2)                                                                \n",
            "                                                                                                  \n",
            " time_distributed_46 (TimeDistr  (None, 3, 64, 64, 6  18496      ['time_distributed_45[0][0]']    \n",
            " ibuted)                        4)                                                                \n",
            "                                                                                                  \n",
            " time_distributed_47 (TimeDistr  (None, 3, 64, 64, 6  256        ['time_distributed_46[0][0]']    \n",
            " ibuted)                        4)                                                                \n",
            "                                                                                                  \n",
            " time_distributed_48 (TimeDistr  (None, 3, 64, 64, 6  36928      ['time_distributed_47[0][0]']    \n",
            " ibuted)                        4)                                                                \n",
            "                                                                                                  \n",
            " time_distributed_49 (TimeDistr  (None, 3, 64, 64, 6  256        ['time_distributed_48[0][0]']    \n",
            " ibuted)                        4)                                                                \n",
            "                                                                                                  \n",
            " time_distributed_50 (TimeDistr  (None, 3, 32, 32, 6  0          ['time_distributed_49[0][0]']    \n",
            " ibuted)                        4)                                                                \n",
            "                                                                                                  \n",
            " time_distributed_51 (TimeDistr  (None, 3, 32, 32, 1  73856      ['time_distributed_50[0][0]']    \n",
            " ibuted)                        28)                                                               \n",
            "                                                                                                  \n",
            " time_distributed_52 (TimeDistr  (None, 3, 32, 32, 1  512        ['time_distributed_51[0][0]']    \n",
            " ibuted)                        28)                                                               \n",
            "                                                                                                  \n",
            " time_distributed_53 (TimeDistr  (None, 3, 32, 32, 1  147584     ['time_distributed_52[0][0]']    \n",
            " ibuted)                        28)                                                               \n",
            "                                                                                                  \n",
            " time_distributed_54 (TimeDistr  (None, 3, 32, 32, 1  512        ['time_distributed_53[0][0]']    \n",
            " ibuted)                        28)                                                               \n",
            "                                                                                                  \n",
            " time_distributed_55 (TimeDistr  (None, 3, 16, 16, 1  0          ['time_distributed_54[0][0]']    \n",
            " ibuted)                        28)                                                               \n",
            "                                                                                                  \n",
            " time_distributed_56 (TimeDistr  (None, 3, 16, 16, 2  295168     ['time_distributed_55[0][0]']    \n",
            " ibuted)                        56)                                                               \n",
            "                                                                                                  \n",
            " time_distributed_57 (TimeDistr  (None, 3, 16, 16, 2  1024       ['time_distributed_56[0][0]']    \n",
            " ibuted)                        56)                                                               \n",
            "                                                                                                  \n",
            " time_distributed_58 (TimeDistr  (None, 3, 16, 16, 2  590080     ['time_distributed_57[0][0]']    \n",
            " ibuted)                        56)                                                               \n",
            "                                                                                                  \n",
            " time_distributed_59 (TimeDistr  (None, 3, 16, 16, 2  1024       ['time_distributed_58[0][0]']    \n",
            " ibuted)                        56)                                                               \n",
            "                                                                                                  \n",
            " bidirectional_2 (Bidirectional  (None, 3, 16, 16, 5  9439232    ['time_distributed_59[0][0]']    \n",
            " )                              12)                                                               \n",
            "                                                                                                  \n",
            " time_distributed_60 (TimeDistr  (None, 3, 32, 32, 1  589952     ['bidirectional_2[0][0]']        \n",
            " ibuted)                        28)                                                               \n",
            "                                                                                                  \n",
            " concatenate_4 (Concatenate)    (None, 3, 32, 32, 2  0           ['time_distributed_60[0][0]',    \n",
            "                                56)                               'time_distributed_54[0][0]']    \n",
            "                                                                                                  \n",
            " time_distributed_62 (TimeDistr  (None, 3, 32, 32, 1  295040     ['concatenate_4[0][0]']          \n",
            " ibuted)                        28)                                                               \n",
            "                                                                                                  \n",
            " time_distributed_63 (TimeDistr  (None, 3, 64, 64, 6  73792      ['time_distributed_62[0][0]']    \n",
            " ibuted)                        4)                                                                \n",
            "                                                                                                  \n",
            " concatenate_5 (Concatenate)    (None, 3, 64, 64, 1  0           ['time_distributed_63[0][0]',    \n",
            "                                28)                               'time_distributed_49[0][0]']    \n",
            "                                                                                                  \n",
            " time_distributed_64 (TimeDistr  (None, 3, 64, 64, 6  73792      ['concatenate_5[0][0]']          \n",
            " ibuted)                        4)                                                                \n",
            "                                                                                                  \n",
            " time_distributed_65 (TimeDistr  (None, 3, 64, 64, 6  36928      ['time_distributed_64[0][0]']    \n",
            " ibuted)                        4)                                                                \n",
            "                                                                                                  \n",
            " time_distributed_66 (TimeDistr  (None, 3, 128, 128,  18464      ['time_distributed_65[0][0]']    \n",
            " ibuted)                         32)                                                              \n",
            "                                                                                                  \n",
            " concatenate_6 (Concatenate)    (None, 3, 128, 128,  0           ['time_distributed_66[0][0]',    \n",
            "                                 64)                              'time_distributed_44[0][0]']    \n",
            "                                                                                                  \n",
            " time_distributed_67 (TimeDistr  (None, 3, 128, 128,  18464      ['concatenate_6[0][0]']          \n",
            " ibuted)                         32)                                                              \n",
            "                                                                                                  \n",
            " time_distributed_68 (TimeDistr  (None, 3, 128, 128,  9248       ['time_distributed_67[0][0]']    \n",
            " ibuted)                         32)                                                              \n",
            "                                                                                                  \n",
            " time_distributed_69 (TimeDistr  (None, 3, 256, 256,  4624       ['time_distributed_68[0][0]']    \n",
            " ibuted)                         16)                                                              \n",
            "                                                                                                  \n",
            " concatenate_7 (Concatenate)    (None, 3, 256, 256,  0           ['time_distributed_69[0][0]',    \n",
            "                                 32)                              'time_distributed_39[0][0]']    \n",
            "                                                                                                  \n",
            " time_distributed_70 (TimeDistr  (None, 3, 256, 256,  4624       ['concatenate_7[0][0]']          \n",
            " ibuted)                         16)                                                              \n",
            "                                                                                                  \n",
            " time_distributed_71 (TimeDistr  (None, 3, 256, 256,  2320       ['time_distributed_70[0][0]']    \n",
            " ibuted)                         16)                                                              \n",
            "                                                                                                  \n",
            " bidirectional_3 (Bidirectional  (None, 256, 256, 32  36992      ['time_distributed_71[0][0]']    \n",
            " )                              )                                                                 \n",
            "                                                                                                  \n",
            " tf.expand_dims_1 (TFOpLambda)  (None, 1, 256, 256,  0           ['bidirectional_3[0][0]']        \n",
            "                                 32)                                                              \n",
            "                                                                                                  \n",
            " conv2d_37 (Conv2D)             (None, 1, 256, 256,  33          ['tf.expand_dims_1[0][0]']       \n",
            "                                 1)                                                               \n",
            "                                                                                                  \n",
            "==================================================================================================\n",
            "Total params: 11,785,953\n",
            "Trainable params: 11,783,969\n",
            "Non-trainable params: 1,984\n",
            "__________________________________________________________________________________________________\n"
          ]
        }
      ],
      "source": [
        "\n",
        "input_l = layers.Input(shape=(input_shape))\n",
        "x =  (layers.TimeDistributed(layers.Conv2D( 16, kernel_size=(3, 3),padding='same',strides=(1,1), kernel_initializer='he_normal' ))) (input_l)\n",
        "x=layers.TimeDistributed(layers.BatchNormalization())(x)\n",
        "\n",
        "conv2 = layers.TimeDistributed( layers.Conv2D( 16, kernel_size=(3, 3),padding='same',strides=(1,1),kernel_initializer='he_normal' ) ) (x)\n",
        "conv2=layers.TimeDistributed(layers.BatchNormalization())(conv2)\n",
        "x=layers.TimeDistributed(layers.MaxPooling2D(pool_size=(2,2)))(conv2)\n",
        "x = layers.TimeDistributed( layers.Conv2D( 32, kernel_size=(3, 3),padding='same',strides=(1,1),kernel_initializer='he_normal' ) ) (x)\n",
        "x=layers.TimeDistributed(layers.BatchNormalization())(x)\n",
        "\n",
        "conv5 = layers.TimeDistributed( layers.Conv2D( 32, kernel_size=(3, 3),padding='same',strides=(1,1),kernel_initializer='he_normal' ) ) (x)\n",
        "conv5=layers.TimeDistributed(layers.BatchNormalization())(conv5)\n",
        "\n",
        "x=layers.TimeDistributed(layers.MaxPooling2D(pool_size=(2,2)))(conv5)\n",
        "x = layers.TimeDistributed( layers.Conv2D( 64, kernel_size=(3, 3),padding='same',strides=(1,1),kernel_initializer='he_normal' ) ) (x)\n",
        "x=layers.TimeDistributed(layers.BatchNormalization())(x)\n",
        "\n",
        "conv8 = layers.TimeDistributed( layers.Conv2D( 64, kernel_size=(3, 3),padding='same',strides=(1,1),kernel_initializer='he_normal' ) ) (x)\n",
        "conv8=layers.TimeDistributed(layers.BatchNormalization())(conv8)\n",
        "\n",
        "\n",
        "x=layers.TimeDistributed(layers.MaxPooling2D(pool_size=(2,2)))(conv8)\n",
        "\n",
        "x = layers.TimeDistributed( layers.Conv2D( 128, kernel_size=(3, 3),padding='same',strides=(1,1),kernel_initializer='he_normal' ) ) (x)\n",
        "x=layers.TimeDistributed(layers.BatchNormalization())(x)\n",
        "\n",
        "conv9 = layers.TimeDistributed( layers.Conv2D( 128, kernel_size=(3, 3),padding='same',strides=(1,1),kernel_initializer='he_normal' ) ) (x)\n",
        "conv9=layers.TimeDistributed(layers.BatchNormalization())(conv9)\n",
        "\n",
        "x=layers.TimeDistributed(layers.MaxPooling2D(pool_size=(2,2)))(conv9)\n",
        "\n",
        "x = layers.TimeDistributed( layers.Conv2D( 256, kernel_size=(3, 3),padding='same',strides=(1,1),kernel_initializer='he_normal' ) ) (x)\n",
        "x=layers.TimeDistributed(layers.BatchNormalization())(x)\n",
        "\n",
        "conv10 = layers.TimeDistributed( layers.Conv2D( 256, kernel_size=(3, 3),padding='same',strides=(1,1),kernel_initializer='he_normal' ) ) (x)\n",
        "conv10=layers.TimeDistributed(layers.BatchNormalization())(conv10)\n",
        "\n",
        "x=layers.Bidirectional(layers.ConvLSTM2D(256,kernel_size=(3,3),padding='same',strides=(1,1),return_sequences=True,recurrent_dropout=0.2))(conv10)\n",
        "up1 = layers.TimeDistributed( layers.Conv2DTranspose( 128,kernel_size=(3,3),padding='same',strides=(2,2)))(x)\n",
        "\n",
        "concat1 = layers.concatenate([up1, conv9])\n",
        "x = layers.TimeDistributed( layers.Conv2D( 128, kernel_size=(3, 3),padding='same',strides=(1,1) ,kernel_initializer='he_normal') ) (concat1)\n",
        "x = layers.TimeDistributed( layers.Conv2D( 128, kernel_size=(3, 3),padding='same',strides=(1,1) ,kernel_initializer='he_normal') ) (concat1)\n",
        "up2 = layers.TimeDistributed( layers.Conv2DTranspose( 64,kernel_size=(3,3),padding='same',strides=(2,2)))(x)\n",
        "concat2 = layers.concatenate([up2, conv8])\n",
        "x = layers.TimeDistributed( layers.Conv2D( 64, kernel_size=(3, 3),padding='same',strides=(1,1) ,kernel_initializer='he_normal') ) (concat2)\n",
        "\n",
        "x = layers.TimeDistributed( layers.Conv2D( 64, kernel_size=(3, 3),padding='same',strides=(1,1) ) ) (x)\n",
        "up3 = layers.TimeDistributed( layers.Conv2DTranspose( 32,kernel_size=(3,3),padding='same',strides=(2,2)))(x)\n",
        "concat3 = layers.concatenate([up3, conv5])\n",
        "x = layers.TimeDistributed( layers.Conv2D( 32, kernel_size=(3, 3),padding='same',strides=(1,1),kernel_initializer='he_normal' ) ) (concat3)\n",
        "x = layers.TimeDistributed( layers.Conv2D( 32, kernel_size=(3, 3),padding='same',strides=(1,1),kernel_initializer='he_normal' ) ) (x)\n",
        "up4= layers.TimeDistributed( layers.Conv2DTranspose( 16,kernel_size=(3,3),padding='same',strides=(2,2)))(x)\n",
        "concat4 = layers.concatenate([up4, conv2])\n",
        "x = layers.TimeDistributed( layers.Conv2D( 16, kernel_size=(3, 3),padding='same',strides=(1,1), kernel_initializer='he_normal') ) (concat4)\n",
        "x = layers.TimeDistributed( layers.Conv2D( 16, kernel_size=(3, 3),padding='same',strides=(1,1),kernel_initializer='he_normal' ) ) (x)\n",
        "x=layers.Bidirectional(layers.ConvLSTM2D(16,kernel_size=(3,3),padding='same',strides=(1,1),return_sequences=False,recurrent_dropout=0.2))(x)\n",
        "x=tf.expand_dims(x,axis=1)\n",
        "\n",
        "out = layers.Conv2D( 1, kernel_size=(1, 1),padding='same',strides=(1,1), activation='sigmoid' )  (x)\n",
        "\n",
        "\n",
        "model = models.Model(inputs=input_l, outputs=out)\n",
        "model.summary()"
      ]
    },
    {
      "cell_type": "code",
      "execution_count": 14,
      "metadata": {
        "colab": {
          "base_uri": "https://localhost:8080/"
        },
        "id": "fwhv29agugOa",
        "outputId": "2d8345ca-4747-4901-dd86-580979b2f43b"
      },
      "outputs": [
        {
          "output_type": "execute_result",
          "data": {
            "text/plain": [
              "TensorShape([4, 1, 256, 256, 1])"
            ]
          },
          "metadata": {},
          "execution_count": 14
        }
      ],
      "source": [
        "y.shape"
      ]
    },
    {
      "cell_type": "code",
      "execution_count": 15,
      "metadata": {
        "id": "xBuFvzUXvmDW"
      },
      "outputs": [],
      "source": [
        "x, y = val_loader.__next__()\n",
        "\n"
      ]
    },
    {
      "cell_type": "code",
      "source": [
        "batch_size=4"
      ],
      "metadata": {
        "id": "nBPlWLkfMmrZ"
      },
      "execution_count": 25,
      "outputs": []
    },
    {
      "cell_type": "code",
      "execution_count": 26,
      "metadata": {
        "id": "7DXV9c0odo0W"
      },
      "outputs": [],
      "source": [
        "#Define the model metrcis and load model. \n",
        "\n",
        "num_train_imgs = len(os.listdir('/gdrive/MyDrive/adjustedROI/final_output/train_images/images'))\n",
        "num_val_images = len(os.listdir('/gdrive/MyDrive/adjustedROI/final_output/val_images/images'))\n",
        "steps_per_epoch = num_train_imgs//batch_size\n",
        "val_steps_per_epoch = num_val_images//batch_size\n"
      ]
    },
    {
      "cell_type": "code",
      "execution_count": 27,
      "metadata": {
        "colab": {
          "base_uri": "https://localhost:8080/"
        },
        "id": "teBh4intvW7r",
        "outputId": "4849df33-e204-4142-cdd9-68934d9ac37a"
      },
      "outputs": [
        {
          "output_type": "execute_result",
          "data": {
            "text/plain": [
              "477"
            ]
          },
          "metadata": {},
          "execution_count": 27
        }
      ],
      "source": [
        "num_val_images"
      ]
    },
    {
      "cell_type": "code",
      "execution_count": 28,
      "metadata": {
        "id": "i3KYDslbdovU"
      },
      "outputs": [],
      "source": [
        "input_shape=(3,256,256,1)"
      ]
    },
    {
      "cell_type": "code",
      "execution_count": 29,
      "metadata": {
        "id": "eG509OlGfhuN"
      },
      "outputs": [],
      "source": [
        "from keras import backend as K\n",
        "\n",
        "\n",
        "def dice_coefficient(y_true, y_pred, smooth=0.0001):\n",
        "    y_true_f = K.flatten(y_true)\n",
        "    y_pred_f = K.flatten(y_pred)\n",
        "\n",
        "    intersection = K.sum(y_true_f * y_pred_f)\n",
        "\n",
        "    return ((2. * intersection + smooth) / (K.sum(y_true_f) +\n",
        "            K.sum(y_pred_f) + smooth))\n",
        "\n",
        "\n",
        "def dice_coefficient_loss(y_true, y_pred):\n",
        "    return 1.0-dice_coefficient(y_true, y_pred)\n",
        "\n",
        "\n",
        "def iou_loss(y_true, y_pred):\n",
        "    return 1-iou(y_true, y_pred)\n",
        "\n",
        "def iou(y_true, y_pred):\n",
        "    intersection = K.sum(K.abs(y_true * y_pred))\n",
        "    sum_ = K.sum(K.square(y_true)) + K.sum(K.square(y_pred))\n",
        "    jac = (intersection) / (sum_ - intersection)\n",
        "    return jac"
      ]
    },
    {
      "cell_type": "code",
      "execution_count": 30,
      "metadata": {
        "id": "QYpTkW_6fhqt"
      },
      "outputs": [],
      "source": [
        "LR = 5e-5\n",
        "optim = tf.keras.optimizers.Adam(LR)"
      ]
    },
    {
      "cell_type": "code",
      "execution_count": 31,
      "metadata": {
        "id": "y3EnFinifhoY"
      },
      "outputs": [],
      "source": [
        "metrics=[ dice_coefficient, 'binary_accuracy']\n"
      ]
    },
    {
      "cell_type": "code",
      "execution_count": 32,
      "metadata": {
        "id": "9_gD-lo8fhmQ"
      },
      "outputs": [],
      "source": [
        "model.compile(optimizer=optim, loss=dice_coefficient_loss, metrics=metrics)\n"
      ]
    },
    {
      "cell_type": "code",
      "execution_count": 32,
      "metadata": {
        "id": "0bUV4g19doqZ"
      },
      "outputs": [],
      "source": []
    },
    {
      "cell_type": "code",
      "execution_count": 33,
      "metadata": {
        "id": "2sPc1s5bgALL"
      },
      "outputs": [],
      "source": [
        "model_checkpoint_callback = tf.keras.callbacks.ModelCheckpoint(\n",
        "    filepath='/gdrive/MyDrive/chk/',\n",
        "    save_weights_only=True,\n",
        "    monitor='val_dice_coefficient',\n",
        "    mode='max',\n",
        "    save_best_only=True)\n"
      ]
    },
    {
      "cell_type": "code",
      "execution_count": 34,
      "metadata": {
        "colab": {
          "base_uri": "https://localhost:8080/"
        },
        "id": "zGechLxIgAHr",
        "outputId": "53fd8a83-089c-4c3f-aa03-710f1944c57a"
      },
      "outputs": [
        {
          "output_type": "stream",
          "name": "stdout",
          "text": [
            "Epoch 1/15\n",
            "745/745 [==============================] - 413s 519ms/step - loss: 0.6870 - dice_coefficient: 0.3130 - binary_accuracy: 0.9329 - val_loss: 0.5715 - val_dice_coefficient: 0.4285 - val_binary_accuracy: 0.9654\n",
            "Epoch 2/15\n",
            "745/745 [==============================] - 382s 513ms/step - loss: 0.5408 - dice_coefficient: 0.4592 - binary_accuracy: 0.9730 - val_loss: 0.4362 - val_dice_coefficient: 0.5638 - val_binary_accuracy: 0.9692\n",
            "Epoch 3/15\n",
            "745/745 [==============================] - 384s 515ms/step - loss: 0.4810 - dice_coefficient: 0.5190 - binary_accuracy: 0.9772 - val_loss: 0.3716 - val_dice_coefficient: 0.6284 - val_binary_accuracy: 0.9761\n",
            "Epoch 4/15\n",
            "745/745 [==============================] - 384s 515ms/step - loss: 0.4596 - dice_coefficient: 0.5404 - binary_accuracy: 0.9794 - val_loss: 0.4139 - val_dice_coefficient: 0.5861 - val_binary_accuracy: 0.9755\n",
            "Epoch 5/15\n",
            "745/745 [==============================] - 382s 513ms/step - loss: 0.4318 - dice_coefficient: 0.5682 - binary_accuracy: 0.9816 - val_loss: 0.4050 - val_dice_coefficient: 0.5950 - val_binary_accuracy: 0.9788\n",
            "Epoch 6/15\n",
            "745/745 [==============================] - 382s 513ms/step - loss: 0.4257 - dice_coefficient: 0.5743 - binary_accuracy: 0.9813 - val_loss: 0.3906 - val_dice_coefficient: 0.6094 - val_binary_accuracy: 0.9790\n",
            "Epoch 7/15\n",
            "745/745 [==============================] - 383s 514ms/step - loss: 0.4097 - dice_coefficient: 0.5903 - binary_accuracy: 0.9819 - val_loss: 0.3714 - val_dice_coefficient: 0.6286 - val_binary_accuracy: 0.9790\n",
            "Epoch 8/15\n",
            "745/745 [==============================] - 383s 514ms/step - loss: 0.3943 - dice_coefficient: 0.6057 - binary_accuracy: 0.9826 - val_loss: 0.3637 - val_dice_coefficient: 0.6363 - val_binary_accuracy: 0.9783\n",
            "Epoch 9/15\n",
            "745/745 [==============================] - 382s 513ms/step - loss: 0.3730 - dice_coefficient: 0.6270 - binary_accuracy: 0.9838 - val_loss: 0.3798 - val_dice_coefficient: 0.6202 - val_binary_accuracy: 0.9782\n",
            "Epoch 10/15\n",
            "745/745 [==============================] - 384s 515ms/step - loss: 0.3654 - dice_coefficient: 0.6346 - binary_accuracy: 0.9845 - val_loss: 0.3467 - val_dice_coefficient: 0.6533 - val_binary_accuracy: 0.9804\n",
            "Epoch 11/15\n",
            "745/745 [==============================] - 383s 515ms/step - loss: 0.3564 - dice_coefficient: 0.6436 - binary_accuracy: 0.9844 - val_loss: 0.4062 - val_dice_coefficient: 0.5938 - val_binary_accuracy: 0.9781\n",
            "Epoch 12/15\n",
            "745/745 [==============================] - 383s 514ms/step - loss: 0.3658 - dice_coefficient: 0.6342 - binary_accuracy: 0.9850 - val_loss: 0.4028 - val_dice_coefficient: 0.5972 - val_binary_accuracy: 0.9787\n",
            "Epoch 13/15\n",
            "745/745 [==============================] - 383s 514ms/step - loss: 0.3580 - dice_coefficient: 0.6420 - binary_accuracy: 0.9847 - val_loss: 0.3703 - val_dice_coefficient: 0.6297 - val_binary_accuracy: 0.9818\n",
            "Epoch 14/15\n",
            "745/745 [==============================] - 384s 515ms/step - loss: 0.3508 - dice_coefficient: 0.6492 - binary_accuracy: 0.9853 - val_loss: 0.3376 - val_dice_coefficient: 0.6624 - val_binary_accuracy: 0.9790\n",
            "Epoch 15/15\n",
            "745/745 [==============================] - 386s 518ms/step - loss: 0.3241 - dice_coefficient: 0.6759 - binary_accuracy: 0.9861 - val_loss: 0.3597 - val_dice_coefficient: 0.6403 - val_binary_accuracy: 0.9799\n"
          ]
        }
      ],
      "source": [
        "\n",
        "history=model.fit(train_loader,\n",
        "          steps_per_epoch=steps_per_epoch,\n",
        "          epochs=15,\n",
        "          verbose=1,\n",
        "          validation_data=val_loader,\n",
        "          callbacks= model_checkpoint_callback,\n",
        "\n",
        "    \n",
        "          validation_steps=val_steps_per_epoch)"
      ]
    },
    {
      "cell_type": "code",
      "execution_count": 35,
      "metadata": {
        "id": "pZBawl9_7MKn"
      },
      "outputs": [],
      "source": [
        "model.save('/gdrive/MyDrive/Sensor15-5e-5-roiadjusted-asUNET-nodropout.h5')\n"
      ]
    },
    {
      "cell_type": "code",
      "execution_count": 36,
      "metadata": {
        "id": "hy6KmhrigAE0"
      },
      "outputs": [],
      "source": [
        "#Load previously saved model\n",
        "from keras.models import load_model\n",
        "model = load_model(\"/gdrive/MyDrive/Sensor15-5e-5-roiadjusted-asUNET-nodropout.h5\", compile=False)"
      ]
    },
    {
      "cell_type": "code",
      "execution_count": 37,
      "metadata": {
        "id": "L2CEhiYWgACd"
      },
      "outputs": [],
      "source": [
        "\n",
        "class GetLoader:\n",
        "    def __init__(self, *, imgs, masks, timesteps, batch_size, squeeze=False):\n",
        "        self.imgs = imgs\n",
        "        self.masks = masks\n",
        "        self.timesteps = timesteps\n",
        "        self.batch_size = batch_size\n",
        "        self.squeeze = squeeze\n",
        "        self.augmentation = tf.keras.Sequential(\n",
        "            [\n",
        "                layers.RandomFlip(\"horizontal_and_vertical\"),\n",
        "                layers.RandomRotation(0.2),\n",
        "            ]\n",
        "        )\n",
        "\n",
        "    def __iter__(self):\n",
        "        return self\n",
        "\n",
        "    def __next__(self):\n",
        "        xs = []\n",
        "        ys = []\n",
        "        for _ in range(self.batch_size):\n",
        "            index = np.random.randint(0, len(self.imgs) - self.timesteps)\n",
        "            xs.append(self.imgs[index : index + self.timesteps])\n",
        "            ys.append(self.masks[index + self.timesteps])\n",
        "        x, y = np.array(xs), np.array(ys)\n",
        "        x = x.squeeze(-1).transpose(0, 2, 3, 1)\n",
        "        xy = self.augmentation(tf.concat((x, y), axis=-1))\n",
        "\n",
        "        x = xy[:, :, :, :3]\n",
        "        y = xy[:, :, :, 3:]\n",
        "        if not self.squeeze:\n",
        "            x = tf.transpose(x, perm=(0, 3, 1, 2))[..., None]\n",
        "            y = tf.expand_dims(y, 1)\n",
        "        # if not tf.reduce_all(y[0] == 0):\n",
        "        #    ipdb.set_trace()\n",
        "        return x, y\n",
        "\n",
        "\n",
        "class DataLoader:\n",
        "    def __init__(\n",
        "        self,\n",
        "        data_folder: str,\n",
        "        *,\n",
        "        timesteps: int = 3,\n",
        "        batch_size=400,\n",
        "        squeeze=False,\n",
        "    ):\n",
        "        self.batch_size = batch_size\n",
        "        self.data_folder = data_folder\n",
        "        self.timesteps = timesteps\n",
        "        self.squeeze = squeeze\n",
        "        train_img_file_names = [\n",
        "            os.path.join(data_folder, \"train_images\", \"images\", fn)\n",
        "            for fn in os.listdir(os.path.join(data_folder, \"train_images\", \"images\"))\n",
        "        ]\n",
        "        train_img_file_names = natsorted(train_img_file_names)\n",
        "        # train_img_file_names.sort(key=lambda x: int(x.split(\"_\")[-1].split(\".\")[0]))\n",
        "        train_mask_file_names = [\n",
        "            fn.replace(\"images\", \"masks\") for fn in train_img_file_names\n",
        "        ]\n",
        "        self.train_imgs = (\n",
        "            np.array(\n",
        "                [\n",
        "                    img_to_array(load_img(fn, color_mode=\"grayscale\"))\n",
        "                    for fn in train_img_file_names\n",
        "                ]\n",
        "            )\n",
        "            / 255\n",
        "        )\n",
        "        self.train_masks = (\n",
        "            np.array(\n",
        "                [\n",
        "                    img_to_array(load_img(fn, color_mode=\"grayscale\"))\n",
        "                    for fn in train_mask_file_names\n",
        "                ]\n",
        "            )\n",
        "            / 255\n",
        "            > 0.5\n",
        "        ).astype(float)\n",
        "\n",
        "        val_img_file_names = [\n",
        "            os.path.join(data_folder, \"val_images\", \"images\", fn)\n",
        "            for fn in os.listdir(os.path.join(data_folder, \"val_images\", \"images\"))\n",
        "        ]\n",
        "        val_img_file_names = natsorted(val_img_file_names)\n",
        "        val_mask_file_names = [\n",
        "            fn.replace(\"images\", \"masks\") for fn in val_img_file_names\n",
        "        ]\n",
        "        self.val_imgs = (\n",
        "            np.array(\n",
        "                [\n",
        "                    img_to_array(load_img(fn, color_mode=\"grayscale\"))\n",
        "                    for fn in val_img_file_names\n",
        "                ]\n",
        "            )\n",
        "            / 255\n",
        "        )\n",
        "        self.val_masks = (\n",
        "            np.array(\n",
        "                [\n",
        "                    img_to_array(load_img(fn, color_mode=\"grayscale\"))\n",
        "                    for fn in val_mask_file_names\n",
        "                ]\n",
        "            )\n",
        "            / 255\n",
        "            > 0.5\n",
        "        ).astype(float)\n",
        "\n",
        "    def get_loaders(self):\n",
        "        return (\n",
        "            GetLoader(\n",
        "                imgs=self.train_imgs,\n",
        "                masks=self.train_masks,\n",
        "                timesteps=self.timesteps,\n",
        "                batch_size=self.batch_size,\n",
        "                squeeze=self.squeeze,\n",
        "            ),\n",
        "            GetLoader(\n",
        "                imgs=self.val_imgs,\n",
        "                masks=self.val_masks,\n",
        "                timesteps=self.timesteps,\n",
        "                batch_size=self.batch_size,\n",
        "                squeeze=self.squeeze,\n",
        "            ),\n",
        "        )"
      ]
    },
    {
      "cell_type": "code",
      "execution_count": 38,
      "metadata": {
        "id": "ssywpSGNwEWu"
      },
      "outputs": [],
      "source": [
        "data_folder = \"/gdrive/MyDrive/adjustedROI/final_output\"\n",
        "train,val_loader = DataLoader(data_folder, batch_size=477).get_loaders()"
      ]
    },
    {
      "cell_type": "code",
      "execution_count": 39,
      "metadata": {
        "id": "q1D36sZHwPtc"
      },
      "outputs": [],
      "source": [
        "a, b = val_loader.__next__()\n"
      ]
    },
    {
      "cell_type": "code",
      "execution_count": 40,
      "metadata": {
        "colab": {
          "base_uri": "https://localhost:8080/"
        },
        "id": "aNc1mpTHwR1Z",
        "outputId": "dfb312de-d797-42aa-c31e-f573e3c35f36"
      },
      "outputs": [
        {
          "output_type": "execute_result",
          "data": {
            "text/plain": [
              "TensorShape([1, 256, 256, 1])"
            ]
          },
          "metadata": {},
          "execution_count": 40
        }
      ],
      "source": [
        "import random\n",
        "test_img_number = random.randint(0, a.shape[0]-1)\n",
        "test_img = a[test_img_number]\n",
        "ground_truth=b[test_img_number]\n",
        "#test_img_norm=test_img[:,:,0][:,:,None]\n",
        "test_img_input=np.expand_dims(test_img, 0)\n",
        "ground_truth.shape"
      ]
    },
    {
      "cell_type": "code",
      "execution_count": 142,
      "metadata": {
        "colab": {
          "base_uri": "https://localhost:8080/",
          "height": 245
        },
        "id": "KUsdij4nwTSL",
        "outputId": "4076eab1-dd2a-4f7d-8164-8396592291e6"
      },
      "outputs": [
        {
          "output_type": "display_data",
          "data": {
            "text/plain": [
              "<Figure size 1152x576 with 3 Axes>"
            ],
            "image/png": "[encoded data removed]"
          },
          "metadata": {
            "needs_background": "light"
          }
        }
      ],
      "source": [
        "import random\n",
        "test_img_number = random.randint(0, a.shape[0]-1)\n",
        "test_img = a[test_img_number]\n",
        "ground_truth=b[test_img_number]\n",
        "#test_img_norm=test_img[:,:,0][:,:,None]\n",
        "test_img_input=np.expand_dims(test_img, 0)\n",
        "\n",
        "prediction = (model.predict(test_img_input)[0,0,:,:,0] > 0.5).astype(np.uint8)\n",
        "plt.figure(figsize=(16, 8))\n",
        "plt.subplot(231)\n",
        "plt.axis('off')\n",
        "plt.title('Testing Image')\n",
        "plt.imshow(test_img[0,:,:,0], cmap='gray')\n",
        "\n",
        "\n",
        "plt.subplot(232)\n",
        "plt.title('Real Mask ')\n",
        "plt.axis('off')\n",
        "plt.imshow(ground_truth[0,:,:,0], cmap='gray')\n",
        "plt.subplot(233)\n",
        "plt.axis('off')\n",
        "plt.title('Predicted mask')\n",
        "plt.imshow(prediction, cmap='gray')\n",
        "\n",
        "plt.show()"
      ]
    },
    {
      "cell_type": "code",
      "execution_count": 74,
      "metadata": {
        "colab": {
          "base_uri": "https://localhost:8080/"
        },
        "id": "GQ6RK255wVBf",
        "outputId": "cd8ea5e5-3c6f-49aa-8492-5462b945dc07"
      },
      "outputs": [
        {
          "output_type": "stream",
          "name": "stdout",
          "text": [
            "Mean IoU = 0.8129425\n"
          ]
        }
      ],
      "source": [
        "#IoU for a single image\n",
        "from tensorflow.keras.metrics import MeanIoU\n",
        "n_classes = 2\n",
        "IOU_keras = MeanIoU(num_classes=n_classes)  \n",
        "IOU_keras.update_state(ground_truth[0,:,:,0], prediction)\n",
        "print(\"Mean IoU =\", IOU_keras.result().numpy())"
      ]
    },
    {
      "cell_type": "code",
      "execution_count": 43,
      "metadata": {
        "colab": {
          "base_uri": "https://localhost:8080/"
        },
        "id": "KyT3vwzvwXi7",
        "outputId": "524c5e3a-7bc9-4a80-fd60-ad8d255139fc"
      },
      "outputs": [
        {
          "output_type": "stream",
          "name": "stdout",
          "text": [
            "0.55503106\n",
            "0.8071364\n",
            "0.696046\n",
            "0.55503106\n",
            "0.49010468\n",
            "0.48166656\n",
            "0.7855644\n",
            "0.49451447\n",
            "1.0\n",
            "0.75519073\n",
            "0.55100936\n",
            "0.86925995\n",
            "0.77948016\n",
            "0.685847\n",
            "0.77526677\n",
            "1.0\n",
            "1.0\n",
            "0.63601494\n",
            "0.8738249\n",
            "0.49734497\n",
            "0.6877799\n",
            "0.6304917\n",
            "0.48970795\n",
            "1.0\n",
            "0.49986267\n",
            "0.696046\n",
            "1.0\n",
            "0.6407025\n",
            "0.77526677\n",
            "0.49897003\n",
            "0.4850006\n",
            "0.80273414\n",
            "1.0\n",
            "0.87873995\n",
            "0.7440102\n",
            "0.79805017\n",
            "0.8281996\n",
            "0.7870257\n",
            "0.4817505\n",
            "0.7232585\n",
            "0.8281996\n",
            "1.0\n",
            "0.49942017\n",
            "0.63654196\n",
            "1.0\n",
            "0.57280785\n",
            "0.57771224\n",
            "0.77136075\n",
            "0.69650275\n",
            "1.0\n",
            "0.5651096\n",
            "0.6613252\n",
            "1.0\n",
            "0.8141625\n",
            "1.0\n",
            "0.70528567\n",
            "0.497818\n",
            "1.0\n",
            "0.83510554\n",
            "0.6970591\n",
            "0.48612976\n",
            "1.0\n",
            "0.80273414\n",
            "0.6211448\n",
            "0.6890481\n",
            "0.5892028\n",
            "0.86681163\n",
            "0.80614173\n",
            "0.8378831\n",
            "1.0\n",
            "0.67895305\n",
            "0.6506697\n",
            "1.0\n",
            "1.0\n",
            "1.0\n",
            "0.49744415\n",
            "0.8278222\n",
            "1.0\n",
            "0.8832238\n",
            "0.4912262\n",
            "0.7815876\n",
            "1.0\n",
            "0.66035944\n",
            "0.6906025\n",
            "0.49247742\n",
            "0.6742854\n",
            "1.0\n",
            "1.0\n",
            "1.0\n",
            "0.6890481\n",
            "1.0\n",
            "1.0\n",
            "0.48554993\n",
            "1.0\n",
            "0.4991989\n",
            "0.4826889\n",
            "0.5957269\n",
            "0.48554993\n",
            "0.48947906\n",
            "0.7760994\n",
            "0.80040014\n",
            "0.4936142\n",
            "0.77246535\n",
            "0.48809052\n",
            "0.8454719\n",
            "0.69250286\n",
            "0.58302027\n",
            "0.79049647\n",
            "1.0\n",
            "0.48791504\n",
            "0.6970591\n",
            "0.69519734\n",
            "0.49986267\n",
            "1.0\n",
            "0.77526677\n",
            "0.87873995\n",
            "0.49179077\n",
            "0.49606323\n",
            "0.49713898\n",
            "1.0\n",
            "0.67137027\n",
            "0.6844294\n",
            "0.7168897\n",
            "0.8317357\n",
            "0.48654175\n",
            "0.49271393\n",
            "0.63601494\n",
            "0.62360275\n",
            "0.7399132\n",
            "1.0\n",
            "0.81697965\n",
            "0.48554993\n",
            "1.0\n",
            "0.48677826\n",
            "0.5955435\n",
            "0.81028175\n",
            "1.0\n",
            "0.48658752\n",
            "0.49493408\n",
            "0.71160144\n",
            "0.49247742\n",
            "0.79049647\n",
            "0.6645634\n",
            "1.0\n",
            "0.6877799\n",
            "0.7977993\n",
            "0.7089258\n",
            "0.48088837\n",
            "0.821974\n",
            "0.48336792\n",
            "0.48405457\n",
            "0.55503106\n",
            "0.6742854\n",
            "1.0\n",
            "0.835024\n",
            "0.83510554\n",
            "0.49056244\n",
            "0.4892044\n",
            "1.0\n",
            "0.6742854\n",
            "0.611836\n",
            "0.4892273\n",
            "0.48654175\n",
            "0.67895305\n",
            "0.8243222\n",
            "0.49962616\n",
            "0.49021912\n",
            "0.67482984\n",
            "1.0\n",
            "0.685847\n",
            "1.0\n",
            "0.85798717\n",
            "0.48612976\n",
            "1.0\n",
            "0.6107847\n",
            "0.4912567\n",
            "0.5892028\n",
            "1.0\n",
            "0.49771118\n",
            "1.0\n",
            "0.49137115\n",
            "0.69650275\n",
            "0.5580603\n",
            "0.60906565\n",
            "0.71808684\n",
            "0.5528801\n",
            "0.814726\n",
            "0.82484424\n",
            "0.66035944\n",
            "0.49520874\n",
            "0.81028175\n",
            "1.0\n",
            "0.6506697\n",
            "0.6304917\n",
            "0.80996215\n",
            "0.48405457\n",
            "0.8165107\n",
            "0.77630585\n",
            "0.58318466\n",
            "1.0\n",
            "0.7635493\n",
            "0.7635493\n",
            "1.0\n",
            "0.4890442\n",
            "0.6877799\n",
            "0.8452743\n",
            "0.80625236\n",
            "0.7635493\n",
            "0.49441528\n",
            "0.49520874\n",
            "0.62861025\n",
            "0.49086\n",
            "0.85887486\n",
            "0.71119756\n",
            "0.79584897\n",
            "0.49523163\n",
            "1.0\n",
            "0.8165107\n",
            "0.69050324\n",
            "1.0\n",
            "1.0\n",
            "0.7791023\n",
            "0.72739697\n",
            "0.49451447\n",
            "0.68319726\n",
            "0.8519585\n",
            "0.49328613\n",
            "1.0\n",
            "0.49606323\n",
            "0.49056244\n",
            "1.0\n",
            "1.0\n",
            "1.0\n",
            "0.4951477\n",
            "0.8278222\n",
            "0.8166843\n",
            "0.77948016\n",
            "0.4991989\n",
            "0.7846232\n",
            "1.0\n",
            "0.8187357\n",
            "0.49328613\n",
            "1.0\n",
            "0.70723116\n",
            "0.8129425\n",
            "0.48088837\n",
            "1.0\n",
            "0.6599973\n",
            "0.835024\n",
            "1.0\n",
            "0.72569525\n",
            "1.0\n",
            "0.49942017\n",
            "0.59759873\n",
            "0.6407025\n",
            "1.0\n",
            "0.82484424\n",
            "0.81210077\n",
            "1.0\n",
            "0.48809052\n",
            "1.0\n",
            "0.4892044\n",
            "0.57280785\n",
            "1.0\n",
            "0.7855644\n",
            "0.8129425\n",
            "0.7440102\n",
            "0.8055365\n",
            "0.81697965\n",
            "0.6703797\n",
            "0.79968494\n",
            "0.6309364\n",
            "0.71119756\n",
            "0.4923935\n",
            "0.49071503\n",
            "0.4981308\n",
            "0.7399132\n",
            "0.49080658\n",
            "0.49962616\n",
            "1.0\n",
            "1.0\n",
            "0.4945526\n",
            "1.0\n",
            "0.48767853\n",
            "0.49010468\n",
            "0.8076661\n",
            "0.5528801\n",
            "0.76755655\n",
            "0.7822351\n",
            "0.6970591\n",
            "0.5840192\n",
            "0.48963165\n",
            "0.6742854\n",
            "0.62360275\n",
            "0.4923935\n",
            "0.49912262\n",
            "1.0\n",
            "0.4928894\n",
            "0.4866562\n",
            "1.0\n",
            "0.49568176\n",
            "0.611836\n",
            "0.49137115\n",
            "0.8179482\n",
            "0.71808684\n",
            "0.87463146\n",
            "0.8129425\n",
            "0.80040014\n",
            "1.0\n",
            "0.81045806\n",
            "0.49399567\n",
            "0.6877799\n",
            "0.62360275\n",
            "0.49338531\n",
            "0.48899078\n",
            "0.62866277\n",
            "0.66035944\n",
            "0.4904709\n",
            "0.4951477\n",
            "1.0\n",
            "1.0\n",
            "1.0\n",
            "1.0\n",
            "1.0\n",
            "0.74890566\n",
            "0.6599973\n",
            "1.0\n",
            "0.4890442\n",
            "0.7347559\n",
            "0.685847\n",
            "1.0\n",
            "0.703709\n",
            "0.71876526\n",
            "0.4945526\n",
            "0.63364744\n",
            "0.48820496\n",
            "0.57156205\n",
            "0.499588\n",
            "0.71876526\n",
            "0.49008942\n",
            "0.5535319\n",
            "0.8071364\n",
            "0.81045806\n",
            "0.63592845\n",
            "0.6731568\n",
            "0.611836\n",
            "0.49247742\n",
            "0.77630585\n",
            "0.4892273\n",
            "1.0\n",
            "0.6877799\n",
            "0.7798151\n",
            "0.6731568\n",
            "0.75519073\n",
            "1.0\n",
            "0.49137115\n",
            "0.6844294\n",
            "0.7282423\n",
            "0.48405457\n",
            "0.48963165\n",
            "0.49744415\n",
            "0.7684916\n",
            "0.70978695\n",
            "0.6890481\n",
            "0.57771224\n",
            "1.0\n",
            "0.48658752\n",
            "0.7232585\n",
            "0.7023219\n",
            "0.8071364\n",
            "0.8281996\n",
            "0.8278222\n",
            "0.49056244\n",
            "0.69257\n",
            "0.49207306\n",
            "0.67482984\n",
            "0.49962616\n",
            "1.0\n",
            "0.55064327\n",
            "0.79512244\n",
            "0.69050324\n",
            "0.7822351\n",
            "0.48658752\n",
            "0.49669647\n",
            "0.722615\n",
            "0.611836\n",
            "0.55503106\n",
            "0.49771118\n",
            "1.0\n",
            "0.66763633\n",
            "0.71876526\n",
            "0.49658966\n",
            "0.8278222\n",
            "1.0\n",
            "0.6106887\n",
            "0.63364744\n",
            "0.4904709\n",
            "0.87463146\n",
            "1.0\n",
            "1.0\n",
            "0.57156205\n",
            "0.49100494\n",
            "0.55064327\n",
            "0.7818167\n",
            "0.49338531\n",
            "0.81565255\n",
            "1.0\n",
            "0.86228204\n",
            "0.66139126\n",
            "0.7633126\n",
            "1.0\n",
            "0.7581699\n",
            "1.0\n",
            "0.6603302\n",
            "0.71119756\n",
            "1.0\n",
            "0.8156878\n",
            "0.77526677\n",
            "0.4960785\n",
            "1.0\n",
            "0.8133006\n",
            "1.0\n",
            "0.63592845\n",
            "1.0\n",
            "0.82175165\n",
            "0.8601951\n",
            "0.66044116\n",
            "0.5528801\n",
            "0.4976883\n",
            "0.4884491\n",
            "0.4884491\n",
            "0.49942017\n",
            "0.4872284\n",
            "0.48591614\n",
            "1.0\n",
            "1.0\n",
            "1.0\n",
            "0.6890481\n",
            "0.6875435\n",
            "0.80199134\n",
            "0.4951477\n",
            "0.7859352\n",
            "0.8081441\n",
            "0.49757385\n",
            "0.49056244\n",
            "0.7633126\n",
            "0.58318466\n",
            "0.49912262\n",
            "0.6589247\n",
            "0.7783985\n",
            "1.0\n",
            "0.74890566\n",
            "1.0\n",
            "0.821974\n",
            "0.811378\n",
            "0.72739697\n",
            "1.0\n",
            "0.7347559\n",
            "0.49082947\n",
            "1.0\n",
            "0.7783985\n",
            "0.8022425\n",
            "0.8022425\n",
            "1.0\n",
            "0.49427032\n",
            "0.6572123\n",
            "0.48737335\n",
            "0.62126875\n",
            "0.499588\n",
            "0.8738249\n",
            "0.56062794\n",
            "0.49734497\n",
            "0.71928704\n",
            "0.4866562\n",
            "0.5892028\n",
            "0.4896927\n",
            "0.49734497\n",
            "Mean IoU is:  [0.64739853]\n"
          ]
        }
      ],
      "source": [
        "import pandas as pd\n",
        "\n",
        "IoU_values = []\n",
        "for img in range(0, a.shape[0]):\n",
        "    temp_img = a[img]\n",
        "    ground_truth=b[img]\n",
        "    temp_img_input=np.expand_dims(temp_img, 0)\n",
        "    prediction = (model.predict(temp_img_input)[0,0,:,:,0]> 0.5).astype(np.uint8)\n",
        "    \n",
        "    IoU = MeanIoU(num_classes=n_classes)\n",
        "    IoU.update_state(ground_truth[0,:,:,0], prediction)\n",
        "    IoU = IoU.result().numpy()\n",
        "    IoU_values.append(IoU)\n",
        "\n",
        "    print(IoU)\n",
        "    \n",
        "\n",
        "\n",
        "df = pd.DataFrame(IoU_values, columns=[\"IoU\"])\n",
        "df = df[df.IoU != 1.0]    \n",
        "mean_IoU = df.mean().values\n",
        "print(\"Mean IoU is: \", mean_IoU)"
      ]
    },
    {
      "cell_type": "code",
      "execution_count": null,
      "metadata": {
        "id": "yl9v1RsRwZOl"
      },
      "outputs": [],
      "source": []
    }
  ],
  "metadata": {
    "accelerator": "GPU",
    "colab": {
      "provenance": [],
      "include_colab_link": true
    },
    "kernelspec": {
      "display_name": "Python 3",
      "name": "python3"
    },
    "language_info": {
      "name": "python"
    }
  },
  "nbformat": 4,
  "nbformat_minor": 0
}